{
 "cells": [
  {
   "cell_type": "markdown",
   "id": "7e570673",
   "metadata": {},
   "source": [
    "<center><h1 style=\"color:purple; background-color:#CBC3E3; padding:10px;\">Interactive Movie Recommendation System</h1></center>\n",
    "\n",
    "Welcome to your interactive movie recommendation system! In this project, I aim to take you on a journey through the world of cinema, building up your curiosity along the way. The project contains three different parts.\n",
    "\n",
    "## Part 1: Data Collection and Visualization\n",
    "\n",
    "- Our journey begins with data. I start by working with the top 1000 IMDb movies based on IMDb ratings database. In the first part I aim to show the data and explain the it first through text, and then throughout visuallization. \n",
    "\n",
    "\n",
    "## Part 2: Interactive Search Engine\n",
    "\n",
    "- In the second part the interactive search engine allows you to search for movies based on specific criteria. Whether you're looking for a particular genre, director, or srae, the search engine will help you discover new movies to watch.\n",
    "\n",
    "## Part 3: Machine Learning Model\n",
    "\n",
    "- In the final part of our journey, I utilized the power of Machine Learning. Using scikit-learn trained model on a subset of our dataset. The model will suggest movies based on the specific features. By analyzing these features, the trained model can provide personalized recommendations tailored just for you.\n"
   ]
  },
  {
   "cell_type": "markdown",
   "id": "10ee3fb6",
   "metadata": {},
   "source": [
    "- <h1 style=\"color:black; padding:10px;\">importing modules</h1>"
   ]
  },
  {
   "cell_type": "code",
   "execution_count": 93,
   "id": "33ce0b3b",
   "metadata": {},
   "outputs": [],
   "source": [
    "import pandas as pd\n",
    "import re\n",
    "from pandas import Series, DataFrame\n",
    "import numpy as np\n",
    "import matplotlib.pyplot as plt\n",
    "import plotly.express as px\n",
    "import plotly.graph_objects as go\n",
    "import ipywidgets as widgets\n",
    "from ipywidgets import Text, Output\n",
    "from IPython.display import display, HTML\n",
    "from sklearn.impute import SimpleImputer\n",
    "from sklearn.feature_extraction.text import TfidfVectorizer\n",
    "from sklearn.metrics.pairwise import cosine_similarity\n",
    "from sklearn.neighbors import NearestNeighbors\n",
    "from sklearn.model_selection import train_test_split\n",
    "from sklearn.preprocessing import StandardScaler"
   ]
  },
  {
   "cell_type": "markdown",
   "id": "4adee5e0",
   "metadata": {},
   "source": [
    "**<h1 style=\"text-align:center;\">- Data Collection and Visualization -</h1>**\n",
    "<hr style=\"border: 1px solid black;\">\n",
    "\n",
    "                                 \n",
    "- ### This dataset was retrieved from Kaggle: \n",
    "\n",
    "https://www.kaggle.com/datasets/harshitshankhdhar/imdb-dataset-of-top-1000-movies-and-tv-shows\n",
    "\n",
    "- reading the data and selecting columns to use\n",
    "- setting the index to be Rank"
   ]
  },
  {
   "cell_type": "code",
   "execution_count": 94,
   "id": "404f65d7",
   "metadata": {},
   "outputs": [],
   "source": [
    "df = pd.read_csv('imdb_top_1000.csv', usecols=['Series_Title', 'Released_Year', 'Runtime', \n",
    "                                               'Genre', 'IMDB_Rating', 'Meta_score', 'Director',\n",
    "                                              'Star1','Star2','Star3','Star4','No_of_Votes'])\n",
    "\n",
    "df.index.name = 'Rank'"
   ]
  },
  {
   "cell_type": "code",
   "execution_count": 95,
   "id": "c3bbcb8c",
   "metadata": {
    "scrolled": true
   },
   "outputs": [
    {
     "data": {
      "text/html": [
       "<div>\n",
       "<style scoped>\n",
       "    .dataframe tbody tr th:only-of-type {\n",
       "        vertical-align: middle;\n",
       "    }\n",
       "\n",
       "    .dataframe tbody tr th {\n",
       "        vertical-align: top;\n",
       "    }\n",
       "\n",
       "    .dataframe thead th {\n",
       "        text-align: right;\n",
       "    }\n",
       "</style>\n",
       "<table border=\"1\" class=\"dataframe\">\n",
       "  <thead>\n",
       "    <tr style=\"text-align: right;\">\n",
       "      <th></th>\n",
       "      <th>Series_Title</th>\n",
       "      <th>Released_Year</th>\n",
       "      <th>Runtime</th>\n",
       "      <th>Genre</th>\n",
       "      <th>IMDB_Rating</th>\n",
       "      <th>Meta_score</th>\n",
       "      <th>Director</th>\n",
       "      <th>Star1</th>\n",
       "      <th>Star2</th>\n",
       "      <th>Star3</th>\n",
       "      <th>Star4</th>\n",
       "      <th>No_of_Votes</th>\n",
       "    </tr>\n",
       "    <tr>\n",
       "      <th>Rank</th>\n",
       "      <th></th>\n",
       "      <th></th>\n",
       "      <th></th>\n",
       "      <th></th>\n",
       "      <th></th>\n",
       "      <th></th>\n",
       "      <th></th>\n",
       "      <th></th>\n",
       "      <th></th>\n",
       "      <th></th>\n",
       "      <th></th>\n",
       "      <th></th>\n",
       "    </tr>\n",
       "  </thead>\n",
       "  <tbody>\n",
       "    <tr>\n",
       "      <th>0</th>\n",
       "      <td>The Shawshank Redemption</td>\n",
       "      <td>1994</td>\n",
       "      <td>142 min</td>\n",
       "      <td>Drama</td>\n",
       "      <td>9.3</td>\n",
       "      <td>80.0</td>\n",
       "      <td>Frank Darabont</td>\n",
       "      <td>Tim Robbins</td>\n",
       "      <td>Morgan Freeman</td>\n",
       "      <td>Bob Gunton</td>\n",
       "      <td>William Sadler</td>\n",
       "      <td>2343110</td>\n",
       "    </tr>\n",
       "    <tr>\n",
       "      <th>1</th>\n",
       "      <td>The Godfather</td>\n",
       "      <td>1972</td>\n",
       "      <td>175 min</td>\n",
       "      <td>Crime, Drama</td>\n",
       "      <td>9.2</td>\n",
       "      <td>100.0</td>\n",
       "      <td>Francis Ford Coppola</td>\n",
       "      <td>Marlon Brando</td>\n",
       "      <td>Al Pacino</td>\n",
       "      <td>James Caan</td>\n",
       "      <td>Diane Keaton</td>\n",
       "      <td>1620367</td>\n",
       "    </tr>\n",
       "    <tr>\n",
       "      <th>2</th>\n",
       "      <td>The Dark Knight</td>\n",
       "      <td>2008</td>\n",
       "      <td>152 min</td>\n",
       "      <td>Action, Crime, Drama</td>\n",
       "      <td>9.0</td>\n",
       "      <td>84.0</td>\n",
       "      <td>Christopher Nolan</td>\n",
       "      <td>Christian Bale</td>\n",
       "      <td>Heath Ledger</td>\n",
       "      <td>Aaron Eckhart</td>\n",
       "      <td>Michael Caine</td>\n",
       "      <td>2303232</td>\n",
       "    </tr>\n",
       "    <tr>\n",
       "      <th>3</th>\n",
       "      <td>The Godfather: Part II</td>\n",
       "      <td>1974</td>\n",
       "      <td>202 min</td>\n",
       "      <td>Crime, Drama</td>\n",
       "      <td>9.0</td>\n",
       "      <td>90.0</td>\n",
       "      <td>Francis Ford Coppola</td>\n",
       "      <td>Al Pacino</td>\n",
       "      <td>Robert De Niro</td>\n",
       "      <td>Robert Duvall</td>\n",
       "      <td>Diane Keaton</td>\n",
       "      <td>1129952</td>\n",
       "    </tr>\n",
       "    <tr>\n",
       "      <th>4</th>\n",
       "      <td>12 Angry Men</td>\n",
       "      <td>1957</td>\n",
       "      <td>96 min</td>\n",
       "      <td>Crime, Drama</td>\n",
       "      <td>9.0</td>\n",
       "      <td>96.0</td>\n",
       "      <td>Sidney Lumet</td>\n",
       "      <td>Henry Fonda</td>\n",
       "      <td>Lee J. Cobb</td>\n",
       "      <td>Martin Balsam</td>\n",
       "      <td>John Fiedler</td>\n",
       "      <td>689845</td>\n",
       "    </tr>\n",
       "  </tbody>\n",
       "</table>\n",
       "</div>"
      ],
      "text/plain": [
       "                  Series_Title Released_Year  Runtime                 Genre  \\\n",
       "Rank                                                                          \n",
       "0     The Shawshank Redemption          1994  142 min                 Drama   \n",
       "1                The Godfather          1972  175 min          Crime, Drama   \n",
       "2              The Dark Knight          2008  152 min  Action, Crime, Drama   \n",
       "3       The Godfather: Part II          1974  202 min          Crime, Drama   \n",
       "4                 12 Angry Men          1957   96 min          Crime, Drama   \n",
       "\n",
       "      IMDB_Rating  Meta_score              Director           Star1  \\\n",
       "Rank                                                                  \n",
       "0             9.3        80.0        Frank Darabont     Tim Robbins   \n",
       "1             9.2       100.0  Francis Ford Coppola   Marlon Brando   \n",
       "2             9.0        84.0     Christopher Nolan  Christian Bale   \n",
       "3             9.0        90.0  Francis Ford Coppola       Al Pacino   \n",
       "4             9.0        96.0          Sidney Lumet     Henry Fonda   \n",
       "\n",
       "               Star2          Star3           Star4  No_of_Votes  \n",
       "Rank                                                              \n",
       "0     Morgan Freeman     Bob Gunton  William Sadler      2343110  \n",
       "1          Al Pacino     James Caan    Diane Keaton      1620367  \n",
       "2       Heath Ledger  Aaron Eckhart   Michael Caine      2303232  \n",
       "3     Robert De Niro  Robert Duvall    Diane Keaton      1129952  \n",
       "4        Lee J. Cobb  Martin Balsam    John Fiedler       689845  "
      ]
     },
     "execution_count": 95,
     "metadata": {},
     "output_type": "execute_result"
    }
   ],
   "source": [
    "df.head(5)"
   ]
  },
  {
   "cell_type": "markdown",
   "id": "5a26696b",
   "metadata": {},
   "source": [
    "- The following code combines the values from columns 'Star1', 'Star2', 'Star3', and 'Star4' into a new column 'Stars' separated by commas, then drops the original star columns and renames two other columns.\n",
    "\n",
    "- changing the name of some of the columns.\n",
    "   "
   ]
  },
  {
   "cell_type": "code",
   "execution_count": 96,
   "id": "293ca410",
   "metadata": {
    "scrolled": true
   },
   "outputs": [],
   "source": [
    "df['Stars'] = df['Star1'] + ', ' + df['Star2'] + ', ' + df['Star3'] + ', ' + df['Star4']\n",
    "df = df.drop(columns=['Star1', 'Star2', 'Star3', 'Star4'])\n",
    "df = df.rename(columns={'Series_Title': 'Title', 'Meta_score': 'Metascore'})"
   ]
  },
  {
   "cell_type": "code",
   "execution_count": 97,
   "id": "b96f90ae",
   "metadata": {},
   "outputs": [
    {
     "data": {
      "text/html": [
       "<div>\n",
       "<style scoped>\n",
       "    .dataframe tbody tr th:only-of-type {\n",
       "        vertical-align: middle;\n",
       "    }\n",
       "\n",
       "    .dataframe tbody tr th {\n",
       "        vertical-align: top;\n",
       "    }\n",
       "\n",
       "    .dataframe thead th {\n",
       "        text-align: right;\n",
       "    }\n",
       "</style>\n",
       "<table border=\"1\" class=\"dataframe\">\n",
       "  <thead>\n",
       "    <tr style=\"text-align: right;\">\n",
       "      <th></th>\n",
       "      <th>Title</th>\n",
       "      <th>Released_Year</th>\n",
       "      <th>Runtime</th>\n",
       "      <th>Genre</th>\n",
       "      <th>IMDB_Rating</th>\n",
       "      <th>Metascore</th>\n",
       "      <th>Director</th>\n",
       "      <th>No_of_Votes</th>\n",
       "      <th>Stars</th>\n",
       "    </tr>\n",
       "    <tr>\n",
       "      <th>Rank</th>\n",
       "      <th></th>\n",
       "      <th></th>\n",
       "      <th></th>\n",
       "      <th></th>\n",
       "      <th></th>\n",
       "      <th></th>\n",
       "      <th></th>\n",
       "      <th></th>\n",
       "      <th></th>\n",
       "    </tr>\n",
       "  </thead>\n",
       "  <tbody>\n",
       "    <tr>\n",
       "      <th>0</th>\n",
       "      <td>The Shawshank Redemption</td>\n",
       "      <td>1994</td>\n",
       "      <td>142 min</td>\n",
       "      <td>Drama</td>\n",
       "      <td>9.3</td>\n",
       "      <td>80.0</td>\n",
       "      <td>Frank Darabont</td>\n",
       "      <td>2343110</td>\n",
       "      <td>Tim Robbins, Morgan Freeman, Bob Gunton, Willi...</td>\n",
       "    </tr>\n",
       "    <tr>\n",
       "      <th>1</th>\n",
       "      <td>The Godfather</td>\n",
       "      <td>1972</td>\n",
       "      <td>175 min</td>\n",
       "      <td>Crime, Drama</td>\n",
       "      <td>9.2</td>\n",
       "      <td>100.0</td>\n",
       "      <td>Francis Ford Coppola</td>\n",
       "      <td>1620367</td>\n",
       "      <td>Marlon Brando, Al Pacino, James Caan, Diane Ke...</td>\n",
       "    </tr>\n",
       "    <tr>\n",
       "      <th>2</th>\n",
       "      <td>The Dark Knight</td>\n",
       "      <td>2008</td>\n",
       "      <td>152 min</td>\n",
       "      <td>Action, Crime, Drama</td>\n",
       "      <td>9.0</td>\n",
       "      <td>84.0</td>\n",
       "      <td>Christopher Nolan</td>\n",
       "      <td>2303232</td>\n",
       "      <td>Christian Bale, Heath Ledger, Aaron Eckhart, M...</td>\n",
       "    </tr>\n",
       "    <tr>\n",
       "      <th>3</th>\n",
       "      <td>The Godfather: Part II</td>\n",
       "      <td>1974</td>\n",
       "      <td>202 min</td>\n",
       "      <td>Crime, Drama</td>\n",
       "      <td>9.0</td>\n",
       "      <td>90.0</td>\n",
       "      <td>Francis Ford Coppola</td>\n",
       "      <td>1129952</td>\n",
       "      <td>Al Pacino, Robert De Niro, Robert Duvall, Dian...</td>\n",
       "    </tr>\n",
       "    <tr>\n",
       "      <th>4</th>\n",
       "      <td>12 Angry Men</td>\n",
       "      <td>1957</td>\n",
       "      <td>96 min</td>\n",
       "      <td>Crime, Drama</td>\n",
       "      <td>9.0</td>\n",
       "      <td>96.0</td>\n",
       "      <td>Sidney Lumet</td>\n",
       "      <td>689845</td>\n",
       "      <td>Henry Fonda, Lee J. Cobb, Martin Balsam, John ...</td>\n",
       "    </tr>\n",
       "  </tbody>\n",
       "</table>\n",
       "</div>"
      ],
      "text/plain": [
       "                         Title Released_Year  Runtime                 Genre  \\\n",
       "Rank                                                                          \n",
       "0     The Shawshank Redemption          1994  142 min                 Drama   \n",
       "1                The Godfather          1972  175 min          Crime, Drama   \n",
       "2              The Dark Knight          2008  152 min  Action, Crime, Drama   \n",
       "3       The Godfather: Part II          1974  202 min          Crime, Drama   \n",
       "4                 12 Angry Men          1957   96 min          Crime, Drama   \n",
       "\n",
       "      IMDB_Rating  Metascore              Director  No_of_Votes  \\\n",
       "Rank                                                              \n",
       "0             9.3       80.0        Frank Darabont      2343110   \n",
       "1             9.2      100.0  Francis Ford Coppola      1620367   \n",
       "2             9.0       84.0     Christopher Nolan      2303232   \n",
       "3             9.0       90.0  Francis Ford Coppola      1129952   \n",
       "4             9.0       96.0          Sidney Lumet       689845   \n",
       "\n",
       "                                                  Stars  \n",
       "Rank                                                     \n",
       "0     Tim Robbins, Morgan Freeman, Bob Gunton, Willi...  \n",
       "1     Marlon Brando, Al Pacino, James Caan, Diane Ke...  \n",
       "2     Christian Bale, Heath Ledger, Aaron Eckhart, M...  \n",
       "3     Al Pacino, Robert De Niro, Robert Duvall, Dian...  \n",
       "4     Henry Fonda, Lee J. Cobb, Martin Balsam, John ...  "
      ]
     },
     "execution_count": 97,
     "metadata": {},
     "output_type": "execute_result"
    }
   ],
   "source": [
    "df.head()"
   ]
  },
  {
   "cell_type": "markdown",
   "id": "dd0a2ab8",
   "metadata": {},
   "source": [
    "- The following code identifying the missing values aka NaN values in the dataset.\n",
    "- Metascore column has 157 missing values.\n",
    "- <b>Metascore</b> is a rating from the weighted average of professional critics' reviews, ranging from 0-100, where higher scores reflect more favorably."
   ]
  },
  {
   "cell_type": "code",
   "execution_count": 98,
   "id": "5e0a0faf",
   "metadata": {},
   "outputs": [
    {
     "data": {
      "text/plain": [
       "Title              0\n",
       "Released_Year      0\n",
       "Runtime            0\n",
       "Genre              0\n",
       "IMDB_Rating        0\n",
       "Metascore        157\n",
       "Director           0\n",
       "No_of_Votes        0\n",
       "Stars              0\n",
       "dtype: int64"
      ]
     },
     "execution_count": 98,
     "metadata": {},
     "output_type": "execute_result"
    }
   ],
   "source": [
    "df.isnull().sum()"
   ]
  },
  {
   "cell_type": "markdown",
   "id": "25c88840",
   "metadata": {},
   "source": [
    "- The following code displays information regarding the 'Metascore' column and explains the use of replacing missing values with the average Metascore. It is a common approach to replace the missing values with the average values. Since its relatively small number (157 out of 1000).\n",
    "- <b>df['Metascore'].describe()</b>: This function provides descriptive statistics of the 'Metascore' column, including count, mean, standard deviation, minimum, 25th percentile (Q1), median (50th percentile or Q2), 75th percentile (Q3), and maximum"
   ]
  },
  {
   "cell_type": "code",
   "execution_count": 99,
   "id": "1989c2e6",
   "metadata": {},
   "outputs": [
    {
     "data": {
      "text/plain": [
       "count    843.000000\n",
       "mean      77.971530\n",
       "std       12.376099\n",
       "min       28.000000\n",
       "25%       70.000000\n",
       "50%       79.000000\n",
       "75%       87.000000\n",
       "max      100.000000\n",
       "Name: Metascore, dtype: float64"
      ]
     },
     "execution_count": 99,
     "metadata": {},
     "output_type": "execute_result"
    }
   ],
   "source": [
    "df['Metascore'].describe()"
   ]
  },
  {
   "cell_type": "code",
   "execution_count": 100,
   "id": "b3b73020",
   "metadata": {},
   "outputs": [],
   "source": [
    "df['Metascore'] = df['Metascore'].fillna(df['Metascore'].mean())"
   ]
  },
  {
   "cell_type": "code",
   "execution_count": 101,
   "id": "d441b3e6",
   "metadata": {
    "scrolled": true
   },
   "outputs": [
    {
     "data": {
      "text/plain": [
       "Title            0\n",
       "Released_Year    0\n",
       "Runtime          0\n",
       "Genre            0\n",
       "IMDB_Rating      0\n",
       "Metascore        0\n",
       "Director         0\n",
       "No_of_Votes      0\n",
       "Stars            0\n",
       "dtype: int64"
      ]
     },
     "execution_count": 101,
     "metadata": {},
     "output_type": "execute_result"
    }
   ],
   "source": [
    "df.isnull().sum()"
   ]
  },
  {
   "cell_type": "markdown",
   "id": "a8e2c908",
   "metadata": {},
   "source": [
    "**<h1 style=\"text-align:center;\">Movie Dataset Analysis</h1>**\n",
    "<hr style=\"border: 1px solid black;\">\n",
    "\n",
    "- <b>Part 1:</b> Top 10 Movie Stars in the dataset.\n",
    "- the following code show the top 10 stars in the movie by number of movies in the list, then it takes their average IMDB_Rating, and Metascore, and their best movie on the list\n"
   ]
  },
  {
   "cell_type": "markdown",
   "id": "b0f33f0e",
   "metadata": {},
   "source": [
    "**<h1 style=\"text-align:center;\">Top 10 Actors</h1>**\n",
    "<hr style=\"border: 1px solid black;\">\n"
   ]
  },
  {
   "cell_type": "code",
   "execution_count": 73,
   "id": "33743ce3",
   "metadata": {},
   "outputs": [
    {
     "data": {
      "text/plain": [
       "Stars\n",
       "Robert De Niro       17\n",
       "Tom Hanks            14\n",
       "Al Pacino            13\n",
       "Clint Eastwood       12\n",
       "Brad Pitt            12\n",
       "Christian Bale       11\n",
       "Leonardo DiCaprio    11\n",
       "Matt Damon           11\n",
       "James Stewart        10\n",
       "Ethan Hawke           9\n",
       "Name: count, dtype: int64"
      ]
     },
     "execution_count": 73,
     "metadata": {},
     "output_type": "execute_result"
    }
   ],
   "source": [
    "top_10_stars = df['Stars'].str.split(', ').explode().value_counts().head(10)\n",
    "top_10_stars"
   ]
  },
  {
   "cell_type": "code",
   "execution_count": 74,
   "id": "e9ca8f90",
   "metadata": {},
   "outputs": [
    {
     "data": {
      "text/html": [
       "<div>\n",
       "<style scoped>\n",
       "    .dataframe tbody tr th:only-of-type {\n",
       "        vertical-align: middle;\n",
       "    }\n",
       "\n",
       "    .dataframe tbody tr th {\n",
       "        vertical-align: top;\n",
       "    }\n",
       "\n",
       "    .dataframe thead th {\n",
       "        text-align: right;\n",
       "    }\n",
       "</style>\n",
       "<table border=\"1\" class=\"dataframe\">\n",
       "  <thead>\n",
       "    <tr style=\"text-align: right;\">\n",
       "      <th></th>\n",
       "      <th>Number_of_Movies</th>\n",
       "      <th>Average_IMDB_Rating</th>\n",
       "      <th>Average_Metascore</th>\n",
       "      <th>Actor's Best Movie</th>\n",
       "    </tr>\n",
       "    <tr>\n",
       "      <th>Movie Star</th>\n",
       "      <th></th>\n",
       "      <th></th>\n",
       "      <th></th>\n",
       "      <th></th>\n",
       "    </tr>\n",
       "  </thead>\n",
       "  <tbody>\n",
       "    <tr>\n",
       "      <th>Robert De Niro</th>\n",
       "      <td>17</td>\n",
       "      <td>8.1</td>\n",
       "      <td>79.4</td>\n",
       "      <td>The Godfather: Part II</td>\n",
       "    </tr>\n",
       "    <tr>\n",
       "      <th>Tom Hanks</th>\n",
       "      <td>14</td>\n",
       "      <td>8.0</td>\n",
       "      <td>79.9</td>\n",
       "      <td>Forrest Gump</td>\n",
       "    </tr>\n",
       "    <tr>\n",
       "      <th>Al Pacino</th>\n",
       "      <td>13</td>\n",
       "      <td>8.1</td>\n",
       "      <td>78.8</td>\n",
       "      <td>The Godfather</td>\n",
       "    </tr>\n",
       "    <tr>\n",
       "      <th>Brad Pitt</th>\n",
       "      <td>12</td>\n",
       "      <td>8.0</td>\n",
       "      <td>72.4</td>\n",
       "      <td>Fight Club</td>\n",
       "    </tr>\n",
       "    <tr>\n",
       "      <th>Clint Eastwood</th>\n",
       "      <td>12</td>\n",
       "      <td>8.0</td>\n",
       "      <td>74.1</td>\n",
       "      <td>Il buono, il brutto, il cattivo</td>\n",
       "    </tr>\n",
       "    <tr>\n",
       "      <th>Matt Damon</th>\n",
       "      <td>11</td>\n",
       "      <td>8.0</td>\n",
       "      <td>79.4</td>\n",
       "      <td>Saving Private Ryan</td>\n",
       "    </tr>\n",
       "    <tr>\n",
       "      <th>Leonardo DiCaprio</th>\n",
       "      <td>11</td>\n",
       "      <td>8.1</td>\n",
       "      <td>74.9</td>\n",
       "      <td>Inception</td>\n",
       "    </tr>\n",
       "    <tr>\n",
       "      <th>Christian Bale</th>\n",
       "      <td>11</td>\n",
       "      <td>8.0</td>\n",
       "      <td>72.9</td>\n",
       "      <td>The Dark Knight</td>\n",
       "    </tr>\n",
       "    <tr>\n",
       "      <th>James Stewart</th>\n",
       "      <td>10</td>\n",
       "      <td>8.1</td>\n",
       "      <td>90.7</td>\n",
       "      <td>It's a Wonderful Life</td>\n",
       "    </tr>\n",
       "    <tr>\n",
       "      <th>Humphrey Bogart</th>\n",
       "      <td>9</td>\n",
       "      <td>8.0</td>\n",
       "      <td>91.4</td>\n",
       "      <td>Casablanca</td>\n",
       "    </tr>\n",
       "  </tbody>\n",
       "</table>\n",
       "</div>"
      ],
      "text/plain": [
       "                   Number_of_Movies  Average_IMDB_Rating  Average_Metascore  \\\n",
       "Movie Star                                                                    \n",
       "Robert De Niro                   17                  8.1               79.4   \n",
       "Tom Hanks                        14                  8.0               79.9   \n",
       "Al Pacino                        13                  8.1               78.8   \n",
       "Brad Pitt                        12                  8.0               72.4   \n",
       "Clint Eastwood                   12                  8.0               74.1   \n",
       "Matt Damon                       11                  8.0               79.4   \n",
       "Leonardo DiCaprio                11                  8.1               74.9   \n",
       "Christian Bale                   11                  8.0               72.9   \n",
       "James Stewart                    10                  8.1               90.7   \n",
       "Humphrey Bogart                   9                  8.0               91.4   \n",
       "\n",
       "                                Actor's Best Movie  \n",
       "Movie Star                                          \n",
       "Robert De Niro              The Godfather: Part II  \n",
       "Tom Hanks                             Forrest Gump  \n",
       "Al Pacino                            The Godfather  \n",
       "Brad Pitt                               Fight Club  \n",
       "Clint Eastwood     Il buono, il brutto, il cattivo  \n",
       "Matt Damon                     Saving Private Ryan  \n",
       "Leonardo DiCaprio                        Inception  \n",
       "Christian Bale                     The Dark Knight  \n",
       "James Stewart                It's a Wonderful Life  \n",
       "Humphrey Bogart                         Casablanca  "
      ]
     },
     "execution_count": 74,
     "metadata": {},
     "output_type": "execute_result"
    }
   ],
   "source": [
    "exploded_df = df.assign(Stars=df['Stars'].str.split(', ')).explode('Stars')\n",
    "\n",
    "\n",
    "star_stats = exploded_df.groupby('Stars').agg({'IMDB_Rating': ['mean', 'count'], 'Metascore': 'mean'})\n",
    "\n",
    "star_stats.columns = ['Average_IMDB_Rating', 'Number_of_Movies', 'Average_Metascore']\n",
    "star_stats.index.name = 'Movie Star'\n",
    "\n",
    "star_stats['Average_IMDB_Rating'] = star_stats['Average_IMDB_Rating'].round(1)\n",
    "star_stats['Average_Metascore'] = star_stats['Average_Metascore'].round(1)\n",
    "\n",
    "star_stats['Actor\\'s Best Movie'] = exploded_df.groupby('Stars')['IMDB_Rating'].idxmax().apply(lambda x: df.loc[x]['Title'])\n",
    "\n",
    "top_10_appearances = star_stats.sort_values(by='Number_of_Movies', ascending=False).head(10)\n",
    "\n",
    "top_10_appearances = top_10_appearances[['Number_of_Movies', 'Average_IMDB_Rating', 'Average_Metascore', 'Actor\\'s Best Movie']]\n",
    "\n",
    "top_10_appearances\n"
   ]
  },
  {
   "cell_type": "markdown",
   "id": "c33a748e",
   "metadata": {},
   "source": [
    "**<h1 style=\"text-align:center;\">Top 10 Movies by IMDB Rating and Metascore</h1>**\n",
    "<hr style=\"border: 1px solid black;\">\n"
   ]
  },
  {
   "cell_type": "markdown",
   "id": "85321400",
   "metadata": {},
   "source": [
    "- <b>Part 2:</b> Top 10 movies in the dataset.\n",
    "- The following code shows the Top 10 Movies on the list with highest IMDB Rating and Metascore.\n",
    "- The code displays dual-axis graph using Plotly, showing  Metascore as a bar chart and IMDB Rating as a dotted line chart, allowing for visual comparison between the two ratings for the top movies."
   ]
  },
  {
   "cell_type": "code",
   "execution_count": 14,
   "id": "5cc48d5a",
   "metadata": {},
   "outputs": [
    {
     "data": {
      "application/vnd.plotly.v1+json": {
       "config": {
        "plotlyServerURL": "https://plot.ly"
       },
       "data": [
        {
         "marker": {
          "color": "lightblue"
         },
         "name": "Metascore",
         "type": "bar",
         "x": [
          "The Shawshank Redemption",
          "The Godfather",
          "The Dark Knight",
          "The Godfather: Part II",
          "12 Angry Men",
          "The Lord of the Rings: The Return of the King",
          "Pulp Fiction",
          "Schindler's List",
          "The Lord of the Rings: The Fellowship of the Ring",
          "Forrest Gump"
         ],
         "y": [
          80,
          100,
          84,
          90,
          96,
          94,
          94,
          94,
          92,
          82
         ]
        },
        {
         "marker": {
          "color": "#1B7593"
         },
         "name": "IMDB Rating",
         "type": "scatter",
         "x": [
          "The Shawshank Redemption",
          "The Godfather",
          "The Dark Knight",
          "The Godfather: Part II",
          "12 Angry Men",
          "The Lord of the Rings: The Return of the King",
          "Pulp Fiction",
          "Schindler's List",
          "The Lord of the Rings: The Fellowship of the Ring",
          "Forrest Gump"
         ],
         "y": [
          9.3,
          9.2,
          9,
          9,
          9,
          8.9,
          8.9,
          8.9,
          8.8,
          8.8
         ],
         "yaxis": "y2"
        }
       ],
       "layout": {
        "legend": {
         "orientation": "h",
         "x": 0.35,
         "y": 1.2
        },
        "template": {
         "data": {
          "bar": [
           {
            "error_x": {
             "color": "#2a3f5f"
            },
            "error_y": {
             "color": "#2a3f5f"
            },
            "marker": {
             "line": {
              "color": "#E5ECF6",
              "width": 0.5
             },
             "pattern": {
              "fillmode": "overlay",
              "size": 10,
              "solidity": 0.2
             }
            },
            "type": "bar"
           }
          ],
          "barpolar": [
           {
            "marker": {
             "line": {
              "color": "#E5ECF6",
              "width": 0.5
             },
             "pattern": {
              "fillmode": "overlay",
              "size": 10,
              "solidity": 0.2
             }
            },
            "type": "barpolar"
           }
          ],
          "carpet": [
           {
            "aaxis": {
             "endlinecolor": "#2a3f5f",
             "gridcolor": "white",
             "linecolor": "white",
             "minorgridcolor": "white",
             "startlinecolor": "#2a3f5f"
            },
            "baxis": {
             "endlinecolor": "#2a3f5f",
             "gridcolor": "white",
             "linecolor": "white",
             "minorgridcolor": "white",
             "startlinecolor": "#2a3f5f"
            },
            "type": "carpet"
           }
          ],
          "choropleth": [
           {
            "colorbar": {
             "outlinewidth": 0,
             "ticks": ""
            },
            "type": "choropleth"
           }
          ],
          "contour": [
           {
            "colorbar": {
             "outlinewidth": 0,
             "ticks": ""
            },
            "colorscale": [
             [
              0,
              "#0d0887"
             ],
             [
              0.1111111111111111,
              "#46039f"
             ],
             [
              0.2222222222222222,
              "#7201a8"
             ],
             [
              0.3333333333333333,
              "#9c179e"
             ],
             [
              0.4444444444444444,
              "#bd3786"
             ],
             [
              0.5555555555555556,
              "#d8576b"
             ],
             [
              0.6666666666666666,
              "#ed7953"
             ],
             [
              0.7777777777777778,
              "#fb9f3a"
             ],
             [
              0.8888888888888888,
              "#fdca26"
             ],
             [
              1,
              "#f0f921"
             ]
            ],
            "type": "contour"
           }
          ],
          "contourcarpet": [
           {
            "colorbar": {
             "outlinewidth": 0,
             "ticks": ""
            },
            "type": "contourcarpet"
           }
          ],
          "heatmap": [
           {
            "colorbar": {
             "outlinewidth": 0,
             "ticks": ""
            },
            "colorscale": [
             [
              0,
              "#0d0887"
             ],
             [
              0.1111111111111111,
              "#46039f"
             ],
             [
              0.2222222222222222,
              "#7201a8"
             ],
             [
              0.3333333333333333,
              "#9c179e"
             ],
             [
              0.4444444444444444,
              "#bd3786"
             ],
             [
              0.5555555555555556,
              "#d8576b"
             ],
             [
              0.6666666666666666,
              "#ed7953"
             ],
             [
              0.7777777777777778,
              "#fb9f3a"
             ],
             [
              0.8888888888888888,
              "#fdca26"
             ],
             [
              1,
              "#f0f921"
             ]
            ],
            "type": "heatmap"
           }
          ],
          "heatmapgl": [
           {
            "colorbar": {
             "outlinewidth": 0,
             "ticks": ""
            },
            "colorscale": [
             [
              0,
              "#0d0887"
             ],
             [
              0.1111111111111111,
              "#46039f"
             ],
             [
              0.2222222222222222,
              "#7201a8"
             ],
             [
              0.3333333333333333,
              "#9c179e"
             ],
             [
              0.4444444444444444,
              "#bd3786"
             ],
             [
              0.5555555555555556,
              "#d8576b"
             ],
             [
              0.6666666666666666,
              "#ed7953"
             ],
             [
              0.7777777777777778,
              "#fb9f3a"
             ],
             [
              0.8888888888888888,
              "#fdca26"
             ],
             [
              1,
              "#f0f921"
             ]
            ],
            "type": "heatmapgl"
           }
          ],
          "histogram": [
           {
            "marker": {
             "pattern": {
              "fillmode": "overlay",
              "size": 10,
              "solidity": 0.2
             }
            },
            "type": "histogram"
           }
          ],
          "histogram2d": [
           {
            "colorbar": {
             "outlinewidth": 0,
             "ticks": ""
            },
            "colorscale": [
             [
              0,
              "#0d0887"
             ],
             [
              0.1111111111111111,
              "#46039f"
             ],
             [
              0.2222222222222222,
              "#7201a8"
             ],
             [
              0.3333333333333333,
              "#9c179e"
             ],
             [
              0.4444444444444444,
              "#bd3786"
             ],
             [
              0.5555555555555556,
              "#d8576b"
             ],
             [
              0.6666666666666666,
              "#ed7953"
             ],
             [
              0.7777777777777778,
              "#fb9f3a"
             ],
             [
              0.8888888888888888,
              "#fdca26"
             ],
             [
              1,
              "#f0f921"
             ]
            ],
            "type": "histogram2d"
           }
          ],
          "histogram2dcontour": [
           {
            "colorbar": {
             "outlinewidth": 0,
             "ticks": ""
            },
            "colorscale": [
             [
              0,
              "#0d0887"
             ],
             [
              0.1111111111111111,
              "#46039f"
             ],
             [
              0.2222222222222222,
              "#7201a8"
             ],
             [
              0.3333333333333333,
              "#9c179e"
             ],
             [
              0.4444444444444444,
              "#bd3786"
             ],
             [
              0.5555555555555556,
              "#d8576b"
             ],
             [
              0.6666666666666666,
              "#ed7953"
             ],
             [
              0.7777777777777778,
              "#fb9f3a"
             ],
             [
              0.8888888888888888,
              "#fdca26"
             ],
             [
              1,
              "#f0f921"
             ]
            ],
            "type": "histogram2dcontour"
           }
          ],
          "mesh3d": [
           {
            "colorbar": {
             "outlinewidth": 0,
             "ticks": ""
            },
            "type": "mesh3d"
           }
          ],
          "parcoords": [
           {
            "line": {
             "colorbar": {
              "outlinewidth": 0,
              "ticks": ""
             }
            },
            "type": "parcoords"
           }
          ],
          "pie": [
           {
            "automargin": true,
            "type": "pie"
           }
          ],
          "scatter": [
           {
            "fillpattern": {
             "fillmode": "overlay",
             "size": 10,
             "solidity": 0.2
            },
            "type": "scatter"
           }
          ],
          "scatter3d": [
           {
            "line": {
             "colorbar": {
              "outlinewidth": 0,
              "ticks": ""
             }
            },
            "marker": {
             "colorbar": {
              "outlinewidth": 0,
              "ticks": ""
             }
            },
            "type": "scatter3d"
           }
          ],
          "scattercarpet": [
           {
            "marker": {
             "colorbar": {
              "outlinewidth": 0,
              "ticks": ""
             }
            },
            "type": "scattercarpet"
           }
          ],
          "scattergeo": [
           {
            "marker": {
             "colorbar": {
              "outlinewidth": 0,
              "ticks": ""
             }
            },
            "type": "scattergeo"
           }
          ],
          "scattergl": [
           {
            "marker": {
             "colorbar": {
              "outlinewidth": 0,
              "ticks": ""
             }
            },
            "type": "scattergl"
           }
          ],
          "scattermapbox": [
           {
            "marker": {
             "colorbar": {
              "outlinewidth": 0,
              "ticks": ""
             }
            },
            "type": "scattermapbox"
           }
          ],
          "scatterpolar": [
           {
            "marker": {
             "colorbar": {
              "outlinewidth": 0,
              "ticks": ""
             }
            },
            "type": "scatterpolar"
           }
          ],
          "scatterpolargl": [
           {
            "marker": {
             "colorbar": {
              "outlinewidth": 0,
              "ticks": ""
             }
            },
            "type": "scatterpolargl"
           }
          ],
          "scatterternary": [
           {
            "marker": {
             "colorbar": {
              "outlinewidth": 0,
              "ticks": ""
             }
            },
            "type": "scatterternary"
           }
          ],
          "surface": [
           {
            "colorbar": {
             "outlinewidth": 0,
             "ticks": ""
            },
            "colorscale": [
             [
              0,
              "#0d0887"
             ],
             [
              0.1111111111111111,
              "#46039f"
             ],
             [
              0.2222222222222222,
              "#7201a8"
             ],
             [
              0.3333333333333333,
              "#9c179e"
             ],
             [
              0.4444444444444444,
              "#bd3786"
             ],
             [
              0.5555555555555556,
              "#d8576b"
             ],
             [
              0.6666666666666666,
              "#ed7953"
             ],
             [
              0.7777777777777778,
              "#fb9f3a"
             ],
             [
              0.8888888888888888,
              "#fdca26"
             ],
             [
              1,
              "#f0f921"
             ]
            ],
            "type": "surface"
           }
          ],
          "table": [
           {
            "cells": {
             "fill": {
              "color": "#EBF0F8"
             },
             "line": {
              "color": "white"
             }
            },
            "header": {
             "fill": {
              "color": "#C8D4E3"
             },
             "line": {
              "color": "white"
             }
            },
            "type": "table"
           }
          ]
         },
         "layout": {
          "annotationdefaults": {
           "arrowcolor": "#2a3f5f",
           "arrowhead": 0,
           "arrowwidth": 1
          },
          "autotypenumbers": "strict",
          "coloraxis": {
           "colorbar": {
            "outlinewidth": 0,
            "ticks": ""
           }
          },
          "colorscale": {
           "diverging": [
            [
             0,
             "#8e0152"
            ],
            [
             0.1,
             "#c51b7d"
            ],
            [
             0.2,
             "#de77ae"
            ],
            [
             0.3,
             "#f1b6da"
            ],
            [
             0.4,
             "#fde0ef"
            ],
            [
             0.5,
             "#f7f7f7"
            ],
            [
             0.6,
             "#e6f5d0"
            ],
            [
             0.7,
             "#b8e186"
            ],
            [
             0.8,
             "#7fbc41"
            ],
            [
             0.9,
             "#4d9221"
            ],
            [
             1,
             "#276419"
            ]
           ],
           "sequential": [
            [
             0,
             "#0d0887"
            ],
            [
             0.1111111111111111,
             "#46039f"
            ],
            [
             0.2222222222222222,
             "#7201a8"
            ],
            [
             0.3333333333333333,
             "#9c179e"
            ],
            [
             0.4444444444444444,
             "#bd3786"
            ],
            [
             0.5555555555555556,
             "#d8576b"
            ],
            [
             0.6666666666666666,
             "#ed7953"
            ],
            [
             0.7777777777777778,
             "#fb9f3a"
            ],
            [
             0.8888888888888888,
             "#fdca26"
            ],
            [
             1,
             "#f0f921"
            ]
           ],
           "sequentialminus": [
            [
             0,
             "#0d0887"
            ],
            [
             0.1111111111111111,
             "#46039f"
            ],
            [
             0.2222222222222222,
             "#7201a8"
            ],
            [
             0.3333333333333333,
             "#9c179e"
            ],
            [
             0.4444444444444444,
             "#bd3786"
            ],
            [
             0.5555555555555556,
             "#d8576b"
            ],
            [
             0.6666666666666666,
             "#ed7953"
            ],
            [
             0.7777777777777778,
             "#fb9f3a"
            ],
            [
             0.8888888888888888,
             "#fdca26"
            ],
            [
             1,
             "#f0f921"
            ]
           ]
          },
          "colorway": [
           "#636efa",
           "#EF553B",
           "#00cc96",
           "#ab63fa",
           "#FFA15A",
           "#19d3f3",
           "#FF6692",
           "#B6E880",
           "#FF97FF",
           "#FECB52"
          ],
          "font": {
           "color": "#2a3f5f"
          },
          "geo": {
           "bgcolor": "white",
           "lakecolor": "white",
           "landcolor": "#E5ECF6",
           "showlakes": true,
           "showland": true,
           "subunitcolor": "white"
          },
          "hoverlabel": {
           "align": "left"
          },
          "hovermode": "closest",
          "mapbox": {
           "style": "light"
          },
          "paper_bgcolor": "white",
          "plot_bgcolor": "#E5ECF6",
          "polar": {
           "angularaxis": {
            "gridcolor": "white",
            "linecolor": "white",
            "ticks": ""
           },
           "bgcolor": "#E5ECF6",
           "radialaxis": {
            "gridcolor": "white",
            "linecolor": "white",
            "ticks": ""
           }
          },
          "scene": {
           "xaxis": {
            "backgroundcolor": "#E5ECF6",
            "gridcolor": "white",
            "gridwidth": 2,
            "linecolor": "white",
            "showbackground": true,
            "ticks": "",
            "zerolinecolor": "white"
           },
           "yaxis": {
            "backgroundcolor": "#E5ECF6",
            "gridcolor": "white",
            "gridwidth": 2,
            "linecolor": "white",
            "showbackground": true,
            "ticks": "",
            "zerolinecolor": "white"
           },
           "zaxis": {
            "backgroundcolor": "#E5ECF6",
            "gridcolor": "white",
            "gridwidth": 2,
            "linecolor": "white",
            "showbackground": true,
            "ticks": "",
            "zerolinecolor": "white"
           }
          },
          "shapedefaults": {
           "line": {
            "color": "#2a3f5f"
           }
          },
          "ternary": {
           "aaxis": {
            "gridcolor": "white",
            "linecolor": "white",
            "ticks": ""
           },
           "baxis": {
            "gridcolor": "white",
            "linecolor": "white",
            "ticks": ""
           },
           "bgcolor": "#E5ECF6",
           "caxis": {
            "gridcolor": "white",
            "linecolor": "white",
            "ticks": ""
           }
          },
          "title": {
           "x": 0.05
          },
          "xaxis": {
           "automargin": true,
           "gridcolor": "white",
           "linecolor": "white",
           "ticks": "",
           "title": {
            "standoff": 15
           },
           "zerolinecolor": "white",
           "zerolinewidth": 2
          },
          "yaxis": {
           "automargin": true,
           "gridcolor": "white",
           "linecolor": "white",
           "ticks": "",
           "title": {
            "standoff": 15
           },
           "zerolinecolor": "white",
           "zerolinewidth": 2
          }
         }
        },
        "title": {
         "text": "<b>Top 10 Movies by IMDB Rating and Metascore</b>",
         "x": 0.25
        },
        "xaxis": {
         "title": {
          "text": "Movies"
         }
        },
        "yaxis": {
         "title": {
          "text": "Metascore"
         }
        },
        "yaxis2": {
         "overlaying": "y",
         "side": "right",
         "title": {
          "text": "IMDB Rating"
         }
        }
       }
      },
      "text/html": [
       "<div>                            <div id=\"4cab0d72-2fa0-4b66-aa0f-95cc2ba4d0ee\" class=\"plotly-graph-div\" style=\"height:525px; width:100%;\"></div>            <script type=\"text/javascript\">                require([\"plotly\"], function(Plotly) {                    window.PLOTLYENV=window.PLOTLYENV || {};                                    if (document.getElementById(\"4cab0d72-2fa0-4b66-aa0f-95cc2ba4d0ee\")) {                    Plotly.newPlot(                        \"4cab0d72-2fa0-4b66-aa0f-95cc2ba4d0ee\",                        [{\"marker\":{\"color\":\"lightblue\"},\"name\":\"Metascore\",\"x\":[\"The Shawshank Redemption\",\"The Godfather\",\"The Dark Knight\",\"The Godfather: Part II\",\"12 Angry Men\",\"The Lord of the Rings: The Return of the King\",\"Pulp Fiction\",\"Schindler's List\",\"The Lord of the Rings: The Fellowship of the Ring\",\"Forrest Gump\"],\"y\":[80.0,100.0,84.0,90.0,96.0,94.0,94.0,94.0,92.0,82.0],\"type\":\"bar\"},{\"marker\":{\"color\":\"#1B7593\"},\"name\":\"IMDB Rating\",\"x\":[\"The Shawshank Redemption\",\"The Godfather\",\"The Dark Knight\",\"The Godfather: Part II\",\"12 Angry Men\",\"The Lord of the Rings: The Return of the King\",\"Pulp Fiction\",\"Schindler's List\",\"The Lord of the Rings: The Fellowship of the Ring\",\"Forrest Gump\"],\"y\":[9.3,9.2,9.0,9.0,9.0,8.9,8.9,8.9,8.8,8.8],\"yaxis\":\"y2\",\"type\":\"scatter\"}],                        {\"template\":{\"data\":{\"histogram2dcontour\":[{\"type\":\"histogram2dcontour\",\"colorbar\":{\"outlinewidth\":0,\"ticks\":\"\"},\"colorscale\":[[0.0,\"#0d0887\"],[0.1111111111111111,\"#46039f\"],[0.2222222222222222,\"#7201a8\"],[0.3333333333333333,\"#9c179e\"],[0.4444444444444444,\"#bd3786\"],[0.5555555555555556,\"#d8576b\"],[0.6666666666666666,\"#ed7953\"],[0.7777777777777778,\"#fb9f3a\"],[0.8888888888888888,\"#fdca26\"],[1.0,\"#f0f921\"]]}],\"choropleth\":[{\"type\":\"choropleth\",\"colorbar\":{\"outlinewidth\":0,\"ticks\":\"\"}}],\"histogram2d\":[{\"type\":\"histogram2d\",\"colorbar\":{\"outlinewidth\":0,\"ticks\":\"\"},\"colorscale\":[[0.0,\"#0d0887\"],[0.1111111111111111,\"#46039f\"],[0.2222222222222222,\"#7201a8\"],[0.3333333333333333,\"#9c179e\"],[0.4444444444444444,\"#bd3786\"],[0.5555555555555556,\"#d8576b\"],[0.6666666666666666,\"#ed7953\"],[0.7777777777777778,\"#fb9f3a\"],[0.8888888888888888,\"#fdca26\"],[1.0,\"#f0f921\"]]}],\"heatmap\":[{\"type\":\"heatmap\",\"colorbar\":{\"outlinewidth\":0,\"ticks\":\"\"},\"colorscale\":[[0.0,\"#0d0887\"],[0.1111111111111111,\"#46039f\"],[0.2222222222222222,\"#7201a8\"],[0.3333333333333333,\"#9c179e\"],[0.4444444444444444,\"#bd3786\"],[0.5555555555555556,\"#d8576b\"],[0.6666666666666666,\"#ed7953\"],[0.7777777777777778,\"#fb9f3a\"],[0.8888888888888888,\"#fdca26\"],[1.0,\"#f0f921\"]]}],\"heatmapgl\":[{\"type\":\"heatmapgl\",\"colorbar\":{\"outlinewidth\":0,\"ticks\":\"\"},\"colorscale\":[[0.0,\"#0d0887\"],[0.1111111111111111,\"#46039f\"],[0.2222222222222222,\"#7201a8\"],[0.3333333333333333,\"#9c179e\"],[0.4444444444444444,\"#bd3786\"],[0.5555555555555556,\"#d8576b\"],[0.6666666666666666,\"#ed7953\"],[0.7777777777777778,\"#fb9f3a\"],[0.8888888888888888,\"#fdca26\"],[1.0,\"#f0f921\"]]}],\"contourcarpet\":[{\"type\":\"contourcarpet\",\"colorbar\":{\"outlinewidth\":0,\"ticks\":\"\"}}],\"contour\":[{\"type\":\"contour\",\"colorbar\":{\"outlinewidth\":0,\"ticks\":\"\"},\"colorscale\":[[0.0,\"#0d0887\"],[0.1111111111111111,\"#46039f\"],[0.2222222222222222,\"#7201a8\"],[0.3333333333333333,\"#9c179e\"],[0.4444444444444444,\"#bd3786\"],[0.5555555555555556,\"#d8576b\"],[0.6666666666666666,\"#ed7953\"],[0.7777777777777778,\"#fb9f3a\"],[0.8888888888888888,\"#fdca26\"],[1.0,\"#f0f921\"]]}],\"surface\":[{\"type\":\"surface\",\"colorbar\":{\"outlinewidth\":0,\"ticks\":\"\"},\"colorscale\":[[0.0,\"#0d0887\"],[0.1111111111111111,\"#46039f\"],[0.2222222222222222,\"#7201a8\"],[0.3333333333333333,\"#9c179e\"],[0.4444444444444444,\"#bd3786\"],[0.5555555555555556,\"#d8576b\"],[0.6666666666666666,\"#ed7953\"],[0.7777777777777778,\"#fb9f3a\"],[0.8888888888888888,\"#fdca26\"],[1.0,\"#f0f921\"]]}],\"mesh3d\":[{\"type\":\"mesh3d\",\"colorbar\":{\"outlinewidth\":0,\"ticks\":\"\"}}],\"scatter\":[{\"fillpattern\":{\"fillmode\":\"overlay\",\"size\":10,\"solidity\":0.2},\"type\":\"scatter\"}],\"parcoords\":[{\"type\":\"parcoords\",\"line\":{\"colorbar\":{\"outlinewidth\":0,\"ticks\":\"\"}}}],\"scatterpolargl\":[{\"type\":\"scatterpolargl\",\"marker\":{\"colorbar\":{\"outlinewidth\":0,\"ticks\":\"\"}}}],\"bar\":[{\"error_x\":{\"color\":\"#2a3f5f\"},\"error_y\":{\"color\":\"#2a3f5f\"},\"marker\":{\"line\":{\"color\":\"#E5ECF6\",\"width\":0.5},\"pattern\":{\"fillmode\":\"overlay\",\"size\":10,\"solidity\":0.2}},\"type\":\"bar\"}],\"scattergeo\":[{\"type\":\"scattergeo\",\"marker\":{\"colorbar\":{\"outlinewidth\":0,\"ticks\":\"\"}}}],\"scatterpolar\":[{\"type\":\"scatterpolar\",\"marker\":{\"colorbar\":{\"outlinewidth\":0,\"ticks\":\"\"}}}],\"histogram\":[{\"marker\":{\"pattern\":{\"fillmode\":\"overlay\",\"size\":10,\"solidity\":0.2}},\"type\":\"histogram\"}],\"scattergl\":[{\"type\":\"scattergl\",\"marker\":{\"colorbar\":{\"outlinewidth\":0,\"ticks\":\"\"}}}],\"scatter3d\":[{\"type\":\"scatter3d\",\"line\":{\"colorbar\":{\"outlinewidth\":0,\"ticks\":\"\"}},\"marker\":{\"colorbar\":{\"outlinewidth\":0,\"ticks\":\"\"}}}],\"scattermapbox\":[{\"type\":\"scattermapbox\",\"marker\":{\"colorbar\":{\"outlinewidth\":0,\"ticks\":\"\"}}}],\"scatterternary\":[{\"type\":\"scatterternary\",\"marker\":{\"colorbar\":{\"outlinewidth\":0,\"ticks\":\"\"}}}],\"scattercarpet\":[{\"type\":\"scattercarpet\",\"marker\":{\"colorbar\":{\"outlinewidth\":0,\"ticks\":\"\"}}}],\"carpet\":[{\"aaxis\":{\"endlinecolor\":\"#2a3f5f\",\"gridcolor\":\"white\",\"linecolor\":\"white\",\"minorgridcolor\":\"white\",\"startlinecolor\":\"#2a3f5f\"},\"baxis\":{\"endlinecolor\":\"#2a3f5f\",\"gridcolor\":\"white\",\"linecolor\":\"white\",\"minorgridcolor\":\"white\",\"startlinecolor\":\"#2a3f5f\"},\"type\":\"carpet\"}],\"table\":[{\"cells\":{\"fill\":{\"color\":\"#EBF0F8\"},\"line\":{\"color\":\"white\"}},\"header\":{\"fill\":{\"color\":\"#C8D4E3\"},\"line\":{\"color\":\"white\"}},\"type\":\"table\"}],\"barpolar\":[{\"marker\":{\"line\":{\"color\":\"#E5ECF6\",\"width\":0.5},\"pattern\":{\"fillmode\":\"overlay\",\"size\":10,\"solidity\":0.2}},\"type\":\"barpolar\"}],\"pie\":[{\"automargin\":true,\"type\":\"pie\"}]},\"layout\":{\"autotypenumbers\":\"strict\",\"colorway\":[\"#636efa\",\"#EF553B\",\"#00cc96\",\"#ab63fa\",\"#FFA15A\",\"#19d3f3\",\"#FF6692\",\"#B6E880\",\"#FF97FF\",\"#FECB52\"],\"font\":{\"color\":\"#2a3f5f\"},\"hovermode\":\"closest\",\"hoverlabel\":{\"align\":\"left\"},\"paper_bgcolor\":\"white\",\"plot_bgcolor\":\"#E5ECF6\",\"polar\":{\"bgcolor\":\"#E5ECF6\",\"angularaxis\":{\"gridcolor\":\"white\",\"linecolor\":\"white\",\"ticks\":\"\"},\"radialaxis\":{\"gridcolor\":\"white\",\"linecolor\":\"white\",\"ticks\":\"\"}},\"ternary\":{\"bgcolor\":\"#E5ECF6\",\"aaxis\":{\"gridcolor\":\"white\",\"linecolor\":\"white\",\"ticks\":\"\"},\"baxis\":{\"gridcolor\":\"white\",\"linecolor\":\"white\",\"ticks\":\"\"},\"caxis\":{\"gridcolor\":\"white\",\"linecolor\":\"white\",\"ticks\":\"\"}},\"coloraxis\":{\"colorbar\":{\"outlinewidth\":0,\"ticks\":\"\"}},\"colorscale\":{\"sequential\":[[0.0,\"#0d0887\"],[0.1111111111111111,\"#46039f\"],[0.2222222222222222,\"#7201a8\"],[0.3333333333333333,\"#9c179e\"],[0.4444444444444444,\"#bd3786\"],[0.5555555555555556,\"#d8576b\"],[0.6666666666666666,\"#ed7953\"],[0.7777777777777778,\"#fb9f3a\"],[0.8888888888888888,\"#fdca26\"],[1.0,\"#f0f921\"]],\"sequentialminus\":[[0.0,\"#0d0887\"],[0.1111111111111111,\"#46039f\"],[0.2222222222222222,\"#7201a8\"],[0.3333333333333333,\"#9c179e\"],[0.4444444444444444,\"#bd3786\"],[0.5555555555555556,\"#d8576b\"],[0.6666666666666666,\"#ed7953\"],[0.7777777777777778,\"#fb9f3a\"],[0.8888888888888888,\"#fdca26\"],[1.0,\"#f0f921\"]],\"diverging\":[[0,\"#8e0152\"],[0.1,\"#c51b7d\"],[0.2,\"#de77ae\"],[0.3,\"#f1b6da\"],[0.4,\"#fde0ef\"],[0.5,\"#f7f7f7\"],[0.6,\"#e6f5d0\"],[0.7,\"#b8e186\"],[0.8,\"#7fbc41\"],[0.9,\"#4d9221\"],[1,\"#276419\"]]},\"xaxis\":{\"gridcolor\":\"white\",\"linecolor\":\"white\",\"ticks\":\"\",\"title\":{\"standoff\":15},\"zerolinecolor\":\"white\",\"automargin\":true,\"zerolinewidth\":2},\"yaxis\":{\"gridcolor\":\"white\",\"linecolor\":\"white\",\"ticks\":\"\",\"title\":{\"standoff\":15},\"zerolinecolor\":\"white\",\"automargin\":true,\"zerolinewidth\":2},\"scene\":{\"xaxis\":{\"backgroundcolor\":\"#E5ECF6\",\"gridcolor\":\"white\",\"linecolor\":\"white\",\"showbackground\":true,\"ticks\":\"\",\"zerolinecolor\":\"white\",\"gridwidth\":2},\"yaxis\":{\"backgroundcolor\":\"#E5ECF6\",\"gridcolor\":\"white\",\"linecolor\":\"white\",\"showbackground\":true,\"ticks\":\"\",\"zerolinecolor\":\"white\",\"gridwidth\":2},\"zaxis\":{\"backgroundcolor\":\"#E5ECF6\",\"gridcolor\":\"white\",\"linecolor\":\"white\",\"showbackground\":true,\"ticks\":\"\",\"zerolinecolor\":\"white\",\"gridwidth\":2}},\"shapedefaults\":{\"line\":{\"color\":\"#2a3f5f\"}},\"annotationdefaults\":{\"arrowcolor\":\"#2a3f5f\",\"arrowhead\":0,\"arrowwidth\":1},\"geo\":{\"bgcolor\":\"white\",\"landcolor\":\"#E5ECF6\",\"subunitcolor\":\"white\",\"showland\":true,\"showlakes\":true,\"lakecolor\":\"white\"},\"title\":{\"x\":0.05},\"mapbox\":{\"style\":\"light\"}}},\"title\":{\"text\":\"<b>Top 10 Movies by IMDB Rating and Metascore</b>\",\"x\":0.25},\"yaxis2\":{\"title\":{\"text\":\"IMDB Rating\"},\"overlaying\":\"y\",\"side\":\"right\"},\"legend\":{\"x\":0.35,\"y\":1.2,\"orientation\":\"h\"},\"yaxis\":{\"title\":{\"text\":\"Metascore\"}},\"xaxis\":{\"title\":{\"text\":\"Movies\"}}},                        {\"responsive\": true}                    ).then(function(){\n",
       "                            \n",
       "var gd = document.getElementById('4cab0d72-2fa0-4b66-aa0f-95cc2ba4d0ee');\n",
       "var x = new MutationObserver(function (mutations, observer) {{\n",
       "        var display = window.getComputedStyle(gd).display;\n",
       "        if (!display || display === 'none') {{\n",
       "            console.log([gd, 'removed!']);\n",
       "            Plotly.purge(gd);\n",
       "            observer.disconnect();\n",
       "        }}\n",
       "}});\n",
       "\n",
       "// Listen for the removal of the full notebook cells\n",
       "var notebookContainer = gd.closest('#notebook-container');\n",
       "if (notebookContainer) {{\n",
       "    x.observe(notebookContainer, {childList: true});\n",
       "}}\n",
       "\n",
       "// Listen for the clearing of the current output cell\n",
       "var outputEl = gd.closest('.output');\n",
       "if (outputEl) {{\n",
       "    x.observe(outputEl, {childList: true});\n",
       "}}\n",
       "\n",
       "                        })                };                });            </script>        </div>"
      ]
     },
     "metadata": {},
     "output_type": "display_data"
    }
   ],
   "source": [
    "top_10_movies = df.sort_values('IMDB_Rating', ascending=False).head(10)\n",
    "\n",
    "fig = go.Figure()\n",
    "\n",
    "fig.add_trace(go.Bar(x=top_10_movies['Title'], y=top_10_movies['Metascore'], name='Metascore', marker_color='lightblue'))\n",
    "\n",
    "fig.add_trace(go.Scatter(x=top_10_movies['Title'], y=top_10_movies['IMDB_Rating'], \n",
    "                     name='IMDB Rating', marker_color='#1B7593', yaxis='y2'))\n",
    "\n",
    "fig.update_layout(title='<b>Top 10 Movies by IMDB Rating and Metascore</b>', title_x=0.25,\n",
    "                  yaxis=dict(title='Metascore'), \n",
    "                  yaxis2=dict(title='IMDB Rating', overlaying='y', side='right'), \n",
    "                  xaxis=dict(title='Movies'),\n",
    "                  legend=dict(x=0.35, y=1.2, orientation='h'),)\n",
    "\n",
    "\n",
    "fig.show()\n"
   ]
  },
  {
   "cell_type": "markdown",
   "id": "c3f45bed",
   "metadata": {},
   "source": [
    "**<h1 style=\"text-align:center;\">Top 10 Directors</h1>**\n",
    "<hr style=\"border: 1px solid black;\">\n",
    "\n",
    "- <b>Part 3:</b> Top 10 directors in the dataset.\n",
    "- The following code shows the top 10 directors with the most movies in the dataset.\n",
    "- Then the code groups movies by directors and calculates the number of movies, along with their average Metascore and IMDb rating. Then, it selects the top 10 directors with the most movies and shows their average Metascore and IMDb rating using a graph."
   ]
  },
  {
   "cell_type": "code",
   "execution_count": 77,
   "id": "869e70dd",
   "metadata": {},
   "outputs": [
    {
     "data": {
      "text/plain": [
       "Director\n",
       "Alfred Hitchcock     14\n",
       "Steven Spielberg     13\n",
       "Hayao Miyazaki       11\n",
       "Martin Scorsese      10\n",
       "Akira Kurosawa       10\n",
       "Stanley Kubrick       9\n",
       "Billy Wilder          9\n",
       "Woody Allen           9\n",
       "Christopher Nolan     8\n",
       "Quentin Tarantino     8\n",
       "Name: count, dtype: int64"
      ]
     },
     "execution_count": 77,
     "metadata": {},
     "output_type": "execute_result"
    }
   ],
   "source": [
    "df['Director'].value_counts().head(10)"
   ]
  },
  {
   "cell_type": "code",
   "execution_count": 78,
   "id": "36d2b5ed",
   "metadata": {},
   "outputs": [
    {
     "data": {
      "application/vnd.plotly.v1+json": {
       "config": {
        "plotlyServerURL": "https://plot.ly"
       },
       "data": [
        {
         "marker": {
          "color": "#D1FFBD"
         },
         "name": "Average Metascore",
         "type": "bar",
         "x": [
          "Alfred Hitchcock",
          "Steven Spielberg",
          "Hayao Miyazaki",
          "Martin Scorsese",
          "Akira Kurosawa",
          "Stanley Kubrick",
          "Woody Allen",
          "Billy Wilder",
          "Quentin Tarantino",
          "Christopher Nolan"
         ],
         "y": [
          90.71428571428571,
          80.53846153846153,
          82.54545454545455,
          82.6,
          94,
          84.11111111111111,
          82.375,
          85.83333333333333,
          78.25,
          77.5
         ],
         "yaxis": "y"
        },
        {
         "line": {
          "color": "green"
         },
         "mode": "lines+markers",
         "name": "Average IMDb Rating",
         "type": "scatter",
         "x": [
          "Alfred Hitchcock",
          "Steven Spielberg",
          "Hayao Miyazaki",
          "Martin Scorsese",
          "Akira Kurosawa",
          "Stanley Kubrick",
          "Woody Allen",
          "Billy Wilder",
          "Quentin Tarantino",
          "Christopher Nolan"
         ],
         "y": [
          8.007142857142856,
          8.03076923076923,
          8.018181818181818,
          8.17,
          8.22,
          8.233333333333334,
          7.788888888888888,
          8.144444444444444,
          8.175,
          8.4625
         ],
         "yaxis": "y2"
        }
       ],
       "layout": {
        "legend": {
         "orientation": "h",
         "x": 0.3,
         "y": 1.1
        },
        "template": {
         "data": {
          "bar": [
           {
            "error_x": {
             "color": "#2a3f5f"
            },
            "error_y": {
             "color": "#2a3f5f"
            },
            "marker": {
             "line": {
              "color": "#E5ECF6",
              "width": 0.5
             },
             "pattern": {
              "fillmode": "overlay",
              "size": 10,
              "solidity": 0.2
             }
            },
            "type": "bar"
           }
          ],
          "barpolar": [
           {
            "marker": {
             "line": {
              "color": "#E5ECF6",
              "width": 0.5
             },
             "pattern": {
              "fillmode": "overlay",
              "size": 10,
              "solidity": 0.2
             }
            },
            "type": "barpolar"
           }
          ],
          "carpet": [
           {
            "aaxis": {
             "endlinecolor": "#2a3f5f",
             "gridcolor": "white",
             "linecolor": "white",
             "minorgridcolor": "white",
             "startlinecolor": "#2a3f5f"
            },
            "baxis": {
             "endlinecolor": "#2a3f5f",
             "gridcolor": "white",
             "linecolor": "white",
             "minorgridcolor": "white",
             "startlinecolor": "#2a3f5f"
            },
            "type": "carpet"
           }
          ],
          "choropleth": [
           {
            "colorbar": {
             "outlinewidth": 0,
             "ticks": ""
            },
            "type": "choropleth"
           }
          ],
          "contour": [
           {
            "colorbar": {
             "outlinewidth": 0,
             "ticks": ""
            },
            "colorscale": [
             [
              0,
              "#0d0887"
             ],
             [
              0.1111111111111111,
              "#46039f"
             ],
             [
              0.2222222222222222,
              "#7201a8"
             ],
             [
              0.3333333333333333,
              "#9c179e"
             ],
             [
              0.4444444444444444,
              "#bd3786"
             ],
             [
              0.5555555555555556,
              "#d8576b"
             ],
             [
              0.6666666666666666,
              "#ed7953"
             ],
             [
              0.7777777777777778,
              "#fb9f3a"
             ],
             [
              0.8888888888888888,
              "#fdca26"
             ],
             [
              1,
              "#f0f921"
             ]
            ],
            "type": "contour"
           }
          ],
          "contourcarpet": [
           {
            "colorbar": {
             "outlinewidth": 0,
             "ticks": ""
            },
            "type": "contourcarpet"
           }
          ],
          "heatmap": [
           {
            "colorbar": {
             "outlinewidth": 0,
             "ticks": ""
            },
            "colorscale": [
             [
              0,
              "#0d0887"
             ],
             [
              0.1111111111111111,
              "#46039f"
             ],
             [
              0.2222222222222222,
              "#7201a8"
             ],
             [
              0.3333333333333333,
              "#9c179e"
             ],
             [
              0.4444444444444444,
              "#bd3786"
             ],
             [
              0.5555555555555556,
              "#d8576b"
             ],
             [
              0.6666666666666666,
              "#ed7953"
             ],
             [
              0.7777777777777778,
              "#fb9f3a"
             ],
             [
              0.8888888888888888,
              "#fdca26"
             ],
             [
              1,
              "#f0f921"
             ]
            ],
            "type": "heatmap"
           }
          ],
          "heatmapgl": [
           {
            "colorbar": {
             "outlinewidth": 0,
             "ticks": ""
            },
            "colorscale": [
             [
              0,
              "#0d0887"
             ],
             [
              0.1111111111111111,
              "#46039f"
             ],
             [
              0.2222222222222222,
              "#7201a8"
             ],
             [
              0.3333333333333333,
              "#9c179e"
             ],
             [
              0.4444444444444444,
              "#bd3786"
             ],
             [
              0.5555555555555556,
              "#d8576b"
             ],
             [
              0.6666666666666666,
              "#ed7953"
             ],
             [
              0.7777777777777778,
              "#fb9f3a"
             ],
             [
              0.8888888888888888,
              "#fdca26"
             ],
             [
              1,
              "#f0f921"
             ]
            ],
            "type": "heatmapgl"
           }
          ],
          "histogram": [
           {
            "marker": {
             "pattern": {
              "fillmode": "overlay",
              "size": 10,
              "solidity": 0.2
             }
            },
            "type": "histogram"
           }
          ],
          "histogram2d": [
           {
            "colorbar": {
             "outlinewidth": 0,
             "ticks": ""
            },
            "colorscale": [
             [
              0,
              "#0d0887"
             ],
             [
              0.1111111111111111,
              "#46039f"
             ],
             [
              0.2222222222222222,
              "#7201a8"
             ],
             [
              0.3333333333333333,
              "#9c179e"
             ],
             [
              0.4444444444444444,
              "#bd3786"
             ],
             [
              0.5555555555555556,
              "#d8576b"
             ],
             [
              0.6666666666666666,
              "#ed7953"
             ],
             [
              0.7777777777777778,
              "#fb9f3a"
             ],
             [
              0.8888888888888888,
              "#fdca26"
             ],
             [
              1,
              "#f0f921"
             ]
            ],
            "type": "histogram2d"
           }
          ],
          "histogram2dcontour": [
           {
            "colorbar": {
             "outlinewidth": 0,
             "ticks": ""
            },
            "colorscale": [
             [
              0,
              "#0d0887"
             ],
             [
              0.1111111111111111,
              "#46039f"
             ],
             [
              0.2222222222222222,
              "#7201a8"
             ],
             [
              0.3333333333333333,
              "#9c179e"
             ],
             [
              0.4444444444444444,
              "#bd3786"
             ],
             [
              0.5555555555555556,
              "#d8576b"
             ],
             [
              0.6666666666666666,
              "#ed7953"
             ],
             [
              0.7777777777777778,
              "#fb9f3a"
             ],
             [
              0.8888888888888888,
              "#fdca26"
             ],
             [
              1,
              "#f0f921"
             ]
            ],
            "type": "histogram2dcontour"
           }
          ],
          "mesh3d": [
           {
            "colorbar": {
             "outlinewidth": 0,
             "ticks": ""
            },
            "type": "mesh3d"
           }
          ],
          "parcoords": [
           {
            "line": {
             "colorbar": {
              "outlinewidth": 0,
              "ticks": ""
             }
            },
            "type": "parcoords"
           }
          ],
          "pie": [
           {
            "automargin": true,
            "type": "pie"
           }
          ],
          "scatter": [
           {
            "fillpattern": {
             "fillmode": "overlay",
             "size": 10,
             "solidity": 0.2
            },
            "type": "scatter"
           }
          ],
          "scatter3d": [
           {
            "line": {
             "colorbar": {
              "outlinewidth": 0,
              "ticks": ""
             }
            },
            "marker": {
             "colorbar": {
              "outlinewidth": 0,
              "ticks": ""
             }
            },
            "type": "scatter3d"
           }
          ],
          "scattercarpet": [
           {
            "marker": {
             "colorbar": {
              "outlinewidth": 0,
              "ticks": ""
             }
            },
            "type": "scattercarpet"
           }
          ],
          "scattergeo": [
           {
            "marker": {
             "colorbar": {
              "outlinewidth": 0,
              "ticks": ""
             }
            },
            "type": "scattergeo"
           }
          ],
          "scattergl": [
           {
            "marker": {
             "colorbar": {
              "outlinewidth": 0,
              "ticks": ""
             }
            },
            "type": "scattergl"
           }
          ],
          "scattermapbox": [
           {
            "marker": {
             "colorbar": {
              "outlinewidth": 0,
              "ticks": ""
             }
            },
            "type": "scattermapbox"
           }
          ],
          "scatterpolar": [
           {
            "marker": {
             "colorbar": {
              "outlinewidth": 0,
              "ticks": ""
             }
            },
            "type": "scatterpolar"
           }
          ],
          "scatterpolargl": [
           {
            "marker": {
             "colorbar": {
              "outlinewidth": 0,
              "ticks": ""
             }
            },
            "type": "scatterpolargl"
           }
          ],
          "scatterternary": [
           {
            "marker": {
             "colorbar": {
              "outlinewidth": 0,
              "ticks": ""
             }
            },
            "type": "scatterternary"
           }
          ],
          "surface": [
           {
            "colorbar": {
             "outlinewidth": 0,
             "ticks": ""
            },
            "colorscale": [
             [
              0,
              "#0d0887"
             ],
             [
              0.1111111111111111,
              "#46039f"
             ],
             [
              0.2222222222222222,
              "#7201a8"
             ],
             [
              0.3333333333333333,
              "#9c179e"
             ],
             [
              0.4444444444444444,
              "#bd3786"
             ],
             [
              0.5555555555555556,
              "#d8576b"
             ],
             [
              0.6666666666666666,
              "#ed7953"
             ],
             [
              0.7777777777777778,
              "#fb9f3a"
             ],
             [
              0.8888888888888888,
              "#fdca26"
             ],
             [
              1,
              "#f0f921"
             ]
            ],
            "type": "surface"
           }
          ],
          "table": [
           {
            "cells": {
             "fill": {
              "color": "#EBF0F8"
             },
             "line": {
              "color": "white"
             }
            },
            "header": {
             "fill": {
              "color": "#C8D4E3"
             },
             "line": {
              "color": "white"
             }
            },
            "type": "table"
           }
          ]
         },
         "layout": {
          "annotationdefaults": {
           "arrowcolor": "#2a3f5f",
           "arrowhead": 0,
           "arrowwidth": 1
          },
          "autotypenumbers": "strict",
          "coloraxis": {
           "colorbar": {
            "outlinewidth": 0,
            "ticks": ""
           }
          },
          "colorscale": {
           "diverging": [
            [
             0,
             "#8e0152"
            ],
            [
             0.1,
             "#c51b7d"
            ],
            [
             0.2,
             "#de77ae"
            ],
            [
             0.3,
             "#f1b6da"
            ],
            [
             0.4,
             "#fde0ef"
            ],
            [
             0.5,
             "#f7f7f7"
            ],
            [
             0.6,
             "#e6f5d0"
            ],
            [
             0.7,
             "#b8e186"
            ],
            [
             0.8,
             "#7fbc41"
            ],
            [
             0.9,
             "#4d9221"
            ],
            [
             1,
             "#276419"
            ]
           ],
           "sequential": [
            [
             0,
             "#0d0887"
            ],
            [
             0.1111111111111111,
             "#46039f"
            ],
            [
             0.2222222222222222,
             "#7201a8"
            ],
            [
             0.3333333333333333,
             "#9c179e"
            ],
            [
             0.4444444444444444,
             "#bd3786"
            ],
            [
             0.5555555555555556,
             "#d8576b"
            ],
            [
             0.6666666666666666,
             "#ed7953"
            ],
            [
             0.7777777777777778,
             "#fb9f3a"
            ],
            [
             0.8888888888888888,
             "#fdca26"
            ],
            [
             1,
             "#f0f921"
            ]
           ],
           "sequentialminus": [
            [
             0,
             "#0d0887"
            ],
            [
             0.1111111111111111,
             "#46039f"
            ],
            [
             0.2222222222222222,
             "#7201a8"
            ],
            [
             0.3333333333333333,
             "#9c179e"
            ],
            [
             0.4444444444444444,
             "#bd3786"
            ],
            [
             0.5555555555555556,
             "#d8576b"
            ],
            [
             0.6666666666666666,
             "#ed7953"
            ],
            [
             0.7777777777777778,
             "#fb9f3a"
            ],
            [
             0.8888888888888888,
             "#fdca26"
            ],
            [
             1,
             "#f0f921"
            ]
           ]
          },
          "colorway": [
           "#636efa",
           "#EF553B",
           "#00cc96",
           "#ab63fa",
           "#FFA15A",
           "#19d3f3",
           "#FF6692",
           "#B6E880",
           "#FF97FF",
           "#FECB52"
          ],
          "font": {
           "color": "#2a3f5f"
          },
          "geo": {
           "bgcolor": "white",
           "lakecolor": "white",
           "landcolor": "#E5ECF6",
           "showlakes": true,
           "showland": true,
           "subunitcolor": "white"
          },
          "hoverlabel": {
           "align": "left"
          },
          "hovermode": "closest",
          "mapbox": {
           "style": "light"
          },
          "paper_bgcolor": "white",
          "plot_bgcolor": "#E5ECF6",
          "polar": {
           "angularaxis": {
            "gridcolor": "white",
            "linecolor": "white",
            "ticks": ""
           },
           "bgcolor": "#E5ECF6",
           "radialaxis": {
            "gridcolor": "white",
            "linecolor": "white",
            "ticks": ""
           }
          },
          "scene": {
           "xaxis": {
            "backgroundcolor": "#E5ECF6",
            "gridcolor": "white",
            "gridwidth": 2,
            "linecolor": "white",
            "showbackground": true,
            "ticks": "",
            "zerolinecolor": "white"
           },
           "yaxis": {
            "backgroundcolor": "#E5ECF6",
            "gridcolor": "white",
            "gridwidth": 2,
            "linecolor": "white",
            "showbackground": true,
            "ticks": "",
            "zerolinecolor": "white"
           },
           "zaxis": {
            "backgroundcolor": "#E5ECF6",
            "gridcolor": "white",
            "gridwidth": 2,
            "linecolor": "white",
            "showbackground": true,
            "ticks": "",
            "zerolinecolor": "white"
           }
          },
          "shapedefaults": {
           "line": {
            "color": "#2a3f5f"
           }
          },
          "ternary": {
           "aaxis": {
            "gridcolor": "white",
            "linecolor": "white",
            "ticks": ""
           },
           "baxis": {
            "gridcolor": "white",
            "linecolor": "white",
            "ticks": ""
           },
           "bgcolor": "#E5ECF6",
           "caxis": {
            "gridcolor": "white",
            "linecolor": "white",
            "ticks": ""
           }
          },
          "title": {
           "x": 0.05
          },
          "xaxis": {
           "automargin": true,
           "gridcolor": "white",
           "linecolor": "white",
           "ticks": "",
           "title": {
            "standoff": 15
           },
           "zerolinecolor": "white",
           "zerolinewidth": 2
          },
          "yaxis": {
           "automargin": true,
           "gridcolor": "white",
           "linecolor": "white",
           "ticks": "",
           "title": {
            "standoff": 15
           },
           "zerolinecolor": "white",
           "zerolinewidth": 2
          }
         }
        },
        "title": {
         "text": "<b>Top 10 Movie Directors and their Avg. Metascore and IMDb Rating</b>",
         "x": 0.5
        },
        "xaxis": {
         "title": {
          "text": "Directors"
         }
        },
        "yaxis": {
         "title": {
          "text": "Avg. Metascore"
         }
        },
        "yaxis2": {
         "overlaying": "y",
         "side": "right",
         "title": {
          "text": "Avg. IMDB Rating"
         }
        }
       }
      },
      "text/html": [
       "<div>                            <div id=\"3992f420-d2c7-470c-af2d-356ddcc02f65\" class=\"plotly-graph-div\" style=\"height:525px; width:100%;\"></div>            <script type=\"text/javascript\">                require([\"plotly\"], function(Plotly) {                    window.PLOTLYENV=window.PLOTLYENV || {};                                    if (document.getElementById(\"3992f420-d2c7-470c-af2d-356ddcc02f65\")) {                    Plotly.newPlot(                        \"3992f420-d2c7-470c-af2d-356ddcc02f65\",                        [{\"marker\":{\"color\":\"#D1FFBD\"},\"name\":\"Average Metascore\",\"x\":[\"Alfred Hitchcock\",\"Steven Spielberg\",\"Hayao Miyazaki\",\"Martin Scorsese\",\"Akira Kurosawa\",\"Stanley Kubrick\",\"Woody Allen\",\"Billy Wilder\",\"Quentin Tarantino\",\"Christopher Nolan\"],\"y\":[90.71428571428571,80.53846153846153,82.54545454545455,82.6,94.0,84.11111111111111,82.375,85.83333333333333,78.25,77.5],\"yaxis\":\"y\",\"type\":\"bar\"},{\"line\":{\"color\":\"green\"},\"mode\":\"lines+markers\",\"name\":\"Average IMDb Rating\",\"x\":[\"Alfred Hitchcock\",\"Steven Spielberg\",\"Hayao Miyazaki\",\"Martin Scorsese\",\"Akira Kurosawa\",\"Stanley Kubrick\",\"Woody Allen\",\"Billy Wilder\",\"Quentin Tarantino\",\"Christopher Nolan\"],\"y\":[8.007142857142856,8.03076923076923,8.018181818181818,8.17,8.22,8.233333333333334,7.788888888888888,8.144444444444444,8.175,8.4625],\"yaxis\":\"y2\",\"type\":\"scatter\"}],                        {\"template\":{\"data\":{\"histogram2dcontour\":[{\"type\":\"histogram2dcontour\",\"colorbar\":{\"outlinewidth\":0,\"ticks\":\"\"},\"colorscale\":[[0.0,\"#0d0887\"],[0.1111111111111111,\"#46039f\"],[0.2222222222222222,\"#7201a8\"],[0.3333333333333333,\"#9c179e\"],[0.4444444444444444,\"#bd3786\"],[0.5555555555555556,\"#d8576b\"],[0.6666666666666666,\"#ed7953\"],[0.7777777777777778,\"#fb9f3a\"],[0.8888888888888888,\"#fdca26\"],[1.0,\"#f0f921\"]]}],\"choropleth\":[{\"type\":\"choropleth\",\"colorbar\":{\"outlinewidth\":0,\"ticks\":\"\"}}],\"histogram2d\":[{\"type\":\"histogram2d\",\"colorbar\":{\"outlinewidth\":0,\"ticks\":\"\"},\"colorscale\":[[0.0,\"#0d0887\"],[0.1111111111111111,\"#46039f\"],[0.2222222222222222,\"#7201a8\"],[0.3333333333333333,\"#9c179e\"],[0.4444444444444444,\"#bd3786\"],[0.5555555555555556,\"#d8576b\"],[0.6666666666666666,\"#ed7953\"],[0.7777777777777778,\"#fb9f3a\"],[0.8888888888888888,\"#fdca26\"],[1.0,\"#f0f921\"]]}],\"heatmap\":[{\"type\":\"heatmap\",\"colorbar\":{\"outlinewidth\":0,\"ticks\":\"\"},\"colorscale\":[[0.0,\"#0d0887\"],[0.1111111111111111,\"#46039f\"],[0.2222222222222222,\"#7201a8\"],[0.3333333333333333,\"#9c179e\"],[0.4444444444444444,\"#bd3786\"],[0.5555555555555556,\"#d8576b\"],[0.6666666666666666,\"#ed7953\"],[0.7777777777777778,\"#fb9f3a\"],[0.8888888888888888,\"#fdca26\"],[1.0,\"#f0f921\"]]}],\"heatmapgl\":[{\"type\":\"heatmapgl\",\"colorbar\":{\"outlinewidth\":0,\"ticks\":\"\"},\"colorscale\":[[0.0,\"#0d0887\"],[0.1111111111111111,\"#46039f\"],[0.2222222222222222,\"#7201a8\"],[0.3333333333333333,\"#9c179e\"],[0.4444444444444444,\"#bd3786\"],[0.5555555555555556,\"#d8576b\"],[0.6666666666666666,\"#ed7953\"],[0.7777777777777778,\"#fb9f3a\"],[0.8888888888888888,\"#fdca26\"],[1.0,\"#f0f921\"]]}],\"contourcarpet\":[{\"type\":\"contourcarpet\",\"colorbar\":{\"outlinewidth\":0,\"ticks\":\"\"}}],\"contour\":[{\"type\":\"contour\",\"colorbar\":{\"outlinewidth\":0,\"ticks\":\"\"},\"colorscale\":[[0.0,\"#0d0887\"],[0.1111111111111111,\"#46039f\"],[0.2222222222222222,\"#7201a8\"],[0.3333333333333333,\"#9c179e\"],[0.4444444444444444,\"#bd3786\"],[0.5555555555555556,\"#d8576b\"],[0.6666666666666666,\"#ed7953\"],[0.7777777777777778,\"#fb9f3a\"],[0.8888888888888888,\"#fdca26\"],[1.0,\"#f0f921\"]]}],\"surface\":[{\"type\":\"surface\",\"colorbar\":{\"outlinewidth\":0,\"ticks\":\"\"},\"colorscale\":[[0.0,\"#0d0887\"],[0.1111111111111111,\"#46039f\"],[0.2222222222222222,\"#7201a8\"],[0.3333333333333333,\"#9c179e\"],[0.4444444444444444,\"#bd3786\"],[0.5555555555555556,\"#d8576b\"],[0.6666666666666666,\"#ed7953\"],[0.7777777777777778,\"#fb9f3a\"],[0.8888888888888888,\"#fdca26\"],[1.0,\"#f0f921\"]]}],\"mesh3d\":[{\"type\":\"mesh3d\",\"colorbar\":{\"outlinewidth\":0,\"ticks\":\"\"}}],\"scatter\":[{\"fillpattern\":{\"fillmode\":\"overlay\",\"size\":10,\"solidity\":0.2},\"type\":\"scatter\"}],\"parcoords\":[{\"type\":\"parcoords\",\"line\":{\"colorbar\":{\"outlinewidth\":0,\"ticks\":\"\"}}}],\"scatterpolargl\":[{\"type\":\"scatterpolargl\",\"marker\":{\"colorbar\":{\"outlinewidth\":0,\"ticks\":\"\"}}}],\"bar\":[{\"error_x\":{\"color\":\"#2a3f5f\"},\"error_y\":{\"color\":\"#2a3f5f\"},\"marker\":{\"line\":{\"color\":\"#E5ECF6\",\"width\":0.5},\"pattern\":{\"fillmode\":\"overlay\",\"size\":10,\"solidity\":0.2}},\"type\":\"bar\"}],\"scattergeo\":[{\"type\":\"scattergeo\",\"marker\":{\"colorbar\":{\"outlinewidth\":0,\"ticks\":\"\"}}}],\"scatterpolar\":[{\"type\":\"scatterpolar\",\"marker\":{\"colorbar\":{\"outlinewidth\":0,\"ticks\":\"\"}}}],\"histogram\":[{\"marker\":{\"pattern\":{\"fillmode\":\"overlay\",\"size\":10,\"solidity\":0.2}},\"type\":\"histogram\"}],\"scattergl\":[{\"type\":\"scattergl\",\"marker\":{\"colorbar\":{\"outlinewidth\":0,\"ticks\":\"\"}}}],\"scatter3d\":[{\"type\":\"scatter3d\",\"line\":{\"colorbar\":{\"outlinewidth\":0,\"ticks\":\"\"}},\"marker\":{\"colorbar\":{\"outlinewidth\":0,\"ticks\":\"\"}}}],\"scattermapbox\":[{\"type\":\"scattermapbox\",\"marker\":{\"colorbar\":{\"outlinewidth\":0,\"ticks\":\"\"}}}],\"scatterternary\":[{\"type\":\"scatterternary\",\"marker\":{\"colorbar\":{\"outlinewidth\":0,\"ticks\":\"\"}}}],\"scattercarpet\":[{\"type\":\"scattercarpet\",\"marker\":{\"colorbar\":{\"outlinewidth\":0,\"ticks\":\"\"}}}],\"carpet\":[{\"aaxis\":{\"endlinecolor\":\"#2a3f5f\",\"gridcolor\":\"white\",\"linecolor\":\"white\",\"minorgridcolor\":\"white\",\"startlinecolor\":\"#2a3f5f\"},\"baxis\":{\"endlinecolor\":\"#2a3f5f\",\"gridcolor\":\"white\",\"linecolor\":\"white\",\"minorgridcolor\":\"white\",\"startlinecolor\":\"#2a3f5f\"},\"type\":\"carpet\"}],\"table\":[{\"cells\":{\"fill\":{\"color\":\"#EBF0F8\"},\"line\":{\"color\":\"white\"}},\"header\":{\"fill\":{\"color\":\"#C8D4E3\"},\"line\":{\"color\":\"white\"}},\"type\":\"table\"}],\"barpolar\":[{\"marker\":{\"line\":{\"color\":\"#E5ECF6\",\"width\":0.5},\"pattern\":{\"fillmode\":\"overlay\",\"size\":10,\"solidity\":0.2}},\"type\":\"barpolar\"}],\"pie\":[{\"automargin\":true,\"type\":\"pie\"}]},\"layout\":{\"autotypenumbers\":\"strict\",\"colorway\":[\"#636efa\",\"#EF553B\",\"#00cc96\",\"#ab63fa\",\"#FFA15A\",\"#19d3f3\",\"#FF6692\",\"#B6E880\",\"#FF97FF\",\"#FECB52\"],\"font\":{\"color\":\"#2a3f5f\"},\"hovermode\":\"closest\",\"hoverlabel\":{\"align\":\"left\"},\"paper_bgcolor\":\"white\",\"plot_bgcolor\":\"#E5ECF6\",\"polar\":{\"bgcolor\":\"#E5ECF6\",\"angularaxis\":{\"gridcolor\":\"white\",\"linecolor\":\"white\",\"ticks\":\"\"},\"radialaxis\":{\"gridcolor\":\"white\",\"linecolor\":\"white\",\"ticks\":\"\"}},\"ternary\":{\"bgcolor\":\"#E5ECF6\",\"aaxis\":{\"gridcolor\":\"white\",\"linecolor\":\"white\",\"ticks\":\"\"},\"baxis\":{\"gridcolor\":\"white\",\"linecolor\":\"white\",\"ticks\":\"\"},\"caxis\":{\"gridcolor\":\"white\",\"linecolor\":\"white\",\"ticks\":\"\"}},\"coloraxis\":{\"colorbar\":{\"outlinewidth\":0,\"ticks\":\"\"}},\"colorscale\":{\"sequential\":[[0.0,\"#0d0887\"],[0.1111111111111111,\"#46039f\"],[0.2222222222222222,\"#7201a8\"],[0.3333333333333333,\"#9c179e\"],[0.4444444444444444,\"#bd3786\"],[0.5555555555555556,\"#d8576b\"],[0.6666666666666666,\"#ed7953\"],[0.7777777777777778,\"#fb9f3a\"],[0.8888888888888888,\"#fdca26\"],[1.0,\"#f0f921\"]],\"sequentialminus\":[[0.0,\"#0d0887\"],[0.1111111111111111,\"#46039f\"],[0.2222222222222222,\"#7201a8\"],[0.3333333333333333,\"#9c179e\"],[0.4444444444444444,\"#bd3786\"],[0.5555555555555556,\"#d8576b\"],[0.6666666666666666,\"#ed7953\"],[0.7777777777777778,\"#fb9f3a\"],[0.8888888888888888,\"#fdca26\"],[1.0,\"#f0f921\"]],\"diverging\":[[0,\"#8e0152\"],[0.1,\"#c51b7d\"],[0.2,\"#de77ae\"],[0.3,\"#f1b6da\"],[0.4,\"#fde0ef\"],[0.5,\"#f7f7f7\"],[0.6,\"#e6f5d0\"],[0.7,\"#b8e186\"],[0.8,\"#7fbc41\"],[0.9,\"#4d9221\"],[1,\"#276419\"]]},\"xaxis\":{\"gridcolor\":\"white\",\"linecolor\":\"white\",\"ticks\":\"\",\"title\":{\"standoff\":15},\"zerolinecolor\":\"white\",\"automargin\":true,\"zerolinewidth\":2},\"yaxis\":{\"gridcolor\":\"white\",\"linecolor\":\"white\",\"ticks\":\"\",\"title\":{\"standoff\":15},\"zerolinecolor\":\"white\",\"automargin\":true,\"zerolinewidth\":2},\"scene\":{\"xaxis\":{\"backgroundcolor\":\"#E5ECF6\",\"gridcolor\":\"white\",\"linecolor\":\"white\",\"showbackground\":true,\"ticks\":\"\",\"zerolinecolor\":\"white\",\"gridwidth\":2},\"yaxis\":{\"backgroundcolor\":\"#E5ECF6\",\"gridcolor\":\"white\",\"linecolor\":\"white\",\"showbackground\":true,\"ticks\":\"\",\"zerolinecolor\":\"white\",\"gridwidth\":2},\"zaxis\":{\"backgroundcolor\":\"#E5ECF6\",\"gridcolor\":\"white\",\"linecolor\":\"white\",\"showbackground\":true,\"ticks\":\"\",\"zerolinecolor\":\"white\",\"gridwidth\":2}},\"shapedefaults\":{\"line\":{\"color\":\"#2a3f5f\"}},\"annotationdefaults\":{\"arrowcolor\":\"#2a3f5f\",\"arrowhead\":0,\"arrowwidth\":1},\"geo\":{\"bgcolor\":\"white\",\"landcolor\":\"#E5ECF6\",\"subunitcolor\":\"white\",\"showland\":true,\"showlakes\":true,\"lakecolor\":\"white\"},\"title\":{\"x\":0.05},\"mapbox\":{\"style\":\"light\"}}},\"title\":{\"text\":\"<b>Top 10 Movie Directors and their Avg. Metascore and IMDb Rating</b>\",\"x\":0.5},\"yaxis2\":{\"title\":{\"text\":\"Avg. IMDB Rating\"},\"overlaying\":\"y\",\"side\":\"right\"},\"legend\":{\"x\":0.3,\"y\":1.1,\"orientation\":\"h\"},\"yaxis\":{\"title\":{\"text\":\"Avg. Metascore\"}},\"xaxis\":{\"title\":{\"text\":\"Directors\"}}},                        {\"responsive\": true}                    ).then(function(){\n",
       "                            \n",
       "var gd = document.getElementById('3992f420-d2c7-470c-af2d-356ddcc02f65');\n",
       "var x = new MutationObserver(function (mutations, observer) {{\n",
       "        var display = window.getComputedStyle(gd).display;\n",
       "        if (!display || display === 'none') {{\n",
       "            console.log([gd, 'removed!']);\n",
       "            Plotly.purge(gd);\n",
       "            observer.disconnect();\n",
       "        }}\n",
       "}});\n",
       "\n",
       "// Listen for the removal of the full notebook cells\n",
       "var notebookContainer = gd.closest('#notebook-container');\n",
       "if (notebookContainer) {{\n",
       "    x.observe(notebookContainer, {childList: true});\n",
       "}}\n",
       "\n",
       "// Listen for the clearing of the current output cell\n",
       "var outputEl = gd.closest('.output');\n",
       "if (outputEl) {{\n",
       "    x.observe(outputEl, {childList: true});\n",
       "}}\n",
       "\n",
       "                        })                };                });            </script>        </div>"
      ]
     },
     "metadata": {},
     "output_type": "display_data"
    }
   ],
   "source": [
    "director_stats = df.groupby('Director').agg({'Title': 'count', 'Metascore': 'mean', 'IMDB_Rating': 'mean'}).reset_index()\n",
    "\n",
    "top_10_directors = director_stats.sort_values('Title', ascending=False).head(10)\n",
    "\n",
    "fig = go.Figure()\n",
    "\n",
    "fig.add_trace(go.Bar(x=top_10_directors['Director'], y=top_10_directors['Metascore'], \n",
    "                     name='Average Metascore', marker_color='#D1FFBD', yaxis='y'))\n",
    "\n",
    "fig.add_trace(go.Scatter(x=top_10_directors['Director'], y=top_10_directors['IMDB_Rating'], \n",
    "                         mode='lines+markers', name='Average IMDb Rating', \n",
    "                         line=dict(color='green'), yaxis='y2'))\n",
    "\n",
    "\n",
    "fig.update_layout(\n",
    "    title='<b>Top 10 Movie Directors and their Avg. Metascore and IMDb Rating</b>',\n",
    "    title_x=0.5,\n",
    "    yaxis=dict(title='Avg. Metascore'), \n",
    "    yaxis2=dict(title='Avg. IMDB Rating', overlaying='y', side='right'), \n",
    "    xaxis=dict(title='Directors'),\n",
    "    legend=dict(x=0.3, y=1.1, orientation='h'),)\n",
    "\n",
    "fig.show()\n"
   ]
  },
  {
   "cell_type": "markdown",
   "id": "0cc13f3f",
   "metadata": {},
   "source": [
    "**<h1 style=\"text-align:center;\">Top 5 Genres</h1>**\n",
    "<hr style=\"border: 1px solid black;\">\n",
    "\n",
    "- <b>Part 4:</b> Top 5 genres in the dataset.\n",
    "- The following code shows the top 5 genres in the dataset.\n",
    "- Using Matplotlib library to create a pie chart."
   ]
  },
  {
   "cell_type": "code",
   "execution_count": 17,
   "id": "769cdb2c",
   "metadata": {},
   "outputs": [
    {
     "data": {
      "text/plain": [
       "Genre\n",
       "Drama                     85\n",
       "Drama, Romance            37\n",
       "Comedy, Drama             35\n",
       "Comedy, Drama, Romance    31\n",
       "Action, Crime, Drama      30\n",
       "Name: count, dtype: int64"
      ]
     },
     "execution_count": 17,
     "metadata": {},
     "output_type": "execute_result"
    }
   ],
   "source": [
    "df['Genre'].value_counts().head(5)"
   ]
  },
  {
   "cell_type": "code",
   "execution_count": 18,
   "id": "d7247e25",
   "metadata": {},
   "outputs": [
    {
     "data": {
      "image/png": "[encoded data removed]",
      "text/plain": [
       "<Figure size 1000x1000 with 1 Axes>"
      ]
     },
     "metadata": {},
     "output_type": "display_data"
    }
   ],
   "source": [
    "top5 = (df['Genre'].value_counts().head(5) / len(df) * 100).round()\n",
    "\n",
    "\n",
    "fig = plt.figure(figsize=(10, 10))\n",
    "colors = (\"#8699a1\", \"#fe0000\", \"#00A36C\", \"#FFA07A\", \"#9370DB\")  \n",
    "wp = {'linewidth': 3, 'edgecolor': \"black\"}\n",
    "explode = (0.1,) * len(top5)\n",
    "textprops = {'fontstyle': 'italic', 'fontweight': 'demi'}\n",
    "\n",
    "\n",
    "top5.plot(kind='pie', autopct=\"%0.1f%%\", labels=top5.index, startangle=45, colors=colors,\n",
    "          explode=explode, shadow=True, wedgeprops=wp, textprops=textprops)\n",
    "plt.legend(title=\"Genre\", loc='center left', bbox_to_anchor=(1, 0.5))\n",
    "plt.title(\"- Top 5 Movie Genres - \", loc='center', color='#1B1212', fontsize='22')\n",
    "plt.show()\n"
   ]
  },
  {
   "cell_type": "code",
   "execution_count": 176,
   "id": "541af5d0",
   "metadata": {},
   "outputs": [
    {
     "data": {
      "application/vnd.jupyter.widget-view+json": {
       "model_id": "3ee7ddf62be74d38b1c20d18c8eb7986",
       "version_major": 2,
       "version_minor": 0
      },
      "text/plain": [
       "Text(value='', description='Title:', placeholder='Optional')"
      ]
     },
     "metadata": {},
     "output_type": "display_data"
    },
    {
     "data": {
      "application/vnd.jupyter.widget-view+json": {
       "model_id": "a9ce80d1d98e4bf58f7104db888b032f",
       "version_major": 2,
       "version_minor": 0
      },
      "text/plain": [
       "Text(value='', description='Genre:', placeholder='Optional')"
      ]
     },
     "metadata": {},
     "output_type": "display_data"
    },
    {
     "data": {
      "application/vnd.jupyter.widget-view+json": {
       "model_id": "f92432b64b8b4319a8669d3ca1302087",
       "version_major": 2,
       "version_minor": 0
      },
      "text/plain": [
       "FloatText(value=0.0, description='IMDB Rating:')"
      ]
     },
     "metadata": {},
     "output_type": "display_data"
    },
    {
     "data": {
      "application/vnd.jupyter.widget-view+json": {
       "model_id": "a54850c11f4042e2b53ca30b9a0fe467",
       "version_major": 2,
       "version_minor": 0
      },
      "text/plain": [
       "IntText(value=0, description='Metascore:')"
      ]
     },
     "metadata": {},
     "output_type": "display_data"
    },
    {
     "data": {
      "application/vnd.jupyter.widget-view+json": {
       "model_id": "1bfe05eed1064030be0cce9cd4ab57fc",
       "version_major": 2,
       "version_minor": 0
      },
      "text/plain": [
       "Text(value='', description='Director:', placeholder='Optional')"
      ]
     },
     "metadata": {},
     "output_type": "display_data"
    },
    {
     "data": {
      "application/vnd.jupyter.widget-view+json": {
       "model_id": "d434c9eda41d4257bdd28bf4c4b0a229",
       "version_major": 2,
       "version_minor": 0
      },
      "text/plain": [
       "Text(value='', description='Stars:', placeholder='Optional')"
      ]
     },
     "metadata": {},
     "output_type": "display_data"
    },
    {
     "data": {
      "application/vnd.jupyter.widget-view+json": {
       "model_id": "1b33e4d177d8492e94f7032bd11312f7",
       "version_major": 2,
       "version_minor": 0
      },
      "text/plain": [
       "IntText(value=0, description='Runtime(min):')"
      ]
     },
     "metadata": {},
     "output_type": "display_data"
    },
    {
     "data": {
      "application/vnd.jupyter.widget-view+json": {
       "model_id": "44310b5655544dd7ba3d9b8965b591b3",
       "version_major": 2,
       "version_minor": 0
      },
      "text/plain": [
       "Text(value='', description='Decade:', placeholder='Optional')"
      ]
     },
     "metadata": {},
     "output_type": "display_data"
    },
    {
     "data": {
      "application/vnd.jupyter.widget-view+json": {
       "model_id": "57b94f106af74785810dca8651afc791",
       "version_major": 2,
       "version_minor": 0
      },
      "text/plain": [
       "Button(description='Search', style=ButtonStyle(button_color='#CBC3E3'))"
      ]
     },
     "metadata": {},
     "output_type": "display_data"
    },
    {
     "data": {
      "application/vnd.jupyter.widget-view+json": {
       "model_id": "81017f4b0ea147ee9b39825072eec635",
       "version_major": 2,
       "version_minor": 0
      },
      "text/plain": [
       "Output(layout=Layout(overflow='scroll'))"
      ]
     },
     "metadata": {},
     "output_type": "display_data"
    }
   ],
   "source": [
    "# Creating a function to search for movies based on user input\n",
    "def search_movies(title=None, genre=None, imdb_rating=None, metascore=None, director=None, stars=None, runtime=None, released_year=None):\n",
    "\n",
    "    results = df.copy()\n",
    "\n",
    "    # Filter by title\n",
    "    if title:\n",
    "        # Remove spaces from title\n",
    "        title = title.replace(\" \", \"\").lower()\n",
    "        # Search for title ignoring spaces\n",
    "        results = results[results['Title'].str.lower().str.replace(\" \", \"\").str.contains(title, na=False)]\n",
    "    \n",
    "    # Filter by genre\n",
    "    if genre:\n",
    "        genre = genre.strip()\n",
    "        results = results[results['Genre'].str.contains(genre, case=False)]\n",
    "\n",
    "    # Filter by IMDB rating\n",
    "    if imdb_rating is not None:\n",
    "        results = results[results['IMDB_Rating'] >= imdb_rating]\n",
    "\n",
    "    # Filter by Metascore\n",
    "    if metascore is not None:\n",
    "        results = results[results['Metascore'] >= metascore]\n",
    "\n",
    "    # Filter by director\n",
    "    if director:\n",
    "        director = director.strip()\n",
    "        results = results[results['Director'].str.contains(director, case=False)]\n",
    "\n",
    "    # Filter by stars\n",
    "    if stars:\n",
    "        stars = stars.strip()\n",
    "        results = results[results['Stars'].str.contains(stars, case=False)]\n",
    "\n",
    "    # Filter by runtime\n",
    "    if runtime is not None:\n",
    "        results = results[results['Runtime'].str.split().str[0].astype(float) >= runtime]\n",
    "\n",
    "    # Filter by released year\n",
    "    if released_year:\n",
    "        results = results[results['Released_Year'].str.startswith(released_year)]\n",
    "\n",
    "    return results\n",
    "\n",
    "# Create interactive widgets\n",
    "title_input = widgets.Text(description='Title:', placeholder='Optional')\n",
    "genre_input = widgets.Text(description='Genre:', placeholder='Optional')\n",
    "imdb_rating_input = widgets.FloatText(description='IMDB Rating:', placeholder='Optional')\n",
    "metascore_input = widgets.IntText(description='Metascore:', placeholder='Optional')\n",
    "director_input = widgets.Text(description='Director:', placeholder='Optional')\n",
    "stars_input = widgets.Text(description='Stars:', placeholder='Optional')\n",
    "runtime_input = widgets.IntText(description='Runtime(min):', placeholder='Optional')\n",
    "released_year_input = widgets.Text(description='Decade:', placeholder='Optional')\n",
    "search_button = widgets.Button(description='Search', style={'button_color': '#CBC3E3'})\n",
    "output = widgets.Output(layout={'overflow': 'scroll'})  \n",
    "\n",
    "# Interactive function to search for movies based on user input.\n",
    "def search_movies_interactive(m):\n",
    "    title = title_input.value.strip() if title_input.value else None \n",
    "    genre = genre_input.value.strip() if genre_input.value else None  \n",
    "    imdb_rating = imdb_rating_input.value if imdb_rating_input.value else None\n",
    "    metascore = metascore_input.value if metascore_input.value else None\n",
    "    director = director_input.value.strip() if director_input.value else None  \n",
    "    stars = stars_input.value.strip() if stars_input.value else None  \n",
    "    runtime = runtime_input.value if runtime_input.value else None \n",
    "    released_year = released_year_input.value.strip() if released_year_input.value else None\n",
    "\n",
    "    results = search_movies(title, genre, imdb_rating, metascore, director, stars, runtime, released_year)\n",
    "    \n",
    "    with output:\n",
    "        output.clear_output()\n",
    "        if results.empty:\n",
    "            display(widgets.HTML(\"<div style='border: 2px solid black; padding: 15px; text-align: center; background-color: #FFCCCB;'><h2 style='font-size:22px; margin-top: 10px;'>No movies found with the specified criteria</h2></div>\"))\n",
    "        else:\n",
    "            display(widgets.HTML(f\"<div style='border: 2px solid black; padding: 15px; text-align: center; background-color: #D1FFBD;'><h2 style='font-size:22px; margin-top: 10px;'>Found {len(results)} movies with the specified criteria</h2></div>\"))\n",
    "            display(results)\n",
    "            if title and not results.empty:\n",
    "                director_of_searched_movie = results.iloc[0]['Director']\n",
    "                movies_by_director = search_movies(director=director_of_searched_movie)\n",
    "                if not movies_by_director.empty:\n",
    "                    display(widgets.HTML(f\"<div style='border: 2px solid black; padding: 15px; text-align: center; background-color: #FAA0A0;'><h2 style='font-size:22px; margin-top: 10px;'>Other movies directed by {director_of_searched_movie}</h2></div>\"))\n",
    "                    display(movies_by_director)\n",
    "\n",
    "# Link the search button to the search function\n",
    "search_button.on_click(search_movies_interactive)\n",
    "\n",
    "# Display the widgets\n",
    "display(title_input, genre_input, imdb_rating_input, metascore_input, director_input, stars_input, runtime_input, released_year_input, search_button, output)\n"
   ]
  },
  {
   "cell_type": "markdown",
   "id": "30a6796c",
   "metadata": {},
   "source": [
    "**<h1 style=\"text-align:center;\">Your Generative Movie Recommendation Platform**\n",
    "<hr style=\"border: 1px solid black;\">\n",
    "\n",
    "- This code performs movie recommendation and exploration based on a dataset loaded into a DataFrame. It preprocesses the runtime feature, splits the data into training and testing sets, and vectorizes movie titles and genres using TF-IDF. It then standardizes the runtime feature and creates feature matrices by concatenating various features like TF-IDF vectors, runtime, IMDB rating, and Metascore. After initializing a K-Nearest Neighbors (KNN) model with cosine similarity metric, it defines input and output widgets for user interaction. Finally, it implements functions to search for movies based on user input, find similar movies, and retrieve movies by the same director. "
   ]
  },
  {
   "cell_type": "code",
   "execution_count": 172,
   "id": "7adacfc6",
   "metadata": {},
   "outputs": [
    {
     "data": {
      "text/html": [
       "<div>\n",
       "<style scoped>\n",
       "    .dataframe tbody tr th:only-of-type {\n",
       "        vertical-align: middle;\n",
       "    }\n",
       "\n",
       "    .dataframe tbody tr th {\n",
       "        vertical-align: top;\n",
       "    }\n",
       "\n",
       "    .dataframe thead th {\n",
       "        text-align: right;\n",
       "    }\n",
       "</style>\n",
       "<table border=\"1\" class=\"dataframe\">\n",
       "  <thead>\n",
       "    <tr style=\"text-align: right;\">\n",
       "      <th></th>\n",
       "      <th>Title</th>\n",
       "      <th>Released_Year</th>\n",
       "      <th>Runtime</th>\n",
       "      <th>Genre</th>\n",
       "      <th>IMDB_Rating</th>\n",
       "      <th>Metascore</th>\n",
       "      <th>Director</th>\n",
       "      <th>No_of_Votes</th>\n",
       "      <th>Stars</th>\n",
       "    </tr>\n",
       "    <tr>\n",
       "      <th>Rank</th>\n",
       "      <th></th>\n",
       "      <th></th>\n",
       "      <th></th>\n",
       "      <th></th>\n",
       "      <th></th>\n",
       "      <th></th>\n",
       "      <th></th>\n",
       "      <th></th>\n",
       "      <th></th>\n",
       "    </tr>\n",
       "  </thead>\n",
       "  <tbody>\n",
       "    <tr>\n",
       "      <th>521</th>\n",
       "      <td>Trois couleurs: Bleu</td>\n",
       "      <td>1993</td>\n",
       "      <td>94</td>\n",
       "      <td>Drama, Music, Mystery</td>\n",
       "      <td>7.9</td>\n",
       "      <td>85.00000</td>\n",
       "      <td>Krzysztof Kieslowski</td>\n",
       "      <td>89836</td>\n",
       "      <td>Juliette Binoche, Zbigniew Zamachowski, Julie ...</td>\n",
       "    </tr>\n",
       "    <tr>\n",
       "      <th>737</th>\n",
       "      <td>Captain America: The Winter Soldier</td>\n",
       "      <td>2014</td>\n",
       "      <td>136</td>\n",
       "      <td>Action, Adventure, Sci-Fi</td>\n",
       "      <td>7.7</td>\n",
       "      <td>70.00000</td>\n",
       "      <td>Anthony Russo</td>\n",
       "      <td>736182</td>\n",
       "      <td>Joe Russo, Chris Evans, Samuel L. Jackson, Sca...</td>\n",
       "    </tr>\n",
       "    <tr>\n",
       "      <th>740</th>\n",
       "      <td>Wreck-It Ralph</td>\n",
       "      <td>2012</td>\n",
       "      <td>101</td>\n",
       "      <td>Animation, Adventure, Comedy</td>\n",
       "      <td>7.7</td>\n",
       "      <td>72.00000</td>\n",
       "      <td>Rich Moore</td>\n",
       "      <td>380195</td>\n",
       "      <td>John C. Reilly, Jack McBrayer, Jane Lynch, Sar...</td>\n",
       "    </tr>\n",
       "    <tr>\n",
       "      <th>660</th>\n",
       "      <td>The Sandlot</td>\n",
       "      <td>1993</td>\n",
       "      <td>101</td>\n",
       "      <td>Comedy, Drama, Family</td>\n",
       "      <td>7.8</td>\n",
       "      <td>55.00000</td>\n",
       "      <td>David Mickey Evans</td>\n",
       "      <td>78963</td>\n",
       "      <td>Tom Guiry, Mike Vitar, Art LaFleur, Patrick Renna</td>\n",
       "    </tr>\n",
       "    <tr>\n",
       "      <th>411</th>\n",
       "      <td>Gandhi</td>\n",
       "      <td>1982</td>\n",
       "      <td>191</td>\n",
       "      <td>Biography, Drama, History</td>\n",
       "      <td>8.0</td>\n",
       "      <td>79.00000</td>\n",
       "      <td>Richard Attenborough</td>\n",
       "      <td>217664</td>\n",
       "      <td>Ben Kingsley, John Gielgud, Rohini Hattangadi,...</td>\n",
       "    </tr>\n",
       "    <tr>\n",
       "      <th>678</th>\n",
       "      <td>Evil Dead II</td>\n",
       "      <td>1987</td>\n",
       "      <td>84</td>\n",
       "      <td>Action, Comedy, Fantasy</td>\n",
       "      <td>7.8</td>\n",
       "      <td>72.00000</td>\n",
       "      <td>Sam Raimi</td>\n",
       "      <td>148359</td>\n",
       "      <td>Bruce Campbell, Sarah Berry, Dan Hicks, Kassie...</td>\n",
       "    </tr>\n",
       "    <tr>\n",
       "      <th>626</th>\n",
       "      <td>Little Miss Sunshine</td>\n",
       "      <td>2006</td>\n",
       "      <td>101</td>\n",
       "      <td>Comedy, Drama</td>\n",
       "      <td>7.8</td>\n",
       "      <td>80.00000</td>\n",
       "      <td>Jonathan Dayton</td>\n",
       "      <td>439856</td>\n",
       "      <td>Valerie Faris, Steve Carell, Toni Collette, Gr...</td>\n",
       "    </tr>\n",
       "    <tr>\n",
       "      <th>513</th>\n",
       "      <td>Children of Men</td>\n",
       "      <td>2006</td>\n",
       "      <td>109</td>\n",
       "      <td>Adventure, Drama, Sci-Fi</td>\n",
       "      <td>7.9</td>\n",
       "      <td>84.00000</td>\n",
       "      <td>Alfonso Cuarón</td>\n",
       "      <td>465113</td>\n",
       "      <td>Julianne Moore, Clive Owen, Chiwetel Ejiofor, ...</td>\n",
       "    </tr>\n",
       "    <tr>\n",
       "      <th>859</th>\n",
       "      <td>Repulsion</td>\n",
       "      <td>1965</td>\n",
       "      <td>105</td>\n",
       "      <td>Drama, Horror, Thriller</td>\n",
       "      <td>7.7</td>\n",
       "      <td>91.00000</td>\n",
       "      <td>Roman Polanski</td>\n",
       "      <td>48883</td>\n",
       "      <td>Catherine Deneuve, Ian Hendry, John Fraser, Yv...</td>\n",
       "    </tr>\n",
       "    <tr>\n",
       "      <th>136</th>\n",
       "      <td>Drishyam</td>\n",
       "      <td>2015</td>\n",
       "      <td>163</td>\n",
       "      <td>Crime, Drama, Mystery</td>\n",
       "      <td>8.2</td>\n",
       "      <td>77.97153</td>\n",
       "      <td>Nishikant Kamat</td>\n",
       "      <td>70367</td>\n",
       "      <td>Ajay Devgn, Shriya Saran, Tabu, Rajat Kapoor</td>\n",
       "    </tr>\n",
       "    <tr>\n",
       "      <th>811</th>\n",
       "      <td>Primal Fear</td>\n",
       "      <td>1996</td>\n",
       "      <td>129</td>\n",
       "      <td>Crime, Drama, Mystery</td>\n",
       "      <td>7.7</td>\n",
       "      <td>47.00000</td>\n",
       "      <td>Gregory Hoblit</td>\n",
       "      <td>189716</td>\n",
       "      <td>Richard Gere, Laura Linney, Edward Norton, Joh...</td>\n",
       "    </tr>\n",
       "    <tr>\n",
       "      <th>76</th>\n",
       "      <td>Anand</td>\n",
       "      <td>1971</td>\n",
       "      <td>122</td>\n",
       "      <td>Drama, Musical</td>\n",
       "      <td>8.4</td>\n",
       "      <td>77.97153</td>\n",
       "      <td>Hrishikesh Mukherjee</td>\n",
       "      <td>30273</td>\n",
       "      <td>Rajesh Khanna, Amitabh Bachchan, Sumita Sanyal...</td>\n",
       "    </tr>\n",
       "    <tr>\n",
       "      <th>636</th>\n",
       "      <td>Ondskan</td>\n",
       "      <td>2003</td>\n",
       "      <td>113</td>\n",
       "      <td>Drama</td>\n",
       "      <td>7.8</td>\n",
       "      <td>61.00000</td>\n",
       "      <td>Mikael Håfström</td>\n",
       "      <td>35682</td>\n",
       "      <td>Andreas Wilson, Henrik Lundström, Gustaf Skars...</td>\n",
       "    </tr>\n",
       "    <tr>\n",
       "      <th>973</th>\n",
       "      <td>Home Alone</td>\n",
       "      <td>1990</td>\n",
       "      <td>103</td>\n",
       "      <td>Comedy, Family</td>\n",
       "      <td>7.6</td>\n",
       "      <td>63.00000</td>\n",
       "      <td>Chris Columbus</td>\n",
       "      <td>488817</td>\n",
       "      <td>Macaulay Culkin, Joe Pesci, Daniel Stern, John...</td>\n",
       "    </tr>\n",
       "    <tr>\n",
       "      <th>938</th>\n",
       "      <td>21 Grams</td>\n",
       "      <td>2003</td>\n",
       "      <td>124</td>\n",
       "      <td>Crime, Drama, Thriller</td>\n",
       "      <td>7.6</td>\n",
       "      <td>70.00000</td>\n",
       "      <td>Alejandro G. Iñárritu</td>\n",
       "      <td>224545</td>\n",
       "      <td>Sean Penn, Benicio Del Toro, Naomi Watts, Dann...</td>\n",
       "    </tr>\n",
       "    <tr>\n",
       "      <th>899</th>\n",
       "      <td>El cuerpo</td>\n",
       "      <td>2012</td>\n",
       "      <td>112</td>\n",
       "      <td>Mystery, Thriller</td>\n",
       "      <td>7.6</td>\n",
       "      <td>77.97153</td>\n",
       "      <td>Oriol Paulo</td>\n",
       "      <td>57549</td>\n",
       "      <td>Jose Coronado, Hugo Silva, Belén Rueda, Aura G...</td>\n",
       "    </tr>\n",
       "    <tr>\n",
       "      <th>280</th>\n",
       "      <td>Network</td>\n",
       "      <td>1976</td>\n",
       "      <td>121</td>\n",
       "      <td>Drama</td>\n",
       "      <td>8.1</td>\n",
       "      <td>83.00000</td>\n",
       "      <td>Sidney Lumet</td>\n",
       "      <td>144911</td>\n",
       "      <td>Faye Dunaway, William Holden, Peter Finch, Rob...</td>\n",
       "    </tr>\n",
       "    <tr>\n",
       "      <th>883</th>\n",
       "      <td>Gifted</td>\n",
       "      <td>2017</td>\n",
       "      <td>101</td>\n",
       "      <td>Drama</td>\n",
       "      <td>7.6</td>\n",
       "      <td>60.00000</td>\n",
       "      <td>Marc Webb</td>\n",
       "      <td>99643</td>\n",
       "      <td>Chris Evans, Mckenna Grace, Lindsay Duncan, Oc...</td>\n",
       "    </tr>\n",
       "    <tr>\n",
       "      <th>761</th>\n",
       "      <td>Toki o kakeru shôjo</td>\n",
       "      <td>2006</td>\n",
       "      <td>98</td>\n",
       "      <td>Animation, Adventure, Comedy</td>\n",
       "      <td>7.7</td>\n",
       "      <td>77.97153</td>\n",
       "      <td>Mamoru Hosoda</td>\n",
       "      <td>60368</td>\n",
       "      <td>Riisa Naka, Takuya Ishida, Mitsutaka Itakura, ...</td>\n",
       "    </tr>\n",
       "    <tr>\n",
       "      <th>319</th>\n",
       "      <td>Sunrise: A Song of Two Humans</td>\n",
       "      <td>1927</td>\n",
       "      <td>94</td>\n",
       "      <td>Drama, Romance</td>\n",
       "      <td>8.1</td>\n",
       "      <td>77.97153</td>\n",
       "      <td>F.W. Murnau</td>\n",
       "      <td>46865</td>\n",
       "      <td>George O'Brien, Janet Gaynor, Margaret Livings...</td>\n",
       "    </tr>\n",
       "    <tr>\n",
       "      <th>549</th>\n",
       "      <td>Spartacus</td>\n",
       "      <td>1960</td>\n",
       "      <td>197</td>\n",
       "      <td>Adventure, Biography, Drama</td>\n",
       "      <td>7.9</td>\n",
       "      <td>87.00000</td>\n",
       "      <td>Stanley Kubrick</td>\n",
       "      <td>124339</td>\n",
       "      <td>Kirk Douglas, Laurence Olivier, Jean Simmons, ...</td>\n",
       "    </tr>\n",
       "    <tr>\n",
       "      <th>174</th>\n",
       "      <td>Stalker</td>\n",
       "      <td>1979</td>\n",
       "      <td>162</td>\n",
       "      <td>Drama, Sci-Fi</td>\n",
       "      <td>8.2</td>\n",
       "      <td>77.97153</td>\n",
       "      <td>Andrei Tarkovsky</td>\n",
       "      <td>116945</td>\n",
       "      <td>Alisa Freyndlikh, Aleksandr Kaydanovskiy, Anat...</td>\n",
       "    </tr>\n",
       "    <tr>\n",
       "      <th>371</th>\n",
       "      <td>Bom Yeoareum Gaeul Gyeoul Geurigo Bom</td>\n",
       "      <td>2003</td>\n",
       "      <td>103</td>\n",
       "      <td>Drama, Romance</td>\n",
       "      <td>8.0</td>\n",
       "      <td>85.00000</td>\n",
       "      <td>Ki-duk Kim</td>\n",
       "      <td>77520</td>\n",
       "      <td>Ki-duk Kim, Yeong-su Oh, Jong-ho Kim, Kim Youn...</td>\n",
       "    </tr>\n",
       "    <tr>\n",
       "      <th>527</th>\n",
       "      <td>The Untouchables</td>\n",
       "      <td>1987</td>\n",
       "      <td>119</td>\n",
       "      <td>Crime, Drama, Thriller</td>\n",
       "      <td>7.9</td>\n",
       "      <td>79.00000</td>\n",
       "      <td>Brian De Palma</td>\n",
       "      <td>281842</td>\n",
       "      <td>Kevin Costner, Sean Connery, Robert De Niro, C...</td>\n",
       "    </tr>\n",
       "    <tr>\n",
       "      <th>210</th>\n",
       "      <td>Gone Girl</td>\n",
       "      <td>2014</td>\n",
       "      <td>149</td>\n",
       "      <td>Drama, Mystery, Thriller</td>\n",
       "      <td>8.1</td>\n",
       "      <td>79.00000</td>\n",
       "      <td>David Fincher</td>\n",
       "      <td>859695</td>\n",
       "      <td>Ben Affleck, Rosamund Pike, Neil Patrick Harri...</td>\n",
       "    </tr>\n",
       "    <tr>\n",
       "      <th>235</th>\n",
       "      <td>Hotel Rwanda</td>\n",
       "      <td>2004</td>\n",
       "      <td>121</td>\n",
       "      <td>Biography, Drama, History</td>\n",
       "      <td>8.1</td>\n",
       "      <td>79.00000</td>\n",
       "      <td>Terry George</td>\n",
       "      <td>334320</td>\n",
       "      <td>Don Cheadle, Sophie Okonedo, Joaquin Phoenix, ...</td>\n",
       "    </tr>\n",
       "    <tr>\n",
       "      <th>101</th>\n",
       "      <td>Toy Story</td>\n",
       "      <td>1995</td>\n",
       "      <td>81</td>\n",
       "      <td>Animation, Adventure, Comedy</td>\n",
       "      <td>8.3</td>\n",
       "      <td>95.00000</td>\n",
       "      <td>John Lasseter</td>\n",
       "      <td>887429</td>\n",
       "      <td>Tom Hanks, Tim Allen, Don Rickles, Jim Varney</td>\n",
       "    </tr>\n",
       "    <tr>\n",
       "      <th>986</th>\n",
       "      <td>Watership Down</td>\n",
       "      <td>1978</td>\n",
       "      <td>91</td>\n",
       "      <td>Animation, Adventure, Drama</td>\n",
       "      <td>7.6</td>\n",
       "      <td>64.00000</td>\n",
       "      <td>Martin Rosen</td>\n",
       "      <td>33656</td>\n",
       "      <td>John Hubley, John Hurt, Richard Briers, Ralph ...</td>\n",
       "    </tr>\n",
       "    <tr>\n",
       "      <th>902</th>\n",
       "      <td>Kari-gurashi no Arietti</td>\n",
       "      <td>2010</td>\n",
       "      <td>94</td>\n",
       "      <td>Animation, Adventure, Family</td>\n",
       "      <td>7.6</td>\n",
       "      <td>80.00000</td>\n",
       "      <td>Hiromasa Yonebayashi</td>\n",
       "      <td>80939</td>\n",
       "      <td>Amy Poehler, Mirai Shida, Ryûnosuke Kamiki, Ta...</td>\n",
       "    </tr>\n",
       "    <tr>\n",
       "      <th>947</th>\n",
       "      <td>Harry Potter and the Sorcerer's Stone</td>\n",
       "      <td>2001</td>\n",
       "      <td>152</td>\n",
       "      <td>Adventure, Family, Fantasy</td>\n",
       "      <td>7.6</td>\n",
       "      <td>64.00000</td>\n",
       "      <td>Chris Columbus</td>\n",
       "      <td>658185</td>\n",
       "      <td>Daniel Radcliffe, Rupert Grint, Richard Harris...</td>\n",
       "    </tr>\n",
       "    <tr>\n",
       "      <th>346</th>\n",
       "      <td>The King's Speech</td>\n",
       "      <td>2010</td>\n",
       "      <td>118</td>\n",
       "      <td>Biography, Drama, History</td>\n",
       "      <td>8.0</td>\n",
       "      <td>88.00000</td>\n",
       "      <td>Tom Hooper</td>\n",
       "      <td>639603</td>\n",
       "      <td>Colin Firth, Geoffrey Rush, Helena Bonham Cart...</td>\n",
       "    </tr>\n",
       "    <tr>\n",
       "      <th>139</th>\n",
       "      <td>Bhaag Milkha Bhaag</td>\n",
       "      <td>2013</td>\n",
       "      <td>186</td>\n",
       "      <td>Biography, Drama, Sport</td>\n",
       "      <td>8.2</td>\n",
       "      <td>77.97153</td>\n",
       "      <td>Rakeysh Omprakash Mehra</td>\n",
       "      <td>61137</td>\n",
       "      <td>Farhan Akhtar, Sonam Kapoor, Pawan Malhotra, A...</td>\n",
       "    </tr>\n",
       "    <tr>\n",
       "      <th>621</th>\n",
       "      <td>Drive</td>\n",
       "      <td>2011</td>\n",
       "      <td>100</td>\n",
       "      <td>Crime, Drama</td>\n",
       "      <td>7.8</td>\n",
       "      <td>78.00000</td>\n",
       "      <td>Nicolas Winding Refn</td>\n",
       "      <td>571571</td>\n",
       "      <td>Ryan Gosling, Carey Mulligan, Bryan Cranston, ...</td>\n",
       "    </tr>\n",
       "    <tr>\n",
       "      <th>499</th>\n",
       "      <td>Fantastic Mr. Fox</td>\n",
       "      <td>2009</td>\n",
       "      <td>87</td>\n",
       "      <td>Animation, Adventure, Comedy</td>\n",
       "      <td>7.9</td>\n",
       "      <td>83.00000</td>\n",
       "      <td>Wes Anderson</td>\n",
       "      <td>199696</td>\n",
       "      <td>George Clooney, Meryl Streep, Bill Murray, Jas...</td>\n",
       "    </tr>\n",
       "    <tr>\n",
       "      <th>370</th>\n",
       "      <td>Vozvrashchenie</td>\n",
       "      <td>2003</td>\n",
       "      <td>110</td>\n",
       "      <td>Drama</td>\n",
       "      <td>8.0</td>\n",
       "      <td>82.00000</td>\n",
       "      <td>Andrey Zvyagintsev</td>\n",
       "      <td>42399</td>\n",
       "      <td>Vladimir Garin, Ivan Dobronravov, Konstantin L...</td>\n",
       "    </tr>\n",
       "    <tr>\n",
       "      <th>198</th>\n",
       "      <td>Contratiempo</td>\n",
       "      <td>2016</td>\n",
       "      <td>106</td>\n",
       "      <td>Crime, Drama, Mystery</td>\n",
       "      <td>8.1</td>\n",
       "      <td>77.97153</td>\n",
       "      <td>Oriol Paulo</td>\n",
       "      <td>141516</td>\n",
       "      <td>Mario Casas, Ana Wagener, Jose Coronado, Bárba...</td>\n",
       "    </tr>\n",
       "    <tr>\n",
       "      <th>687</th>\n",
       "      <td>The King of Comedy</td>\n",
       "      <td>1982</td>\n",
       "      <td>109</td>\n",
       "      <td>Comedy, Crime, Drama</td>\n",
       "      <td>7.8</td>\n",
       "      <td>73.00000</td>\n",
       "      <td>Martin Scorsese</td>\n",
       "      <td>88511</td>\n",
       "      <td>Robert De Niro, Jerry Lewis, Diahnne Abbott, S...</td>\n",
       "    </tr>\n",
       "    <tr>\n",
       "      <th>584</th>\n",
       "      <td>The Hateful Eight</td>\n",
       "      <td>2015</td>\n",
       "      <td>168</td>\n",
       "      <td>Crime, Drama, Mystery</td>\n",
       "      <td>7.8</td>\n",
       "      <td>68.00000</td>\n",
       "      <td>Quentin Tarantino</td>\n",
       "      <td>517059</td>\n",
       "      <td>Samuel L. Jackson, Kurt Russell, Jennifer Jaso...</td>\n",
       "    </tr>\n",
       "    <tr>\n",
       "      <th>901</th>\n",
       "      <td>End of Watch</td>\n",
       "      <td>2012</td>\n",
       "      <td>109</td>\n",
       "      <td>Action, Crime, Drama</td>\n",
       "      <td>7.6</td>\n",
       "      <td>68.00000</td>\n",
       "      <td>David Ayer</td>\n",
       "      <td>228132</td>\n",
       "      <td>Jake Gyllenhaal, Michael Peña, Anna Kendrick, ...</td>\n",
       "    </tr>\n",
       "    <tr>\n",
       "      <th>59</th>\n",
       "      <td>Avengers: Endgame</td>\n",
       "      <td>2019</td>\n",
       "      <td>181</td>\n",
       "      <td>Action, Adventure, Drama</td>\n",
       "      <td>8.4</td>\n",
       "      <td>78.00000</td>\n",
       "      <td>Anthony Russo</td>\n",
       "      <td>809955</td>\n",
       "      <td>Joe Russo, Robert Downey Jr., Chris Evans, Mar...</td>\n",
       "    </tr>\n",
       "    <tr>\n",
       "      <th>328</th>\n",
       "      <td>Lion</td>\n",
       "      <td>2016</td>\n",
       "      <td>118</td>\n",
       "      <td>Biography, Drama</td>\n",
       "      <td>8.0</td>\n",
       "      <td>69.00000</td>\n",
       "      <td>Garth Davis</td>\n",
       "      <td>213970</td>\n",
       "      <td>Dev Patel, Nicole Kidman, Rooney Mara, Sunny P...</td>\n",
       "    </tr>\n",
       "    <tr>\n",
       "      <th>96</th>\n",
       "      <td>Snatch</td>\n",
       "      <td>2000</td>\n",
       "      <td>104</td>\n",
       "      <td>Comedy, Crime</td>\n",
       "      <td>8.3</td>\n",
       "      <td>55.00000</td>\n",
       "      <td>Guy Ritchie</td>\n",
       "      <td>782001</td>\n",
       "      <td>Jason Statham, Brad Pitt, Benicio Del Toro, De...</td>\n",
       "    </tr>\n",
       "    <tr>\n",
       "      <th>312</th>\n",
       "      <td>Rebecca</td>\n",
       "      <td>1940</td>\n",
       "      <td>130</td>\n",
       "      <td>Drama, Mystery, Romance</td>\n",
       "      <td>8.1</td>\n",
       "      <td>86.00000</td>\n",
       "      <td>Alfred Hitchcock</td>\n",
       "      <td>123942</td>\n",
       "      <td>Laurence Olivier, Joan Fontaine, George Sander...</td>\n",
       "    </tr>\n",
       "    <tr>\n",
       "      <th>974</th>\n",
       "      <td>The Godfather: Part III</td>\n",
       "      <td>1990</td>\n",
       "      <td>162</td>\n",
       "      <td>Crime, Drama</td>\n",
       "      <td>7.6</td>\n",
       "      <td>60.00000</td>\n",
       "      <td>Francis Ford Coppola</td>\n",
       "      <td>359809</td>\n",
       "      <td>Al Pacino, Diane Keaton, Andy Garcia, Talia Shire</td>\n",
       "    </tr>\n",
       "    <tr>\n",
       "      <th>299</th>\n",
       "      <td>Les quatre cents coups</td>\n",
       "      <td>1959</td>\n",
       "      <td>99</td>\n",
       "      <td>Crime, Drama</td>\n",
       "      <td>8.1</td>\n",
       "      <td>77.97153</td>\n",
       "      <td>François Truffaut</td>\n",
       "      <td>105291</td>\n",
       "      <td>Jean-Pierre Léaud, Albert Rémy, Claire Maurier...</td>\n",
       "    </tr>\n",
       "    <tr>\n",
       "      <th>277</th>\n",
       "      <td>Life of Brian</td>\n",
       "      <td>1979</td>\n",
       "      <td>94</td>\n",
       "      <td>Comedy</td>\n",
       "      <td>8.1</td>\n",
       "      <td>77.00000</td>\n",
       "      <td>Terry Jones</td>\n",
       "      <td>367250</td>\n",
       "      <td>Graham Chapman, John Cleese, Michael Palin, Te...</td>\n",
       "    </tr>\n",
       "    <tr>\n",
       "      <th>924</th>\n",
       "      <td>Huo Yuan Jia</td>\n",
       "      <td>2006</td>\n",
       "      <td>104</td>\n",
       "      <td>Action, Biography, Drama</td>\n",
       "      <td>7.6</td>\n",
       "      <td>70.00000</td>\n",
       "      <td>Ronny Yu</td>\n",
       "      <td>72863</td>\n",
       "      <td>Jet Li, Li Sun, Yong Dong, Yun Qu</td>\n",
       "    </tr>\n",
       "    <tr>\n",
       "      <th>601</th>\n",
       "      <td>Kokuhaku</td>\n",
       "      <td>2010</td>\n",
       "      <td>106</td>\n",
       "      <td>Drama, Thriller</td>\n",
       "      <td>7.8</td>\n",
       "      <td>77.97153</td>\n",
       "      <td>Tetsuya Nakashima</td>\n",
       "      <td>35713</td>\n",
       "      <td>Takako Matsu, Yoshino Kimura, Masaki Okada, Yu...</td>\n",
       "    </tr>\n",
       "    <tr>\n",
       "      <th>439</th>\n",
       "      <td>Cat on a Hot Tin Roof</td>\n",
       "      <td>1958</td>\n",
       "      <td>108</td>\n",
       "      <td>Drama</td>\n",
       "      <td>8.0</td>\n",
       "      <td>84.00000</td>\n",
       "      <td>Richard Brooks</td>\n",
       "      <td>45062</td>\n",
       "      <td>Elizabeth Taylor, Paul Newman, Burl Ives, Jack...</td>\n",
       "    </tr>\n",
       "    <tr>\n",
       "      <th>837</th>\n",
       "      <td>Zelig</td>\n",
       "      <td>1983</td>\n",
       "      <td>79</td>\n",
       "      <td>Comedy</td>\n",
       "      <td>7.7</td>\n",
       "      <td>77.97153</td>\n",
       "      <td>Woody Allen</td>\n",
       "      <td>39881</td>\n",
       "      <td>Woody Allen, Mia Farrow, Patrick Horgan, John ...</td>\n",
       "    </tr>\n",
       "    <tr>\n",
       "      <th>570</th>\n",
       "      <td>Raazi</td>\n",
       "      <td>2018</td>\n",
       "      <td>138</td>\n",
       "      <td>Action, Drama, Thriller</td>\n",
       "      <td>7.8</td>\n",
       "      <td>77.97153</td>\n",
       "      <td>Meghna Gulzar</td>\n",
       "      <td>25344</td>\n",
       "      <td>Alia Bhatt, Vicky Kaushal, Rajit Kapoor, Shish...</td>\n",
       "    </tr>\n",
       "    <tr>\n",
       "      <th>879</th>\n",
       "      <td>Once Upon a Time... in Hollywood</td>\n",
       "      <td>2019</td>\n",
       "      <td>161</td>\n",
       "      <td>Comedy, Drama</td>\n",
       "      <td>7.6</td>\n",
       "      <td>83.00000</td>\n",
       "      <td>Quentin Tarantino</td>\n",
       "      <td>551309</td>\n",
       "      <td>Leonardo DiCaprio, Brad Pitt, Margot Robbie, E...</td>\n",
       "    </tr>\n",
       "    <tr>\n",
       "      <th>261</th>\n",
       "      <td>Chung Hing sam lam</td>\n",
       "      <td>1994</td>\n",
       "      <td>102</td>\n",
       "      <td>Comedy, Crime, Drama</td>\n",
       "      <td>8.1</td>\n",
       "      <td>77.00000</td>\n",
       "      <td>Kar-Wai Wong</td>\n",
       "      <td>63122</td>\n",
       "      <td>Brigitte Lin, Takeshi Kaneshiro, Tony Chiu-Wai...</td>\n",
       "    </tr>\n",
       "    <tr>\n",
       "      <th>578</th>\n",
       "      <td>Kubo and the Two Strings</td>\n",
       "      <td>2016</td>\n",
       "      <td>101</td>\n",
       "      <td>Animation, Action, Adventure</td>\n",
       "      <td>7.8</td>\n",
       "      <td>84.00000</td>\n",
       "      <td>Travis Knight</td>\n",
       "      <td>118035</td>\n",
       "      <td>Charlize Theron, Art Parkinson, Matthew McCona...</td>\n",
       "    </tr>\n",
       "    <tr>\n",
       "      <th>23</th>\n",
       "      <td>Sen to Chihiro no kamikakushi</td>\n",
       "      <td>2001</td>\n",
       "      <td>125</td>\n",
       "      <td>Animation, Adventure, Family</td>\n",
       "      <td>8.6</td>\n",
       "      <td>96.00000</td>\n",
       "      <td>Hayao Miyazaki</td>\n",
       "      <td>651376</td>\n",
       "      <td>Daveigh Chase, Suzanne Pleshette, Miyu Irino, ...</td>\n",
       "    </tr>\n",
       "    <tr>\n",
       "      <th>30</th>\n",
       "      <td>Seppuku</td>\n",
       "      <td>1962</td>\n",
       "      <td>133</td>\n",
       "      <td>Action, Drama, Mystery</td>\n",
       "      <td>8.6</td>\n",
       "      <td>85.00000</td>\n",
       "      <td>Masaki Kobayashi</td>\n",
       "      <td>42004</td>\n",
       "      <td>Tatsuya Nakadai, Akira Ishihama, Shima Iwashit...</td>\n",
       "    </tr>\n",
       "    <tr>\n",
       "      <th>617</th>\n",
       "      <td>Once</td>\n",
       "      <td>2007</td>\n",
       "      <td>86</td>\n",
       "      <td>Drama, Music, Romance</td>\n",
       "      <td>7.8</td>\n",
       "      <td>88.00000</td>\n",
       "      <td>John Carney</td>\n",
       "      <td>110656</td>\n",
       "      <td>Glen Hansard, Markéta Irglová, Hugh Walsh, Ger...</td>\n",
       "    </tr>\n",
       "    <tr>\n",
       "      <th>10</th>\n",
       "      <td>The Lord of the Rings: The Fellowship of the Ring</td>\n",
       "      <td>2001</td>\n",
       "      <td>178</td>\n",
       "      <td>Action, Adventure, Drama</td>\n",
       "      <td>8.8</td>\n",
       "      <td>92.00000</td>\n",
       "      <td>Peter Jackson</td>\n",
       "      <td>1661481</td>\n",
       "      <td>Elijah Wood, Ian McKellen, Orlando Bloom, Sean...</td>\n",
       "    </tr>\n",
       "    <tr>\n",
       "      <th>221</th>\n",
       "      <td>Zindagi Na Milegi Dobara</td>\n",
       "      <td>2011</td>\n",
       "      <td>155</td>\n",
       "      <td>Comedy, Drama</td>\n",
       "      <td>8.1</td>\n",
       "      <td>77.97153</td>\n",
       "      <td>Zoya Akhtar</td>\n",
       "      <td>67927</td>\n",
       "      <td>Hrithik Roshan, Farhan Akhtar, Abhay Deol, Kat...</td>\n",
       "    </tr>\n",
       "    <tr>\n",
       "      <th>820</th>\n",
       "      <td>Malcolm X</td>\n",
       "      <td>1992</td>\n",
       "      <td>202</td>\n",
       "      <td>Biography, Drama, History</td>\n",
       "      <td>7.7</td>\n",
       "      <td>73.00000</td>\n",
       "      <td>Spike Lee</td>\n",
       "      <td>85819</td>\n",
       "      <td>Denzel Washington, Angela Bassett, Delroy Lind...</td>\n",
       "    </tr>\n",
       "    <tr>\n",
       "      <th>296</th>\n",
       "      <td>Ivanovo detstvo</td>\n",
       "      <td>1962</td>\n",
       "      <td>95</td>\n",
       "      <td>Drama, War</td>\n",
       "      <td>8.1</td>\n",
       "      <td>77.97153</td>\n",
       "      <td>Andrei Tarkovsky</td>\n",
       "      <td>31728</td>\n",
       "      <td>Eduard Abalov, Nikolay Burlyaev, Valentin Zubk...</td>\n",
       "    </tr>\n",
       "    <tr>\n",
       "      <th>54</th>\n",
       "      <td>Ayla: The Daughter of War</td>\n",
       "      <td>2017</td>\n",
       "      <td>125</td>\n",
       "      <td>Biography, Drama, History</td>\n",
       "      <td>8.4</td>\n",
       "      <td>77.97153</td>\n",
       "      <td>Can Ulkay</td>\n",
       "      <td>34112</td>\n",
       "      <td>Erdem Can, Çetin Tekindor, Ismail Hacioglu, Ky...</td>\n",
       "    </tr>\n",
       "    <tr>\n",
       "      <th>542</th>\n",
       "      <td>Patton</td>\n",
       "      <td>1970</td>\n",
       "      <td>172</td>\n",
       "      <td>Biography, Drama, War</td>\n",
       "      <td>7.9</td>\n",
       "      <td>91.00000</td>\n",
       "      <td>Franklin J. Schaffner</td>\n",
       "      <td>93741</td>\n",
       "      <td>George C. Scott, Karl Malden, Stephen Young, M...</td>\n",
       "    </tr>\n",
       "    <tr>\n",
       "      <th>209</th>\n",
       "      <td>The Grand Budapest Hotel</td>\n",
       "      <td>2014</td>\n",
       "      <td>99</td>\n",
       "      <td>Adventure, Comedy, Crime</td>\n",
       "      <td>8.1</td>\n",
       "      <td>88.00000</td>\n",
       "      <td>Wes Anderson</td>\n",
       "      <td>707630</td>\n",
       "      <td>Ralph Fiennes, F. Murray Abraham, Mathieu Amal...</td>\n",
       "    </tr>\n",
       "    <tr>\n",
       "      <th>604</th>\n",
       "      <td>Captain Phillips</td>\n",
       "      <td>2013</td>\n",
       "      <td>134</td>\n",
       "      <td>Adventure, Biography, Crime</td>\n",
       "      <td>7.8</td>\n",
       "      <td>82.00000</td>\n",
       "      <td>Paul Greengrass</td>\n",
       "      <td>421244</td>\n",
       "      <td>Tom Hanks, Barkhad Abdi, Barkhad Abdirahman, C...</td>\n",
       "    </tr>\n",
       "    <tr>\n",
       "      <th>692</th>\n",
       "      <td>The Man Who Would Be King</td>\n",
       "      <td>1975</td>\n",
       "      <td>129</td>\n",
       "      <td>Adventure, History, War</td>\n",
       "      <td>7.8</td>\n",
       "      <td>91.00000</td>\n",
       "      <td>John Huston</td>\n",
       "      <td>44917</td>\n",
       "      <td>Sean Connery, Michael Caine, Christopher Plumm...</td>\n",
       "    </tr>\n",
       "    <tr>\n",
       "      <th>662</th>\n",
       "      <td>Naked</td>\n",
       "      <td>1993</td>\n",
       "      <td>132</td>\n",
       "      <td>Comedy, Drama</td>\n",
       "      <td>7.8</td>\n",
       "      <td>84.00000</td>\n",
       "      <td>Mike Leigh</td>\n",
       "      <td>34635</td>\n",
       "      <td>David Thewlis, Lesley Sharp, Katrin Cartlidge,...</td>\n",
       "    </tr>\n",
       "    <tr>\n",
       "      <th>866</th>\n",
       "      <td>Les yeux sans visage</td>\n",
       "      <td>1960</td>\n",
       "      <td>90</td>\n",
       "      <td>Drama, Horror</td>\n",
       "      <td>7.7</td>\n",
       "      <td>90.00000</td>\n",
       "      <td>Georges Franju</td>\n",
       "      <td>27620</td>\n",
       "      <td>Pierre Brasseur, Alida Valli, Juliette Mayniel...</td>\n",
       "    </tr>\n",
       "    <tr>\n",
       "      <th>70</th>\n",
       "      <td>Mononoke-hime</td>\n",
       "      <td>1997</td>\n",
       "      <td>134</td>\n",
       "      <td>Animation, Action, Adventure</td>\n",
       "      <td>8.4</td>\n",
       "      <td>76.00000</td>\n",
       "      <td>Hayao Miyazaki</td>\n",
       "      <td>343171</td>\n",
       "      <td>Yôji Matsuda, Yuriko Ishida, Yûko Tanaka, Bill...</td>\n",
       "    </tr>\n",
       "    <tr>\n",
       "      <th>543</th>\n",
       "      <td>The Wild Bunch</td>\n",
       "      <td>1969</td>\n",
       "      <td>145</td>\n",
       "      <td>Action, Adventure, Western</td>\n",
       "      <td>7.9</td>\n",
       "      <td>97.00000</td>\n",
       "      <td>Sam Peckinpah</td>\n",
       "      <td>77401</td>\n",
       "      <td>William Holden, Ernest Borgnine, Robert Ryan, ...</td>\n",
       "    </tr>\n",
       "    <tr>\n",
       "      <th>107</th>\n",
       "      <td>Amadeus</td>\n",
       "      <td>1984</td>\n",
       "      <td>160</td>\n",
       "      <td>Biography, Drama, History</td>\n",
       "      <td>8.3</td>\n",
       "      <td>88.00000</td>\n",
       "      <td>Milos Forman</td>\n",
       "      <td>369007</td>\n",
       "      <td>F. Murray Abraham, Tom Hulce, Elizabeth Berrid...</td>\n",
       "    </tr>\n",
       "    <tr>\n",
       "      <th>493</th>\n",
       "      <td>Star Trek</td>\n",
       "      <td>2009</td>\n",
       "      <td>127</td>\n",
       "      <td>Action, Adventure, Sci-Fi</td>\n",
       "      <td>7.9</td>\n",
       "      <td>82.00000</td>\n",
       "      <td>J.J. Abrams</td>\n",
       "      <td>577336</td>\n",
       "      <td>Chris Pine, Zachary Quinto, Simon Pegg, Leonar...</td>\n",
       "    </tr>\n",
       "    <tr>\n",
       "      <th>590</th>\n",
       "      <td>The Lunchbox</td>\n",
       "      <td>2013</td>\n",
       "      <td>104</td>\n",
       "      <td>Drama, Romance</td>\n",
       "      <td>7.8</td>\n",
       "      <td>76.00000</td>\n",
       "      <td>Ritesh Batra</td>\n",
       "      <td>50523</td>\n",
       "      <td>Irrfan Khan, Nimrat Kaur, Nawazuddin Siddiqui,...</td>\n",
       "    </tr>\n",
       "    <tr>\n",
       "      <th>741</th>\n",
       "      <td>Le Petit Prince</td>\n",
       "      <td>2015</td>\n",
       "      <td>108</td>\n",
       "      <td>Animation, Adventure, Drama</td>\n",
       "      <td>7.7</td>\n",
       "      <td>70.00000</td>\n",
       "      <td>Mark Osborne</td>\n",
       "      <td>56720</td>\n",
       "      <td>Jeff Bridges, Mackenzie Foy, Rachel McAdams, M...</td>\n",
       "    </tr>\n",
       "    <tr>\n",
       "      <th>292</th>\n",
       "      <td>El ángel exterminador</td>\n",
       "      <td>1962</td>\n",
       "      <td>95</td>\n",
       "      <td>Drama, Fantasy</td>\n",
       "      <td>8.1</td>\n",
       "      <td>77.97153</td>\n",
       "      <td>Luis Buñuel</td>\n",
       "      <td>29682</td>\n",
       "      <td>Silvia Pinal, Jacqueline Andere, Enrique Ramba...</td>\n",
       "    </tr>\n",
       "    <tr>\n",
       "      <th>289</th>\n",
       "      <td>Persona</td>\n",
       "      <td>1966</td>\n",
       "      <td>85</td>\n",
       "      <td>Drama, Thriller</td>\n",
       "      <td>8.1</td>\n",
       "      <td>86.00000</td>\n",
       "      <td>Ingmar Bergman</td>\n",
       "      <td>103191</td>\n",
       "      <td>Bibi Andersson, Liv Ullmann, Margaretha Krook,...</td>\n",
       "    </tr>\n",
       "    <tr>\n",
       "      <th>652</th>\n",
       "      <td>Titanic</td>\n",
       "      <td>1997</td>\n",
       "      <td>194</td>\n",
       "      <td>Drama, Romance</td>\n",
       "      <td>7.8</td>\n",
       "      <td>75.00000</td>\n",
       "      <td>James Cameron</td>\n",
       "      <td>1046089</td>\n",
       "      <td>Leonardo DiCaprio, Kate Winslet, Billy Zane, K...</td>\n",
       "    </tr>\n",
       "    <tr>\n",
       "      <th>39</th>\n",
       "      <td>Gladiator</td>\n",
       "      <td>2000</td>\n",
       "      <td>155</td>\n",
       "      <td>Action, Adventure, Drama</td>\n",
       "      <td>8.5</td>\n",
       "      <td>67.00000</td>\n",
       "      <td>Ridley Scott</td>\n",
       "      <td>1341460</td>\n",
       "      <td>Russell Crowe, Joaquin Phoenix, Connie Nielsen...</td>\n",
       "    </tr>\n",
       "    <tr>\n",
       "      <th>589</th>\n",
       "      <td>La grande bellezza</td>\n",
       "      <td>2013</td>\n",
       "      <td>141</td>\n",
       "      <td>Drama</td>\n",
       "      <td>7.8</td>\n",
       "      <td>86.00000</td>\n",
       "      <td>Paolo Sorrentino</td>\n",
       "      <td>81125</td>\n",
       "      <td>Toni Servillo, Carlo Verdone, Sabrina Ferilli,...</td>\n",
       "    </tr>\n",
       "    <tr>\n",
       "      <th>307</th>\n",
       "      <td>Ace in the Hole</td>\n",
       "      <td>1951</td>\n",
       "      <td>111</td>\n",
       "      <td>Drama, Film-Noir</td>\n",
       "      <td>8.1</td>\n",
       "      <td>72.00000</td>\n",
       "      <td>Billy Wilder</td>\n",
       "      <td>31568</td>\n",
       "      <td>Kirk Douglas, Jan Sterling, Robert Arthur, Por...</td>\n",
       "    </tr>\n",
       "    <tr>\n",
       "      <th>679</th>\n",
       "      <td>Ferris Bueller's Day Off</td>\n",
       "      <td>1986</td>\n",
       "      <td>103</td>\n",
       "      <td>Comedy</td>\n",
       "      <td>7.8</td>\n",
       "      <td>61.00000</td>\n",
       "      <td>John Hughes</td>\n",
       "      <td>321382</td>\n",
       "      <td>Matthew Broderick, Alan Ruck, Mia Sara, Jeffre...</td>\n",
       "    </tr>\n",
       "    <tr>\n",
       "      <th>66</th>\n",
       "      <td>WALL·E</td>\n",
       "      <td>2008</td>\n",
       "      <td>98</td>\n",
       "      <td>Animation, Adventure, Family</td>\n",
       "      <td>8.4</td>\n",
       "      <td>95.00000</td>\n",
       "      <td>Andrew Stanton</td>\n",
       "      <td>999790</td>\n",
       "      <td>Ben Burtt, Elissa Knight, Jeff Garlin, Fred Wi...</td>\n",
       "    </tr>\n",
       "    <tr>\n",
       "      <th>275</th>\n",
       "      <td>Blade Runner</td>\n",
       "      <td>1982</td>\n",
       "      <td>117</td>\n",
       "      <td>Action, Sci-Fi, Thriller</td>\n",
       "      <td>8.1</td>\n",
       "      <td>84.00000</td>\n",
       "      <td>Ridley Scott</td>\n",
       "      <td>693827</td>\n",
       "      <td>Harrison Ford, Rutger Hauer, Sean Young, Edwar...</td>\n",
       "    </tr>\n",
       "    <tr>\n",
       "      <th>67</th>\n",
       "      <td>The Lives of Others</td>\n",
       "      <td>2006</td>\n",
       "      <td>137</td>\n",
       "      <td>Drama, Mystery, Thriller</td>\n",
       "      <td>8.4</td>\n",
       "      <td>89.00000</td>\n",
       "      <td>Florian Henckel von Donnersmarck</td>\n",
       "      <td>358685</td>\n",
       "      <td>Ulrich Mühe, Martina Gedeck, Sebastian Koch, U...</td>\n",
       "    </tr>\n",
       "    <tr>\n",
       "      <th>318</th>\n",
       "      <td>The Circus</td>\n",
       "      <td>1928</td>\n",
       "      <td>72</td>\n",
       "      <td>Comedy, Romance</td>\n",
       "      <td>8.1</td>\n",
       "      <td>90.00000</td>\n",
       "      <td>Charles Chaplin</td>\n",
       "      <td>30205</td>\n",
       "      <td>Charles Chaplin, Merna Kennedy, Al Ernest Garc...</td>\n",
       "    </tr>\n",
       "    <tr>\n",
       "      <th>548</th>\n",
       "      <td>The Manchurian Candidate</td>\n",
       "      <td>1962</td>\n",
       "      <td>126</td>\n",
       "      <td>Drama, Thriller</td>\n",
       "      <td>7.9</td>\n",
       "      <td>94.00000</td>\n",
       "      <td>John Frankenheimer</td>\n",
       "      <td>71122</td>\n",
       "      <td>Frank Sinatra, Laurence Harvey, Janet Leigh, A...</td>\n",
       "    </tr>\n",
       "    <tr>\n",
       "      <th>998</th>\n",
       "      <td>Lifeboat</td>\n",
       "      <td>1944</td>\n",
       "      <td>97</td>\n",
       "      <td>Drama, War</td>\n",
       "      <td>7.6</td>\n",
       "      <td>78.00000</td>\n",
       "      <td>Alfred Hitchcock</td>\n",
       "      <td>26471</td>\n",
       "      <td>Tallulah Bankhead, John Hodiak, Walter Slezak,...</td>\n",
       "    </tr>\n",
       "    <tr>\n",
       "      <th>714</th>\n",
       "      <td>The Lady Vanishes</td>\n",
       "      <td>1938</td>\n",
       "      <td>96</td>\n",
       "      <td>Mystery, Thriller</td>\n",
       "      <td>7.8</td>\n",
       "      <td>98.00000</td>\n",
       "      <td>Alfred Hitchcock</td>\n",
       "      <td>47400</td>\n",
       "      <td>Margaret Lockwood, Michael Redgrave, Paul Luka...</td>\n",
       "    </tr>\n",
       "    <tr>\n",
       "      <th>753</th>\n",
       "      <td>Argo</td>\n",
       "      <td>2012</td>\n",
       "      <td>120</td>\n",
       "      <td>Biography, Drama, Thriller</td>\n",
       "      <td>7.7</td>\n",
       "      <td>86.00000</td>\n",
       "      <td>Ben Affleck</td>\n",
       "      <td>572581</td>\n",
       "      <td>Ben Affleck, Bryan Cranston, John Goodman, Ala...</td>\n",
       "    </tr>\n",
       "    <tr>\n",
       "      <th>327</th>\n",
       "      <td>La La Land</td>\n",
       "      <td>2016</td>\n",
       "      <td>128</td>\n",
       "      <td>Comedy, Drama, Music</td>\n",
       "      <td>8.0</td>\n",
       "      <td>94.00000</td>\n",
       "      <td>Damien Chazelle</td>\n",
       "      <td>505918</td>\n",
       "      <td>Ryan Gosling, Emma Stone, Rosemarie DeWitt, J....</td>\n",
       "    </tr>\n",
       "    <tr>\n",
       "      <th>382</th>\n",
       "      <td>Donnie Darko</td>\n",
       "      <td>2001</td>\n",
       "      <td>113</td>\n",
       "      <td>Drama, Mystery, Sci-Fi</td>\n",
       "      <td>8.0</td>\n",
       "      <td>88.00000</td>\n",
       "      <td>Richard Kelly</td>\n",
       "      <td>740086</td>\n",
       "      <td>Jake Gyllenhaal, Jena Malone, Mary McDonnell, ...</td>\n",
       "    </tr>\n",
       "    <tr>\n",
       "      <th>451</th>\n",
       "      <td>Out of the Past</td>\n",
       "      <td>1947</td>\n",
       "      <td>97</td>\n",
       "      <td>Crime, Drama, Film-Noir</td>\n",
       "      <td>8.0</td>\n",
       "      <td>77.97153</td>\n",
       "      <td>Jacques Tourneur</td>\n",
       "      <td>32784</td>\n",
       "      <td>Robert Mitchum, Jane Greer, Kirk Douglas, Rhon...</td>\n",
       "    </tr>\n",
       "    <tr>\n",
       "      <th>522</th>\n",
       "      <td>Jûbê ninpûchô</td>\n",
       "      <td>1993</td>\n",
       "      <td>94</td>\n",
       "      <td>Animation, Action, Adventure</td>\n",
       "      <td>7.9</td>\n",
       "      <td>77.97153</td>\n",
       "      <td>Yoshiaki Kawajiri</td>\n",
       "      <td>34529</td>\n",
       "      <td>Kôichi Yamadera, Emi Shinohara, Takeshi Aono, ...</td>\n",
       "    </tr>\n",
       "    <tr>\n",
       "      <th>218</th>\n",
       "      <td>Spotlight</td>\n",
       "      <td>2015</td>\n",
       "      <td>129</td>\n",
       "      <td>Biography, Crime, Drama</td>\n",
       "      <td>8.1</td>\n",
       "      <td>93.00000</td>\n",
       "      <td>Tom McCarthy</td>\n",
       "      <td>420316</td>\n",
       "      <td>Mark Ruffalo, Michael Keaton, Rachel McAdams, ...</td>\n",
       "    </tr>\n",
       "    <tr>\n",
       "      <th>787</th>\n",
       "      <td>In America</td>\n",
       "      <td>2002</td>\n",
       "      <td>105</td>\n",
       "      <td>Drama</td>\n",
       "      <td>7.7</td>\n",
       "      <td>76.00000</td>\n",
       "      <td>Jim Sheridan</td>\n",
       "      <td>40403</td>\n",
       "      <td>Paddy Considine, Samantha Morton, Djimon Houns...</td>\n",
       "    </tr>\n",
       "    <tr>\n",
       "      <th>436</th>\n",
       "      <td>Rio Bravo</td>\n",
       "      <td>1959</td>\n",
       "      <td>141</td>\n",
       "      <td>Action, Drama, Western</td>\n",
       "      <td>8.0</td>\n",
       "      <td>93.00000</td>\n",
       "      <td>Howard Hawks</td>\n",
       "      <td>56305</td>\n",
       "      <td>John Wayne, Dean Martin, Ricky Nelson, Angie D...</td>\n",
       "    </tr>\n",
       "    <tr>\n",
       "      <th>764</th>\n",
       "      <td>Ex Machina</td>\n",
       "      <td>2014</td>\n",
       "      <td>108</td>\n",
       "      <td>Drama, Sci-Fi, Thriller</td>\n",
       "      <td>7.7</td>\n",
       "      <td>78.00000</td>\n",
       "      <td>Alex Garland</td>\n",
       "      <td>474141</td>\n",
       "      <td>Alicia Vikander, Domhnall Gleeson, Oscar Isaac...</td>\n",
       "    </tr>\n",
       "    <tr>\n",
       "      <th>88</th>\n",
       "      <td>Jagten</td>\n",
       "      <td>2012</td>\n",
       "      <td>115</td>\n",
       "      <td>Drama</td>\n",
       "      <td>8.3</td>\n",
       "      <td>77.00000</td>\n",
       "      <td>Thomas Vinterberg</td>\n",
       "      <td>281623</td>\n",
       "      <td>Mads Mikkelsen, Thomas Bo Larsen, Annika Wedde...</td>\n",
       "    </tr>\n",
       "    <tr>\n",
       "      <th>63</th>\n",
       "      <td>The Dark Knight Rises</td>\n",
       "      <td>2012</td>\n",
       "      <td>164</td>\n",
       "      <td>Action, Adventure</td>\n",
       "      <td>8.4</td>\n",
       "      <td>78.00000</td>\n",
       "      <td>Christopher Nolan</td>\n",
       "      <td>1516346</td>\n",
       "      <td>Christian Bale, Tom Hardy, Anne Hathaway, Gary...</td>\n",
       "    </tr>\n",
       "    <tr>\n",
       "      <th>826</th>\n",
       "      <td>Barton Fink</td>\n",
       "      <td>1991</td>\n",
       "      <td>116</td>\n",
       "      <td>Comedy, Drama, Thriller</td>\n",
       "      <td>7.7</td>\n",
       "      <td>69.00000</td>\n",
       "      <td>Joel Coen</td>\n",
       "      <td>113240</td>\n",
       "      <td>Ethan Coen, John Turturro, John Goodman, Judy ...</td>\n",
       "    </tr>\n",
       "    <tr>\n",
       "      <th>716</th>\n",
       "      <td>Bride of Frankenstein</td>\n",
       "      <td>1935</td>\n",
       "      <td>75</td>\n",
       "      <td>Drama, Horror, Sci-Fi</td>\n",
       "      <td>7.8</td>\n",
       "      <td>95.00000</td>\n",
       "      <td>James Whale</td>\n",
       "      <td>43542</td>\n",
       "      <td>Boris Karloff, Elsa Lanchester, Colin Clive, V...</td>\n",
       "    </tr>\n",
       "    <tr>\n",
       "      <th>351</th>\n",
       "      <td>Yip Man</td>\n",
       "      <td>2008</td>\n",
       "      <td>106</td>\n",
       "      <td>Action, Biography, Drama</td>\n",
       "      <td>8.0</td>\n",
       "      <td>59.00000</td>\n",
       "      <td>Wilson Yip</td>\n",
       "      <td>211427</td>\n",
       "      <td>Donnie Yen, Simon Yam, Siu-Wong Fan, Ka Tung Lam</td>\n",
       "    </tr>\n",
       "    <tr>\n",
       "      <th>936</th>\n",
       "      <td>Un long dimanche de fiançailles</td>\n",
       "      <td>2004</td>\n",
       "      <td>133</td>\n",
       "      <td>Drama, Mystery, Romance</td>\n",
       "      <td>7.6</td>\n",
       "      <td>76.00000</td>\n",
       "      <td>Jean-Pierre Jeunet</td>\n",
       "      <td>70925</td>\n",
       "      <td>Audrey Tautou, Gaspard Ulliel, Jodie Foster, D...</td>\n",
       "    </tr>\n",
       "    <tr>\n",
       "      <th>256</th>\n",
       "      <td>Underground</td>\n",
       "      <td>1995</td>\n",
       "      <td>170</td>\n",
       "      <td>Comedy, Drama, War</td>\n",
       "      <td>8.1</td>\n",
       "      <td>77.97153</td>\n",
       "      <td>Emir Kusturica</td>\n",
       "      <td>55220</td>\n",
       "      <td>Predrag 'Miki' Manojlovic, Lazar Ristovski, Mi...</td>\n",
       "    </tr>\n",
       "    <tr>\n",
       "      <th>635</th>\n",
       "      <td>Walk the Line</td>\n",
       "      <td>2005</td>\n",
       "      <td>136</td>\n",
       "      <td>Biography, Drama, Music</td>\n",
       "      <td>7.8</td>\n",
       "      <td>72.00000</td>\n",
       "      <td>James Mangold</td>\n",
       "      <td>234207</td>\n",
       "      <td>Joaquin Phoenix, Reese Witherspoon, Ginnifer G...</td>\n",
       "    </tr>\n",
       "    <tr>\n",
       "      <th>644</th>\n",
       "      <td>Remember the Titans</td>\n",
       "      <td>2000</td>\n",
       "      <td>113</td>\n",
       "      <td>Biography, Drama, Sport</td>\n",
       "      <td>7.8</td>\n",
       "      <td>48.00000</td>\n",
       "      <td>Boaz Yakin</td>\n",
       "      <td>198089</td>\n",
       "      <td>Denzel Washington, Will Patton, Wood Harris, R...</td>\n",
       "    </tr>\n",
       "    <tr>\n",
       "      <th>554</th>\n",
       "      <td>East of Eden</td>\n",
       "      <td>1955</td>\n",
       "      <td>118</td>\n",
       "      <td>Drama</td>\n",
       "      <td>7.9</td>\n",
       "      <td>72.00000</td>\n",
       "      <td>Elia Kazan</td>\n",
       "      <td>40313</td>\n",
       "      <td>James Dean, Raymond Massey, Julie Harris, Burl...</td>\n",
       "    </tr>\n",
       "    <tr>\n",
       "      <th>959</th>\n",
       "      <td>Dark City</td>\n",
       "      <td>1998</td>\n",
       "      <td>100</td>\n",
       "      <td>Mystery, Sci-Fi, Thriller</td>\n",
       "      <td>7.6</td>\n",
       "      <td>66.00000</td>\n",
       "      <td>Alex Proyas</td>\n",
       "      <td>187927</td>\n",
       "      <td>Rufus Sewell, Kiefer Sutherland, Jennifer Conn...</td>\n",
       "    </tr>\n",
       "    <tr>\n",
       "      <th>168</th>\n",
       "      <td>Indiana Jones and the Last Crusade</td>\n",
       "      <td>1989</td>\n",
       "      <td>127</td>\n",
       "      <td>Action, Adventure</td>\n",
       "      <td>8.2</td>\n",
       "      <td>65.00000</td>\n",
       "      <td>Steven Spielberg</td>\n",
       "      <td>692366</td>\n",
       "      <td>Harrison Ford, Sean Connery, Alison Doody, Den...</td>\n",
       "    </tr>\n",
       "    <tr>\n",
       "      <th>917</th>\n",
       "      <td>Seven Pounds</td>\n",
       "      <td>2008</td>\n",
       "      <td>123</td>\n",
       "      <td>Drama</td>\n",
       "      <td>7.6</td>\n",
       "      <td>36.00000</td>\n",
       "      <td>Gabriele Muccino</td>\n",
       "      <td>286770</td>\n",
       "      <td>Will Smith, Rosario Dawson, Woody Harrelson, M...</td>\n",
       "    </tr>\n",
       "    <tr>\n",
       "      <th>528</th>\n",
       "      <td>Hannah and Her Sisters</td>\n",
       "      <td>1986</td>\n",
       "      <td>107</td>\n",
       "      <td>Comedy, Drama</td>\n",
       "      <td>7.9</td>\n",
       "      <td>90.00000</td>\n",
       "      <td>Woody Allen</td>\n",
       "      <td>67176</td>\n",
       "      <td>Mia Farrow, Dianne Wiest, Michael Caine, Barba...</td>\n",
       "    </tr>\n",
       "    <tr>\n",
       "      <th>823</th>\n",
       "      <td>Glengarry Glen Ross</td>\n",
       "      <td>1992</td>\n",
       "      <td>100</td>\n",
       "      <td>Crime, Drama, Mystery</td>\n",
       "      <td>7.7</td>\n",
       "      <td>82.00000</td>\n",
       "      <td>James Foley</td>\n",
       "      <td>95826</td>\n",
       "      <td>Al Pacino, Jack Lemmon, Alec Baldwin, Alan Arkin</td>\n",
       "    </tr>\n",
       "    <tr>\n",
       "      <th>985</th>\n",
       "      <td>Escape from Alcatraz</td>\n",
       "      <td>1979</td>\n",
       "      <td>112</td>\n",
       "      <td>Action, Biography, Crime</td>\n",
       "      <td>7.6</td>\n",
       "      <td>76.00000</td>\n",
       "      <td>Don Siegel</td>\n",
       "      <td>121731</td>\n",
       "      <td>Clint Eastwood, Patrick McGoohan, Roberts Blos...</td>\n",
       "    </tr>\n",
       "    <tr>\n",
       "      <th>816</th>\n",
       "      <td>Clerks</td>\n",
       "      <td>1994</td>\n",
       "      <td>92</td>\n",
       "      <td>Comedy</td>\n",
       "      <td>7.7</td>\n",
       "      <td>70.00000</td>\n",
       "      <td>Kevin Smith</td>\n",
       "      <td>211450</td>\n",
       "      <td>Brian O'Halloran, Jeff Anderson, Marilyn Ghigl...</td>\n",
       "    </tr>\n",
       "    <tr>\n",
       "      <th>86</th>\n",
       "      <td>Andhadhun</td>\n",
       "      <td>2018</td>\n",
       "      <td>139</td>\n",
       "      <td>Crime, Drama, Music</td>\n",
       "      <td>8.3</td>\n",
       "      <td>77.97153</td>\n",
       "      <td>Sriram Raghavan</td>\n",
       "      <td>71875</td>\n",
       "      <td>Ayushmann Khurrana, Tabu, Radhika Apte, Anil D...</td>\n",
       "    </tr>\n",
       "    <tr>\n",
       "      <th>432</th>\n",
       "      <td>8½</td>\n",
       "      <td>1963</td>\n",
       "      <td>138</td>\n",
       "      <td>Drama</td>\n",
       "      <td>8.0</td>\n",
       "      <td>91.00000</td>\n",
       "      <td>Federico Fellini</td>\n",
       "      <td>108844</td>\n",
       "      <td>Marcello Mastroianni, Anouk Aimée, Claudia Car...</td>\n",
       "    </tr>\n",
       "    <tr>\n",
       "      <th>184</th>\n",
       "      <td>Smultronstället</td>\n",
       "      <td>1957</td>\n",
       "      <td>91</td>\n",
       "      <td>Drama, Romance</td>\n",
       "      <td>8.2</td>\n",
       "      <td>88.00000</td>\n",
       "      <td>Ingmar Bergman</td>\n",
       "      <td>96381</td>\n",
       "      <td>Victor Sjöström, Bibi Andersson, Ingrid Thulin...</td>\n",
       "    </tr>\n",
       "    <tr>\n",
       "      <th>978</th>\n",
       "      <td>Planes, Trains &amp; Automobiles</td>\n",
       "      <td>1987</td>\n",
       "      <td>93</td>\n",
       "      <td>Comedy, Drama</td>\n",
       "      <td>7.6</td>\n",
       "      <td>72.00000</td>\n",
       "      <td>John Hughes</td>\n",
       "      <td>124773</td>\n",
       "      <td>Steve Martin, John Candy, Laila Robins, Michae...</td>\n",
       "    </tr>\n",
       "    <tr>\n",
       "      <th>534</th>\n",
       "      <td>All That Jazz</td>\n",
       "      <td>1979</td>\n",
       "      <td>123</td>\n",
       "      <td>Drama, Music, Musical</td>\n",
       "      <td>7.9</td>\n",
       "      <td>72.00000</td>\n",
       "      <td>Bob Fosse</td>\n",
       "      <td>28223</td>\n",
       "      <td>Roy Scheider, Jessica Lange, Ann Reinking, Lel...</td>\n",
       "    </tr>\n",
       "    <tr>\n",
       "      <th>294</th>\n",
       "      <td>Sanjuro</td>\n",
       "      <td>1962</td>\n",
       "      <td>96</td>\n",
       "      <td>Action, Comedy, Crime</td>\n",
       "      <td>8.1</td>\n",
       "      <td>77.97153</td>\n",
       "      <td>Akira Kurosawa</td>\n",
       "      <td>33044</td>\n",
       "      <td>Toshirô Mifune, Tatsuya Nakadai, Keiju Kobayas...</td>\n",
       "    </tr>\n",
       "    <tr>\n",
       "      <th>892</th>\n",
       "      <td>Moana</td>\n",
       "      <td>2016</td>\n",
       "      <td>107</td>\n",
       "      <td>Animation, Adventure, Comedy</td>\n",
       "      <td>7.6</td>\n",
       "      <td>81.00000</td>\n",
       "      <td>Ron Clements</td>\n",
       "      <td>272784</td>\n",
       "      <td>John Musker, Don Hall, Chris Williams, Auli'i ...</td>\n",
       "    </tr>\n",
       "    <tr>\n",
       "      <th>425</th>\n",
       "      <td>Rosemary's Baby</td>\n",
       "      <td>1968</td>\n",
       "      <td>137</td>\n",
       "      <td>Drama, Horror</td>\n",
       "      <td>8.0</td>\n",
       "      <td>96.00000</td>\n",
       "      <td>Roman Polanski</td>\n",
       "      <td>193674</td>\n",
       "      <td>Mia Farrow, John Cassavetes, Ruth Gordon, Sidn...</td>\n",
       "    </tr>\n",
       "    <tr>\n",
       "      <th>713</th>\n",
       "      <td>Stagecoach</td>\n",
       "      <td>1939</td>\n",
       "      <td>96</td>\n",
       "      <td>Adventure, Drama, Western</td>\n",
       "      <td>7.8</td>\n",
       "      <td>93.00000</td>\n",
       "      <td>John Ford</td>\n",
       "      <td>43621</td>\n",
       "      <td>John Wayne, Claire Trevor, Andy Devine, John C...</td>\n",
       "    </tr>\n",
       "    <tr>\n",
       "      <th>260</th>\n",
       "      <td>Trois couleurs: Rouge</td>\n",
       "      <td>1994</td>\n",
       "      <td>99</td>\n",
       "      <td>Drama, Mystery, Romance</td>\n",
       "      <td>8.1</td>\n",
       "      <td>100.00000</td>\n",
       "      <td>Krzysztof Kieslowski</td>\n",
       "      <td>90729</td>\n",
       "      <td>Irène Jacob, Jean-Louis Trintignant, Frédériqu...</td>\n",
       "    </tr>\n",
       "    <tr>\n",
       "      <th>237</th>\n",
       "      <td>Before Sunset</td>\n",
       "      <td>2004</td>\n",
       "      <td>80</td>\n",
       "      <td>Drama, Romance</td>\n",
       "      <td>8.1</td>\n",
       "      <td>90.00000</td>\n",
       "      <td>Richard Linklater</td>\n",
       "      <td>236311</td>\n",
       "      <td>Ethan Hawke, Julie Delpy, Vernon Dobtcheff, Lo...</td>\n",
       "    </tr>\n",
       "    <tr>\n",
       "      <th>559</th>\n",
       "      <td>Notorious</td>\n",
       "      <td>1946</td>\n",
       "      <td>102</td>\n",
       "      <td>Drama, Film-Noir, Romance</td>\n",
       "      <td>7.9</td>\n",
       "      <td>100.00000</td>\n",
       "      <td>Alfred Hitchcock</td>\n",
       "      <td>92306</td>\n",
       "      <td>Cary Grant, Ingrid Bergman, Claude Rains, Loui...</td>\n",
       "    </tr>\n",
       "    <tr>\n",
       "      <th>583</th>\n",
       "      <td>Captain America: Civil War</td>\n",
       "      <td>2016</td>\n",
       "      <td>147</td>\n",
       "      <td>Action, Adventure, Sci-Fi</td>\n",
       "      <td>7.8</td>\n",
       "      <td>75.00000</td>\n",
       "      <td>Anthony Russo</td>\n",
       "      <td>663649</td>\n",
       "      <td>Joe Russo, Chris Evans, Robert Downey Jr., Sca...</td>\n",
       "    </tr>\n",
       "    <tr>\n",
       "      <th>445</th>\n",
       "      <td>Stalag 17</td>\n",
       "      <td>1953</td>\n",
       "      <td>120</td>\n",
       "      <td>Comedy, Drama, War</td>\n",
       "      <td>8.0</td>\n",
       "      <td>84.00000</td>\n",
       "      <td>Billy Wilder</td>\n",
       "      <td>51046</td>\n",
       "      <td>William Holden, Don Taylor, Otto Preminger, Ro...</td>\n",
       "    </tr>\n",
       "    <tr>\n",
       "      <th>867</th>\n",
       "      <td>Invasion of the Body Snatchers</td>\n",
       "      <td>1956</td>\n",
       "      <td>80</td>\n",
       "      <td>Drama, Horror, Sci-Fi</td>\n",
       "      <td>7.7</td>\n",
       "      <td>92.00000</td>\n",
       "      <td>Don Siegel</td>\n",
       "      <td>44839</td>\n",
       "      <td>Kevin McCarthy, Dana Wynter, Larry Gates, King...</td>\n",
       "    </tr>\n",
       "    <tr>\n",
       "      <th>800</th>\n",
       "      <td>Office Space</td>\n",
       "      <td>1999</td>\n",
       "      <td>89</td>\n",
       "      <td>Comedy</td>\n",
       "      <td>7.7</td>\n",
       "      <td>68.00000</td>\n",
       "      <td>Mike Judge</td>\n",
       "      <td>241575</td>\n",
       "      <td>Ron Livingston, Jennifer Aniston, David Herman...</td>\n",
       "    </tr>\n",
       "    <tr>\n",
       "      <th>599</th>\n",
       "      <td>How to Train Your Dragon 2</td>\n",
       "      <td>2014</td>\n",
       "      <td>102</td>\n",
       "      <td>Animation, Action, Adventure</td>\n",
       "      <td>7.8</td>\n",
       "      <td>76.00000</td>\n",
       "      <td>Dean DeBlois</td>\n",
       "      <td>305611</td>\n",
       "      <td>Jay Baruchel, Cate Blanchett, Gerard Butler, C...</td>\n",
       "    </tr>\n",
       "    <tr>\n",
       "      <th>849</th>\n",
       "      <td>Serpico</td>\n",
       "      <td>1973</td>\n",
       "      <td>130</td>\n",
       "      <td>Biography, Crime, Drama</td>\n",
       "      <td>7.7</td>\n",
       "      <td>87.00000</td>\n",
       "      <td>Sidney Lumet</td>\n",
       "      <td>109941</td>\n",
       "      <td>Al Pacino, John Randolph, Jack Kehoe, Biff McG...</td>\n",
       "    </tr>\n",
       "    <tr>\n",
       "      <th>265</th>\n",
       "      <td>Dà hóng denglong gaogao guà</td>\n",
       "      <td>1991</td>\n",
       "      <td>125</td>\n",
       "      <td>Drama, History, Romance</td>\n",
       "      <td>8.1</td>\n",
       "      <td>77.97153</td>\n",
       "      <td>Yimou Zhang</td>\n",
       "      <td>29662</td>\n",
       "      <td>Gong Li, Jingwu Ma, Saifei He, Cuifen Cao</td>\n",
       "    </tr>\n",
       "    <tr>\n",
       "      <th>995</th>\n",
       "      <td>Breakfast at Tiffany's</td>\n",
       "      <td>1961</td>\n",
       "      <td>115</td>\n",
       "      <td>Comedy, Drama, Romance</td>\n",
       "      <td>7.6</td>\n",
       "      <td>76.00000</td>\n",
       "      <td>Blake Edwards</td>\n",
       "      <td>166544</td>\n",
       "      <td>Audrey Hepburn, George Peppard, Patricia Neal,...</td>\n",
       "    </tr>\n",
       "    <tr>\n",
       "      <th>529</th>\n",
       "      <td>Brazil</td>\n",
       "      <td>1985</td>\n",
       "      <td>132</td>\n",
       "      <td>Drama, Sci-Fi</td>\n",
       "      <td>7.9</td>\n",
       "      <td>84.00000</td>\n",
       "      <td>Terry Gilliam</td>\n",
       "      <td>187567</td>\n",
       "      <td>Jonathan Pryce, Kim Greist, Robert De Niro, Ka...</td>\n",
       "    </tr>\n",
       "    <tr>\n",
       "      <th>55</th>\n",
       "      <td>Vikram Vedha</td>\n",
       "      <td>2017</td>\n",
       "      <td>147</td>\n",
       "      <td>Action, Crime, Drama</td>\n",
       "      <td>8.4</td>\n",
       "      <td>77.97153</td>\n",
       "      <td>Gayatri</td>\n",
       "      <td>28401</td>\n",
       "      <td>Pushkar, Madhavan, Vijay Sethupathi, Shraddha ...</td>\n",
       "    </tr>\n",
       "    <tr>\n",
       "      <th>120</th>\n",
       "      <td>Singin' in the Rain</td>\n",
       "      <td>1952</td>\n",
       "      <td>103</td>\n",
       "      <td>Comedy, Musical, Romance</td>\n",
       "      <td>8.3</td>\n",
       "      <td>99.00000</td>\n",
       "      <td>Stanley Donen</td>\n",
       "      <td>218957</td>\n",
       "      <td>Gene Kelly, Gene Kelly, Donald O'Connor, Debbi...</td>\n",
       "    </tr>\n",
       "    <tr>\n",
       "      <th>215</th>\n",
       "      <td>12 Years a Slave</td>\n",
       "      <td>2013</td>\n",
       "      <td>134</td>\n",
       "      <td>Biography, Drama, History</td>\n",
       "      <td>8.1</td>\n",
       "      <td>96.00000</td>\n",
       "      <td>Steve McQueen</td>\n",
       "      <td>640533</td>\n",
       "      <td>Chiwetel Ejiofor, Michael Kenneth Williams, Mi...</td>\n",
       "    </tr>\n",
       "    <tr>\n",
       "      <th>25</th>\n",
       "      <td>The Green Mile</td>\n",
       "      <td>1999</td>\n",
       "      <td>189</td>\n",
       "      <td>Crime, Drama, Fantasy</td>\n",
       "      <td>8.6</td>\n",
       "      <td>61.00000</td>\n",
       "      <td>Frank Darabont</td>\n",
       "      <td>1147794</td>\n",
       "      <td>Tom Hanks, Michael Clarke Duncan, David Morse,...</td>\n",
       "    </tr>\n",
       "    <tr>\n",
       "      <th>72</th>\n",
       "      <td>Raiders of the Lost Ark</td>\n",
       "      <td>1981</td>\n",
       "      <td>115</td>\n",
       "      <td>Action, Adventure</td>\n",
       "      <td>8.4</td>\n",
       "      <td>85.00000</td>\n",
       "      <td>Steven Spielberg</td>\n",
       "      <td>884112</td>\n",
       "      <td>Harrison Ford, Karen Allen, Paul Freeman, John...</td>\n",
       "    </tr>\n",
       "    <tr>\n",
       "      <th>44</th>\n",
       "      <td>Terminator 2: Judgment Day</td>\n",
       "      <td>1991</td>\n",
       "      <td>137</td>\n",
       "      <td>Action, Sci-Fi</td>\n",
       "      <td>8.5</td>\n",
       "      <td>75.00000</td>\n",
       "      <td>James Cameron</td>\n",
       "      <td>995506</td>\n",
       "      <td>Arnold Schwarzenegger, Linda Hamilton, Edward ...</td>\n",
       "    </tr>\n",
       "    <tr>\n",
       "      <th>247</th>\n",
       "      <td>Lagaan: Once Upon a Time in India</td>\n",
       "      <td>2001</td>\n",
       "      <td>224</td>\n",
       "      <td>Adventure, Drama, Musical</td>\n",
       "      <td>8.1</td>\n",
       "      <td>84.00000</td>\n",
       "      <td>Ashutosh Gowariker</td>\n",
       "      <td>105036</td>\n",
       "      <td>Aamir Khan, Raghuvir Yadav, Gracy Singh, Rache...</td>\n",
       "    </tr>\n",
       "    <tr>\n",
       "      <th>721</th>\n",
       "      <td>God's Own Country</td>\n",
       "      <td>2017</td>\n",
       "      <td>104</td>\n",
       "      <td>Drama, Romance</td>\n",
       "      <td>7.7</td>\n",
       "      <td>85.00000</td>\n",
       "      <td>Francis Lee</td>\n",
       "      <td>25198</td>\n",
       "      <td>Josh O'Connor, Alec Secareanu, Gemma Jones, Ia...</td>\n",
       "    </tr>\n",
       "    <tr>\n",
       "      <th>281</th>\n",
       "      <td>Barry Lyndon</td>\n",
       "      <td>1975</td>\n",
       "      <td>185</td>\n",
       "      <td>Adventure, Drama, History</td>\n",
       "      <td>8.1</td>\n",
       "      <td>89.00000</td>\n",
       "      <td>Stanley Kubrick</td>\n",
       "      <td>149843</td>\n",
       "      <td>Ryan O'Neal, Marisa Berenson, Patrick Magee, H...</td>\n",
       "    </tr>\n",
       "    <tr>\n",
       "      <th>893</th>\n",
       "      <td>Sicario</td>\n",
       "      <td>2015</td>\n",
       "      <td>121</td>\n",
       "      <td>Action, Crime, Drama</td>\n",
       "      <td>7.6</td>\n",
       "      <td>82.00000</td>\n",
       "      <td>Denis Villeneuve</td>\n",
       "      <td>371291</td>\n",
       "      <td>Emily Blunt, Josh Brolin, Benicio Del Toro, Jo...</td>\n",
       "    </tr>\n",
       "    <tr>\n",
       "      <th>914</th>\n",
       "      <td>Sherlock Holmes</td>\n",
       "      <td>2009</td>\n",
       "      <td>128</td>\n",
       "      <td>Action, Adventure, Mystery</td>\n",
       "      <td>7.6</td>\n",
       "      <td>57.00000</td>\n",
       "      <td>Guy Ritchie</td>\n",
       "      <td>583158</td>\n",
       "      <td>Robert Downey Jr., Jude Law, Rachel McAdams, M...</td>\n",
       "    </tr>\n",
       "    <tr>\n",
       "      <th>810</th>\n",
       "      <td>Shine</td>\n",
       "      <td>1996</td>\n",
       "      <td>105</td>\n",
       "      <td>Biography, Drama, Music</td>\n",
       "      <td>7.7</td>\n",
       "      <td>87.00000</td>\n",
       "      <td>Scott Hicks</td>\n",
       "      <td>51350</td>\n",
       "      <td>Geoffrey Rush, Armin Mueller-Stahl, Justin Bra...</td>\n",
       "    </tr>\n",
       "    <tr>\n",
       "      <th>244</th>\n",
       "      <td>Amores perros</td>\n",
       "      <td>2000</td>\n",
       "      <td>154</td>\n",
       "      <td>Drama, Thriller</td>\n",
       "      <td>8.1</td>\n",
       "      <td>83.00000</td>\n",
       "      <td>Alejandro G. Iñárritu</td>\n",
       "      <td>223741</td>\n",
       "      <td>Emilio Echevarría, Gael García Bernal, Goya To...</td>\n",
       "    </tr>\n",
       "    <tr>\n",
       "      <th>822</th>\n",
       "      <td>Kurenai no buta</td>\n",
       "      <td>1992</td>\n",
       "      <td>94</td>\n",
       "      <td>Animation, Adventure, Comedy</td>\n",
       "      <td>7.7</td>\n",
       "      <td>83.00000</td>\n",
       "      <td>Hayao Miyazaki</td>\n",
       "      <td>77798</td>\n",
       "      <td>Shûichirô Moriyama, Tokiko Katô, Bunshi Katsur...</td>\n",
       "    </tr>\n",
       "    <tr>\n",
       "      <th>321</th>\n",
       "      <td>Das Cabinet des Dr. Caligari</td>\n",
       "      <td>1920</td>\n",
       "      <td>76</td>\n",
       "      <td>Fantasy, Horror, Mystery</td>\n",
       "      <td>8.1</td>\n",
       "      <td>77.97153</td>\n",
       "      <td>Robert Wiene</td>\n",
       "      <td>57428</td>\n",
       "      <td>Werner Krauss, Conrad Veidt, Friedrich Feher, ...</td>\n",
       "    </tr>\n",
       "    <tr>\n",
       "      <th>643</th>\n",
       "      <td>Waking Life</td>\n",
       "      <td>2001</td>\n",
       "      <td>99</td>\n",
       "      <td>Animation, Drama, Fantasy</td>\n",
       "      <td>7.8</td>\n",
       "      <td>83.00000</td>\n",
       "      <td>Richard Linklater</td>\n",
       "      <td>60684</td>\n",
       "      <td>Ethan Hawke, Trevor Jack Brooks, Lorelei Linkl...</td>\n",
       "    </tr>\n",
       "    <tr>\n",
       "      <th>158</th>\n",
       "      <td>Hauru no ugoku shiro</td>\n",
       "      <td>2004</td>\n",
       "      <td>119</td>\n",
       "      <td>Animation, Adventure, Family</td>\n",
       "      <td>8.2</td>\n",
       "      <td>80.00000</td>\n",
       "      <td>Hayao Miyazaki</td>\n",
       "      <td>333915</td>\n",
       "      <td>Chieko Baishô, Takuya Kimura, Tatsuya Gashûin,...</td>\n",
       "    </tr>\n",
       "    <tr>\n",
       "      <th>977</th>\n",
       "      <td>The Naked Gun: From the Files of Police Squad!</td>\n",
       "      <td>1988</td>\n",
       "      <td>85</td>\n",
       "      <td>Comedy, Crime</td>\n",
       "      <td>7.6</td>\n",
       "      <td>76.00000</td>\n",
       "      <td>David Zucker</td>\n",
       "      <td>152871</td>\n",
       "      <td>Leslie Nielsen, Priscilla Presley, O.J. Simpso...</td>\n",
       "    </tr>\n",
       "    <tr>\n",
       "      <th>429</th>\n",
       "      <td>The Sound of Music</td>\n",
       "      <td>1965</td>\n",
       "      <td>172</td>\n",
       "      <td>Biography, Drama, Family</td>\n",
       "      <td>8.0</td>\n",
       "      <td>63.00000</td>\n",
       "      <td>Robert Wise</td>\n",
       "      <td>205425</td>\n",
       "      <td>Julie Andrews, Christopher Plummer, Eleanor Pa...</td>\n",
       "    </tr>\n",
       "    <tr>\n",
       "      <th>941</th>\n",
       "      <td>25th Hour</td>\n",
       "      <td>2002</td>\n",
       "      <td>135</td>\n",
       "      <td>Drama</td>\n",
       "      <td>7.6</td>\n",
       "      <td>68.00000</td>\n",
       "      <td>Spike Lee</td>\n",
       "      <td>169708</td>\n",
       "      <td>Edward Norton, Barry Pepper, Philip Seymour Ho...</td>\n",
       "    </tr>\n",
       "    <tr>\n",
       "      <th>462</th>\n",
       "      <td>Bronenosets Potemkin</td>\n",
       "      <td>1925</td>\n",
       "      <td>75</td>\n",
       "      <td>Drama, History, Thriller</td>\n",
       "      <td>8.0</td>\n",
       "      <td>97.00000</td>\n",
       "      <td>Sergei M. Eisenstein</td>\n",
       "      <td>53054</td>\n",
       "      <td>Aleksandr Antonov, Vladimir Barskiy, Grigoriy ...</td>\n",
       "    </tr>\n",
       "    <tr>\n",
       "      <th>309</th>\n",
       "      <td>The Third Man</td>\n",
       "      <td>1949</td>\n",
       "      <td>104</td>\n",
       "      <td>Film-Noir, Mystery, Thriller</td>\n",
       "      <td>8.1</td>\n",
       "      <td>97.00000</td>\n",
       "      <td>Carol Reed</td>\n",
       "      <td>158731</td>\n",
       "      <td>Orson Welles, Joseph Cotten, Alida Valli, Trev...</td>\n",
       "    </tr>\n",
       "    <tr>\n",
       "      <th>697</th>\n",
       "      <td>Cabaret</td>\n",
       "      <td>1972</td>\n",
       "      <td>124</td>\n",
       "      <td>Drama, Music, Musical</td>\n",
       "      <td>7.8</td>\n",
       "      <td>80.00000</td>\n",
       "      <td>Bob Fosse</td>\n",
       "      <td>48334</td>\n",
       "      <td>Liza Minnelli, Michael York, Helmut Griem, Joe...</td>\n",
       "    </tr>\n",
       "    <tr>\n",
       "      <th>60</th>\n",
       "      <td>Avengers: Infinity War</td>\n",
       "      <td>2018</td>\n",
       "      <td>149</td>\n",
       "      <td>Action, Adventure, Sci-Fi</td>\n",
       "      <td>8.4</td>\n",
       "      <td>68.00000</td>\n",
       "      <td>Anthony Russo</td>\n",
       "      <td>834477</td>\n",
       "      <td>Joe Russo, Robert Downey Jr., Chris Hemsworth,...</td>\n",
       "    </tr>\n",
       "    <tr>\n",
       "      <th>884</th>\n",
       "      <td>The Peanut Butter Falcon</td>\n",
       "      <td>2019</td>\n",
       "      <td>97</td>\n",
       "      <td>Adventure, Comedy, Drama</td>\n",
       "      <td>7.6</td>\n",
       "      <td>70.00000</td>\n",
       "      <td>Tyler Nilson</td>\n",
       "      <td>66346</td>\n",
       "      <td>Michael Schwartz, Zack Gottsagen, Ann Owens, D...</td>\n",
       "    </tr>\n",
       "    <tr>\n",
       "      <th>595</th>\n",
       "      <td>Kaze tachinu</td>\n",
       "      <td>2013</td>\n",
       "      <td>126</td>\n",
       "      <td>Animation, Biography, Drama</td>\n",
       "      <td>7.8</td>\n",
       "      <td>83.00000</td>\n",
       "      <td>Hayao Miyazaki</td>\n",
       "      <td>73690</td>\n",
       "      <td>Hideaki Anno, Hidetoshi Nishijima, Miori Takim...</td>\n",
       "    </tr>\n",
       "    <tr>\n",
       "      <th>767</th>\n",
       "      <td>Zodiac</td>\n",
       "      <td>2007</td>\n",
       "      <td>157</td>\n",
       "      <td>Crime, Drama, Mystery</td>\n",
       "      <td>7.7</td>\n",
       "      <td>78.00000</td>\n",
       "      <td>David Fincher</td>\n",
       "      <td>466080</td>\n",
       "      <td>Jake Gyllenhaal, Robert Downey Jr., Mark Ruffa...</td>\n",
       "    </tr>\n",
       "    <tr>\n",
       "      <th>649</th>\n",
       "      <td>The Insider</td>\n",
       "      <td>1999</td>\n",
       "      <td>157</td>\n",
       "      <td>Biography, Drama, Thriller</td>\n",
       "      <td>7.8</td>\n",
       "      <td>84.00000</td>\n",
       "      <td>Michael Mann</td>\n",
       "      <td>159886</td>\n",
       "      <td>Russell Crowe, Al Pacino, Christopher Plummer,...</td>\n",
       "    </tr>\n",
       "    <tr>\n",
       "      <th>650</th>\n",
       "      <td>October Sky</td>\n",
       "      <td>1999</td>\n",
       "      <td>108</td>\n",
       "      <td>Biography, Drama, Family</td>\n",
       "      <td>7.8</td>\n",
       "      <td>71.00000</td>\n",
       "      <td>Joe Johnston</td>\n",
       "      <td>82855</td>\n",
       "      <td>Jake Gyllenhaal, Chris Cooper, Laura Dern, Chr...</td>\n",
       "    </tr>\n",
       "    <tr>\n",
       "      <th>865</th>\n",
       "      <td>The Magnificent Seven</td>\n",
       "      <td>1960</td>\n",
       "      <td>128</td>\n",
       "      <td>Action, Adventure, Western</td>\n",
       "      <td>7.7</td>\n",
       "      <td>74.00000</td>\n",
       "      <td>John Sturges</td>\n",
       "      <td>87719</td>\n",
       "      <td>Yul Brynner, Steve McQueen, Charles Bronson, E...</td>\n",
       "    </tr>\n",
       "    <tr>\n",
       "      <th>668</th>\n",
       "      <td>La double vie de Véronique</td>\n",
       "      <td>1991</td>\n",
       "      <td>98</td>\n",
       "      <td>Drama, Fantasy, Music</td>\n",
       "      <td>7.8</td>\n",
       "      <td>86.00000</td>\n",
       "      <td>Krzysztof Kieslowski</td>\n",
       "      <td>42376</td>\n",
       "      <td>Irène Jacob, Wladyslaw Kowalski, Halina Grygla...</td>\n",
       "    </tr>\n",
       "    <tr>\n",
       "      <th>298</th>\n",
       "      <td>Inherit the Wind</td>\n",
       "      <td>1960</td>\n",
       "      <td>128</td>\n",
       "      <td>Biography, Drama, History</td>\n",
       "      <td>8.1</td>\n",
       "      <td>75.00000</td>\n",
       "      <td>Stanley Kramer</td>\n",
       "      <td>27254</td>\n",
       "      <td>Spencer Tracy, Fredric March, Gene Kelly, Dick...</td>\n",
       "    </tr>\n",
       "    <tr>\n",
       "      <th>689</th>\n",
       "      <td>Kramer vs. Kramer</td>\n",
       "      <td>1979</td>\n",
       "      <td>105</td>\n",
       "      <td>Drama</td>\n",
       "      <td>7.8</td>\n",
       "      <td>77.00000</td>\n",
       "      <td>Robert Benton</td>\n",
       "      <td>133351</td>\n",
       "      <td>Dustin Hoffman, Meryl Streep, Jane Alexander, ...</td>\n",
       "    </tr>\n",
       "    <tr>\n",
       "      <th>314</th>\n",
       "      <td>Gone with the Wind</td>\n",
       "      <td>1939</td>\n",
       "      <td>238</td>\n",
       "      <td>Drama, History, Romance</td>\n",
       "      <td>8.1</td>\n",
       "      <td>97.00000</td>\n",
       "      <td>Victor Fleming</td>\n",
       "      <td>290074</td>\n",
       "      <td>George Cukor, Sam Wood, Clark Gable, Vivien Leigh</td>\n",
       "    </tr>\n",
       "    <tr>\n",
       "      <th>310</th>\n",
       "      <td>The Red Shoes</td>\n",
       "      <td>1948</td>\n",
       "      <td>135</td>\n",
       "      <td>Drama, Music, Romance</td>\n",
       "      <td>8.1</td>\n",
       "      <td>77.97153</td>\n",
       "      <td>Michael Powell</td>\n",
       "      <td>30935</td>\n",
       "      <td>Emeric Pressburger, Anton Walbrook, Marius Gor...</td>\n",
       "    </tr>\n",
       "    <tr>\n",
       "      <th>361</th>\n",
       "      <td>Blood Diamond</td>\n",
       "      <td>2006</td>\n",
       "      <td>143</td>\n",
       "      <td>Adventure, Drama, Thriller</td>\n",
       "      <td>8.0</td>\n",
       "      <td>64.00000</td>\n",
       "      <td>Edward Zwick</td>\n",
       "      <td>499439</td>\n",
       "      <td>Leonardo DiCaprio, Djimon Hounsou, Jennifer Co...</td>\n",
       "    </tr>\n",
       "    <tr>\n",
       "      <th>479</th>\n",
       "      <td>X-Men: Days of Future Past</td>\n",
       "      <td>2014</td>\n",
       "      <td>132</td>\n",
       "      <td>Action, Adventure, Sci-Fi</td>\n",
       "      <td>7.9</td>\n",
       "      <td>75.00000</td>\n",
       "      <td>Bryan Singer</td>\n",
       "      <td>659763</td>\n",
       "      <td>Patrick Stewart, Ian McKellen, Hugh Jackman, J...</td>\n",
       "    </tr>\n",
       "    <tr>\n",
       "      <th>110</th>\n",
       "      <td>Das Boot</td>\n",
       "      <td>1981</td>\n",
       "      <td>149</td>\n",
       "      <td>Adventure, Drama, Thriller</td>\n",
       "      <td>8.3</td>\n",
       "      <td>86.00000</td>\n",
       "      <td>Wolfgang Petersen</td>\n",
       "      <td>231855</td>\n",
       "      <td>Jürgen Prochnow, Herbert Grönemeyer, Klaus Wen...</td>\n",
       "    </tr>\n",
       "    <tr>\n",
       "      <th>989</th>\n",
       "      <td>The Long Goodbye</td>\n",
       "      <td>1973</td>\n",
       "      <td>112</td>\n",
       "      <td>Comedy, Crime, Drama</td>\n",
       "      <td>7.6</td>\n",
       "      <td>87.00000</td>\n",
       "      <td>Robert Altman</td>\n",
       "      <td>26337</td>\n",
       "      <td>Elliott Gould, Nina van Pallandt, Sterling Hay...</td>\n",
       "    </tr>\n",
       "    <tr>\n",
       "      <th>486</th>\n",
       "      <td>Moon</td>\n",
       "      <td>2009</td>\n",
       "      <td>97</td>\n",
       "      <td>Drama, Mystery, Sci-Fi</td>\n",
       "      <td>7.9</td>\n",
       "      <td>67.00000</td>\n",
       "      <td>Duncan Jones</td>\n",
       "      <td>335152</td>\n",
       "      <td>Sam Rockwell, Kevin Spacey, Dominique McElligo...</td>\n",
       "    </tr>\n",
       "    <tr>\n",
       "      <th>363</th>\n",
       "      <td>Bin-jip</td>\n",
       "      <td>2004</td>\n",
       "      <td>88</td>\n",
       "      <td>Crime, Drama, Romance</td>\n",
       "      <td>8.0</td>\n",
       "      <td>72.00000</td>\n",
       "      <td>Ki-duk Kim</td>\n",
       "      <td>50610</td>\n",
       "      <td>Seung-Yun Lee, Hee Jae, Hyuk-ho Kwon, Jin-mo Joo</td>\n",
       "    </tr>\n",
       "    <tr>\n",
       "      <th>254</th>\n",
       "      <td>Trainspotting</td>\n",
       "      <td>1996</td>\n",
       "      <td>93</td>\n",
       "      <td>Drama</td>\n",
       "      <td>8.1</td>\n",
       "      <td>83.00000</td>\n",
       "      <td>Danny Boyle</td>\n",
       "      <td>634716</td>\n",
       "      <td>Ewan McGregor, Ewen Bremner, Jonny Lee Miller,...</td>\n",
       "    </tr>\n",
       "    <tr>\n",
       "      <th>259</th>\n",
       "      <td>Before Sunrise</td>\n",
       "      <td>1995</td>\n",
       "      <td>101</td>\n",
       "      <td>Drama, Romance</td>\n",
       "      <td>8.1</td>\n",
       "      <td>77.00000</td>\n",
       "      <td>Richard Linklater</td>\n",
       "      <td>272291</td>\n",
       "      <td>Ethan Hawke, Julie Delpy, Andrea Eckert, Hanno...</td>\n",
       "    </tr>\n",
       "    <tr>\n",
       "      <th>802</th>\n",
       "      <td>Training Day</td>\n",
       "      <td>2001</td>\n",
       "      <td>122</td>\n",
       "      <td>Crime, Drama, Thriller</td>\n",
       "      <td>7.7</td>\n",
       "      <td>69.00000</td>\n",
       "      <td>Antoine Fuqua</td>\n",
       "      <td>390247</td>\n",
       "      <td>Denzel Washington, Ethan Hawke, Scott Glenn, T...</td>\n",
       "    </tr>\n",
       "    <tr>\n",
       "      <th>677</th>\n",
       "      <td>Predator</td>\n",
       "      <td>1987</td>\n",
       "      <td>107</td>\n",
       "      <td>Action, Adventure, Sci-Fi</td>\n",
       "      <td>7.8</td>\n",
       "      <td>45.00000</td>\n",
       "      <td>John McTiernan</td>\n",
       "      <td>371387</td>\n",
       "      <td>Arnold Schwarzenegger, Carl Weathers, Kevin Pe...</td>\n",
       "    </tr>\n",
       "    <tr>\n",
       "      <th>494</th>\n",
       "      <td>In Bruges</td>\n",
       "      <td>2008</td>\n",
       "      <td>107</td>\n",
       "      <td>Comedy, Crime, Drama</td>\n",
       "      <td>7.9</td>\n",
       "      <td>67.00000</td>\n",
       "      <td>Martin McDonagh</td>\n",
       "      <td>390334</td>\n",
       "      <td>Colin Farrell, Brendan Gleeson, Ciarán Hinds, ...</td>\n",
       "    </tr>\n",
       "    <tr>\n",
       "      <th>670</th>\n",
       "      <td>Misery</td>\n",
       "      <td>1990</td>\n",
       "      <td>107</td>\n",
       "      <td>Drama, Thriller</td>\n",
       "      <td>7.8</td>\n",
       "      <td>75.00000</td>\n",
       "      <td>Rob Reiner</td>\n",
       "      <td>184740</td>\n",
       "      <td>James Caan, Kathy Bates, Richard Farnsworth, F...</td>\n",
       "    </tr>\n",
       "    <tr>\n",
       "      <th>377</th>\n",
       "      <td>Big Fish</td>\n",
       "      <td>2003</td>\n",
       "      <td>125</td>\n",
       "      <td>Adventure, Drama, Fantasy</td>\n",
       "      <td>8.0</td>\n",
       "      <td>58.00000</td>\n",
       "      <td>Tim Burton</td>\n",
       "      <td>415218</td>\n",
       "      <td>Ewan McGregor, Albert Finney, Billy Crudup, Je...</td>\n",
       "    </tr>\n",
       "    <tr>\n",
       "      <th>526</th>\n",
       "      <td>Crimes and Misdemeanors</td>\n",
       "      <td>1989</td>\n",
       "      <td>104</td>\n",
       "      <td>Comedy, Drama</td>\n",
       "      <td>7.9</td>\n",
       "      <td>77.00000</td>\n",
       "      <td>Woody Allen</td>\n",
       "      <td>54670</td>\n",
       "      <td>Martin Landau, Woody Allen, Bill Bernstein, Cl...</td>\n",
       "    </tr>\n",
       "    <tr>\n",
       "      <th>845</th>\n",
       "      <td>Le locataire</td>\n",
       "      <td>1976</td>\n",
       "      <td>126</td>\n",
       "      <td>Drama, Thriller</td>\n",
       "      <td>7.7</td>\n",
       "      <td>71.00000</td>\n",
       "      <td>Roman Polanski</td>\n",
       "      <td>39889</td>\n",
       "      <td>Roman Polanski, Isabelle Adjani, Melvyn Dougla...</td>\n",
       "    </tr>\n",
       "    <tr>\n",
       "      <th>137</th>\n",
       "      <td>Queen</td>\n",
       "      <td>2013</td>\n",
       "      <td>146</td>\n",
       "      <td>Adventure, Comedy, Drama</td>\n",
       "      <td>8.2</td>\n",
       "      <td>77.97153</td>\n",
       "      <td>Vikas Bahl</td>\n",
       "      <td>60701</td>\n",
       "      <td>Kangana Ranaut, Rajkummar Rao, Lisa Haydon, Je...</td>\n",
       "    </tr>\n",
       "    <tr>\n",
       "      <th>355</th>\n",
       "      <td>Black Swan</td>\n",
       "      <td>2010</td>\n",
       "      <td>108</td>\n",
       "      <td>Drama, Thriller</td>\n",
       "      <td>8.0</td>\n",
       "      <td>79.00000</td>\n",
       "      <td>Darren Aronofsky</td>\n",
       "      <td>699673</td>\n",
       "      <td>Natalie Portman, Mila Kunis, Vincent Cassel, W...</td>\n",
       "    </tr>\n",
       "    <tr>\n",
       "      <th>365</th>\n",
       "      <td>Le scaphandre et le papillon</td>\n",
       "      <td>2007</td>\n",
       "      <td>112</td>\n",
       "      <td>Biography, Drama</td>\n",
       "      <td>8.0</td>\n",
       "      <td>92.00000</td>\n",
       "      <td>Julian Schnabel</td>\n",
       "      <td>103284</td>\n",
       "      <td>Laura Obiols, Mathieu Amalric, Emmanuelle Seig...</td>\n",
       "    </tr>\n",
       "    <tr>\n",
       "      <th>942</th>\n",
       "      <td>The Butterfly Effect</td>\n",
       "      <td>2004</td>\n",
       "      <td>113</td>\n",
       "      <td>Drama, Sci-Fi, Thriller</td>\n",
       "      <td>7.6</td>\n",
       "      <td>30.00000</td>\n",
       "      <td>Eric Bress</td>\n",
       "      <td>451479</td>\n",
       "      <td>J. Mackye Gruber, Ashton Kutcher, Amy Smart, M...</td>\n",
       "    </tr>\n",
       "    <tr>\n",
       "      <th>749</th>\n",
       "      <td>X: First Class</td>\n",
       "      <td>2011</td>\n",
       "      <td>131</td>\n",
       "      <td>Action, Adventure, Sci-Fi</td>\n",
       "      <td>7.7</td>\n",
       "      <td>65.00000</td>\n",
       "      <td>Matthew Vaughn</td>\n",
       "      <td>645512</td>\n",
       "      <td>James McAvoy, Michael Fassbender, Jennifer Law...</td>\n",
       "    </tr>\n",
       "    <tr>\n",
       "      <th>948</th>\n",
       "      <td>The Others</td>\n",
       "      <td>2001</td>\n",
       "      <td>101</td>\n",
       "      <td>Horror, Mystery, Thriller</td>\n",
       "      <td>7.6</td>\n",
       "      <td>74.00000</td>\n",
       "      <td>Alejandro Amenábar</td>\n",
       "      <td>337651</td>\n",
       "      <td>Nicole Kidman, Christopher Eccleston, Fionnula...</td>\n",
       "    </tr>\n",
       "    <tr>\n",
       "      <th>829</th>\n",
       "      <td>Spoorloos</td>\n",
       "      <td>1988</td>\n",
       "      <td>107</td>\n",
       "      <td>Mystery, Thriller</td>\n",
       "      <td>7.7</td>\n",
       "      <td>77.97153</td>\n",
       "      <td>George Sluizer</td>\n",
       "      <td>33982</td>\n",
       "      <td>Bernard-Pierre Donnadieu, Gene Bervoets, Johan...</td>\n",
       "    </tr>\n",
       "    <tr>\n",
       "      <th>656</th>\n",
       "      <td>Breaking the Waves</td>\n",
       "      <td>1996</td>\n",
       "      <td>159</td>\n",
       "      <td>Drama</td>\n",
       "      <td>7.8</td>\n",
       "      <td>76.00000</td>\n",
       "      <td>Lars von Trier</td>\n",
       "      <td>62428</td>\n",
       "      <td>Emily Watson, Stellan Skarsgård, Katrin Cartli...</td>\n",
       "    </tr>\n",
       "    <tr>\n",
       "      <th>199</th>\n",
       "      <td>Ah-ga-ssi</td>\n",
       "      <td>2016</td>\n",
       "      <td>145</td>\n",
       "      <td>Drama, Romance, Thriller</td>\n",
       "      <td>8.1</td>\n",
       "      <td>84.00000</td>\n",
       "      <td>Chan-wook Park</td>\n",
       "      <td>113649</td>\n",
       "      <td>Kim Min-hee, Jung-woo Ha, Cho Jin-woong, Moon ...</td>\n",
       "    </tr>\n",
       "    <tr>\n",
       "      <th>213</th>\n",
       "      <td>Inside Out</td>\n",
       "      <td>2015</td>\n",
       "      <td>95</td>\n",
       "      <td>Animation, Adventure, Comedy</td>\n",
       "      <td>8.1</td>\n",
       "      <td>94.00000</td>\n",
       "      <td>Pete Docter</td>\n",
       "      <td>616228</td>\n",
       "      <td>Ronnie Del Carmen, Amy Poehler, Bill Hader, Le...</td>\n",
       "    </tr>\n",
       "    <tr>\n",
       "      <th>408</th>\n",
       "      <td>Au revoir les enfants</td>\n",
       "      <td>1987</td>\n",
       "      <td>104</td>\n",
       "      <td>Drama, War</td>\n",
       "      <td>8.0</td>\n",
       "      <td>88.00000</td>\n",
       "      <td>Louis Malle</td>\n",
       "      <td>31163</td>\n",
       "      <td>Gaspard Manesse, Raphael Fejtö, Francine Racet...</td>\n",
       "    </tr>\n",
       "    <tr>\n",
       "      <th>332</th>\n",
       "      <td>Kaguyahime no monogatari</td>\n",
       "      <td>2013</td>\n",
       "      <td>137</td>\n",
       "      <td>Animation, Adventure, Drama</td>\n",
       "      <td>8.0</td>\n",
       "      <td>89.00000</td>\n",
       "      <td>Isao Takahata</td>\n",
       "      <td>38746</td>\n",
       "      <td>Chloë Grace Moretz, James Caan, Mary Steenburg...</td>\n",
       "    </tr>\n",
       "    <tr>\n",
       "      <th>208</th>\n",
       "      <td>OMG: Oh My God!</td>\n",
       "      <td>2012</td>\n",
       "      <td>125</td>\n",
       "      <td>Comedy, Drama, Fantasy</td>\n",
       "      <td>8.1</td>\n",
       "      <td>77.97153</td>\n",
       "      <td>Umesh Shukla</td>\n",
       "      <td>51739</td>\n",
       "      <td>Paresh Rawal, Akshay Kumar, Mithun Chakraborty...</td>\n",
       "    </tr>\n",
       "    <tr>\n",
       "      <th>613</th>\n",
       "      <td>Druk</td>\n",
       "      <td>2020</td>\n",
       "      <td>117</td>\n",
       "      <td>Comedy, Drama</td>\n",
       "      <td>7.8</td>\n",
       "      <td>81.00000</td>\n",
       "      <td>Thomas Vinterberg</td>\n",
       "      <td>33931</td>\n",
       "      <td>Mads Mikkelsen, Thomas Bo Larsen, Magnus Milla...</td>\n",
       "    </tr>\n",
       "    <tr>\n",
       "      <th>78</th>\n",
       "      <td>Dr. Strangelove or: How I Learned to Stop Worr...</td>\n",
       "      <td>1964</td>\n",
       "      <td>95</td>\n",
       "      <td>Comedy</td>\n",
       "      <td>8.4</td>\n",
       "      <td>97.00000</td>\n",
       "      <td>Stanley Kubrick</td>\n",
       "      <td>450474</td>\n",
       "      <td>Peter Sellers, George C. Scott, Sterling Hayde...</td>\n",
       "    </tr>\n",
       "  </tbody>\n",
       "</table>\n",
       "</div>"
      ],
      "text/plain": [
       "                                                  Title Released_Year  \\\n",
       "Rank                                                                    \n",
       "521                                Trois couleurs: Bleu          1993   \n",
       "737                 Captain America: The Winter Soldier          2014   \n",
       "740                                      Wreck-It Ralph          2012   \n",
       "660                                         The Sandlot          1993   \n",
       "411                                              Gandhi          1982   \n",
       "678                                        Evil Dead II          1987   \n",
       "626                                Little Miss Sunshine          2006   \n",
       "513                                     Children of Men          2006   \n",
       "859                                           Repulsion          1965   \n",
       "136                                            Drishyam          2015   \n",
       "811                                         Primal Fear          1996   \n",
       "76                                                Anand          1971   \n",
       "636                                             Ondskan          2003   \n",
       "973                                          Home Alone          1990   \n",
       "938                                            21 Grams          2003   \n",
       "899                                           El cuerpo          2012   \n",
       "280                                             Network          1976   \n",
       "883                                              Gifted          2017   \n",
       "761                                 Toki o kakeru shôjo          2006   \n",
       "319                       Sunrise: A Song of Two Humans          1927   \n",
       "549                                           Spartacus          1960   \n",
       "174                                             Stalker          1979   \n",
       "371               Bom Yeoareum Gaeul Gyeoul Geurigo Bom          2003   \n",
       "527                                    The Untouchables          1987   \n",
       "210                                           Gone Girl          2014   \n",
       "235                                        Hotel Rwanda          2004   \n",
       "101                                           Toy Story          1995   \n",
       "986                                      Watership Down          1978   \n",
       "902                             Kari-gurashi no Arietti          2010   \n",
       "947               Harry Potter and the Sorcerer's Stone          2001   \n",
       "346                                   The King's Speech          2010   \n",
       "139                                  Bhaag Milkha Bhaag          2013   \n",
       "621                                               Drive          2011   \n",
       "499                                   Fantastic Mr. Fox          2009   \n",
       "370                                      Vozvrashchenie          2003   \n",
       "198                                        Contratiempo          2016   \n",
       "687                                  The King of Comedy          1982   \n",
       "584                                   The Hateful Eight          2015   \n",
       "901                                        End of Watch          2012   \n",
       "59                                    Avengers: Endgame          2019   \n",
       "328                                                Lion          2016   \n",
       "96                                               Snatch          2000   \n",
       "312                                             Rebecca          1940   \n",
       "974                             The Godfather: Part III          1990   \n",
       "299                              Les quatre cents coups          1959   \n",
       "277                                       Life of Brian          1979   \n",
       "924                                        Huo Yuan Jia          2006   \n",
       "601                                            Kokuhaku          2010   \n",
       "439                               Cat on a Hot Tin Roof          1958   \n",
       "837                                               Zelig          1983   \n",
       "570                                               Raazi          2018   \n",
       "879                    Once Upon a Time... in Hollywood          2019   \n",
       "261                                  Chung Hing sam lam          1994   \n",
       "578                            Kubo and the Two Strings          2016   \n",
       "23                        Sen to Chihiro no kamikakushi          2001   \n",
       "30                                              Seppuku          1962   \n",
       "617                                                Once          2007   \n",
       "10    The Lord of the Rings: The Fellowship of the Ring          2001   \n",
       "221                            Zindagi Na Milegi Dobara          2011   \n",
       "820                                           Malcolm X          1992   \n",
       "296                                     Ivanovo detstvo          1962   \n",
       "54                            Ayla: The Daughter of War          2017   \n",
       "542                                              Patton          1970   \n",
       "209                            The Grand Budapest Hotel          2014   \n",
       "604                                    Captain Phillips          2013   \n",
       "692                           The Man Who Would Be King          1975   \n",
       "662                                               Naked          1993   \n",
       "866                                Les yeux sans visage          1960   \n",
       "70                                        Mononoke-hime          1997   \n",
       "543                                      The Wild Bunch          1969   \n",
       "107                                             Amadeus          1984   \n",
       "493                                           Star Trek          2009   \n",
       "590                                        The Lunchbox          2013   \n",
       "741                                     Le Petit Prince          2015   \n",
       "292                               El ángel exterminador          1962   \n",
       "289                                             Persona          1966   \n",
       "652                                             Titanic          1997   \n",
       "39                                            Gladiator          2000   \n",
       "589                                  La grande bellezza          2013   \n",
       "307                                     Ace in the Hole          1951   \n",
       "679                            Ferris Bueller's Day Off          1986   \n",
       "66                                               WALL·E          2008   \n",
       "275                                        Blade Runner          1982   \n",
       "67                                  The Lives of Others          2006   \n",
       "318                                          The Circus          1928   \n",
       "548                            The Manchurian Candidate          1962   \n",
       "998                                            Lifeboat          1944   \n",
       "714                                   The Lady Vanishes          1938   \n",
       "753                                                Argo          2012   \n",
       "327                                          La La Land          2016   \n",
       "382                                        Donnie Darko          2001   \n",
       "451                                     Out of the Past          1947   \n",
       "522                                       Jûbê ninpûchô          1993   \n",
       "218                                           Spotlight          2015   \n",
       "787                                          In America          2002   \n",
       "436                                           Rio Bravo          1959   \n",
       "764                                          Ex Machina          2014   \n",
       "88                                               Jagten          2012   \n",
       "63                                The Dark Knight Rises          2012   \n",
       "826                                         Barton Fink          1991   \n",
       "716                               Bride of Frankenstein          1935   \n",
       "351                                             Yip Man          2008   \n",
       "936                     Un long dimanche de fiançailles          2004   \n",
       "256                                         Underground          1995   \n",
       "635                                       Walk the Line          2005   \n",
       "644                                 Remember the Titans          2000   \n",
       "554                                        East of Eden          1955   \n",
       "959                                           Dark City          1998   \n",
       "168                  Indiana Jones and the Last Crusade          1989   \n",
       "917                                        Seven Pounds          2008   \n",
       "528                              Hannah and Her Sisters          1986   \n",
       "823                                 Glengarry Glen Ross          1992   \n",
       "985                                Escape from Alcatraz          1979   \n",
       "816                                              Clerks          1994   \n",
       "86                                            Andhadhun          2018   \n",
       "432                                                  8½          1963   \n",
       "184                                     Smultronstället          1957   \n",
       "978                        Planes, Trains & Automobiles          1987   \n",
       "534                                       All That Jazz          1979   \n",
       "294                                             Sanjuro          1962   \n",
       "892                                               Moana          2016   \n",
       "425                                     Rosemary's Baby          1968   \n",
       "713                                          Stagecoach          1939   \n",
       "260                               Trois couleurs: Rouge          1994   \n",
       "237                                       Before Sunset          2004   \n",
       "559                                           Notorious          1946   \n",
       "583                          Captain America: Civil War          2016   \n",
       "445                                           Stalag 17          1953   \n",
       "867                      Invasion of the Body Snatchers          1956   \n",
       "800                                        Office Space          1999   \n",
       "599                          How to Train Your Dragon 2          2014   \n",
       "849                                             Serpico          1973   \n",
       "265                         Dà hóng denglong gaogao guà          1991   \n",
       "995                              Breakfast at Tiffany's          1961   \n",
       "529                                              Brazil          1985   \n",
       "55                                         Vikram Vedha          2017   \n",
       "120                                 Singin' in the Rain          1952   \n",
       "215                                    12 Years a Slave          2013   \n",
       "25                                       The Green Mile          1999   \n",
       "72                              Raiders of the Lost Ark          1981   \n",
       "44                           Terminator 2: Judgment Day          1991   \n",
       "247                   Lagaan: Once Upon a Time in India          2001   \n",
       "721                                   God's Own Country          2017   \n",
       "281                                        Barry Lyndon          1975   \n",
       "893                                             Sicario          2015   \n",
       "914                                     Sherlock Holmes          2009   \n",
       "810                                               Shine          1996   \n",
       "244                                       Amores perros          2000   \n",
       "822                                     Kurenai no buta          1992   \n",
       "321                        Das Cabinet des Dr. Caligari          1920   \n",
       "643                                         Waking Life          2001   \n",
       "158                                Hauru no ugoku shiro          2004   \n",
       "977      The Naked Gun: From the Files of Police Squad!          1988   \n",
       "429                                  The Sound of Music          1965   \n",
       "941                                           25th Hour          2002   \n",
       "462                                Bronenosets Potemkin          1925   \n",
       "309                                       The Third Man          1949   \n",
       "697                                             Cabaret          1972   \n",
       "60                               Avengers: Infinity War          2018   \n",
       "884                            The Peanut Butter Falcon          2019   \n",
       "595                                        Kaze tachinu          2013   \n",
       "767                                              Zodiac          2007   \n",
       "649                                         The Insider          1999   \n",
       "650                                         October Sky          1999   \n",
       "865                               The Magnificent Seven          1960   \n",
       "668                          La double vie de Véronique          1991   \n",
       "298                                    Inherit the Wind          1960   \n",
       "689                                   Kramer vs. Kramer          1979   \n",
       "314                                  Gone with the Wind          1939   \n",
       "310                                       The Red Shoes          1948   \n",
       "361                                       Blood Diamond          2006   \n",
       "479                          X-Men: Days of Future Past          2014   \n",
       "110                                            Das Boot          1981   \n",
       "989                                    The Long Goodbye          1973   \n",
       "486                                                Moon          2009   \n",
       "363                                             Bin-jip          2004   \n",
       "254                                       Trainspotting          1996   \n",
       "259                                      Before Sunrise          1995   \n",
       "802                                        Training Day          2001   \n",
       "677                                            Predator          1987   \n",
       "494                                           In Bruges          2008   \n",
       "670                                              Misery          1990   \n",
       "377                                            Big Fish          2003   \n",
       "526                             Crimes and Misdemeanors          1989   \n",
       "845                                        Le locataire          1976   \n",
       "137                                               Queen          2013   \n",
       "355                                          Black Swan          2010   \n",
       "365                        Le scaphandre et le papillon          2007   \n",
       "942                                The Butterfly Effect          2004   \n",
       "749                                      X: First Class          2011   \n",
       "948                                          The Others          2001   \n",
       "829                                           Spoorloos          1988   \n",
       "656                                  Breaking the Waves          1996   \n",
       "199                                           Ah-ga-ssi          2016   \n",
       "213                                          Inside Out          2015   \n",
       "408                               Au revoir les enfants          1987   \n",
       "332                            Kaguyahime no monogatari          2013   \n",
       "208                                     OMG: Oh My God!          2012   \n",
       "613                                                Druk          2020   \n",
       "78    Dr. Strangelove or: How I Learned to Stop Worr...          1964   \n",
       "\n",
       "      Runtime                         Genre  IMDB_Rating  Metascore  \\\n",
       "Rank                                                                  \n",
       "521        94         Drama, Music, Mystery          7.9   85.00000   \n",
       "737       136     Action, Adventure, Sci-Fi          7.7   70.00000   \n",
       "740       101  Animation, Adventure, Comedy          7.7   72.00000   \n",
       "660       101         Comedy, Drama, Family          7.8   55.00000   \n",
       "411       191     Biography, Drama, History          8.0   79.00000   \n",
       "678        84       Action, Comedy, Fantasy          7.8   72.00000   \n",
       "626       101                 Comedy, Drama          7.8   80.00000   \n",
       "513       109      Adventure, Drama, Sci-Fi          7.9   84.00000   \n",
       "859       105       Drama, Horror, Thriller          7.7   91.00000   \n",
       "136       163         Crime, Drama, Mystery          8.2   77.97153   \n",
       "811       129         Crime, Drama, Mystery          7.7   47.00000   \n",
       "76        122                Drama, Musical          8.4   77.97153   \n",
       "636       113                         Drama          7.8   61.00000   \n",
       "973       103                Comedy, Family          7.6   63.00000   \n",
       "938       124        Crime, Drama, Thriller          7.6   70.00000   \n",
       "899       112             Mystery, Thriller          7.6   77.97153   \n",
       "280       121                         Drama          8.1   83.00000   \n",
       "883       101                         Drama          7.6   60.00000   \n",
       "761        98  Animation, Adventure, Comedy          7.7   77.97153   \n",
       "319        94                Drama, Romance          8.1   77.97153   \n",
       "549       197   Adventure, Biography, Drama          7.9   87.00000   \n",
       "174       162                 Drama, Sci-Fi          8.2   77.97153   \n",
       "371       103                Drama, Romance          8.0   85.00000   \n",
       "527       119        Crime, Drama, Thriller          7.9   79.00000   \n",
       "210       149      Drama, Mystery, Thriller          8.1   79.00000   \n",
       "235       121     Biography, Drama, History          8.1   79.00000   \n",
       "101        81  Animation, Adventure, Comedy          8.3   95.00000   \n",
       "986        91   Animation, Adventure, Drama          7.6   64.00000   \n",
       "902        94  Animation, Adventure, Family          7.6   80.00000   \n",
       "947       152    Adventure, Family, Fantasy          7.6   64.00000   \n",
       "346       118     Biography, Drama, History          8.0   88.00000   \n",
       "139       186       Biography, Drama, Sport          8.2   77.97153   \n",
       "621       100                  Crime, Drama          7.8   78.00000   \n",
       "499        87  Animation, Adventure, Comedy          7.9   83.00000   \n",
       "370       110                         Drama          8.0   82.00000   \n",
       "198       106         Crime, Drama, Mystery          8.1   77.97153   \n",
       "687       109          Comedy, Crime, Drama          7.8   73.00000   \n",
       "584       168         Crime, Drama, Mystery          7.8   68.00000   \n",
       "901       109          Action, Crime, Drama          7.6   68.00000   \n",
       "59        181      Action, Adventure, Drama          8.4   78.00000   \n",
       "328       118              Biography, Drama          8.0   69.00000   \n",
       "96        104                 Comedy, Crime          8.3   55.00000   \n",
       "312       130       Drama, Mystery, Romance          8.1   86.00000   \n",
       "974       162                  Crime, Drama          7.6   60.00000   \n",
       "299        99                  Crime, Drama          8.1   77.97153   \n",
       "277        94                        Comedy          8.1   77.00000   \n",
       "924       104      Action, Biography, Drama          7.6   70.00000   \n",
       "601       106               Drama, Thriller          7.8   77.97153   \n",
       "439       108                         Drama          8.0   84.00000   \n",
       "837        79                        Comedy          7.7   77.97153   \n",
       "570       138       Action, Drama, Thriller          7.8   77.97153   \n",
       "879       161                 Comedy, Drama          7.6   83.00000   \n",
       "261       102          Comedy, Crime, Drama          8.1   77.00000   \n",
       "578       101  Animation, Action, Adventure          7.8   84.00000   \n",
       "23        125  Animation, Adventure, Family          8.6   96.00000   \n",
       "30        133        Action, Drama, Mystery          8.6   85.00000   \n",
       "617        86         Drama, Music, Romance          7.8   88.00000   \n",
       "10        178      Action, Adventure, Drama          8.8   92.00000   \n",
       "221       155                 Comedy, Drama          8.1   77.97153   \n",
       "820       202     Biography, Drama, History          7.7   73.00000   \n",
       "296        95                    Drama, War          8.1   77.97153   \n",
       "54        125     Biography, Drama, History          8.4   77.97153   \n",
       "542       172         Biography, Drama, War          7.9   91.00000   \n",
       "209        99      Adventure, Comedy, Crime          8.1   88.00000   \n",
       "604       134   Adventure, Biography, Crime          7.8   82.00000   \n",
       "692       129       Adventure, History, War          7.8   91.00000   \n",
       "662       132                 Comedy, Drama          7.8   84.00000   \n",
       "866        90                 Drama, Horror          7.7   90.00000   \n",
       "70        134  Animation, Action, Adventure          8.4   76.00000   \n",
       "543       145    Action, Adventure, Western          7.9   97.00000   \n",
       "107       160     Biography, Drama, History          8.3   88.00000   \n",
       "493       127     Action, Adventure, Sci-Fi          7.9   82.00000   \n",
       "590       104                Drama, Romance          7.8   76.00000   \n",
       "741       108   Animation, Adventure, Drama          7.7   70.00000   \n",
       "292        95                Drama, Fantasy          8.1   77.97153   \n",
       "289        85               Drama, Thriller          8.1   86.00000   \n",
       "652       194                Drama, Romance          7.8   75.00000   \n",
       "39        155      Action, Adventure, Drama          8.5   67.00000   \n",
       "589       141                         Drama          7.8   86.00000   \n",
       "307       111              Drama, Film-Noir          8.1   72.00000   \n",
       "679       103                        Comedy          7.8   61.00000   \n",
       "66         98  Animation, Adventure, Family          8.4   95.00000   \n",
       "275       117      Action, Sci-Fi, Thriller          8.1   84.00000   \n",
       "67        137      Drama, Mystery, Thriller          8.4   89.00000   \n",
       "318        72               Comedy, Romance          8.1   90.00000   \n",
       "548       126               Drama, Thriller          7.9   94.00000   \n",
       "998        97                    Drama, War          7.6   78.00000   \n",
       "714        96             Mystery, Thriller          7.8   98.00000   \n",
       "753       120    Biography, Drama, Thriller          7.7   86.00000   \n",
       "327       128          Comedy, Drama, Music          8.0   94.00000   \n",
       "382       113        Drama, Mystery, Sci-Fi          8.0   88.00000   \n",
       "451        97       Crime, Drama, Film-Noir          8.0   77.97153   \n",
       "522        94  Animation, Action, Adventure          7.9   77.97153   \n",
       "218       129       Biography, Crime, Drama          8.1   93.00000   \n",
       "787       105                         Drama          7.7   76.00000   \n",
       "436       141        Action, Drama, Western          8.0   93.00000   \n",
       "764       108       Drama, Sci-Fi, Thriller          7.7   78.00000   \n",
       "88        115                         Drama          8.3   77.00000   \n",
       "63        164             Action, Adventure          8.4   78.00000   \n",
       "826       116       Comedy, Drama, Thriller          7.7   69.00000   \n",
       "716        75         Drama, Horror, Sci-Fi          7.8   95.00000   \n",
       "351       106      Action, Biography, Drama          8.0   59.00000   \n",
       "936       133       Drama, Mystery, Romance          7.6   76.00000   \n",
       "256       170            Comedy, Drama, War          8.1   77.97153   \n",
       "635       136       Biography, Drama, Music          7.8   72.00000   \n",
       "644       113       Biography, Drama, Sport          7.8   48.00000   \n",
       "554       118                         Drama          7.9   72.00000   \n",
       "959       100     Mystery, Sci-Fi, Thriller          7.6   66.00000   \n",
       "168       127             Action, Adventure          8.2   65.00000   \n",
       "917       123                         Drama          7.6   36.00000   \n",
       "528       107                 Comedy, Drama          7.9   90.00000   \n",
       "823       100         Crime, Drama, Mystery          7.7   82.00000   \n",
       "985       112      Action, Biography, Crime          7.6   76.00000   \n",
       "816        92                        Comedy          7.7   70.00000   \n",
       "86        139           Crime, Drama, Music          8.3   77.97153   \n",
       "432       138                         Drama          8.0   91.00000   \n",
       "184        91                Drama, Romance          8.2   88.00000   \n",
       "978        93                 Comedy, Drama          7.6   72.00000   \n",
       "534       123         Drama, Music, Musical          7.9   72.00000   \n",
       "294        96         Action, Comedy, Crime          8.1   77.97153   \n",
       "892       107  Animation, Adventure, Comedy          7.6   81.00000   \n",
       "425       137                 Drama, Horror          8.0   96.00000   \n",
       "713        96     Adventure, Drama, Western          7.8   93.00000   \n",
       "260        99       Drama, Mystery, Romance          8.1  100.00000   \n",
       "237        80                Drama, Romance          8.1   90.00000   \n",
       "559       102     Drama, Film-Noir, Romance          7.9  100.00000   \n",
       "583       147     Action, Adventure, Sci-Fi          7.8   75.00000   \n",
       "445       120            Comedy, Drama, War          8.0   84.00000   \n",
       "867        80         Drama, Horror, Sci-Fi          7.7   92.00000   \n",
       "800        89                        Comedy          7.7   68.00000   \n",
       "599       102  Animation, Action, Adventure          7.8   76.00000   \n",
       "849       130       Biography, Crime, Drama          7.7   87.00000   \n",
       "265       125       Drama, History, Romance          8.1   77.97153   \n",
       "995       115        Comedy, Drama, Romance          7.6   76.00000   \n",
       "529       132                 Drama, Sci-Fi          7.9   84.00000   \n",
       "55        147          Action, Crime, Drama          8.4   77.97153   \n",
       "120       103      Comedy, Musical, Romance          8.3   99.00000   \n",
       "215       134     Biography, Drama, History          8.1   96.00000   \n",
       "25        189         Crime, Drama, Fantasy          8.6   61.00000   \n",
       "72        115             Action, Adventure          8.4   85.00000   \n",
       "44        137                Action, Sci-Fi          8.5   75.00000   \n",
       "247       224     Adventure, Drama, Musical          8.1   84.00000   \n",
       "721       104                Drama, Romance          7.7   85.00000   \n",
       "281       185     Adventure, Drama, History          8.1   89.00000   \n",
       "893       121          Action, Crime, Drama          7.6   82.00000   \n",
       "914       128    Action, Adventure, Mystery          7.6   57.00000   \n",
       "810       105       Biography, Drama, Music          7.7   87.00000   \n",
       "244       154               Drama, Thriller          8.1   83.00000   \n",
       "822        94  Animation, Adventure, Comedy          7.7   83.00000   \n",
       "321        76      Fantasy, Horror, Mystery          8.1   77.97153   \n",
       "643        99     Animation, Drama, Fantasy          7.8   83.00000   \n",
       "158       119  Animation, Adventure, Family          8.2   80.00000   \n",
       "977        85                 Comedy, Crime          7.6   76.00000   \n",
       "429       172      Biography, Drama, Family          8.0   63.00000   \n",
       "941       135                         Drama          7.6   68.00000   \n",
       "462        75      Drama, History, Thriller          8.0   97.00000   \n",
       "309       104  Film-Noir, Mystery, Thriller          8.1   97.00000   \n",
       "697       124         Drama, Music, Musical          7.8   80.00000   \n",
       "60        149     Action, Adventure, Sci-Fi          8.4   68.00000   \n",
       "884        97      Adventure, Comedy, Drama          7.6   70.00000   \n",
       "595       126   Animation, Biography, Drama          7.8   83.00000   \n",
       "767       157         Crime, Drama, Mystery          7.7   78.00000   \n",
       "649       157    Biography, Drama, Thriller          7.8   84.00000   \n",
       "650       108      Biography, Drama, Family          7.8   71.00000   \n",
       "865       128    Action, Adventure, Western          7.7   74.00000   \n",
       "668        98         Drama, Fantasy, Music          7.8   86.00000   \n",
       "298       128     Biography, Drama, History          8.1   75.00000   \n",
       "689       105                         Drama          7.8   77.00000   \n",
       "314       238       Drama, History, Romance          8.1   97.00000   \n",
       "310       135         Drama, Music, Romance          8.1   77.97153   \n",
       "361       143    Adventure, Drama, Thriller          8.0   64.00000   \n",
       "479       132     Action, Adventure, Sci-Fi          7.9   75.00000   \n",
       "110       149    Adventure, Drama, Thriller          8.3   86.00000   \n",
       "989       112          Comedy, Crime, Drama          7.6   87.00000   \n",
       "486        97        Drama, Mystery, Sci-Fi          7.9   67.00000   \n",
       "363        88         Crime, Drama, Romance          8.0   72.00000   \n",
       "254        93                         Drama          8.1   83.00000   \n",
       "259       101                Drama, Romance          8.1   77.00000   \n",
       "802       122        Crime, Drama, Thriller          7.7   69.00000   \n",
       "677       107     Action, Adventure, Sci-Fi          7.8   45.00000   \n",
       "494       107          Comedy, Crime, Drama          7.9   67.00000   \n",
       "670       107               Drama, Thriller          7.8   75.00000   \n",
       "377       125     Adventure, Drama, Fantasy          8.0   58.00000   \n",
       "526       104                 Comedy, Drama          7.9   77.00000   \n",
       "845       126               Drama, Thriller          7.7   71.00000   \n",
       "137       146      Adventure, Comedy, Drama          8.2   77.97153   \n",
       "355       108               Drama, Thriller          8.0   79.00000   \n",
       "365       112              Biography, Drama          8.0   92.00000   \n",
       "942       113       Drama, Sci-Fi, Thriller          7.6   30.00000   \n",
       "749       131     Action, Adventure, Sci-Fi          7.7   65.00000   \n",
       "948       101     Horror, Mystery, Thriller          7.6   74.00000   \n",
       "829       107             Mystery, Thriller          7.7   77.97153   \n",
       "656       159                         Drama          7.8   76.00000   \n",
       "199       145      Drama, Romance, Thriller          8.1   84.00000   \n",
       "213        95  Animation, Adventure, Comedy          8.1   94.00000   \n",
       "408       104                    Drama, War          8.0   88.00000   \n",
       "332       137   Animation, Adventure, Drama          8.0   89.00000   \n",
       "208       125        Comedy, Drama, Fantasy          8.1   77.97153   \n",
       "613       117                 Comedy, Drama          7.8   81.00000   \n",
       "78         95                        Comedy          8.4   97.00000   \n",
       "\n",
       "                              Director  No_of_Votes  \\\n",
       "Rank                                                  \n",
       "521               Krzysztof Kieslowski        89836   \n",
       "737                      Anthony Russo       736182   \n",
       "740                         Rich Moore       380195   \n",
       "660                 David Mickey Evans        78963   \n",
       "411               Richard Attenborough       217664   \n",
       "678                          Sam Raimi       148359   \n",
       "626                    Jonathan Dayton       439856   \n",
       "513                     Alfonso Cuarón       465113   \n",
       "859                     Roman Polanski        48883   \n",
       "136                    Nishikant Kamat        70367   \n",
       "811                     Gregory Hoblit       189716   \n",
       "76                Hrishikesh Mukherjee        30273   \n",
       "636                    Mikael Håfström        35682   \n",
       "973                     Chris Columbus       488817   \n",
       "938              Alejandro G. Iñárritu       224545   \n",
       "899                        Oriol Paulo        57549   \n",
       "280                       Sidney Lumet       144911   \n",
       "883                          Marc Webb        99643   \n",
       "761                      Mamoru Hosoda        60368   \n",
       "319                        F.W. Murnau        46865   \n",
       "549                    Stanley Kubrick       124339   \n",
       "174                   Andrei Tarkovsky       116945   \n",
       "371                         Ki-duk Kim        77520   \n",
       "527                     Brian De Palma       281842   \n",
       "210                      David Fincher       859695   \n",
       "235                       Terry George       334320   \n",
       "101                      John Lasseter       887429   \n",
       "986                       Martin Rosen        33656   \n",
       "902               Hiromasa Yonebayashi        80939   \n",
       "947                     Chris Columbus       658185   \n",
       "346                         Tom Hooper       639603   \n",
       "139            Rakeysh Omprakash Mehra        61137   \n",
       "621               Nicolas Winding Refn       571571   \n",
       "499                       Wes Anderson       199696   \n",
       "370                 Andrey Zvyagintsev        42399   \n",
       "198                        Oriol Paulo       141516   \n",
       "687                    Martin Scorsese        88511   \n",
       "584                  Quentin Tarantino       517059   \n",
       "901                         David Ayer       228132   \n",
       "59                       Anthony Russo       809955   \n",
       "328                        Garth Davis       213970   \n",
       "96                         Guy Ritchie       782001   \n",
       "312                   Alfred Hitchcock       123942   \n",
       "974               Francis Ford Coppola       359809   \n",
       "299                  François Truffaut       105291   \n",
       "277                        Terry Jones       367250   \n",
       "924                           Ronny Yu        72863   \n",
       "601                  Tetsuya Nakashima        35713   \n",
       "439                     Richard Brooks        45062   \n",
       "837                        Woody Allen        39881   \n",
       "570                      Meghna Gulzar        25344   \n",
       "879                  Quentin Tarantino       551309   \n",
       "261                       Kar-Wai Wong        63122   \n",
       "578                      Travis Knight       118035   \n",
       "23                      Hayao Miyazaki       651376   \n",
       "30                    Masaki Kobayashi        42004   \n",
       "617                        John Carney       110656   \n",
       "10                       Peter Jackson      1661481   \n",
       "221                        Zoya Akhtar        67927   \n",
       "820                          Spike Lee        85819   \n",
       "296                   Andrei Tarkovsky        31728   \n",
       "54                           Can Ulkay        34112   \n",
       "542              Franklin J. Schaffner        93741   \n",
       "209                       Wes Anderson       707630   \n",
       "604                    Paul Greengrass       421244   \n",
       "692                        John Huston        44917   \n",
       "662                         Mike Leigh        34635   \n",
       "866                     Georges Franju        27620   \n",
       "70                      Hayao Miyazaki       343171   \n",
       "543                      Sam Peckinpah        77401   \n",
       "107                       Milos Forman       369007   \n",
       "493                        J.J. Abrams       577336   \n",
       "590                       Ritesh Batra        50523   \n",
       "741                       Mark Osborne        56720   \n",
       "292                        Luis Buñuel        29682   \n",
       "289                     Ingmar Bergman       103191   \n",
       "652                      James Cameron      1046089   \n",
       "39                        Ridley Scott      1341460   \n",
       "589                   Paolo Sorrentino        81125   \n",
       "307                       Billy Wilder        31568   \n",
       "679                        John Hughes       321382   \n",
       "66                      Andrew Stanton       999790   \n",
       "275                       Ridley Scott       693827   \n",
       "67    Florian Henckel von Donnersmarck       358685   \n",
       "318                    Charles Chaplin        30205   \n",
       "548                 John Frankenheimer        71122   \n",
       "998                   Alfred Hitchcock        26471   \n",
       "714                   Alfred Hitchcock        47400   \n",
       "753                        Ben Affleck       572581   \n",
       "327                    Damien Chazelle       505918   \n",
       "382                      Richard Kelly       740086   \n",
       "451                   Jacques Tourneur        32784   \n",
       "522                  Yoshiaki Kawajiri        34529   \n",
       "218                       Tom McCarthy       420316   \n",
       "787                       Jim Sheridan        40403   \n",
       "436                       Howard Hawks        56305   \n",
       "764                       Alex Garland       474141   \n",
       "88                   Thomas Vinterberg       281623   \n",
       "63                   Christopher Nolan      1516346   \n",
       "826                          Joel Coen       113240   \n",
       "716                        James Whale        43542   \n",
       "351                         Wilson Yip       211427   \n",
       "936                 Jean-Pierre Jeunet        70925   \n",
       "256                     Emir Kusturica        55220   \n",
       "635                      James Mangold       234207   \n",
       "644                         Boaz Yakin       198089   \n",
       "554                         Elia Kazan        40313   \n",
       "959                        Alex Proyas       187927   \n",
       "168                   Steven Spielberg       692366   \n",
       "917                   Gabriele Muccino       286770   \n",
       "528                        Woody Allen        67176   \n",
       "823                        James Foley        95826   \n",
       "985                         Don Siegel       121731   \n",
       "816                        Kevin Smith       211450   \n",
       "86                     Sriram Raghavan        71875   \n",
       "432                   Federico Fellini       108844   \n",
       "184                     Ingmar Bergman        96381   \n",
       "978                        John Hughes       124773   \n",
       "534                          Bob Fosse        28223   \n",
       "294                     Akira Kurosawa        33044   \n",
       "892                       Ron Clements       272784   \n",
       "425                     Roman Polanski       193674   \n",
       "713                          John Ford        43621   \n",
       "260               Krzysztof Kieslowski        90729   \n",
       "237                  Richard Linklater       236311   \n",
       "559                   Alfred Hitchcock        92306   \n",
       "583                      Anthony Russo       663649   \n",
       "445                       Billy Wilder        51046   \n",
       "867                         Don Siegel        44839   \n",
       "800                         Mike Judge       241575   \n",
       "599                       Dean DeBlois       305611   \n",
       "849                       Sidney Lumet       109941   \n",
       "265                        Yimou Zhang        29662   \n",
       "995                      Blake Edwards       166544   \n",
       "529                      Terry Gilliam       187567   \n",
       "55                             Gayatri        28401   \n",
       "120                      Stanley Donen       218957   \n",
       "215                      Steve McQueen       640533   \n",
       "25                      Frank Darabont      1147794   \n",
       "72                    Steven Spielberg       884112   \n",
       "44                       James Cameron       995506   \n",
       "247                 Ashutosh Gowariker       105036   \n",
       "721                        Francis Lee        25198   \n",
       "281                    Stanley Kubrick       149843   \n",
       "893                   Denis Villeneuve       371291   \n",
       "914                        Guy Ritchie       583158   \n",
       "810                        Scott Hicks        51350   \n",
       "244              Alejandro G. Iñárritu       223741   \n",
       "822                     Hayao Miyazaki        77798   \n",
       "321                       Robert Wiene        57428   \n",
       "643                  Richard Linklater        60684   \n",
       "158                     Hayao Miyazaki       333915   \n",
       "977                       David Zucker       152871   \n",
       "429                        Robert Wise       205425   \n",
       "941                          Spike Lee       169708   \n",
       "462               Sergei M. Eisenstein        53054   \n",
       "309                         Carol Reed       158731   \n",
       "697                          Bob Fosse        48334   \n",
       "60                       Anthony Russo       834477   \n",
       "884                       Tyler Nilson        66346   \n",
       "595                     Hayao Miyazaki        73690   \n",
       "767                      David Fincher       466080   \n",
       "649                       Michael Mann       159886   \n",
       "650                       Joe Johnston        82855   \n",
       "865                       John Sturges        87719   \n",
       "668               Krzysztof Kieslowski        42376   \n",
       "298                     Stanley Kramer        27254   \n",
       "689                      Robert Benton       133351   \n",
       "314                     Victor Fleming       290074   \n",
       "310                     Michael Powell        30935   \n",
       "361                       Edward Zwick       499439   \n",
       "479                       Bryan Singer       659763   \n",
       "110                  Wolfgang Petersen       231855   \n",
       "989                      Robert Altman        26337   \n",
       "486                       Duncan Jones       335152   \n",
       "363                         Ki-duk Kim        50610   \n",
       "254                        Danny Boyle       634716   \n",
       "259                  Richard Linklater       272291   \n",
       "802                      Antoine Fuqua       390247   \n",
       "677                     John McTiernan       371387   \n",
       "494                    Martin McDonagh       390334   \n",
       "670                         Rob Reiner       184740   \n",
       "377                         Tim Burton       415218   \n",
       "526                        Woody Allen        54670   \n",
       "845                     Roman Polanski        39889   \n",
       "137                         Vikas Bahl        60701   \n",
       "355                   Darren Aronofsky       699673   \n",
       "365                    Julian Schnabel       103284   \n",
       "942                         Eric Bress       451479   \n",
       "749                     Matthew Vaughn       645512   \n",
       "948                 Alejandro Amenábar       337651   \n",
       "829                     George Sluizer        33982   \n",
       "656                     Lars von Trier        62428   \n",
       "199                     Chan-wook Park       113649   \n",
       "213                        Pete Docter       616228   \n",
       "408                        Louis Malle        31163   \n",
       "332                      Isao Takahata        38746   \n",
       "208                       Umesh Shukla        51739   \n",
       "613                  Thomas Vinterberg        33931   \n",
       "78                     Stanley Kubrick       450474   \n",
       "\n",
       "                                                  Stars  \n",
       "Rank                                                     \n",
       "521   Juliette Binoche, Zbigniew Zamachowski, Julie ...  \n",
       "737   Joe Russo, Chris Evans, Samuel L. Jackson, Sca...  \n",
       "740   John C. Reilly, Jack McBrayer, Jane Lynch, Sar...  \n",
       "660   Tom Guiry, Mike Vitar, Art LaFleur, Patrick Renna  \n",
       "411   Ben Kingsley, John Gielgud, Rohini Hattangadi,...  \n",
       "678   Bruce Campbell, Sarah Berry, Dan Hicks, Kassie...  \n",
       "626   Valerie Faris, Steve Carell, Toni Collette, Gr...  \n",
       "513   Julianne Moore, Clive Owen, Chiwetel Ejiofor, ...  \n",
       "859   Catherine Deneuve, Ian Hendry, John Fraser, Yv...  \n",
       "136        Ajay Devgn, Shriya Saran, Tabu, Rajat Kapoor  \n",
       "811   Richard Gere, Laura Linney, Edward Norton, Joh...  \n",
       "76    Rajesh Khanna, Amitabh Bachchan, Sumita Sanyal...  \n",
       "636   Andreas Wilson, Henrik Lundström, Gustaf Skars...  \n",
       "973   Macaulay Culkin, Joe Pesci, Daniel Stern, John...  \n",
       "938   Sean Penn, Benicio Del Toro, Naomi Watts, Dann...  \n",
       "899   Jose Coronado, Hugo Silva, Belén Rueda, Aura G...  \n",
       "280   Faye Dunaway, William Holden, Peter Finch, Rob...  \n",
       "883   Chris Evans, Mckenna Grace, Lindsay Duncan, Oc...  \n",
       "761   Riisa Naka, Takuya Ishida, Mitsutaka Itakura, ...  \n",
       "319   George O'Brien, Janet Gaynor, Margaret Livings...  \n",
       "549   Kirk Douglas, Laurence Olivier, Jean Simmons, ...  \n",
       "174   Alisa Freyndlikh, Aleksandr Kaydanovskiy, Anat...  \n",
       "371   Ki-duk Kim, Yeong-su Oh, Jong-ho Kim, Kim Youn...  \n",
       "527   Kevin Costner, Sean Connery, Robert De Niro, C...  \n",
       "210   Ben Affleck, Rosamund Pike, Neil Patrick Harri...  \n",
       "235   Don Cheadle, Sophie Okonedo, Joaquin Phoenix, ...  \n",
       "101       Tom Hanks, Tim Allen, Don Rickles, Jim Varney  \n",
       "986   John Hubley, John Hurt, Richard Briers, Ralph ...  \n",
       "902   Amy Poehler, Mirai Shida, Ryûnosuke Kamiki, Ta...  \n",
       "947   Daniel Radcliffe, Rupert Grint, Richard Harris...  \n",
       "346   Colin Firth, Geoffrey Rush, Helena Bonham Cart...  \n",
       "139   Farhan Akhtar, Sonam Kapoor, Pawan Malhotra, A...  \n",
       "621   Ryan Gosling, Carey Mulligan, Bryan Cranston, ...  \n",
       "499   George Clooney, Meryl Streep, Bill Murray, Jas...  \n",
       "370   Vladimir Garin, Ivan Dobronravov, Konstantin L...  \n",
       "198   Mario Casas, Ana Wagener, Jose Coronado, Bárba...  \n",
       "687   Robert De Niro, Jerry Lewis, Diahnne Abbott, S...  \n",
       "584   Samuel L. Jackson, Kurt Russell, Jennifer Jaso...  \n",
       "901   Jake Gyllenhaal, Michael Peña, Anna Kendrick, ...  \n",
       "59    Joe Russo, Robert Downey Jr., Chris Evans, Mar...  \n",
       "328   Dev Patel, Nicole Kidman, Rooney Mara, Sunny P...  \n",
       "96    Jason Statham, Brad Pitt, Benicio Del Toro, De...  \n",
       "312   Laurence Olivier, Joan Fontaine, George Sander...  \n",
       "974   Al Pacino, Diane Keaton, Andy Garcia, Talia Shire  \n",
       "299   Jean-Pierre Léaud, Albert Rémy, Claire Maurier...  \n",
       "277   Graham Chapman, John Cleese, Michael Palin, Te...  \n",
       "924                   Jet Li, Li Sun, Yong Dong, Yun Qu  \n",
       "601   Takako Matsu, Yoshino Kimura, Masaki Okada, Yu...  \n",
       "439   Elizabeth Taylor, Paul Newman, Burl Ives, Jack...  \n",
       "837   Woody Allen, Mia Farrow, Patrick Horgan, John ...  \n",
       "570   Alia Bhatt, Vicky Kaushal, Rajit Kapoor, Shish...  \n",
       "879   Leonardo DiCaprio, Brad Pitt, Margot Robbie, E...  \n",
       "261   Brigitte Lin, Takeshi Kaneshiro, Tony Chiu-Wai...  \n",
       "578   Charlize Theron, Art Parkinson, Matthew McCona...  \n",
       "23    Daveigh Chase, Suzanne Pleshette, Miyu Irino, ...  \n",
       "30    Tatsuya Nakadai, Akira Ishihama, Shima Iwashit...  \n",
       "617   Glen Hansard, Markéta Irglová, Hugh Walsh, Ger...  \n",
       "10    Elijah Wood, Ian McKellen, Orlando Bloom, Sean...  \n",
       "221   Hrithik Roshan, Farhan Akhtar, Abhay Deol, Kat...  \n",
       "820   Denzel Washington, Angela Bassett, Delroy Lind...  \n",
       "296   Eduard Abalov, Nikolay Burlyaev, Valentin Zubk...  \n",
       "54    Erdem Can, Çetin Tekindor, Ismail Hacioglu, Ky...  \n",
       "542   George C. Scott, Karl Malden, Stephen Young, M...  \n",
       "209   Ralph Fiennes, F. Murray Abraham, Mathieu Amal...  \n",
       "604   Tom Hanks, Barkhad Abdi, Barkhad Abdirahman, C...  \n",
       "692   Sean Connery, Michael Caine, Christopher Plumm...  \n",
       "662   David Thewlis, Lesley Sharp, Katrin Cartlidge,...  \n",
       "866   Pierre Brasseur, Alida Valli, Juliette Mayniel...  \n",
       "70    Yôji Matsuda, Yuriko Ishida, Yûko Tanaka, Bill...  \n",
       "543   William Holden, Ernest Borgnine, Robert Ryan, ...  \n",
       "107   F. Murray Abraham, Tom Hulce, Elizabeth Berrid...  \n",
       "493   Chris Pine, Zachary Quinto, Simon Pegg, Leonar...  \n",
       "590   Irrfan Khan, Nimrat Kaur, Nawazuddin Siddiqui,...  \n",
       "741   Jeff Bridges, Mackenzie Foy, Rachel McAdams, M...  \n",
       "292   Silvia Pinal, Jacqueline Andere, Enrique Ramba...  \n",
       "289   Bibi Andersson, Liv Ullmann, Margaretha Krook,...  \n",
       "652   Leonardo DiCaprio, Kate Winslet, Billy Zane, K...  \n",
       "39    Russell Crowe, Joaquin Phoenix, Connie Nielsen...  \n",
       "589   Toni Servillo, Carlo Verdone, Sabrina Ferilli,...  \n",
       "307   Kirk Douglas, Jan Sterling, Robert Arthur, Por...  \n",
       "679   Matthew Broderick, Alan Ruck, Mia Sara, Jeffre...  \n",
       "66    Ben Burtt, Elissa Knight, Jeff Garlin, Fred Wi...  \n",
       "275   Harrison Ford, Rutger Hauer, Sean Young, Edwar...  \n",
       "67    Ulrich Mühe, Martina Gedeck, Sebastian Koch, U...  \n",
       "318   Charles Chaplin, Merna Kennedy, Al Ernest Garc...  \n",
       "548   Frank Sinatra, Laurence Harvey, Janet Leigh, A...  \n",
       "998   Tallulah Bankhead, John Hodiak, Walter Slezak,...  \n",
       "714   Margaret Lockwood, Michael Redgrave, Paul Luka...  \n",
       "753   Ben Affleck, Bryan Cranston, John Goodman, Ala...  \n",
       "327   Ryan Gosling, Emma Stone, Rosemarie DeWitt, J....  \n",
       "382   Jake Gyllenhaal, Jena Malone, Mary McDonnell, ...  \n",
       "451   Robert Mitchum, Jane Greer, Kirk Douglas, Rhon...  \n",
       "522   Kôichi Yamadera, Emi Shinohara, Takeshi Aono, ...  \n",
       "218   Mark Ruffalo, Michael Keaton, Rachel McAdams, ...  \n",
       "787   Paddy Considine, Samantha Morton, Djimon Houns...  \n",
       "436   John Wayne, Dean Martin, Ricky Nelson, Angie D...  \n",
       "764   Alicia Vikander, Domhnall Gleeson, Oscar Isaac...  \n",
       "88    Mads Mikkelsen, Thomas Bo Larsen, Annika Wedde...  \n",
       "63    Christian Bale, Tom Hardy, Anne Hathaway, Gary...  \n",
       "826   Ethan Coen, John Turturro, John Goodman, Judy ...  \n",
       "716   Boris Karloff, Elsa Lanchester, Colin Clive, V...  \n",
       "351    Donnie Yen, Simon Yam, Siu-Wong Fan, Ka Tung Lam  \n",
       "936   Audrey Tautou, Gaspard Ulliel, Jodie Foster, D...  \n",
       "256   Predrag 'Miki' Manojlovic, Lazar Ristovski, Mi...  \n",
       "635   Joaquin Phoenix, Reese Witherspoon, Ginnifer G...  \n",
       "644   Denzel Washington, Will Patton, Wood Harris, R...  \n",
       "554   James Dean, Raymond Massey, Julie Harris, Burl...  \n",
       "959   Rufus Sewell, Kiefer Sutherland, Jennifer Conn...  \n",
       "168   Harrison Ford, Sean Connery, Alison Doody, Den...  \n",
       "917   Will Smith, Rosario Dawson, Woody Harrelson, M...  \n",
       "528   Mia Farrow, Dianne Wiest, Michael Caine, Barba...  \n",
       "823    Al Pacino, Jack Lemmon, Alec Baldwin, Alan Arkin  \n",
       "985   Clint Eastwood, Patrick McGoohan, Roberts Blos...  \n",
       "816   Brian O'Halloran, Jeff Anderson, Marilyn Ghigl...  \n",
       "86    Ayushmann Khurrana, Tabu, Radhika Apte, Anil D...  \n",
       "432   Marcello Mastroianni, Anouk Aimée, Claudia Car...  \n",
       "184   Victor Sjöström, Bibi Andersson, Ingrid Thulin...  \n",
       "978   Steve Martin, John Candy, Laila Robins, Michae...  \n",
       "534   Roy Scheider, Jessica Lange, Ann Reinking, Lel...  \n",
       "294   Toshirô Mifune, Tatsuya Nakadai, Keiju Kobayas...  \n",
       "892   John Musker, Don Hall, Chris Williams, Auli'i ...  \n",
       "425   Mia Farrow, John Cassavetes, Ruth Gordon, Sidn...  \n",
       "713   John Wayne, Claire Trevor, Andy Devine, John C...  \n",
       "260   Irène Jacob, Jean-Louis Trintignant, Frédériqu...  \n",
       "237   Ethan Hawke, Julie Delpy, Vernon Dobtcheff, Lo...  \n",
       "559   Cary Grant, Ingrid Bergman, Claude Rains, Loui...  \n",
       "583   Joe Russo, Chris Evans, Robert Downey Jr., Sca...  \n",
       "445   William Holden, Don Taylor, Otto Preminger, Ro...  \n",
       "867   Kevin McCarthy, Dana Wynter, Larry Gates, King...  \n",
       "800   Ron Livingston, Jennifer Aniston, David Herman...  \n",
       "599   Jay Baruchel, Cate Blanchett, Gerard Butler, C...  \n",
       "849   Al Pacino, John Randolph, Jack Kehoe, Biff McG...  \n",
       "265           Gong Li, Jingwu Ma, Saifei He, Cuifen Cao  \n",
       "995   Audrey Hepburn, George Peppard, Patricia Neal,...  \n",
       "529   Jonathan Pryce, Kim Greist, Robert De Niro, Ka...  \n",
       "55    Pushkar, Madhavan, Vijay Sethupathi, Shraddha ...  \n",
       "120   Gene Kelly, Gene Kelly, Donald O'Connor, Debbi...  \n",
       "215   Chiwetel Ejiofor, Michael Kenneth Williams, Mi...  \n",
       "25    Tom Hanks, Michael Clarke Duncan, David Morse,...  \n",
       "72    Harrison Ford, Karen Allen, Paul Freeman, John...  \n",
       "44    Arnold Schwarzenegger, Linda Hamilton, Edward ...  \n",
       "247   Aamir Khan, Raghuvir Yadav, Gracy Singh, Rache...  \n",
       "721   Josh O'Connor, Alec Secareanu, Gemma Jones, Ia...  \n",
       "281   Ryan O'Neal, Marisa Berenson, Patrick Magee, H...  \n",
       "893   Emily Blunt, Josh Brolin, Benicio Del Toro, Jo...  \n",
       "914   Robert Downey Jr., Jude Law, Rachel McAdams, M...  \n",
       "810   Geoffrey Rush, Armin Mueller-Stahl, Justin Bra...  \n",
       "244   Emilio Echevarría, Gael García Bernal, Goya To...  \n",
       "822   Shûichirô Moriyama, Tokiko Katô, Bunshi Katsur...  \n",
       "321   Werner Krauss, Conrad Veidt, Friedrich Feher, ...  \n",
       "643   Ethan Hawke, Trevor Jack Brooks, Lorelei Linkl...  \n",
       "158   Chieko Baishô, Takuya Kimura, Tatsuya Gashûin,...  \n",
       "977   Leslie Nielsen, Priscilla Presley, O.J. Simpso...  \n",
       "429   Julie Andrews, Christopher Plummer, Eleanor Pa...  \n",
       "941   Edward Norton, Barry Pepper, Philip Seymour Ho...  \n",
       "462   Aleksandr Antonov, Vladimir Barskiy, Grigoriy ...  \n",
       "309   Orson Welles, Joseph Cotten, Alida Valli, Trev...  \n",
       "697   Liza Minnelli, Michael York, Helmut Griem, Joe...  \n",
       "60    Joe Russo, Robert Downey Jr., Chris Hemsworth,...  \n",
       "884   Michael Schwartz, Zack Gottsagen, Ann Owens, D...  \n",
       "595   Hideaki Anno, Hidetoshi Nishijima, Miori Takim...  \n",
       "767   Jake Gyllenhaal, Robert Downey Jr., Mark Ruffa...  \n",
       "649   Russell Crowe, Al Pacino, Christopher Plummer,...  \n",
       "650   Jake Gyllenhaal, Chris Cooper, Laura Dern, Chr...  \n",
       "865   Yul Brynner, Steve McQueen, Charles Bronson, E...  \n",
       "668   Irène Jacob, Wladyslaw Kowalski, Halina Grygla...  \n",
       "298   Spencer Tracy, Fredric March, Gene Kelly, Dick...  \n",
       "689   Dustin Hoffman, Meryl Streep, Jane Alexander, ...  \n",
       "314   George Cukor, Sam Wood, Clark Gable, Vivien Leigh  \n",
       "310   Emeric Pressburger, Anton Walbrook, Marius Gor...  \n",
       "361   Leonardo DiCaprio, Djimon Hounsou, Jennifer Co...  \n",
       "479   Patrick Stewart, Ian McKellen, Hugh Jackman, J...  \n",
       "110   Jürgen Prochnow, Herbert Grönemeyer, Klaus Wen...  \n",
       "989   Elliott Gould, Nina van Pallandt, Sterling Hay...  \n",
       "486   Sam Rockwell, Kevin Spacey, Dominique McElligo...  \n",
       "363    Seung-Yun Lee, Hee Jae, Hyuk-ho Kwon, Jin-mo Joo  \n",
       "254   Ewan McGregor, Ewen Bremner, Jonny Lee Miller,...  \n",
       "259   Ethan Hawke, Julie Delpy, Andrea Eckert, Hanno...  \n",
       "802   Denzel Washington, Ethan Hawke, Scott Glenn, T...  \n",
       "677   Arnold Schwarzenegger, Carl Weathers, Kevin Pe...  \n",
       "494   Colin Farrell, Brendan Gleeson, Ciarán Hinds, ...  \n",
       "670   James Caan, Kathy Bates, Richard Farnsworth, F...  \n",
       "377   Ewan McGregor, Albert Finney, Billy Crudup, Je...  \n",
       "526   Martin Landau, Woody Allen, Bill Bernstein, Cl...  \n",
       "845   Roman Polanski, Isabelle Adjani, Melvyn Dougla...  \n",
       "137   Kangana Ranaut, Rajkummar Rao, Lisa Haydon, Je...  \n",
       "355   Natalie Portman, Mila Kunis, Vincent Cassel, W...  \n",
       "365   Laura Obiols, Mathieu Amalric, Emmanuelle Seig...  \n",
       "942   J. Mackye Gruber, Ashton Kutcher, Amy Smart, M...  \n",
       "749   James McAvoy, Michael Fassbender, Jennifer Law...  \n",
       "948   Nicole Kidman, Christopher Eccleston, Fionnula...  \n",
       "829   Bernard-Pierre Donnadieu, Gene Bervoets, Johan...  \n",
       "656   Emily Watson, Stellan Skarsgård, Katrin Cartli...  \n",
       "199   Kim Min-hee, Jung-woo Ha, Cho Jin-woong, Moon ...  \n",
       "213   Ronnie Del Carmen, Amy Poehler, Bill Hader, Le...  \n",
       "408   Gaspard Manesse, Raphael Fejtö, Francine Racet...  \n",
       "332   Chloë Grace Moretz, James Caan, Mary Steenburg...  \n",
       "208   Paresh Rawal, Akshay Kumar, Mithun Chakraborty...  \n",
       "613   Mads Mikkelsen, Thomas Bo Larsen, Magnus Milla...  \n",
       "78    Peter Sellers, George C. Scott, Sterling Hayde...  "
      ]
     },
     "execution_count": 172,
     "metadata": {},
     "output_type": "execute_result"
    }
   ],
   "source": [
    "pd.set_option('display.max_rows', None)\n",
    "pd.set_option('display.max_columns', None)\n",
    "test_movies"
   ]
  },
  {
   "cell_type": "code",
   "execution_count": 178,
   "id": "39f3eb89",
   "metadata": {},
   "outputs": [
    {
     "data": {
      "application/vnd.jupyter.widget-view+json": {
       "model_id": "f835a4683b5145e6a0b72a546a8bb348",
       "version_major": 2,
       "version_minor": 0
      },
      "text/plain": [
       "Text(value='', description='Movie Name:', placeholder='Search for a movie')"
      ]
     },
     "metadata": {},
     "output_type": "display_data"
    },
    {
     "data": {
      "application/vnd.jupyter.widget-view+json": {
       "model_id": "2d440d1b84af4d28b9931e7cb81a7e53",
       "version_major": 2,
       "version_minor": 0
      },
      "text/plain": [
       "Output()"
      ]
     },
     "metadata": {},
     "output_type": "display_data"
    }
   ],
   "source": [
    "movies = df.copy()\n",
    "\n",
    "# Extract numeric values from the Runtime column\n",
    "movies[\"Runtime\"] = movies[\"Runtime\"].str.extract('(\\d+)').astype(int)\n",
    "\n",
    "# Split data into train and test sets\n",
    "train_movies, test_movies = train_test_split(movies, test_size=0.2, random_state=42)\n",
    "\n",
    "# Vectorize genres\n",
    "vectorizer_genre = TfidfVectorizer(ngram_range=(1, 2))\n",
    "tfidf_genre_train = vectorizer_genre.fit_transform(train_movies[\"Genre\"])\n",
    "tfidf_genre_test = vectorizer_genre.transform(test_movies[\"Genre\"])\n",
    "\n",
    "# Standardize Runtime\n",
    "scaler = StandardScaler()\n",
    "runtime_train = scaler.fit_transform(train_movies[\"Runtime\"].values.reshape(-1, 1))\n",
    "runtime_test = scaler.transform(test_movies[\"Runtime\"].values.reshape(-1, 1))\n",
    "\n",
    "# Create feature matrices\n",
    "feature_matrix_train = np.concatenate([\n",
    "    tfidf_genre_train.toarray(),\n",
    "    runtime_train,\n",
    "    train_movies[[\"IMDB_Rating\", \"Metascore\"]].values\n",
    "], axis=1)\n",
    "\n",
    "feature_matrix_test = np.concatenate([\n",
    "    tfidf_genre_test.toarray(),\n",
    "    runtime_test,\n",
    "    test_movies[[\"IMDB_Rating\", \"Metascore\"]].values\n",
    "], axis=1)\n",
    "\n",
    "# Initialize the KNN model\n",
    "knn = NearestNeighbors(n_neighbors=10, metric='cosine')\n",
    "knn.fit(feature_matrix_train)\n",
    "\n",
    "# Define the input widget\n",
    "movie_name_input = widgets.Text(placeholder='Search for a movie', description='Movie Name:', disabled=False)\n",
    "\n",
    "# Define output widget\n",
    "recommendation_output = widgets.Output()\n",
    "\n",
    "# Create buttons for feedback\n",
    "button_yes = widgets.Button(description=\"Yes\")\n",
    "button_no = widgets.Button(description=\"No\")\n",
    "\n",
    "# Define feedback question widget\n",
    "feedback_question = widgets.Label(value='Did you like these suggestions?')\n",
    "\n",
    "# Assign click handlers to buttons\n",
    "def handle_feedback_yes(b):\n",
    "    with recommendation_output:\n",
    "        print(\"Glad you liked these suggestions!\")\n",
    "\n",
    "def handle_feedback_no(b):\n",
    "    with recommendation_output:\n",
    "        print(\"Let me suggest something else!\")\n",
    "        suggest_other_movies()\n",
    "\n",
    "button_yes.on_click(handle_feedback_yes)\n",
    "button_no.on_click(handle_feedback_no)\n",
    "\n",
    "# Function to suggest other movies\n",
    "def suggest_other_movies():\n",
    "    random_indices = np.random.choice(len(train_movies), 5, replace=False)\n",
    "    random_movies = train_movies.iloc[random_indices].copy()  # Ensure a copy is made\n",
    "    cosine_similarities = []\n",
    "    for idx in random_indices:\n",
    "        cosine_sim = cosine_similarity(feature_matrix_train[0].reshape(1, -1), feature_matrix_train[idx].reshape(1, -1)).flatten()[0]\n",
    "        cosine_similarities.append(cosine_sim)\n",
    "    random_movies.loc[:, 'Cosine Similarity'] = cosine_similarities  # Use .loc to avoid SettingWithCopyWarning\n",
    "    display(HTML(\"<div style='border: 2px solid black; padding: 15px; text-align: center; background-color: #F5F5F5;'><h2 style='font-size:22px; margin-top: 10px;'>Additional movies</h2></div>\"))\n",
    "    display(random_movies)\n",
    "\n",
    "    \n",
    "# Function to display feedback buttons\n",
    "def display_feedback_buttons():\n",
    "    display(widgets.VBox([feedback_question, widgets.HBox([button_yes, button_no])]))\n",
    "\n",
    "# Function to search for movies based on user input\n",
    "def search(title, tfidf_title, feature_matrix, movies_data):\n",
    "    query_vec = vectorizer_title.transform([title])\n",
    "    similarity = cosine_similarity(query_vec, tfidf_title).flatten()\n",
    "    indices = np.argpartition(similarity, -5)[-5:]\n",
    "    results = movies_data.iloc[indices].iloc[::-1]\n",
    "    return results\n",
    "\n",
    "# Function to find similar movies\n",
    "def find_similar_movies(movie, knn_model, feature_matrix, movies_data):\n",
    "    movie_index = movies_data[movies_data[\"Title\"] == movie[\"Title\"]].index[0]\n",
    "    _, neighbors = knn_model.kneighbors(feature_matrix[movie_index].reshape(1, -1), n_neighbors=6)  # Increase to 6 to exclude the input movie\n",
    "    similar_movies_indices = neighbors[0][1:]  # Exclude the movie itself\n",
    "    cosine_similarities = []\n",
    "    for idx in similar_movies_indices:\n",
    "        cosine_sim = cosine_similarity(feature_matrix[movie_index].reshape(1, -1), feature_matrix[idx].reshape(1, -1)).flatten()[0]\n",
    "        cosine_similarities.append(cosine_sim)\n",
    "    similar_movies = movies_data.iloc[similar_movies_indices].copy()\n",
    "    similar_movies['Cosine Similarity'] = cosine_similarities\n",
    "    return similar_movies.head(5)  # Return only the top 5 most similar movies\n",
    "\n",
    "# Function to display recommendations\n",
    "def on_type(data):\n",
    "    with recommendation_output:\n",
    "        recommendation_output.clear_output()\n",
    "\n",
    "        title = data[\"new\"]\n",
    "        if len(title) > 1:\n",
    "            results = search(title, tfidf_title_train, feature_matrix_train, train_movies)\n",
    "            if not results.empty:\n",
    "                movie = results.iloc[0]  # Assuming the first result is the most relevant\n",
    "                display(HTML(\"<div style='border: 2px solid black; padding: 15px; text-align: center; background-color: #FFCCCB;'><h2 style='font-size:22px; margin-top: 10px;'>Suggested movies based on your search</h2></div>\"))\n",
    "                recommended_movies = find_similar_movies(movie, knn, feature_matrix_train, train_movies)\n",
    "                display(recommended_movies.style.set_properties(**{'text-align': 'left'}))\n",
    "                display_feedback_buttons()\n",
    "\n",
    "# Input widget\n",
    "movie_name_input.observe(on_type, names='value')\n",
    "\n",
    "# Display widgets\n",
    "display(movie_name_input)\n",
    "display(recommendation_output)\n"
   ]
  },
  {
   "cell_type": "code",
   "execution_count": null,
   "id": "4d072385",
   "metadata": {},
   "outputs": [],
   "source": []
  }
 ],
 "metadata": {
  "kernelspec": {
   "display_name": "Python 3 (ipykernel)",
   "language": "python",
   "name": "python3"
  },
  "language_info": {
   "codemirror_mode": {
    "name": "ipython",
    "version": 3
   },
   "file_extension": ".py",
   "mimetype": "text/x-python",
   "name": "python",
   "nbconvert_exporter": "python",
   "pygments_lexer": "ipython3",
   "version": "3.9.13"
  }
 },
 "nbformat": 4,
 "nbformat_minor": 5
}

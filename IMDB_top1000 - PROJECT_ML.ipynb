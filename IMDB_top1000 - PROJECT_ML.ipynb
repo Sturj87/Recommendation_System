{
 "cells": [
  {
   "cell_type": "markdown",
   "id": "7e570673",
   "metadata": {},
   "source": [
    "<center><h1 style=\"color:purple; background-color:#CBC3E3; padding:10px;\">Interactive Movie Recommendation System</h1></center>\n",
    "\n",
    "Welcome to your interactive movie recommendation system! In this project, I aim to take you on a journey through the world of cinema, building up your curiosity along the way. The project contains four different parts.\n",
    "\n",
    "## Part 1: Data Collection and Visualization\n",
    "\n",
    "- Our journey begins with data. I start by working with the top 1000 IMDb movies based on IMDb ratings database. In the first part I aim to show the data and explain the it first through text, and then throughout visuallization. \n",
    "\n",
    "\n",
    "## Part 2: Interactive Search Engine\n",
    "\n",
    "- In the second part the interactive search engine allows you to search for movies based on specific criteria. Whether you're looking for a particular genre, director, or srae, the search engine will help you discover new movies to watch.\n",
    "\n",
    "## Part 3: Movie Recommendation Platform \n",
    "\n",
    "- In part 3 of the project, I utilized the power of Machine Learning. Using scikit-learn trained model on a subset of our dataset. The model will suggest movies based on the specific features. By analyzing these features, the trained model can provide personalized recommendation.\n",
    "\n",
    "## Part 4: Machine Learning Model \n",
    "\n",
    "- In the last part of the project, I analyze feature correlation with IMDN ratings using Pearson Correlation Coefficient, transform categorical columns with TargetEncoder, then train a linear regression model and assess its performance with Mean Squared Error, concluding with scatter plots visualizing the results."
   ]
  },
  {
   "cell_type": "markdown",
   "id": "a0b770fd",
   "metadata": {},
   "source": [
    "- <h1 style=\"color:black; padding:10px;\">pip install relevant libraries</h1>"
   ]
  },
  {
   "cell_type": "code",
   "execution_count": 66,
   "id": "c832cc4d",
   "metadata": {},
   "outputs": [
    {
     "name": "stdout",
     "output_type": "stream",
     "text": [
      "Requirement already satisfied: pandas in /opt/anaconda3/lib/python3.9/site-packages (2.2.1)\n",
      "Requirement already satisfied: numpy<2,>=1.22.4 in /opt/anaconda3/lib/python3.9/site-packages (from pandas) (1.24.4)\n",
      "Requirement already satisfied: python-dateutil>=2.8.2 in /opt/anaconda3/lib/python3.9/site-packages (from pandas) (2.8.2)\n",
      "Requirement already satisfied: pytz>=2020.1 in /opt/anaconda3/lib/python3.9/site-packages (from pandas) (2023.3.post1)\n",
      "Requirement already satisfied: tzdata>=2022.7 in /opt/anaconda3/lib/python3.9/site-packages (from pandas) (2023.4)\n",
      "Requirement already satisfied: six>=1.5 in /opt/anaconda3/lib/python3.9/site-packages (from python-dateutil>=2.8.2->pandas) (1.16.0)\n",
      "Note: you may need to restart the kernel to use updated packages.\n"
     ]
    }
   ],
   "source": [
    "pip install pandas"
   ]
  },
  {
   "cell_type": "code",
   "execution_count": 67,
   "id": "d61b3c22",
   "metadata": {},
   "outputs": [
    {
     "name": "stdout",
     "output_type": "stream",
     "text": [
      "Requirement already satisfied: numpy in /opt/anaconda3/lib/python3.9/site-packages (1.24.4)\n",
      "Note: you may need to restart the kernel to use updated packages.\n"
     ]
    }
   ],
   "source": [
    "pip install numpy"
   ]
  },
  {
   "cell_type": "code",
   "execution_count": 68,
   "id": "825d2f82",
   "metadata": {},
   "outputs": [
    {
     "name": "stdout",
     "output_type": "stream",
     "text": [
      "Requirement already satisfied: matplotlib in /opt/anaconda3/lib/python3.9/site-packages (3.8.3)\n",
      "Requirement already satisfied: contourpy>=1.0.1 in /opt/anaconda3/lib/python3.9/site-packages (from matplotlib) (1.2.0)\n",
      "Requirement already satisfied: cycler>=0.10 in /opt/anaconda3/lib/python3.9/site-packages (from matplotlib) (0.11.0)\n",
      "Requirement already satisfied: fonttools>=4.22.0 in /opt/anaconda3/lib/python3.9/site-packages (from matplotlib) (4.25.0)\n",
      "Requirement already satisfied: kiwisolver>=1.3.1 in /opt/anaconda3/lib/python3.9/site-packages (from matplotlib) (1.4.2)\n",
      "Requirement already satisfied: numpy<2,>=1.21 in /opt/anaconda3/lib/python3.9/site-packages (from matplotlib) (1.24.4)\n",
      "Requirement already satisfied: packaging>=20.0 in /opt/anaconda3/lib/python3.9/site-packages (from matplotlib) (21.3)\n",
      "Requirement already satisfied: pillow>=8 in /opt/anaconda3/lib/python3.9/site-packages (from matplotlib) (9.2.0)\n",
      "Requirement already satisfied: pyparsing>=2.3.1 in /opt/anaconda3/lib/python3.9/site-packages (from matplotlib) (3.0.9)\n",
      "Requirement already satisfied: python-dateutil>=2.7 in /opt/anaconda3/lib/python3.9/site-packages (from matplotlib) (2.8.2)\n",
      "Requirement already satisfied: importlib-resources>=3.2.0 in /opt/anaconda3/lib/python3.9/site-packages (from matplotlib) (6.3.0)\n",
      "Requirement already satisfied: zipp>=3.1.0 in /opt/anaconda3/lib/python3.9/site-packages (from importlib-resources>=3.2.0->matplotlib) (3.8.0)\n",
      "Requirement already satisfied: six>=1.5 in /opt/anaconda3/lib/python3.9/site-packages (from python-dateutil>=2.7->matplotlib) (1.16.0)\n",
      "Note: you may need to restart the kernel to use updated packages.\n"
     ]
    }
   ],
   "source": [
    "pip install matplotlib"
   ]
  },
  {
   "cell_type": "code",
   "execution_count": 69,
   "id": "8dfec5b5",
   "metadata": {},
   "outputs": [
    {
     "name": "stdout",
     "output_type": "stream",
     "text": [
      "Requirement already satisfied: plotly in /opt/anaconda3/lib/python3.9/site-packages (5.9.0)\n",
      "Requirement already satisfied: tenacity>=6.2.0 in /opt/anaconda3/lib/python3.9/site-packages (from plotly) (8.0.1)\n",
      "Note: you may need to restart the kernel to use updated packages.\n"
     ]
    }
   ],
   "source": [
    "pip install plotly"
   ]
  },
  {
   "cell_type": "code",
   "execution_count": 70,
   "id": "f6404310",
   "metadata": {},
   "outputs": [
    {
     "name": "stdout",
     "output_type": "stream",
     "text": [
      "Requirement already satisfied: ipywidgets in /opt/anaconda3/lib/python3.9/site-packages (7.6.5)\n",
      "Requirement already satisfied: ipykernel>=4.5.1 in /opt/anaconda3/lib/python3.9/site-packages (from ipywidgets) (6.15.2)\n",
      "Requirement already satisfied: ipython-genutils~=0.2.0 in /opt/anaconda3/lib/python3.9/site-packages (from ipywidgets) (0.2.0)\n",
      "Requirement already satisfied: traitlets>=4.3.1 in /opt/anaconda3/lib/python3.9/site-packages (from ipywidgets) (5.1.1)\n",
      "Requirement already satisfied: nbformat>=4.2.0 in /opt/anaconda3/lib/python3.9/site-packages (from ipywidgets) (5.5.0)\n",
      "Requirement already satisfied: widgetsnbextension~=3.5.0 in /opt/anaconda3/lib/python3.9/site-packages (from ipywidgets) (3.5.2)\n",
      "Requirement already satisfied: ipython>=4.0.0 in /opt/anaconda3/lib/python3.9/site-packages (from ipywidgets) (8.18.1)\n",
      "Requirement already satisfied: jupyterlab-widgets>=1.0.0 in /opt/anaconda3/lib/python3.9/site-packages (from ipywidgets) (1.0.0)\n",
      "Requirement already satisfied: appnope in /opt/anaconda3/lib/python3.9/site-packages (from ipykernel>=4.5.1->ipywidgets) (0.1.2)\n",
      "Requirement already satisfied: debugpy>=1.0 in /opt/anaconda3/lib/python3.9/site-packages (from ipykernel>=4.5.1->ipywidgets) (1.5.1)\n",
      "Requirement already satisfied: jupyter-client>=6.1.12 in /opt/anaconda3/lib/python3.9/site-packages (from ipykernel>=4.5.1->ipywidgets) (7.3.4)\n",
      "Requirement already satisfied: matplotlib-inline>=0.1 in /opt/anaconda3/lib/python3.9/site-packages (from ipykernel>=4.5.1->ipywidgets) (0.1.6)\n",
      "Requirement already satisfied: nest-asyncio in /opt/anaconda3/lib/python3.9/site-packages (from ipykernel>=4.5.1->ipywidgets) (1.5.5)\n",
      "Requirement already satisfied: packaging in /opt/anaconda3/lib/python3.9/site-packages (from ipykernel>=4.5.1->ipywidgets) (21.3)\n",
      "Requirement already satisfied: psutil in /opt/anaconda3/lib/python3.9/site-packages (from ipykernel>=4.5.1->ipywidgets) (5.9.0)\n",
      "Requirement already satisfied: pyzmq>=17 in /opt/anaconda3/lib/python3.9/site-packages (from ipykernel>=4.5.1->ipywidgets) (23.2.0)\n",
      "Requirement already satisfied: tornado>=6.1 in /opt/anaconda3/lib/python3.9/site-packages (from ipykernel>=4.5.1->ipywidgets) (6.1)\n",
      "Requirement already satisfied: decorator in /opt/anaconda3/lib/python3.9/site-packages (from ipython>=4.0.0->ipywidgets) (5.1.1)\n",
      "Requirement already satisfied: jedi>=0.16 in /opt/anaconda3/lib/python3.9/site-packages (from ipython>=4.0.0->ipywidgets) (0.19.1)\n",
      "Requirement already satisfied: prompt-toolkit<3.1.0,>=3.0.41 in /opt/anaconda3/lib/python3.9/site-packages (from ipython>=4.0.0->ipywidgets) (3.0.43)\n",
      "Requirement already satisfied: pygments>=2.4.0 in /opt/anaconda3/lib/python3.9/site-packages (from ipython>=4.0.0->ipywidgets) (2.11.2)\n",
      "Requirement already satisfied: stack-data in /opt/anaconda3/lib/python3.9/site-packages (from ipython>=4.0.0->ipywidgets) (0.6.3)\n",
      "Requirement already satisfied: typing-extensions in /opt/anaconda3/lib/python3.9/site-packages (from ipython>=4.0.0->ipywidgets) (4.3.0)\n",
      "Requirement already satisfied: exceptiongroup in /opt/anaconda3/lib/python3.9/site-packages (from ipython>=4.0.0->ipywidgets) (1.2.0)\n",
      "Requirement already satisfied: pexpect>4.3 in /opt/anaconda3/lib/python3.9/site-packages (from ipython>=4.0.0->ipywidgets) (4.8.0)\n",
      "Requirement already satisfied: fastjsonschema in /opt/anaconda3/lib/python3.9/site-packages (from nbformat>=4.2.0->ipywidgets) (2.16.2)\n",
      "Requirement already satisfied: jsonschema>=2.6 in /opt/anaconda3/lib/python3.9/site-packages (from nbformat>=4.2.0->ipywidgets) (4.16.0)\n",
      "Requirement already satisfied: jupyter_core in /opt/anaconda3/lib/python3.9/site-packages (from nbformat>=4.2.0->ipywidgets) (4.11.1)\n",
      "Requirement already satisfied: notebook>=4.4.1 in /opt/anaconda3/lib/python3.9/site-packages (from widgetsnbextension~=3.5.0->ipywidgets) (6.4.12)\n",
      "Requirement already satisfied: parso<0.9.0,>=0.8.3 in /opt/anaconda3/lib/python3.9/site-packages (from jedi>=0.16->ipython>=4.0.0->ipywidgets) (0.8.4)\n",
      "Requirement already satisfied: attrs>=17.4.0 in /opt/anaconda3/lib/python3.9/site-packages (from jsonschema>=2.6->nbformat>=4.2.0->ipywidgets) (21.4.0)\n",
      "Requirement already satisfied: pyrsistent!=0.17.0,!=0.17.1,!=0.17.2,>=0.14.0 in /opt/anaconda3/lib/python3.9/site-packages (from jsonschema>=2.6->nbformat>=4.2.0->ipywidgets) (0.18.0)\n",
      "Requirement already satisfied: entrypoints in /opt/anaconda3/lib/python3.9/site-packages (from jupyter-client>=6.1.12->ipykernel>=4.5.1->ipywidgets) (0.4)\n",
      "Requirement already satisfied: python-dateutil>=2.8.2 in /opt/anaconda3/lib/python3.9/site-packages (from jupyter-client>=6.1.12->ipykernel>=4.5.1->ipywidgets) (2.8.2)\n",
      "Requirement already satisfied: jinja2 in /opt/anaconda3/lib/python3.9/site-packages (from notebook>=4.4.1->widgetsnbextension~=3.5.0->ipywidgets) (3.1.3)\n",
      "Requirement already satisfied: argon2-cffi in /opt/anaconda3/lib/python3.9/site-packages (from notebook>=4.4.1->widgetsnbextension~=3.5.0->ipywidgets) (21.3.0)\n",
      "Requirement already satisfied: nbconvert>=5 in /opt/anaconda3/lib/python3.9/site-packages (from notebook>=4.4.1->widgetsnbextension~=3.5.0->ipywidgets) (6.4.4)\n",
      "Requirement already satisfied: Send2Trash>=1.8.0 in /opt/anaconda3/lib/python3.9/site-packages (from notebook>=4.4.1->widgetsnbextension~=3.5.0->ipywidgets) (1.8.0)\n",
      "Requirement already satisfied: terminado>=0.8.3 in /opt/anaconda3/lib/python3.9/site-packages (from notebook>=4.4.1->widgetsnbextension~=3.5.0->ipywidgets) (0.13.1)\n",
      "Requirement already satisfied: prometheus-client in /opt/anaconda3/lib/python3.9/site-packages (from notebook>=4.4.1->widgetsnbextension~=3.5.0->ipywidgets) (0.14.1)\n",
      "Requirement already satisfied: ptyprocess>=0.5 in /opt/anaconda3/lib/python3.9/site-packages (from pexpect>4.3->ipython>=4.0.0->ipywidgets) (0.7.0)\n",
      "Requirement already satisfied: wcwidth in /opt/anaconda3/lib/python3.9/site-packages (from prompt-toolkit<3.1.0,>=3.0.41->ipython>=4.0.0->ipywidgets) (0.2.5)\n",
      "Requirement already satisfied: pyparsing!=3.0.5,>=2.0.2 in /opt/anaconda3/lib/python3.9/site-packages (from packaging->ipykernel>=4.5.1->ipywidgets) (3.0.9)\n",
      "Requirement already satisfied: executing>=1.2.0 in /opt/anaconda3/lib/python3.9/site-packages (from stack-data->ipython>=4.0.0->ipywidgets) (2.0.1)\n",
      "Requirement already satisfied: asttokens>=2.1.0 in /opt/anaconda3/lib/python3.9/site-packages (from stack-data->ipython>=4.0.0->ipywidgets) (2.4.1)\n",
      "Requirement already satisfied: pure-eval in /opt/anaconda3/lib/python3.9/site-packages (from stack-data->ipython>=4.0.0->ipywidgets) (0.2.2)\n",
      "Requirement already satisfied: six>=1.12.0 in /opt/anaconda3/lib/python3.9/site-packages (from asttokens>=2.1.0->stack-data->ipython>=4.0.0->ipywidgets) (1.16.0)\n",
      "Requirement already satisfied: mistune<2,>=0.8.1 in /opt/anaconda3/lib/python3.9/site-packages (from nbconvert>=5->notebook>=4.4.1->widgetsnbextension~=3.5.0->ipywidgets) (0.8.4)\n",
      "Requirement already satisfied: jupyterlab-pygments in /opt/anaconda3/lib/python3.9/site-packages (from nbconvert>=5->notebook>=4.4.1->widgetsnbextension~=3.5.0->ipywidgets) (0.1.2)\n",
      "Requirement already satisfied: bleach in /opt/anaconda3/lib/python3.9/site-packages (from nbconvert>=5->notebook>=4.4.1->widgetsnbextension~=3.5.0->ipywidgets) (4.1.0)\n",
      "Requirement already satisfied: pandocfilters>=1.4.1 in /opt/anaconda3/lib/python3.9/site-packages (from nbconvert>=5->notebook>=4.4.1->widgetsnbextension~=3.5.0->ipywidgets) (1.5.0)\n",
      "Requirement already satisfied: testpath in /opt/anaconda3/lib/python3.9/site-packages (from nbconvert>=5->notebook>=4.4.1->widgetsnbextension~=3.5.0->ipywidgets) (0.6.0)\n",
      "Requirement already satisfied: defusedxml in /opt/anaconda3/lib/python3.9/site-packages (from nbconvert>=5->notebook>=4.4.1->widgetsnbextension~=3.5.0->ipywidgets) (0.7.1)\n",
      "Requirement already satisfied: beautifulsoup4 in /opt/anaconda3/lib/python3.9/site-packages (from nbconvert>=5->notebook>=4.4.1->widgetsnbextension~=3.5.0->ipywidgets) (4.12.3)\n",
      "Requirement already satisfied: nbclient<0.6.0,>=0.5.0 in /opt/anaconda3/lib/python3.9/site-packages (from nbconvert>=5->notebook>=4.4.1->widgetsnbextension~=3.5.0->ipywidgets) (0.5.13)\n",
      "Requirement already satisfied: MarkupSafe>=2.0 in /opt/anaconda3/lib/python3.9/site-packages (from jinja2->notebook>=4.4.1->widgetsnbextension~=3.5.0->ipywidgets) (2.1.5)\n",
      "Requirement already satisfied: argon2-cffi-bindings in /opt/anaconda3/lib/python3.9/site-packages (from argon2-cffi->notebook>=4.4.1->widgetsnbextension~=3.5.0->ipywidgets) (21.2.0)\n",
      "Requirement already satisfied: cffi>=1.0.1 in /opt/anaconda3/lib/python3.9/site-packages (from argon2-cffi-bindings->argon2-cffi->notebook>=4.4.1->widgetsnbextension~=3.5.0->ipywidgets) (1.15.1)\n",
      "Requirement already satisfied: soupsieve>1.2 in /opt/anaconda3/lib/python3.9/site-packages (from beautifulsoup4->nbconvert>=5->notebook>=4.4.1->widgetsnbextension~=3.5.0->ipywidgets) (2.3.1)\n",
      "Requirement already satisfied: webencodings in /opt/anaconda3/lib/python3.9/site-packages (from bleach->nbconvert>=5->notebook>=4.4.1->widgetsnbextension~=3.5.0->ipywidgets) (0.5.1)\n",
      "Requirement already satisfied: pycparser in /opt/anaconda3/lib/python3.9/site-packages (from cffi>=1.0.1->argon2-cffi-bindings->argon2-cffi->notebook>=4.4.1->widgetsnbextension~=3.5.0->ipywidgets) (2.21)\n",
      "Note: you may need to restart the kernel to use updated packages.\n"
     ]
    }
   ],
   "source": [
    "pip install ipywidgets"
   ]
  },
  {
   "cell_type": "code",
   "execution_count": 71,
   "id": "100d1bd7",
   "metadata": {},
   "outputs": [
    {
     "name": "stdout",
     "output_type": "stream",
     "text": [
      "Requirement already satisfied: scikit-learn in /opt/anaconda3/lib/python3.9/site-packages (1.4.1.post1)\n",
      "Requirement already satisfied: numpy<2.0,>=1.19.5 in /opt/anaconda3/lib/python3.9/site-packages (from scikit-learn) (1.24.4)\n",
      "Requirement already satisfied: scipy>=1.6.0 in /opt/anaconda3/lib/python3.9/site-packages (from scikit-learn) (1.9.1)\n",
      "Requirement already satisfied: joblib>=1.2.0 in /opt/anaconda3/lib/python3.9/site-packages (from scikit-learn) (1.3.2)\n",
      "Requirement already satisfied: threadpoolctl>=2.0.0 in /opt/anaconda3/lib/python3.9/site-packages (from scikit-learn) (3.4.0)\n",
      "Note: you may need to restart the kernel to use updated packages.\n"
     ]
    }
   ],
   "source": [
    "pip install scikit-learn"
   ]
  },
  {
   "cell_type": "code",
   "execution_count": 72,
   "id": "e789bb9a",
   "metadata": {},
   "outputs": [
    {
     "name": "stdout",
     "output_type": "stream",
     "text": [
      "Requirement already satisfied: category-encoders in /opt/anaconda3/lib/python3.9/site-packages (2.6.3)\n",
      "Requirement already satisfied: numpy>=1.14.0 in /opt/anaconda3/lib/python3.9/site-packages (from category-encoders) (1.24.4)\n",
      "Requirement already satisfied: scikit-learn>=0.20.0 in /opt/anaconda3/lib/python3.9/site-packages (from category-encoders) (1.4.1.post1)\n",
      "Requirement already satisfied: scipy>=1.0.0 in /opt/anaconda3/lib/python3.9/site-packages (from category-encoders) (1.9.1)\n",
      "Requirement already satisfied: statsmodels>=0.9.0 in /opt/anaconda3/lib/python3.9/site-packages (from category-encoders) (0.13.2)\n",
      "Requirement already satisfied: pandas>=1.0.5 in /opt/anaconda3/lib/python3.9/site-packages (from category-encoders) (2.2.1)\n",
      "Requirement already satisfied: patsy>=0.5.1 in /opt/anaconda3/lib/python3.9/site-packages (from category-encoders) (0.5.2)\n",
      "Requirement already satisfied: python-dateutil>=2.8.2 in /opt/anaconda3/lib/python3.9/site-packages (from pandas>=1.0.5->category-encoders) (2.8.2)\n",
      "Requirement already satisfied: pytz>=2020.1 in /opt/anaconda3/lib/python3.9/site-packages (from pandas>=1.0.5->category-encoders) (2023.3.post1)\n",
      "Requirement already satisfied: tzdata>=2022.7 in /opt/anaconda3/lib/python3.9/site-packages (from pandas>=1.0.5->category-encoders) (2023.4)\n",
      "Requirement already satisfied: six in /opt/anaconda3/lib/python3.9/site-packages (from patsy>=0.5.1->category-encoders) (1.16.0)\n",
      "Requirement already satisfied: joblib>=1.2.0 in /opt/anaconda3/lib/python3.9/site-packages (from scikit-learn>=0.20.0->category-encoders) (1.3.2)\n",
      "Requirement already satisfied: threadpoolctl>=2.0.0 in /opt/anaconda3/lib/python3.9/site-packages (from scikit-learn>=0.20.0->category-encoders) (3.4.0)\n",
      "Requirement already satisfied: packaging>=21.3 in /opt/anaconda3/lib/python3.9/site-packages (from statsmodels>=0.9.0->category-encoders) (21.3)\n",
      "Requirement already satisfied: pyparsing!=3.0.5,>=2.0.2 in /opt/anaconda3/lib/python3.9/site-packages (from packaging>=21.3->statsmodels>=0.9.0->category-encoders) (3.0.9)\n",
      "Note: you may need to restart the kernel to use updated packages.\n"
     ]
    }
   ],
   "source": [
    "pip install category-encoders"
   ]
  },
  {
   "cell_type": "markdown",
   "id": "10ee3fb6",
   "metadata": {},
   "source": [
    "- <h1 style=\"color:black; padding:10px;\">importing modules</h1>"
   ]
  },
  {
   "cell_type": "code",
   "execution_count": 98,
   "id": "33ce0b3b",
   "metadata": {},
   "outputs": [],
   "source": [
    "import pandas as pd\n",
    "from pandas import Series, DataFrame\n",
    "import numpy as np\n",
    "import matplotlib.pyplot as plt\n",
    "import plotly.express as px\n",
    "import plotly.graph_objects as go\n",
    "import ipywidgets as widgets\n",
    "from ipywidgets import Text, Output\n",
    "from IPython.display import display, HTML\n",
    "from sklearn.impute import SimpleImputer\n",
    "from sklearn.feature_extraction.text import TfidfVectorizer\n",
    "from sklearn.metrics.pairwise import cosine_similarity\n",
    "from sklearn.neighbors import NearestNeighbors\n",
    "from sklearn.linear_model import LinearRegression\n",
    "from sklearn.metrics import mean_squared_error\n",
    "from sklearn.model_selection import train_test_split\n",
    "from sklearn.preprocessing import StandardScaler\n",
    "from category_encoders import TargetEncoder"
   ]
  },
  {
   "cell_type": "markdown",
   "id": "4adee5e0",
   "metadata": {},
   "source": [
    "**<h1 style=\"text-align:center;\">- Data Collection and Visualization -</h1>**\n",
    "<hr style=\"border: 1px solid black;\">\n",
    "\n",
    "                                 \n",
    "- ### This dataset was retrieved from Kaggle: \n",
    "\n",
    "https://www.kaggle.com/datasets/harshitshankhdhar/imdb-dataset-of-top-1000-movies-and-tv-shows\n",
    "\n",
    "- reading the data and selecting columns to use\n",
    "- setting the index to be Rank"
   ]
  },
  {
   "cell_type": "code",
   "execution_count": 99,
   "id": "404f65d7",
   "metadata": {},
   "outputs": [
    {
     "data": {
      "text/html": [
       "<div>\n",
       "<style scoped>\n",
       "    .dataframe tbody tr th:only-of-type {\n",
       "        vertical-align: middle;\n",
       "    }\n",
       "\n",
       "    .dataframe tbody tr th {\n",
       "        vertical-align: top;\n",
       "    }\n",
       "\n",
       "    .dataframe thead th {\n",
       "        text-align: right;\n",
       "    }\n",
       "</style>\n",
       "<table border=\"1\" class=\"dataframe\">\n",
       "  <thead>\n",
       "    <tr style=\"text-align: right;\">\n",
       "      <th></th>\n",
       "      <th>Series_Title</th>\n",
       "      <th>Released_Year</th>\n",
       "      <th>Runtime</th>\n",
       "      <th>Genre</th>\n",
       "      <th>IMDB_Rating</th>\n",
       "      <th>Meta_score</th>\n",
       "      <th>Director</th>\n",
       "      <th>Star1</th>\n",
       "      <th>Star2</th>\n",
       "      <th>Star3</th>\n",
       "      <th>Star4</th>\n",
       "      <th>No_of_Votes</th>\n",
       "    </tr>\n",
       "    <tr>\n",
       "      <th>Rank</th>\n",
       "      <th></th>\n",
       "      <th></th>\n",
       "      <th></th>\n",
       "      <th></th>\n",
       "      <th></th>\n",
       "      <th></th>\n",
       "      <th></th>\n",
       "      <th></th>\n",
       "      <th></th>\n",
       "      <th></th>\n",
       "      <th></th>\n",
       "      <th></th>\n",
       "    </tr>\n",
       "  </thead>\n",
       "  <tbody>\n",
       "    <tr>\n",
       "      <th>0</th>\n",
       "      <td>The Shawshank Redemption</td>\n",
       "      <td>1994</td>\n",
       "      <td>142 min</td>\n",
       "      <td>Drama</td>\n",
       "      <td>9.3</td>\n",
       "      <td>80.0</td>\n",
       "      <td>Frank Darabont</td>\n",
       "      <td>Tim Robbins</td>\n",
       "      <td>Morgan Freeman</td>\n",
       "      <td>Bob Gunton</td>\n",
       "      <td>William Sadler</td>\n",
       "      <td>2343110</td>\n",
       "    </tr>\n",
       "    <tr>\n",
       "      <th>1</th>\n",
       "      <td>The Godfather</td>\n",
       "      <td>1972</td>\n",
       "      <td>175 min</td>\n",
       "      <td>Crime, Drama</td>\n",
       "      <td>9.2</td>\n",
       "      <td>100.0</td>\n",
       "      <td>Francis Ford Coppola</td>\n",
       "      <td>Marlon Brando</td>\n",
       "      <td>Al Pacino</td>\n",
       "      <td>James Caan</td>\n",
       "      <td>Diane Keaton</td>\n",
       "      <td>1620367</td>\n",
       "    </tr>\n",
       "    <tr>\n",
       "      <th>2</th>\n",
       "      <td>The Dark Knight</td>\n",
       "      <td>2008</td>\n",
       "      <td>152 min</td>\n",
       "      <td>Action, Crime, Drama</td>\n",
       "      <td>9.0</td>\n",
       "      <td>84.0</td>\n",
       "      <td>Christopher Nolan</td>\n",
       "      <td>Christian Bale</td>\n",
       "      <td>Heath Ledger</td>\n",
       "      <td>Aaron Eckhart</td>\n",
       "      <td>Michael Caine</td>\n",
       "      <td>2303232</td>\n",
       "    </tr>\n",
       "    <tr>\n",
       "      <th>3</th>\n",
       "      <td>The Godfather: Part II</td>\n",
       "      <td>1974</td>\n",
       "      <td>202 min</td>\n",
       "      <td>Crime, Drama</td>\n",
       "      <td>9.0</td>\n",
       "      <td>90.0</td>\n",
       "      <td>Francis Ford Coppola</td>\n",
       "      <td>Al Pacino</td>\n",
       "      <td>Robert De Niro</td>\n",
       "      <td>Robert Duvall</td>\n",
       "      <td>Diane Keaton</td>\n",
       "      <td>1129952</td>\n",
       "    </tr>\n",
       "    <tr>\n",
       "      <th>4</th>\n",
       "      <td>12 Angry Men</td>\n",
       "      <td>1957</td>\n",
       "      <td>96 min</td>\n",
       "      <td>Crime, Drama</td>\n",
       "      <td>9.0</td>\n",
       "      <td>96.0</td>\n",
       "      <td>Sidney Lumet</td>\n",
       "      <td>Henry Fonda</td>\n",
       "      <td>Lee J. Cobb</td>\n",
       "      <td>Martin Balsam</td>\n",
       "      <td>John Fiedler</td>\n",
       "      <td>689845</td>\n",
       "    </tr>\n",
       "  </tbody>\n",
       "</table>\n",
       "</div>"
      ],
      "text/plain": [
       "                  Series_Title Released_Year  Runtime                 Genre  \\\n",
       "Rank                                                                          \n",
       "0     The Shawshank Redemption          1994  142 min                 Drama   \n",
       "1                The Godfather          1972  175 min          Crime, Drama   \n",
       "2              The Dark Knight          2008  152 min  Action, Crime, Drama   \n",
       "3       The Godfather: Part II          1974  202 min          Crime, Drama   \n",
       "4                 12 Angry Men          1957   96 min          Crime, Drama   \n",
       "\n",
       "      IMDB_Rating  Meta_score              Director           Star1  \\\n",
       "Rank                                                                  \n",
       "0             9.3        80.0        Frank Darabont     Tim Robbins   \n",
       "1             9.2       100.0  Francis Ford Coppola   Marlon Brando   \n",
       "2             9.0        84.0     Christopher Nolan  Christian Bale   \n",
       "3             9.0        90.0  Francis Ford Coppola       Al Pacino   \n",
       "4             9.0        96.0          Sidney Lumet     Henry Fonda   \n",
       "\n",
       "               Star2          Star3           Star4  No_of_Votes  \n",
       "Rank                                                              \n",
       "0     Morgan Freeman     Bob Gunton  William Sadler      2343110  \n",
       "1          Al Pacino     James Caan    Diane Keaton      1620367  \n",
       "2       Heath Ledger  Aaron Eckhart   Michael Caine      2303232  \n",
       "3     Robert De Niro  Robert Duvall    Diane Keaton      1129952  \n",
       "4        Lee J. Cobb  Martin Balsam    John Fiedler       689845  "
      ]
     },
     "execution_count": 99,
     "metadata": {},
     "output_type": "execute_result"
    }
   ],
   "source": [
    "df = pd.read_csv('imdb_top_1000.csv', usecols=['Series_Title', 'Released_Year', 'Runtime', \n",
    "                                               'Genre', 'IMDB_Rating', 'Meta_score', 'Director',\n",
    "                                              'Star1','Star2','Star3','Star4','No_of_Votes'])\n",
    "\n",
    "df.index.name = 'Rank'\n",
    "df.head()"
   ]
  },
  {
   "cell_type": "markdown",
   "id": "4c9a16b0",
   "metadata": {},
   "source": [
    "- I found a value in Released_year column that he's not a number\n",
    "- it was name \"PG\"\n",
    "- I replace it with the most common number in the column which is 2014"
   ]
  },
  {
   "cell_type": "code",
   "execution_count": 100,
   "id": "c3bbcb8c",
   "metadata": {
    "scrolled": true
   },
   "outputs": [
    {
     "data": {
      "text/plain": [
       "Released_Year\n",
       "2014    32\n",
       "2004    31\n",
       "2009    29\n",
       "2013    28\n",
       "2016    28\n",
       "        ..\n",
       "1926     1\n",
       "1936     1\n",
       "1924     1\n",
       "1921     1\n",
       "PG       1\n",
       "Name: count, Length: 100, dtype: int64"
      ]
     },
     "execution_count": 100,
     "metadata": {},
     "output_type": "execute_result"
    }
   ],
   "source": [
    "df['Released_Year'].value_counts()"
   ]
  },
  {
   "cell_type": "code",
   "execution_count": 101,
   "id": "e241dedf",
   "metadata": {
    "scrolled": true
   },
   "outputs": [
    {
     "name": "stderr",
     "output_type": "stream",
     "text": [
      "/var/folders/rj/y6bhdw5d0bb479qq4r5l3chw0000gn/T/ipykernel_7684/931879478.py:1: FutureWarning:\n",
      "\n",
      "A value is trying to be set on a copy of a DataFrame or Series through chained assignment using an inplace method.\n",
      "The behavior will change in pandas 3.0. This inplace method will never work because the intermediate object on which we are setting values always behaves as a copy.\n",
      "\n",
      "For example, when doing 'df[col].method(value, inplace=True)', try using 'df.method({col: value}, inplace=True)' or df[col] = df[col].method(value) instead, to perform the operation inplace on the original object.\n",
      "\n",
      "\n",
      "\n"
     ]
    }
   ],
   "source": [
    "df['Released_Year'].replace('PG', '2014', inplace=True)"
   ]
  },
  {
   "cell_type": "code",
   "execution_count": 102,
   "id": "3fb80187",
   "metadata": {
    "scrolled": true
   },
   "outputs": [
    {
     "data": {
      "text/plain": [
       "Released_Year\n",
       "2014    33\n",
       "2004    31\n",
       "2009    29\n",
       "2013    28\n",
       "2016    28\n",
       "        ..\n",
       "1930     1\n",
       "1921     1\n",
       "1936     1\n",
       "1922     1\n",
       "1943     1\n",
       "Name: count, Length: 99, dtype: int64"
      ]
     },
     "execution_count": 102,
     "metadata": {},
     "output_type": "execute_result"
    }
   ],
   "source": [
    "df['Released_Year'].value_counts()"
   ]
  },
  {
   "cell_type": "markdown",
   "id": "5a26696b",
   "metadata": {},
   "source": [
    "- The following code combines the values from columns 'Star1', 'Star2', 'Star3', and 'Star4' into a new column 'Stars' separated by commas, then drops the original star columns and renames two other columns.\n",
    "\n",
    "- changing the name of some of the columns.\n",
    "   "
   ]
  },
  {
   "cell_type": "code",
   "execution_count": 103,
   "id": "293ca410",
   "metadata": {
    "scrolled": true
   },
   "outputs": [],
   "source": [
    "df['Stars'] = df['Star1'] + ', ' + df['Star2'] + ', ' + df['Star3'] + ', ' + df['Star4']\n",
    "df = df.drop(columns=['Star1', 'Star2', 'Star3', 'Star4'])\n",
    "df = df.rename(columns={'Series_Title': 'Title', 'Meta_score': 'Metascore'})"
   ]
  },
  {
   "cell_type": "code",
   "execution_count": 104,
   "id": "b96f90ae",
   "metadata": {},
   "outputs": [
    {
     "data": {
      "text/html": [
       "<div>\n",
       "<style scoped>\n",
       "    .dataframe tbody tr th:only-of-type {\n",
       "        vertical-align: middle;\n",
       "    }\n",
       "\n",
       "    .dataframe tbody tr th {\n",
       "        vertical-align: top;\n",
       "    }\n",
       "\n",
       "    .dataframe thead th {\n",
       "        text-align: right;\n",
       "    }\n",
       "</style>\n",
       "<table border=\"1\" class=\"dataframe\">\n",
       "  <thead>\n",
       "    <tr style=\"text-align: right;\">\n",
       "      <th></th>\n",
       "      <th>Title</th>\n",
       "      <th>Released_Year</th>\n",
       "      <th>Runtime</th>\n",
       "      <th>Genre</th>\n",
       "      <th>IMDB_Rating</th>\n",
       "      <th>Metascore</th>\n",
       "      <th>Director</th>\n",
       "      <th>No_of_Votes</th>\n",
       "      <th>Stars</th>\n",
       "    </tr>\n",
       "    <tr>\n",
       "      <th>Rank</th>\n",
       "      <th></th>\n",
       "      <th></th>\n",
       "      <th></th>\n",
       "      <th></th>\n",
       "      <th></th>\n",
       "      <th></th>\n",
       "      <th></th>\n",
       "      <th></th>\n",
       "      <th></th>\n",
       "    </tr>\n",
       "  </thead>\n",
       "  <tbody>\n",
       "    <tr>\n",
       "      <th>0</th>\n",
       "      <td>The Shawshank Redemption</td>\n",
       "      <td>1994</td>\n",
       "      <td>142 min</td>\n",
       "      <td>Drama</td>\n",
       "      <td>9.3</td>\n",
       "      <td>80.0</td>\n",
       "      <td>Frank Darabont</td>\n",
       "      <td>2343110</td>\n",
       "      <td>Tim Robbins, Morgan Freeman, Bob Gunton, Willi...</td>\n",
       "    </tr>\n",
       "    <tr>\n",
       "      <th>1</th>\n",
       "      <td>The Godfather</td>\n",
       "      <td>1972</td>\n",
       "      <td>175 min</td>\n",
       "      <td>Crime, Drama</td>\n",
       "      <td>9.2</td>\n",
       "      <td>100.0</td>\n",
       "      <td>Francis Ford Coppola</td>\n",
       "      <td>1620367</td>\n",
       "      <td>Marlon Brando, Al Pacino, James Caan, Diane Ke...</td>\n",
       "    </tr>\n",
       "    <tr>\n",
       "      <th>2</th>\n",
       "      <td>The Dark Knight</td>\n",
       "      <td>2008</td>\n",
       "      <td>152 min</td>\n",
       "      <td>Action, Crime, Drama</td>\n",
       "      <td>9.0</td>\n",
       "      <td>84.0</td>\n",
       "      <td>Christopher Nolan</td>\n",
       "      <td>2303232</td>\n",
       "      <td>Christian Bale, Heath Ledger, Aaron Eckhart, M...</td>\n",
       "    </tr>\n",
       "    <tr>\n",
       "      <th>3</th>\n",
       "      <td>The Godfather: Part II</td>\n",
       "      <td>1974</td>\n",
       "      <td>202 min</td>\n",
       "      <td>Crime, Drama</td>\n",
       "      <td>9.0</td>\n",
       "      <td>90.0</td>\n",
       "      <td>Francis Ford Coppola</td>\n",
       "      <td>1129952</td>\n",
       "      <td>Al Pacino, Robert De Niro, Robert Duvall, Dian...</td>\n",
       "    </tr>\n",
       "    <tr>\n",
       "      <th>4</th>\n",
       "      <td>12 Angry Men</td>\n",
       "      <td>1957</td>\n",
       "      <td>96 min</td>\n",
       "      <td>Crime, Drama</td>\n",
       "      <td>9.0</td>\n",
       "      <td>96.0</td>\n",
       "      <td>Sidney Lumet</td>\n",
       "      <td>689845</td>\n",
       "      <td>Henry Fonda, Lee J. Cobb, Martin Balsam, John ...</td>\n",
       "    </tr>\n",
       "  </tbody>\n",
       "</table>\n",
       "</div>"
      ],
      "text/plain": [
       "                         Title Released_Year  Runtime                 Genre  \\\n",
       "Rank                                                                          \n",
       "0     The Shawshank Redemption          1994  142 min                 Drama   \n",
       "1                The Godfather          1972  175 min          Crime, Drama   \n",
       "2              The Dark Knight          2008  152 min  Action, Crime, Drama   \n",
       "3       The Godfather: Part II          1974  202 min          Crime, Drama   \n",
       "4                 12 Angry Men          1957   96 min          Crime, Drama   \n",
       "\n",
       "      IMDB_Rating  Metascore              Director  No_of_Votes  \\\n",
       "Rank                                                              \n",
       "0             9.3       80.0        Frank Darabont      2343110   \n",
       "1             9.2      100.0  Francis Ford Coppola      1620367   \n",
       "2             9.0       84.0     Christopher Nolan      2303232   \n",
       "3             9.0       90.0  Francis Ford Coppola      1129952   \n",
       "4             9.0       96.0          Sidney Lumet       689845   \n",
       "\n",
       "                                                  Stars  \n",
       "Rank                                                     \n",
       "0     Tim Robbins, Morgan Freeman, Bob Gunton, Willi...  \n",
       "1     Marlon Brando, Al Pacino, James Caan, Diane Ke...  \n",
       "2     Christian Bale, Heath Ledger, Aaron Eckhart, M...  \n",
       "3     Al Pacino, Robert De Niro, Robert Duvall, Dian...  \n",
       "4     Henry Fonda, Lee J. Cobb, Martin Balsam, John ...  "
      ]
     },
     "execution_count": 104,
     "metadata": {},
     "output_type": "execute_result"
    }
   ],
   "source": [
    "df.head()"
   ]
  },
  {
   "cell_type": "markdown",
   "id": "dd0a2ab8",
   "metadata": {},
   "source": [
    "- The following code identifying the missing values aka NaN values in the dataset.\n",
    "- Metascore column has 157 missing values.\n",
    "- <b>Metascore</b> is a rating from the weighted average of professional critics' reviews, ranging from 0-100, where higher scores reflect more favorably."
   ]
  },
  {
   "cell_type": "code",
   "execution_count": 105,
   "id": "5e0a0faf",
   "metadata": {},
   "outputs": [
    {
     "data": {
      "text/plain": [
       "Title              0\n",
       "Released_Year      0\n",
       "Runtime            0\n",
       "Genre              0\n",
       "IMDB_Rating        0\n",
       "Metascore        157\n",
       "Director           0\n",
       "No_of_Votes        0\n",
       "Stars              0\n",
       "dtype: int64"
      ]
     },
     "execution_count": 105,
     "metadata": {},
     "output_type": "execute_result"
    }
   ],
   "source": [
    "df.isnull().sum()"
   ]
  },
  {
   "cell_type": "markdown",
   "id": "25c88840",
   "metadata": {},
   "source": [
    "- The following code displays information regarding the 'Metascore' column and explains the use of replacing missing values with the average Metascore. It is a common approach to replace the missing values with the average values. Since its relatively small number (157 out of 1000).\n",
    "- <b>df['Metascore'].describe()</b>: This function provides descriptive statistics of the 'Metascore' column, including count, mean, standard deviation, minimum, 25th percentile (Q1), median (50th percentile or Q2), 75th percentile (Q3), and maximum"
   ]
  },
  {
   "cell_type": "code",
   "execution_count": 106,
   "id": "1989c2e6",
   "metadata": {},
   "outputs": [
    {
     "data": {
      "text/plain": [
       "count    843.000000\n",
       "mean      77.971530\n",
       "std       12.376099\n",
       "min       28.000000\n",
       "25%       70.000000\n",
       "50%       79.000000\n",
       "75%       87.000000\n",
       "max      100.000000\n",
       "Name: Metascore, dtype: float64"
      ]
     },
     "execution_count": 106,
     "metadata": {},
     "output_type": "execute_result"
    }
   ],
   "source": [
    "df['Metascore'].describe()"
   ]
  },
  {
   "cell_type": "code",
   "execution_count": 107,
   "id": "b3b73020",
   "metadata": {},
   "outputs": [],
   "source": [
    "df['Metascore'] = df['Metascore'].fillna(df['Metascore'].mean())"
   ]
  },
  {
   "cell_type": "code",
   "execution_count": 108,
   "id": "d441b3e6",
   "metadata": {
    "scrolled": true
   },
   "outputs": [
    {
     "data": {
      "text/plain": [
       "Title            0\n",
       "Released_Year    0\n",
       "Runtime          0\n",
       "Genre            0\n",
       "IMDB_Rating      0\n",
       "Metascore        0\n",
       "Director         0\n",
       "No_of_Votes      0\n",
       "Stars            0\n",
       "dtype: int64"
      ]
     },
     "execution_count": 108,
     "metadata": {},
     "output_type": "execute_result"
    }
   ],
   "source": [
    "df.isnull().sum()"
   ]
  },
  {
   "cell_type": "markdown",
   "id": "a8e2c908",
   "metadata": {},
   "source": [
    "**<h1 style=\"text-align:center;\">Movie Dataset Analysis</h1>**\n",
    "<hr style=\"border: 1px solid black;\">\n",
    "\n",
    "- <b>Part 1:</b> Top 10 Movie Stars in the dataset.\n",
    "- the following code show the top 10 stars in the movie by number of movies in the list, then it takes their average IMDB_Rating, and Metascore, and their best movie on the list\n"
   ]
  },
  {
   "cell_type": "markdown",
   "id": "b0f33f0e",
   "metadata": {},
   "source": [
    "**<h1 style=\"text-align:center;\">Top 10 Actors</h1>**\n",
    "<hr style=\"border: 1px solid black;\">\n"
   ]
  },
  {
   "cell_type": "code",
   "execution_count": 109,
   "id": "33743ce3",
   "metadata": {},
   "outputs": [
    {
     "data": {
      "text/plain": [
       "Stars\n",
       "Robert De Niro       17\n",
       "Tom Hanks            14\n",
       "Al Pacino            13\n",
       "Clint Eastwood       12\n",
       "Brad Pitt            12\n",
       "Christian Bale       11\n",
       "Leonardo DiCaprio    11\n",
       "Matt Damon           11\n",
       "James Stewart        10\n",
       "Ethan Hawke           9\n",
       "Name: count, dtype: int64"
      ]
     },
     "execution_count": 109,
     "metadata": {},
     "output_type": "execute_result"
    }
   ],
   "source": [
    "top_10_stars = df['Stars'].str.split(', ').explode().value_counts().head(10)\n",
    "top_10_stars"
   ]
  },
  {
   "cell_type": "code",
   "execution_count": 110,
   "id": "e9ca8f90",
   "metadata": {},
   "outputs": [
    {
     "data": {
      "text/html": [
       "<div>\n",
       "<style scoped>\n",
       "    .dataframe tbody tr th:only-of-type {\n",
       "        vertical-align: middle;\n",
       "    }\n",
       "\n",
       "    .dataframe tbody tr th {\n",
       "        vertical-align: top;\n",
       "    }\n",
       "\n",
       "    .dataframe thead th {\n",
       "        text-align: right;\n",
       "    }\n",
       "</style>\n",
       "<table border=\"1\" class=\"dataframe\">\n",
       "  <thead>\n",
       "    <tr style=\"text-align: right;\">\n",
       "      <th></th>\n",
       "      <th>Number_of_Movies</th>\n",
       "      <th>Average_IMDB_Rating</th>\n",
       "      <th>Average_Metascore</th>\n",
       "      <th>Actor's Best Movie</th>\n",
       "    </tr>\n",
       "    <tr>\n",
       "      <th>Movie Star</th>\n",
       "      <th></th>\n",
       "      <th></th>\n",
       "      <th></th>\n",
       "      <th></th>\n",
       "    </tr>\n",
       "  </thead>\n",
       "  <tbody>\n",
       "    <tr>\n",
       "      <th>Robert De Niro</th>\n",
       "      <td>17</td>\n",
       "      <td>8.1</td>\n",
       "      <td>79.4</td>\n",
       "      <td>The Godfather: Part II</td>\n",
       "    </tr>\n",
       "    <tr>\n",
       "      <th>Tom Hanks</th>\n",
       "      <td>14</td>\n",
       "      <td>8.0</td>\n",
       "      <td>79.9</td>\n",
       "      <td>Forrest Gump</td>\n",
       "    </tr>\n",
       "    <tr>\n",
       "      <th>Al Pacino</th>\n",
       "      <td>13</td>\n",
       "      <td>8.1</td>\n",
       "      <td>78.8</td>\n",
       "      <td>The Godfather</td>\n",
       "    </tr>\n",
       "    <tr>\n",
       "      <th>Brad Pitt</th>\n",
       "      <td>12</td>\n",
       "      <td>8.0</td>\n",
       "      <td>72.4</td>\n",
       "      <td>Fight Club</td>\n",
       "    </tr>\n",
       "    <tr>\n",
       "      <th>Clint Eastwood</th>\n",
       "      <td>12</td>\n",
       "      <td>8.0</td>\n",
       "      <td>74.1</td>\n",
       "      <td>Il buono, il brutto, il cattivo</td>\n",
       "    </tr>\n",
       "    <tr>\n",
       "      <th>Matt Damon</th>\n",
       "      <td>11</td>\n",
       "      <td>8.0</td>\n",
       "      <td>79.4</td>\n",
       "      <td>Saving Private Ryan</td>\n",
       "    </tr>\n",
       "    <tr>\n",
       "      <th>Leonardo DiCaprio</th>\n",
       "      <td>11</td>\n",
       "      <td>8.1</td>\n",
       "      <td>74.9</td>\n",
       "      <td>Inception</td>\n",
       "    </tr>\n",
       "    <tr>\n",
       "      <th>Christian Bale</th>\n",
       "      <td>11</td>\n",
       "      <td>8.0</td>\n",
       "      <td>72.9</td>\n",
       "      <td>The Dark Knight</td>\n",
       "    </tr>\n",
       "    <tr>\n",
       "      <th>James Stewart</th>\n",
       "      <td>10</td>\n",
       "      <td>8.1</td>\n",
       "      <td>89.4</td>\n",
       "      <td>It's a Wonderful Life</td>\n",
       "    </tr>\n",
       "    <tr>\n",
       "      <th>Humphrey Bogart</th>\n",
       "      <td>9</td>\n",
       "      <td>8.0</td>\n",
       "      <td>85.4</td>\n",
       "      <td>Casablanca</td>\n",
       "    </tr>\n",
       "  </tbody>\n",
       "</table>\n",
       "</div>"
      ],
      "text/plain": [
       "                   Number_of_Movies  Average_IMDB_Rating  Average_Metascore  \\\n",
       "Movie Star                                                                    \n",
       "Robert De Niro                   17                  8.1               79.4   \n",
       "Tom Hanks                        14                  8.0               79.9   \n",
       "Al Pacino                        13                  8.1               78.8   \n",
       "Brad Pitt                        12                  8.0               72.4   \n",
       "Clint Eastwood                   12                  8.0               74.1   \n",
       "Matt Damon                       11                  8.0               79.4   \n",
       "Leonardo DiCaprio                11                  8.1               74.9   \n",
       "Christian Bale                   11                  8.0               72.9   \n",
       "James Stewart                    10                  8.1               89.4   \n",
       "Humphrey Bogart                   9                  8.0               85.4   \n",
       "\n",
       "                                Actor's Best Movie  \n",
       "Movie Star                                          \n",
       "Robert De Niro              The Godfather: Part II  \n",
       "Tom Hanks                             Forrest Gump  \n",
       "Al Pacino                            The Godfather  \n",
       "Brad Pitt                               Fight Club  \n",
       "Clint Eastwood     Il buono, il brutto, il cattivo  \n",
       "Matt Damon                     Saving Private Ryan  \n",
       "Leonardo DiCaprio                        Inception  \n",
       "Christian Bale                     The Dark Knight  \n",
       "James Stewart                It's a Wonderful Life  \n",
       "Humphrey Bogart                         Casablanca  "
      ]
     },
     "execution_count": 110,
     "metadata": {},
     "output_type": "execute_result"
    }
   ],
   "source": [
    "exploded_df = df.assign(Stars=df['Stars'].str.split(', ')).explode('Stars')\n",
    "\n",
    "\n",
    "star_stats = exploded_df.groupby('Stars').agg({'IMDB_Rating': ['mean', 'count'], 'Metascore': 'mean'})\n",
    "\n",
    "star_stats.columns = ['Average_IMDB_Rating', 'Number_of_Movies', 'Average_Metascore']\n",
    "star_stats.index.name = 'Movie Star'\n",
    "\n",
    "star_stats['Average_IMDB_Rating'] = star_stats['Average_IMDB_Rating'].round(1)\n",
    "star_stats['Average_Metascore'] = star_stats['Average_Metascore'].round(1)\n",
    "\n",
    "star_stats['Actor\\'s Best Movie'] = exploded_df.groupby('Stars')['IMDB_Rating'].idxmax().apply(lambda x: df.loc[x]['Title'])\n",
    "\n",
    "top_10_appearances = star_stats.sort_values(by='Number_of_Movies', ascending=False).head(10)\n",
    "\n",
    "top_10_appearances = top_10_appearances[['Number_of_Movies', 'Average_IMDB_Rating', 'Average_Metascore', 'Actor\\'s Best Movie']]\n",
    "\n",
    "top_10_appearances\n"
   ]
  },
  {
   "cell_type": "markdown",
   "id": "c33a748e",
   "metadata": {},
   "source": [
    "**<h1 style=\"text-align:center;\">Top 10 Movies by IMDB Rating and Metascore</h1>**\n",
    "<hr style=\"border: 1px solid black;\">\n"
   ]
  },
  {
   "cell_type": "markdown",
   "id": "85321400",
   "metadata": {},
   "source": [
    "- <b>Part 2:</b> Top 10 movies in the dataset.\n",
    "- The following code shows the Top 10 Movies on the list with highest IMDB Rating and Metascore.\n",
    "- The code displays dual-axis graph using Plotly, showing  Metascore as a bar chart and IMDB Rating as a dotted line chart, allowing for visual comparison between the two ratings for the top movies."
   ]
  },
  {
   "cell_type": "code",
   "execution_count": 111,
   "id": "5cc48d5a",
   "metadata": {},
   "outputs": [
    {
     "data": {
      "application/vnd.plotly.v1+json": {
       "config": {
        "plotlyServerURL": "https://plot.ly"
       },
       "data": [
        {
         "marker": {
          "color": "lightblue"
         },
         "name": "Metascore",
         "type": "bar",
         "x": [
          "The Shawshank Redemption",
          "The Godfather",
          "The Dark Knight",
          "The Godfather: Part II",
          "12 Angry Men",
          "The Lord of the Rings: The Return of the King",
          "Pulp Fiction",
          "Schindler's List",
          "The Lord of the Rings: The Fellowship of the Ring",
          "Forrest Gump"
         ],
         "y": [
          80,
          100,
          84,
          90,
          96,
          94,
          94,
          94,
          92,
          82
         ]
        },
        {
         "marker": {
          "color": "#1B7593"
         },
         "name": "IMDB Rating",
         "type": "scatter",
         "x": [
          "The Shawshank Redemption",
          "The Godfather",
          "The Dark Knight",
          "The Godfather: Part II",
          "12 Angry Men",
          "The Lord of the Rings: The Return of the King",
          "Pulp Fiction",
          "Schindler's List",
          "The Lord of the Rings: The Fellowship of the Ring",
          "Forrest Gump"
         ],
         "y": [
          9.3,
          9.2,
          9,
          9,
          9,
          8.9,
          8.9,
          8.9,
          8.8,
          8.8
         ],
         "yaxis": "y2"
        }
       ],
       "layout": {
        "legend": {
         "orientation": "h",
         "x": 0.35,
         "y": 1.2
        },
        "template": {
         "data": {
          "bar": [
           {
            "error_x": {
             "color": "#2a3f5f"
            },
            "error_y": {
             "color": "#2a3f5f"
            },
            "marker": {
             "line": {
              "color": "#E5ECF6",
              "width": 0.5
             },
             "pattern": {
              "fillmode": "overlay",
              "size": 10,
              "solidity": 0.2
             }
            },
            "type": "bar"
           }
          ],
          "barpolar": [
           {
            "marker": {
             "line": {
              "color": "#E5ECF6",
              "width": 0.5
             },
             "pattern": {
              "fillmode": "overlay",
              "size": 10,
              "solidity": 0.2
             }
            },
            "type": "barpolar"
           }
          ],
          "carpet": [
           {
            "aaxis": {
             "endlinecolor": "#2a3f5f",
             "gridcolor": "white",
             "linecolor": "white",
             "minorgridcolor": "white",
             "startlinecolor": "#2a3f5f"
            },
            "baxis": {
             "endlinecolor": "#2a3f5f",
             "gridcolor": "white",
             "linecolor": "white",
             "minorgridcolor": "white",
             "startlinecolor": "#2a3f5f"
            },
            "type": "carpet"
           }
          ],
          "choropleth": [
           {
            "colorbar": {
             "outlinewidth": 0,
             "ticks": ""
            },
            "type": "choropleth"
           }
          ],
          "contour": [
           {
            "colorbar": {
             "outlinewidth": 0,
             "ticks": ""
            },
            "colorscale": [
             [
              0,
              "#0d0887"
             ],
             [
              0.1111111111111111,
              "#46039f"
             ],
             [
              0.2222222222222222,
              "#7201a8"
             ],
             [
              0.3333333333333333,
              "#9c179e"
             ],
             [
              0.4444444444444444,
              "#bd3786"
             ],
             [
              0.5555555555555556,
              "#d8576b"
             ],
             [
              0.6666666666666666,
              "#ed7953"
             ],
             [
              0.7777777777777778,
              "#fb9f3a"
             ],
             [
              0.8888888888888888,
              "#fdca26"
             ],
             [
              1,
              "#f0f921"
             ]
            ],
            "type": "contour"
           }
          ],
          "contourcarpet": [
           {
            "colorbar": {
             "outlinewidth": 0,
             "ticks": ""
            },
            "type": "contourcarpet"
           }
          ],
          "heatmap": [
           {
            "colorbar": {
             "outlinewidth": 0,
             "ticks": ""
            },
            "colorscale": [
             [
              0,
              "#0d0887"
             ],
             [
              0.1111111111111111,
              "#46039f"
             ],
             [
              0.2222222222222222,
              "#7201a8"
             ],
             [
              0.3333333333333333,
              "#9c179e"
             ],
             [
              0.4444444444444444,
              "#bd3786"
             ],
             [
              0.5555555555555556,
              "#d8576b"
             ],
             [
              0.6666666666666666,
              "#ed7953"
             ],
             [
              0.7777777777777778,
              "#fb9f3a"
             ],
             [
              0.8888888888888888,
              "#fdca26"
             ],
             [
              1,
              "#f0f921"
             ]
            ],
            "type": "heatmap"
           }
          ],
          "heatmapgl": [
           {
            "colorbar": {
             "outlinewidth": 0,
             "ticks": ""
            },
            "colorscale": [
             [
              0,
              "#0d0887"
             ],
             [
              0.1111111111111111,
              "#46039f"
             ],
             [
              0.2222222222222222,
              "#7201a8"
             ],
             [
              0.3333333333333333,
              "#9c179e"
             ],
             [
              0.4444444444444444,
              "#bd3786"
             ],
             [
              0.5555555555555556,
              "#d8576b"
             ],
             [
              0.6666666666666666,
              "#ed7953"
             ],
             [
              0.7777777777777778,
              "#fb9f3a"
             ],
             [
              0.8888888888888888,
              "#fdca26"
             ],
             [
              1,
              "#f0f921"
             ]
            ],
            "type": "heatmapgl"
           }
          ],
          "histogram": [
           {
            "marker": {
             "pattern": {
              "fillmode": "overlay",
              "size": 10,
              "solidity": 0.2
             }
            },
            "type": "histogram"
           }
          ],
          "histogram2d": [
           {
            "colorbar": {
             "outlinewidth": 0,
             "ticks": ""
            },
            "colorscale": [
             [
              0,
              "#0d0887"
             ],
             [
              0.1111111111111111,
              "#46039f"
             ],
             [
              0.2222222222222222,
              "#7201a8"
             ],
             [
              0.3333333333333333,
              "#9c179e"
             ],
             [
              0.4444444444444444,
              "#bd3786"
             ],
             [
              0.5555555555555556,
              "#d8576b"
             ],
             [
              0.6666666666666666,
              "#ed7953"
             ],
             [
              0.7777777777777778,
              "#fb9f3a"
             ],
             [
              0.8888888888888888,
              "#fdca26"
             ],
             [
              1,
              "#f0f921"
             ]
            ],
            "type": "histogram2d"
           }
          ],
          "histogram2dcontour": [
           {
            "colorbar": {
             "outlinewidth": 0,
             "ticks": ""
            },
            "colorscale": [
             [
              0,
              "#0d0887"
             ],
             [
              0.1111111111111111,
              "#46039f"
             ],
             [
              0.2222222222222222,
              "#7201a8"
             ],
             [
              0.3333333333333333,
              "#9c179e"
             ],
             [
              0.4444444444444444,
              "#bd3786"
             ],
             [
              0.5555555555555556,
              "#d8576b"
             ],
             [
              0.6666666666666666,
              "#ed7953"
             ],
             [
              0.7777777777777778,
              "#fb9f3a"
             ],
             [
              0.8888888888888888,
              "#fdca26"
             ],
             [
              1,
              "#f0f921"
             ]
            ],
            "type": "histogram2dcontour"
           }
          ],
          "mesh3d": [
           {
            "colorbar": {
             "outlinewidth": 0,
             "ticks": ""
            },
            "type": "mesh3d"
           }
          ],
          "parcoords": [
           {
            "line": {
             "colorbar": {
              "outlinewidth": 0,
              "ticks": ""
             }
            },
            "type": "parcoords"
           }
          ],
          "pie": [
           {
            "automargin": true,
            "type": "pie"
           }
          ],
          "scatter": [
           {
            "fillpattern": {
             "fillmode": "overlay",
             "size": 10,
             "solidity": 0.2
            },
            "type": "scatter"
           }
          ],
          "scatter3d": [
           {
            "line": {
             "colorbar": {
              "outlinewidth": 0,
              "ticks": ""
             }
            },
            "marker": {
             "colorbar": {
              "outlinewidth": 0,
              "ticks": ""
             }
            },
            "type": "scatter3d"
           }
          ],
          "scattercarpet": [
           {
            "marker": {
             "colorbar": {
              "outlinewidth": 0,
              "ticks": ""
             }
            },
            "type": "scattercarpet"
           }
          ],
          "scattergeo": [
           {
            "marker": {
             "colorbar": {
              "outlinewidth": 0,
              "ticks": ""
             }
            },
            "type": "scattergeo"
           }
          ],
          "scattergl": [
           {
            "marker": {
             "colorbar": {
              "outlinewidth": 0,
              "ticks": ""
             }
            },
            "type": "scattergl"
           }
          ],
          "scattermapbox": [
           {
            "marker": {
             "colorbar": {
              "outlinewidth": 0,
              "ticks": ""
             }
            },
            "type": "scattermapbox"
           }
          ],
          "scatterpolar": [
           {
            "marker": {
             "colorbar": {
              "outlinewidth": 0,
              "ticks": ""
             }
            },
            "type": "scatterpolar"
           }
          ],
          "scatterpolargl": [
           {
            "marker": {
             "colorbar": {
              "outlinewidth": 0,
              "ticks": ""
             }
            },
            "type": "scatterpolargl"
           }
          ],
          "scatterternary": [
           {
            "marker": {
             "colorbar": {
              "outlinewidth": 0,
              "ticks": ""
             }
            },
            "type": "scatterternary"
           }
          ],
          "surface": [
           {
            "colorbar": {
             "outlinewidth": 0,
             "ticks": ""
            },
            "colorscale": [
             [
              0,
              "#0d0887"
             ],
             [
              0.1111111111111111,
              "#46039f"
             ],
             [
              0.2222222222222222,
              "#7201a8"
             ],
             [
              0.3333333333333333,
              "#9c179e"
             ],
             [
              0.4444444444444444,
              "#bd3786"
             ],
             [
              0.5555555555555556,
              "#d8576b"
             ],
             [
              0.6666666666666666,
              "#ed7953"
             ],
             [
              0.7777777777777778,
              "#fb9f3a"
             ],
             [
              0.8888888888888888,
              "#fdca26"
             ],
             [
              1,
              "#f0f921"
             ]
            ],
            "type": "surface"
           }
          ],
          "table": [
           {
            "cells": {
             "fill": {
              "color": "#EBF0F8"
             },
             "line": {
              "color": "white"
             }
            },
            "header": {
             "fill": {
              "color": "#C8D4E3"
             },
             "line": {
              "color": "white"
             }
            },
            "type": "table"
           }
          ]
         },
         "layout": {
          "annotationdefaults": {
           "arrowcolor": "#2a3f5f",
           "arrowhead": 0,
           "arrowwidth": 1
          },
          "autotypenumbers": "strict",
          "coloraxis": {
           "colorbar": {
            "outlinewidth": 0,
            "ticks": ""
           }
          },
          "colorscale": {
           "diverging": [
            [
             0,
             "#8e0152"
            ],
            [
             0.1,
             "#c51b7d"
            ],
            [
             0.2,
             "#de77ae"
            ],
            [
             0.3,
             "#f1b6da"
            ],
            [
             0.4,
             "#fde0ef"
            ],
            [
             0.5,
             "#f7f7f7"
            ],
            [
             0.6,
             "#e6f5d0"
            ],
            [
             0.7,
             "#b8e186"
            ],
            [
             0.8,
             "#7fbc41"
            ],
            [
             0.9,
             "#4d9221"
            ],
            [
             1,
             "#276419"
            ]
           ],
           "sequential": [
            [
             0,
             "#0d0887"
            ],
            [
             0.1111111111111111,
             "#46039f"
            ],
            [
             0.2222222222222222,
             "#7201a8"
            ],
            [
             0.3333333333333333,
             "#9c179e"
            ],
            [
             0.4444444444444444,
             "#bd3786"
            ],
            [
             0.5555555555555556,
             "#d8576b"
            ],
            [
             0.6666666666666666,
             "#ed7953"
            ],
            [
             0.7777777777777778,
             "#fb9f3a"
            ],
            [
             0.8888888888888888,
             "#fdca26"
            ],
            [
             1,
             "#f0f921"
            ]
           ],
           "sequentialminus": [
            [
             0,
             "#0d0887"
            ],
            [
             0.1111111111111111,
             "#46039f"
            ],
            [
             0.2222222222222222,
             "#7201a8"
            ],
            [
             0.3333333333333333,
             "#9c179e"
            ],
            [
             0.4444444444444444,
             "#bd3786"
            ],
            [
             0.5555555555555556,
             "#d8576b"
            ],
            [
             0.6666666666666666,
             "#ed7953"
            ],
            [
             0.7777777777777778,
             "#fb9f3a"
            ],
            [
             0.8888888888888888,
             "#fdca26"
            ],
            [
             1,
             "#f0f921"
            ]
           ]
          },
          "colorway": [
           "#636efa",
           "#EF553B",
           "#00cc96",
           "#ab63fa",
           "#FFA15A",
           "#19d3f3",
           "#FF6692",
           "#B6E880",
           "#FF97FF",
           "#FECB52"
          ],
          "font": {
           "color": "#2a3f5f"
          },
          "geo": {
           "bgcolor": "white",
           "lakecolor": "white",
           "landcolor": "#E5ECF6",
           "showlakes": true,
           "showland": true,
           "subunitcolor": "white"
          },
          "hoverlabel": {
           "align": "left"
          },
          "hovermode": "closest",
          "mapbox": {
           "style": "light"
          },
          "paper_bgcolor": "white",
          "plot_bgcolor": "#E5ECF6",
          "polar": {
           "angularaxis": {
            "gridcolor": "white",
            "linecolor": "white",
            "ticks": ""
           },
           "bgcolor": "#E5ECF6",
           "radialaxis": {
            "gridcolor": "white",
            "linecolor": "white",
            "ticks": ""
           }
          },
          "scene": {
           "xaxis": {
            "backgroundcolor": "#E5ECF6",
            "gridcolor": "white",
            "gridwidth": 2,
            "linecolor": "white",
            "showbackground": true,
            "ticks": "",
            "zerolinecolor": "white"
           },
           "yaxis": {
            "backgroundcolor": "#E5ECF6",
            "gridcolor": "white",
            "gridwidth": 2,
            "linecolor": "white",
            "showbackground": true,
            "ticks": "",
            "zerolinecolor": "white"
           },
           "zaxis": {
            "backgroundcolor": "#E5ECF6",
            "gridcolor": "white",
            "gridwidth": 2,
            "linecolor": "white",
            "showbackground": true,
            "ticks": "",
            "zerolinecolor": "white"
           }
          },
          "shapedefaults": {
           "line": {
            "color": "#2a3f5f"
           }
          },
          "ternary": {
           "aaxis": {
            "gridcolor": "white",
            "linecolor": "white",
            "ticks": ""
           },
           "baxis": {
            "gridcolor": "white",
            "linecolor": "white",
            "ticks": ""
           },
           "bgcolor": "#E5ECF6",
           "caxis": {
            "gridcolor": "white",
            "linecolor": "white",
            "ticks": ""
           }
          },
          "title": {
           "x": 0.05
          },
          "xaxis": {
           "automargin": true,
           "gridcolor": "white",
           "linecolor": "white",
           "ticks": "",
           "title": {
            "standoff": 15
           },
           "zerolinecolor": "white",
           "zerolinewidth": 2
          },
          "yaxis": {
           "automargin": true,
           "gridcolor": "white",
           "linecolor": "white",
           "ticks": "",
           "title": {
            "standoff": 15
           },
           "zerolinecolor": "white",
           "zerolinewidth": 2
          }
         }
        },
        "title": {
         "text": "<b>Top 10 Movies by IMDB Rating and Metascore</b>",
         "x": 0.25
        },
        "xaxis": {
         "title": {
          "text": "Movies"
         }
        },
        "yaxis": {
         "title": {
          "text": "Metascore"
         }
        },
        "yaxis2": {
         "overlaying": "y",
         "side": "right",
         "title": {
          "text": "IMDB Rating"
         }
        }
       }
      },
      "text/html": [
       "<div>                            <div id=\"fa0e07d9-a40b-4d46-a4bd-cc41e7f679b6\" class=\"plotly-graph-div\" style=\"height:525px; width:100%;\"></div>            <script type=\"text/javascript\">                require([\"plotly\"], function(Plotly) {                    window.PLOTLYENV=window.PLOTLYENV || {};                                    if (document.getElementById(\"fa0e07d9-a40b-4d46-a4bd-cc41e7f679b6\")) {                    Plotly.newPlot(                        \"fa0e07d9-a40b-4d46-a4bd-cc41e7f679b6\",                        [{\"marker\":{\"color\":\"lightblue\"},\"name\":\"Metascore\",\"x\":[\"The Shawshank Redemption\",\"The Godfather\",\"The Dark Knight\",\"The Godfather: Part II\",\"12 Angry Men\",\"The Lord of the Rings: The Return of the King\",\"Pulp Fiction\",\"Schindler's List\",\"The Lord of the Rings: The Fellowship of the Ring\",\"Forrest Gump\"],\"y\":[80.0,100.0,84.0,90.0,96.0,94.0,94.0,94.0,92.0,82.0],\"type\":\"bar\"},{\"marker\":{\"color\":\"#1B7593\"},\"name\":\"IMDB Rating\",\"x\":[\"The Shawshank Redemption\",\"The Godfather\",\"The Dark Knight\",\"The Godfather: Part II\",\"12 Angry Men\",\"The Lord of the Rings: The Return of the King\",\"Pulp Fiction\",\"Schindler's List\",\"The Lord of the Rings: The Fellowship of the Ring\",\"Forrest Gump\"],\"y\":[9.3,9.2,9.0,9.0,9.0,8.9,8.9,8.9,8.8,8.8],\"yaxis\":\"y2\",\"type\":\"scatter\"}],                        {\"template\":{\"data\":{\"histogram2dcontour\":[{\"type\":\"histogram2dcontour\",\"colorbar\":{\"outlinewidth\":0,\"ticks\":\"\"},\"colorscale\":[[0.0,\"#0d0887\"],[0.1111111111111111,\"#46039f\"],[0.2222222222222222,\"#7201a8\"],[0.3333333333333333,\"#9c179e\"],[0.4444444444444444,\"#bd3786\"],[0.5555555555555556,\"#d8576b\"],[0.6666666666666666,\"#ed7953\"],[0.7777777777777778,\"#fb9f3a\"],[0.8888888888888888,\"#fdca26\"],[1.0,\"#f0f921\"]]}],\"choropleth\":[{\"type\":\"choropleth\",\"colorbar\":{\"outlinewidth\":0,\"ticks\":\"\"}}],\"histogram2d\":[{\"type\":\"histogram2d\",\"colorbar\":{\"outlinewidth\":0,\"ticks\":\"\"},\"colorscale\":[[0.0,\"#0d0887\"],[0.1111111111111111,\"#46039f\"],[0.2222222222222222,\"#7201a8\"],[0.3333333333333333,\"#9c179e\"],[0.4444444444444444,\"#bd3786\"],[0.5555555555555556,\"#d8576b\"],[0.6666666666666666,\"#ed7953\"],[0.7777777777777778,\"#fb9f3a\"],[0.8888888888888888,\"#fdca26\"],[1.0,\"#f0f921\"]]}],\"heatmap\":[{\"type\":\"heatmap\",\"colorbar\":{\"outlinewidth\":0,\"ticks\":\"\"},\"colorscale\":[[0.0,\"#0d0887\"],[0.1111111111111111,\"#46039f\"],[0.2222222222222222,\"#7201a8\"],[0.3333333333333333,\"#9c179e\"],[0.4444444444444444,\"#bd3786\"],[0.5555555555555556,\"#d8576b\"],[0.6666666666666666,\"#ed7953\"],[0.7777777777777778,\"#fb9f3a\"],[0.8888888888888888,\"#fdca26\"],[1.0,\"#f0f921\"]]}],\"heatmapgl\":[{\"type\":\"heatmapgl\",\"colorbar\":{\"outlinewidth\":0,\"ticks\":\"\"},\"colorscale\":[[0.0,\"#0d0887\"],[0.1111111111111111,\"#46039f\"],[0.2222222222222222,\"#7201a8\"],[0.3333333333333333,\"#9c179e\"],[0.4444444444444444,\"#bd3786\"],[0.5555555555555556,\"#d8576b\"],[0.6666666666666666,\"#ed7953\"],[0.7777777777777778,\"#fb9f3a\"],[0.8888888888888888,\"#fdca26\"],[1.0,\"#f0f921\"]]}],\"contourcarpet\":[{\"type\":\"contourcarpet\",\"colorbar\":{\"outlinewidth\":0,\"ticks\":\"\"}}],\"contour\":[{\"type\":\"contour\",\"colorbar\":{\"outlinewidth\":0,\"ticks\":\"\"},\"colorscale\":[[0.0,\"#0d0887\"],[0.1111111111111111,\"#46039f\"],[0.2222222222222222,\"#7201a8\"],[0.3333333333333333,\"#9c179e\"],[0.4444444444444444,\"#bd3786\"],[0.5555555555555556,\"#d8576b\"],[0.6666666666666666,\"#ed7953\"],[0.7777777777777778,\"#fb9f3a\"],[0.8888888888888888,\"#fdca26\"],[1.0,\"#f0f921\"]]}],\"surface\":[{\"type\":\"surface\",\"colorbar\":{\"outlinewidth\":0,\"ticks\":\"\"},\"colorscale\":[[0.0,\"#0d0887\"],[0.1111111111111111,\"#46039f\"],[0.2222222222222222,\"#7201a8\"],[0.3333333333333333,\"#9c179e\"],[0.4444444444444444,\"#bd3786\"],[0.5555555555555556,\"#d8576b\"],[0.6666666666666666,\"#ed7953\"],[0.7777777777777778,\"#fb9f3a\"],[0.8888888888888888,\"#fdca26\"],[1.0,\"#f0f921\"]]}],\"mesh3d\":[{\"type\":\"mesh3d\",\"colorbar\":{\"outlinewidth\":0,\"ticks\":\"\"}}],\"scatter\":[{\"fillpattern\":{\"fillmode\":\"overlay\",\"size\":10,\"solidity\":0.2},\"type\":\"scatter\"}],\"parcoords\":[{\"type\":\"parcoords\",\"line\":{\"colorbar\":{\"outlinewidth\":0,\"ticks\":\"\"}}}],\"scatterpolargl\":[{\"type\":\"scatterpolargl\",\"marker\":{\"colorbar\":{\"outlinewidth\":0,\"ticks\":\"\"}}}],\"bar\":[{\"error_x\":{\"color\":\"#2a3f5f\"},\"error_y\":{\"color\":\"#2a3f5f\"},\"marker\":{\"line\":{\"color\":\"#E5ECF6\",\"width\":0.5},\"pattern\":{\"fillmode\":\"overlay\",\"size\":10,\"solidity\":0.2}},\"type\":\"bar\"}],\"scattergeo\":[{\"type\":\"scattergeo\",\"marker\":{\"colorbar\":{\"outlinewidth\":0,\"ticks\":\"\"}}}],\"scatterpolar\":[{\"type\":\"scatterpolar\",\"marker\":{\"colorbar\":{\"outlinewidth\":0,\"ticks\":\"\"}}}],\"histogram\":[{\"marker\":{\"pattern\":{\"fillmode\":\"overlay\",\"size\":10,\"solidity\":0.2}},\"type\":\"histogram\"}],\"scattergl\":[{\"type\":\"scattergl\",\"marker\":{\"colorbar\":{\"outlinewidth\":0,\"ticks\":\"\"}}}],\"scatter3d\":[{\"type\":\"scatter3d\",\"line\":{\"colorbar\":{\"outlinewidth\":0,\"ticks\":\"\"}},\"marker\":{\"colorbar\":{\"outlinewidth\":0,\"ticks\":\"\"}}}],\"scattermapbox\":[{\"type\":\"scattermapbox\",\"marker\":{\"colorbar\":{\"outlinewidth\":0,\"ticks\":\"\"}}}],\"scatterternary\":[{\"type\":\"scatterternary\",\"marker\":{\"colorbar\":{\"outlinewidth\":0,\"ticks\":\"\"}}}],\"scattercarpet\":[{\"type\":\"scattercarpet\",\"marker\":{\"colorbar\":{\"outlinewidth\":0,\"ticks\":\"\"}}}],\"carpet\":[{\"aaxis\":{\"endlinecolor\":\"#2a3f5f\",\"gridcolor\":\"white\",\"linecolor\":\"white\",\"minorgridcolor\":\"white\",\"startlinecolor\":\"#2a3f5f\"},\"baxis\":{\"endlinecolor\":\"#2a3f5f\",\"gridcolor\":\"white\",\"linecolor\":\"white\",\"minorgridcolor\":\"white\",\"startlinecolor\":\"#2a3f5f\"},\"type\":\"carpet\"}],\"table\":[{\"cells\":{\"fill\":{\"color\":\"#EBF0F8\"},\"line\":{\"color\":\"white\"}},\"header\":{\"fill\":{\"color\":\"#C8D4E3\"},\"line\":{\"color\":\"white\"}},\"type\":\"table\"}],\"barpolar\":[{\"marker\":{\"line\":{\"color\":\"#E5ECF6\",\"width\":0.5},\"pattern\":{\"fillmode\":\"overlay\",\"size\":10,\"solidity\":0.2}},\"type\":\"barpolar\"}],\"pie\":[{\"automargin\":true,\"type\":\"pie\"}]},\"layout\":{\"autotypenumbers\":\"strict\",\"colorway\":[\"#636efa\",\"#EF553B\",\"#00cc96\",\"#ab63fa\",\"#FFA15A\",\"#19d3f3\",\"#FF6692\",\"#B6E880\",\"#FF97FF\",\"#FECB52\"],\"font\":{\"color\":\"#2a3f5f\"},\"hovermode\":\"closest\",\"hoverlabel\":{\"align\":\"left\"},\"paper_bgcolor\":\"white\",\"plot_bgcolor\":\"#E5ECF6\",\"polar\":{\"bgcolor\":\"#E5ECF6\",\"angularaxis\":{\"gridcolor\":\"white\",\"linecolor\":\"white\",\"ticks\":\"\"},\"radialaxis\":{\"gridcolor\":\"white\",\"linecolor\":\"white\",\"ticks\":\"\"}},\"ternary\":{\"bgcolor\":\"#E5ECF6\",\"aaxis\":{\"gridcolor\":\"white\",\"linecolor\":\"white\",\"ticks\":\"\"},\"baxis\":{\"gridcolor\":\"white\",\"linecolor\":\"white\",\"ticks\":\"\"},\"caxis\":{\"gridcolor\":\"white\",\"linecolor\":\"white\",\"ticks\":\"\"}},\"coloraxis\":{\"colorbar\":{\"outlinewidth\":0,\"ticks\":\"\"}},\"colorscale\":{\"sequential\":[[0.0,\"#0d0887\"],[0.1111111111111111,\"#46039f\"],[0.2222222222222222,\"#7201a8\"],[0.3333333333333333,\"#9c179e\"],[0.4444444444444444,\"#bd3786\"],[0.5555555555555556,\"#d8576b\"],[0.6666666666666666,\"#ed7953\"],[0.7777777777777778,\"#fb9f3a\"],[0.8888888888888888,\"#fdca26\"],[1.0,\"#f0f921\"]],\"sequentialminus\":[[0.0,\"#0d0887\"],[0.1111111111111111,\"#46039f\"],[0.2222222222222222,\"#7201a8\"],[0.3333333333333333,\"#9c179e\"],[0.4444444444444444,\"#bd3786\"],[0.5555555555555556,\"#d8576b\"],[0.6666666666666666,\"#ed7953\"],[0.7777777777777778,\"#fb9f3a\"],[0.8888888888888888,\"#fdca26\"],[1.0,\"#f0f921\"]],\"diverging\":[[0,\"#8e0152\"],[0.1,\"#c51b7d\"],[0.2,\"#de77ae\"],[0.3,\"#f1b6da\"],[0.4,\"#fde0ef\"],[0.5,\"#f7f7f7\"],[0.6,\"#e6f5d0\"],[0.7,\"#b8e186\"],[0.8,\"#7fbc41\"],[0.9,\"#4d9221\"],[1,\"#276419\"]]},\"xaxis\":{\"gridcolor\":\"white\",\"linecolor\":\"white\",\"ticks\":\"\",\"title\":{\"standoff\":15},\"zerolinecolor\":\"white\",\"automargin\":true,\"zerolinewidth\":2},\"yaxis\":{\"gridcolor\":\"white\",\"linecolor\":\"white\",\"ticks\":\"\",\"title\":{\"standoff\":15},\"zerolinecolor\":\"white\",\"automargin\":true,\"zerolinewidth\":2},\"scene\":{\"xaxis\":{\"backgroundcolor\":\"#E5ECF6\",\"gridcolor\":\"white\",\"linecolor\":\"white\",\"showbackground\":true,\"ticks\":\"\",\"zerolinecolor\":\"white\",\"gridwidth\":2},\"yaxis\":{\"backgroundcolor\":\"#E5ECF6\",\"gridcolor\":\"white\",\"linecolor\":\"white\",\"showbackground\":true,\"ticks\":\"\",\"zerolinecolor\":\"white\",\"gridwidth\":2},\"zaxis\":{\"backgroundcolor\":\"#E5ECF6\",\"gridcolor\":\"white\",\"linecolor\":\"white\",\"showbackground\":true,\"ticks\":\"\",\"zerolinecolor\":\"white\",\"gridwidth\":2}},\"shapedefaults\":{\"line\":{\"color\":\"#2a3f5f\"}},\"annotationdefaults\":{\"arrowcolor\":\"#2a3f5f\",\"arrowhead\":0,\"arrowwidth\":1},\"geo\":{\"bgcolor\":\"white\",\"landcolor\":\"#E5ECF6\",\"subunitcolor\":\"white\",\"showland\":true,\"showlakes\":true,\"lakecolor\":\"white\"},\"title\":{\"x\":0.05},\"mapbox\":{\"style\":\"light\"}}},\"title\":{\"text\":\"<b>Top 10 Movies by IMDB Rating and Metascore</b>\",\"x\":0.25},\"yaxis2\":{\"title\":{\"text\":\"IMDB Rating\"},\"overlaying\":\"y\",\"side\":\"right\"},\"legend\":{\"x\":0.35,\"y\":1.2,\"orientation\":\"h\"},\"yaxis\":{\"title\":{\"text\":\"Metascore\"}},\"xaxis\":{\"title\":{\"text\":\"Movies\"}}},                        {\"responsive\": true}                    ).then(function(){\n",
       "                            \n",
       "var gd = document.getElementById('fa0e07d9-a40b-4d46-a4bd-cc41e7f679b6');\n",
       "var x = new MutationObserver(function (mutations, observer) {{\n",
       "        var display = window.getComputedStyle(gd).display;\n",
       "        if (!display || display === 'none') {{\n",
       "            console.log([gd, 'removed!']);\n",
       "            Plotly.purge(gd);\n",
       "            observer.disconnect();\n",
       "        }}\n",
       "}});\n",
       "\n",
       "// Listen for the removal of the full notebook cells\n",
       "var notebookContainer = gd.closest('#notebook-container');\n",
       "if (notebookContainer) {{\n",
       "    x.observe(notebookContainer, {childList: true});\n",
       "}}\n",
       "\n",
       "// Listen for the clearing of the current output cell\n",
       "var outputEl = gd.closest('.output');\n",
       "if (outputEl) {{\n",
       "    x.observe(outputEl, {childList: true});\n",
       "}}\n",
       "\n",
       "                        })                };                });            </script>        </div>"
      ]
     },
     "metadata": {},
     "output_type": "display_data"
    }
   ],
   "source": [
    "top_10_movies = df.sort_values('IMDB_Rating', ascending=False).head(10)\n",
    "\n",
    "fig = go.Figure()\n",
    "\n",
    "fig.add_trace(go.Bar(x=top_10_movies['Title'], y=top_10_movies['Metascore'], name='Metascore', marker_color='lightblue'))\n",
    "\n",
    "fig.add_trace(go.Scatter(x=top_10_movies['Title'], y=top_10_movies['IMDB_Rating'], \n",
    "                     name='IMDB Rating', marker_color='#1B7593', yaxis='y2'))\n",
    "\n",
    "fig.update_layout(title='<b>Top 10 Movies by IMDB Rating and Metascore</b>', title_x=0.25,\n",
    "                  yaxis=dict(title='Metascore'), \n",
    "                  yaxis2=dict(title='IMDB Rating', overlaying='y', side='right'), \n",
    "                  xaxis=dict(title='Movies'),\n",
    "                  legend=dict(x=0.35, y=1.2, orientation='h'),)\n",
    "\n",
    "\n",
    "fig.show()\n"
   ]
  },
  {
   "cell_type": "markdown",
   "id": "c3f45bed",
   "metadata": {},
   "source": [
    "**<h1 style=\"text-align:center;\">Top 10 Directors</h1>**\n",
    "<hr style=\"border: 1px solid black;\">\n",
    "\n",
    "- <b>Part 3:</b> Top 10 directors in the dataset.\n",
    "- The following code shows the top 10 directors with the most movies in the dataset.\n",
    "- Then the code groups movies by directors and calculates the number of movies, along with their average Metascore and IMDb rating. Then, it selects the top 10 directors with the most movies and shows their average Metascore and IMDb rating using a graph."
   ]
  },
  {
   "cell_type": "code",
   "execution_count": 112,
   "id": "869e70dd",
   "metadata": {},
   "outputs": [
    {
     "data": {
      "text/plain": [
       "Director\n",
       "Alfred Hitchcock     14\n",
       "Steven Spielberg     13\n",
       "Hayao Miyazaki       11\n",
       "Martin Scorsese      10\n",
       "Akira Kurosawa       10\n",
       "Stanley Kubrick       9\n",
       "Billy Wilder          9\n",
       "Woody Allen           9\n",
       "Christopher Nolan     8\n",
       "Quentin Tarantino     8\n",
       "Name: count, dtype: int64"
      ]
     },
     "execution_count": 112,
     "metadata": {},
     "output_type": "execute_result"
    }
   ],
   "source": [
    "df['Director'].value_counts().head(10)"
   ]
  },
  {
   "cell_type": "code",
   "execution_count": 113,
   "id": "36d2b5ed",
   "metadata": {},
   "outputs": [
    {
     "data": {
      "application/vnd.plotly.v1+json": {
       "config": {
        "plotlyServerURL": "https://plot.ly"
       },
       "data": [
        {
         "marker": {
          "color": "#D1FFBD"
         },
         "name": "Average Metascore",
         "type": "bar",
         "x": [
          "Alfred Hitchcock",
          "Steven Spielberg",
          "Hayao Miyazaki",
          "Martin Scorsese",
          "Akira Kurosawa",
          "Stanley Kubrick",
          "Woody Allen",
          "Billy Wilder",
          "Quentin Tarantino",
          "Christopher Nolan"
         ],
         "y": [
          90.71428571428571,
          80.53846153846153,
          82.54545454545455,
          82.6,
          84.38291814946619,
          84.11111111111111,
          81.88572558323447,
          83.212732305259,
          78.25,
          77.5
         ],
         "yaxis": "y"
        },
        {
         "line": {
          "color": "green"
         },
         "mode": "lines+markers",
         "name": "Average IMDb Rating",
         "type": "scatter",
         "x": [
          "Alfred Hitchcock",
          "Steven Spielberg",
          "Hayao Miyazaki",
          "Martin Scorsese",
          "Akira Kurosawa",
          "Stanley Kubrick",
          "Woody Allen",
          "Billy Wilder",
          "Quentin Tarantino",
          "Christopher Nolan"
         ],
         "y": [
          8.007142857142856,
          8.03076923076923,
          8.018181818181818,
          8.17,
          8.22,
          8.233333333333334,
          7.788888888888888,
          8.144444444444444,
          8.175,
          8.4625
         ],
         "yaxis": "y2"
        }
       ],
       "layout": {
        "legend": {
         "orientation": "h",
         "x": 0.3,
         "y": 1.1
        },
        "template": {
         "data": {
          "bar": [
           {
            "error_x": {
             "color": "#2a3f5f"
            },
            "error_y": {
             "color": "#2a3f5f"
            },
            "marker": {
             "line": {
              "color": "#E5ECF6",
              "width": 0.5
             },
             "pattern": {
              "fillmode": "overlay",
              "size": 10,
              "solidity": 0.2
             }
            },
            "type": "bar"
           }
          ],
          "barpolar": [
           {
            "marker": {
             "line": {
              "color": "#E5ECF6",
              "width": 0.5
             },
             "pattern": {
              "fillmode": "overlay",
              "size": 10,
              "solidity": 0.2
             }
            },
            "type": "barpolar"
           }
          ],
          "carpet": [
           {
            "aaxis": {
             "endlinecolor": "#2a3f5f",
             "gridcolor": "white",
             "linecolor": "white",
             "minorgridcolor": "white",
             "startlinecolor": "#2a3f5f"
            },
            "baxis": {
             "endlinecolor": "#2a3f5f",
             "gridcolor": "white",
             "linecolor": "white",
             "minorgridcolor": "white",
             "startlinecolor": "#2a3f5f"
            },
            "type": "carpet"
           }
          ],
          "choropleth": [
           {
            "colorbar": {
             "outlinewidth": 0,
             "ticks": ""
            },
            "type": "choropleth"
           }
          ],
          "contour": [
           {
            "colorbar": {
             "outlinewidth": 0,
             "ticks": ""
            },
            "colorscale": [
             [
              0,
              "#0d0887"
             ],
             [
              0.1111111111111111,
              "#46039f"
             ],
             [
              0.2222222222222222,
              "#7201a8"
             ],
             [
              0.3333333333333333,
              "#9c179e"
             ],
             [
              0.4444444444444444,
              "#bd3786"
             ],
             [
              0.5555555555555556,
              "#d8576b"
             ],
             [
              0.6666666666666666,
              "#ed7953"
             ],
             [
              0.7777777777777778,
              "#fb9f3a"
             ],
             [
              0.8888888888888888,
              "#fdca26"
             ],
             [
              1,
              "#f0f921"
             ]
            ],
            "type": "contour"
           }
          ],
          "contourcarpet": [
           {
            "colorbar": {
             "outlinewidth": 0,
             "ticks": ""
            },
            "type": "contourcarpet"
           }
          ],
          "heatmap": [
           {
            "colorbar": {
             "outlinewidth": 0,
             "ticks": ""
            },
            "colorscale": [
             [
              0,
              "#0d0887"
             ],
             [
              0.1111111111111111,
              "#46039f"
             ],
             [
              0.2222222222222222,
              "#7201a8"
             ],
             [
              0.3333333333333333,
              "#9c179e"
             ],
             [
              0.4444444444444444,
              "#bd3786"
             ],
             [
              0.5555555555555556,
              "#d8576b"
             ],
             [
              0.6666666666666666,
              "#ed7953"
             ],
             [
              0.7777777777777778,
              "#fb9f3a"
             ],
             [
              0.8888888888888888,
              "#fdca26"
             ],
             [
              1,
              "#f0f921"
             ]
            ],
            "type": "heatmap"
           }
          ],
          "heatmapgl": [
           {
            "colorbar": {
             "outlinewidth": 0,
             "ticks": ""
            },
            "colorscale": [
             [
              0,
              "#0d0887"
             ],
             [
              0.1111111111111111,
              "#46039f"
             ],
             [
              0.2222222222222222,
              "#7201a8"
             ],
             [
              0.3333333333333333,
              "#9c179e"
             ],
             [
              0.4444444444444444,
              "#bd3786"
             ],
             [
              0.5555555555555556,
              "#d8576b"
             ],
             [
              0.6666666666666666,
              "#ed7953"
             ],
             [
              0.7777777777777778,
              "#fb9f3a"
             ],
             [
              0.8888888888888888,
              "#fdca26"
             ],
             [
              1,
              "#f0f921"
             ]
            ],
            "type": "heatmapgl"
           }
          ],
          "histogram": [
           {
            "marker": {
             "pattern": {
              "fillmode": "overlay",
              "size": 10,
              "solidity": 0.2
             }
            },
            "type": "histogram"
           }
          ],
          "histogram2d": [
           {
            "colorbar": {
             "outlinewidth": 0,
             "ticks": ""
            },
            "colorscale": [
             [
              0,
              "#0d0887"
             ],
             [
              0.1111111111111111,
              "#46039f"
             ],
             [
              0.2222222222222222,
              "#7201a8"
             ],
             [
              0.3333333333333333,
              "#9c179e"
             ],
             [
              0.4444444444444444,
              "#bd3786"
             ],
             [
              0.5555555555555556,
              "#d8576b"
             ],
             [
              0.6666666666666666,
              "#ed7953"
             ],
             [
              0.7777777777777778,
              "#fb9f3a"
             ],
             [
              0.8888888888888888,
              "#fdca26"
             ],
             [
              1,
              "#f0f921"
             ]
            ],
            "type": "histogram2d"
           }
          ],
          "histogram2dcontour": [
           {
            "colorbar": {
             "outlinewidth": 0,
             "ticks": ""
            },
            "colorscale": [
             [
              0,
              "#0d0887"
             ],
             [
              0.1111111111111111,
              "#46039f"
             ],
             [
              0.2222222222222222,
              "#7201a8"
             ],
             [
              0.3333333333333333,
              "#9c179e"
             ],
             [
              0.4444444444444444,
              "#bd3786"
             ],
             [
              0.5555555555555556,
              "#d8576b"
             ],
             [
              0.6666666666666666,
              "#ed7953"
             ],
             [
              0.7777777777777778,
              "#fb9f3a"
             ],
             [
              0.8888888888888888,
              "#fdca26"
             ],
             [
              1,
              "#f0f921"
             ]
            ],
            "type": "histogram2dcontour"
           }
          ],
          "mesh3d": [
           {
            "colorbar": {
             "outlinewidth": 0,
             "ticks": ""
            },
            "type": "mesh3d"
           }
          ],
          "parcoords": [
           {
            "line": {
             "colorbar": {
              "outlinewidth": 0,
              "ticks": ""
             }
            },
            "type": "parcoords"
           }
          ],
          "pie": [
           {
            "automargin": true,
            "type": "pie"
           }
          ],
          "scatter": [
           {
            "fillpattern": {
             "fillmode": "overlay",
             "size": 10,
             "solidity": 0.2
            },
            "type": "scatter"
           }
          ],
          "scatter3d": [
           {
            "line": {
             "colorbar": {
              "outlinewidth": 0,
              "ticks": ""
             }
            },
            "marker": {
             "colorbar": {
              "outlinewidth": 0,
              "ticks": ""
             }
            },
            "type": "scatter3d"
           }
          ],
          "scattercarpet": [
           {
            "marker": {
             "colorbar": {
              "outlinewidth": 0,
              "ticks": ""
             }
            },
            "type": "scattercarpet"
           }
          ],
          "scattergeo": [
           {
            "marker": {
             "colorbar": {
              "outlinewidth": 0,
              "ticks": ""
             }
            },
            "type": "scattergeo"
           }
          ],
          "scattergl": [
           {
            "marker": {
             "colorbar": {
              "outlinewidth": 0,
              "ticks": ""
             }
            },
            "type": "scattergl"
           }
          ],
          "scattermapbox": [
           {
            "marker": {
             "colorbar": {
              "outlinewidth": 0,
              "ticks": ""
             }
            },
            "type": "scattermapbox"
           }
          ],
          "scatterpolar": [
           {
            "marker": {
             "colorbar": {
              "outlinewidth": 0,
              "ticks": ""
             }
            },
            "type": "scatterpolar"
           }
          ],
          "scatterpolargl": [
           {
            "marker": {
             "colorbar": {
              "outlinewidth": 0,
              "ticks": ""
             }
            },
            "type": "scatterpolargl"
           }
          ],
          "scatterternary": [
           {
            "marker": {
             "colorbar": {
              "outlinewidth": 0,
              "ticks": ""
             }
            },
            "type": "scatterternary"
           }
          ],
          "surface": [
           {
            "colorbar": {
             "outlinewidth": 0,
             "ticks": ""
            },
            "colorscale": [
             [
              0,
              "#0d0887"
             ],
             [
              0.1111111111111111,
              "#46039f"
             ],
             [
              0.2222222222222222,
              "#7201a8"
             ],
             [
              0.3333333333333333,
              "#9c179e"
             ],
             [
              0.4444444444444444,
              "#bd3786"
             ],
             [
              0.5555555555555556,
              "#d8576b"
             ],
             [
              0.6666666666666666,
              "#ed7953"
             ],
             [
              0.7777777777777778,
              "#fb9f3a"
             ],
             [
              0.8888888888888888,
              "#fdca26"
             ],
             [
              1,
              "#f0f921"
             ]
            ],
            "type": "surface"
           }
          ],
          "table": [
           {
            "cells": {
             "fill": {
              "color": "#EBF0F8"
             },
             "line": {
              "color": "white"
             }
            },
            "header": {
             "fill": {
              "color": "#C8D4E3"
             },
             "line": {
              "color": "white"
             }
            },
            "type": "table"
           }
          ]
         },
         "layout": {
          "annotationdefaults": {
           "arrowcolor": "#2a3f5f",
           "arrowhead": 0,
           "arrowwidth": 1
          },
          "autotypenumbers": "strict",
          "coloraxis": {
           "colorbar": {
            "outlinewidth": 0,
            "ticks": ""
           }
          },
          "colorscale": {
           "diverging": [
            [
             0,
             "#8e0152"
            ],
            [
             0.1,
             "#c51b7d"
            ],
            [
             0.2,
             "#de77ae"
            ],
            [
             0.3,
             "#f1b6da"
            ],
            [
             0.4,
             "#fde0ef"
            ],
            [
             0.5,
             "#f7f7f7"
            ],
            [
             0.6,
             "#e6f5d0"
            ],
            [
             0.7,
             "#b8e186"
            ],
            [
             0.8,
             "#7fbc41"
            ],
            [
             0.9,
             "#4d9221"
            ],
            [
             1,
             "#276419"
            ]
           ],
           "sequential": [
            [
             0,
             "#0d0887"
            ],
            [
             0.1111111111111111,
             "#46039f"
            ],
            [
             0.2222222222222222,
             "#7201a8"
            ],
            [
             0.3333333333333333,
             "#9c179e"
            ],
            [
             0.4444444444444444,
             "#bd3786"
            ],
            [
             0.5555555555555556,
             "#d8576b"
            ],
            [
             0.6666666666666666,
             "#ed7953"
            ],
            [
             0.7777777777777778,
             "#fb9f3a"
            ],
            [
             0.8888888888888888,
             "#fdca26"
            ],
            [
             1,
             "#f0f921"
            ]
           ],
           "sequentialminus": [
            [
             0,
             "#0d0887"
            ],
            [
             0.1111111111111111,
             "#46039f"
            ],
            [
             0.2222222222222222,
             "#7201a8"
            ],
            [
             0.3333333333333333,
             "#9c179e"
            ],
            [
             0.4444444444444444,
             "#bd3786"
            ],
            [
             0.5555555555555556,
             "#d8576b"
            ],
            [
             0.6666666666666666,
             "#ed7953"
            ],
            [
             0.7777777777777778,
             "#fb9f3a"
            ],
            [
             0.8888888888888888,
             "#fdca26"
            ],
            [
             1,
             "#f0f921"
            ]
           ]
          },
          "colorway": [
           "#636efa",
           "#EF553B",
           "#00cc96",
           "#ab63fa",
           "#FFA15A",
           "#19d3f3",
           "#FF6692",
           "#B6E880",
           "#FF97FF",
           "#FECB52"
          ],
          "font": {
           "color": "#2a3f5f"
          },
          "geo": {
           "bgcolor": "white",
           "lakecolor": "white",
           "landcolor": "#E5ECF6",
           "showlakes": true,
           "showland": true,
           "subunitcolor": "white"
          },
          "hoverlabel": {
           "align": "left"
          },
          "hovermode": "closest",
          "mapbox": {
           "style": "light"
          },
          "paper_bgcolor": "white",
          "plot_bgcolor": "#E5ECF6",
          "polar": {
           "angularaxis": {
            "gridcolor": "white",
            "linecolor": "white",
            "ticks": ""
           },
           "bgcolor": "#E5ECF6",
           "radialaxis": {
            "gridcolor": "white",
            "linecolor": "white",
            "ticks": ""
           }
          },
          "scene": {
           "xaxis": {
            "backgroundcolor": "#E5ECF6",
            "gridcolor": "white",
            "gridwidth": 2,
            "linecolor": "white",
            "showbackground": true,
            "ticks": "",
            "zerolinecolor": "white"
           },
           "yaxis": {
            "backgroundcolor": "#E5ECF6",
            "gridcolor": "white",
            "gridwidth": 2,
            "linecolor": "white",
            "showbackground": true,
            "ticks": "",
            "zerolinecolor": "white"
           },
           "zaxis": {
            "backgroundcolor": "#E5ECF6",
            "gridcolor": "white",
            "gridwidth": 2,
            "linecolor": "white",
            "showbackground": true,
            "ticks": "",
            "zerolinecolor": "white"
           }
          },
          "shapedefaults": {
           "line": {
            "color": "#2a3f5f"
           }
          },
          "ternary": {
           "aaxis": {
            "gridcolor": "white",
            "linecolor": "white",
            "ticks": ""
           },
           "baxis": {
            "gridcolor": "white",
            "linecolor": "white",
            "ticks": ""
           },
           "bgcolor": "#E5ECF6",
           "caxis": {
            "gridcolor": "white",
            "linecolor": "white",
            "ticks": ""
           }
          },
          "title": {
           "x": 0.05
          },
          "xaxis": {
           "automargin": true,
           "gridcolor": "white",
           "linecolor": "white",
           "ticks": "",
           "title": {
            "standoff": 15
           },
           "zerolinecolor": "white",
           "zerolinewidth": 2
          },
          "yaxis": {
           "automargin": true,
           "gridcolor": "white",
           "linecolor": "white",
           "ticks": "",
           "title": {
            "standoff": 15
           },
           "zerolinecolor": "white",
           "zerolinewidth": 2
          }
         }
        },
        "title": {
         "text": "<b>Top 10 Movie Directors and their Avg. Metascore and IMDb Rating</b>",
         "x": 0.5
        },
        "xaxis": {
         "title": {
          "text": "Directors"
         }
        },
        "yaxis": {
         "title": {
          "text": "Avg. Metascore"
         }
        },
        "yaxis2": {
         "overlaying": "y",
         "side": "right",
         "title": {
          "text": "Avg. IMDB Rating"
         }
        }
       }
      },
      "text/html": [
       "<div>                            <div id=\"6f3a3129-202a-4b52-839c-5a6d4cc8eff8\" class=\"plotly-graph-div\" style=\"height:525px; width:100%;\"></div>            <script type=\"text/javascript\">                require([\"plotly\"], function(Plotly) {                    window.PLOTLYENV=window.PLOTLYENV || {};                                    if (document.getElementById(\"6f3a3129-202a-4b52-839c-5a6d4cc8eff8\")) {                    Plotly.newPlot(                        \"6f3a3129-202a-4b52-839c-5a6d4cc8eff8\",                        [{\"marker\":{\"color\":\"#D1FFBD\"},\"name\":\"Average Metascore\",\"x\":[\"Alfred Hitchcock\",\"Steven Spielberg\",\"Hayao Miyazaki\",\"Martin Scorsese\",\"Akira Kurosawa\",\"Stanley Kubrick\",\"Woody Allen\",\"Billy Wilder\",\"Quentin Tarantino\",\"Christopher Nolan\"],\"y\":[90.71428571428571,80.53846153846153,82.54545454545455,82.6,84.38291814946619,84.11111111111111,81.88572558323447,83.212732305259,78.25,77.5],\"yaxis\":\"y\",\"type\":\"bar\"},{\"line\":{\"color\":\"green\"},\"mode\":\"lines+markers\",\"name\":\"Average IMDb Rating\",\"x\":[\"Alfred Hitchcock\",\"Steven Spielberg\",\"Hayao Miyazaki\",\"Martin Scorsese\",\"Akira Kurosawa\",\"Stanley Kubrick\",\"Woody Allen\",\"Billy Wilder\",\"Quentin Tarantino\",\"Christopher Nolan\"],\"y\":[8.007142857142856,8.03076923076923,8.018181818181818,8.17,8.22,8.233333333333334,7.788888888888888,8.144444444444444,8.175,8.4625],\"yaxis\":\"y2\",\"type\":\"scatter\"}],                        {\"template\":{\"data\":{\"histogram2dcontour\":[{\"type\":\"histogram2dcontour\",\"colorbar\":{\"outlinewidth\":0,\"ticks\":\"\"},\"colorscale\":[[0.0,\"#0d0887\"],[0.1111111111111111,\"#46039f\"],[0.2222222222222222,\"#7201a8\"],[0.3333333333333333,\"#9c179e\"],[0.4444444444444444,\"#bd3786\"],[0.5555555555555556,\"#d8576b\"],[0.6666666666666666,\"#ed7953\"],[0.7777777777777778,\"#fb9f3a\"],[0.8888888888888888,\"#fdca26\"],[1.0,\"#f0f921\"]]}],\"choropleth\":[{\"type\":\"choropleth\",\"colorbar\":{\"outlinewidth\":0,\"ticks\":\"\"}}],\"histogram2d\":[{\"type\":\"histogram2d\",\"colorbar\":{\"outlinewidth\":0,\"ticks\":\"\"},\"colorscale\":[[0.0,\"#0d0887\"],[0.1111111111111111,\"#46039f\"],[0.2222222222222222,\"#7201a8\"],[0.3333333333333333,\"#9c179e\"],[0.4444444444444444,\"#bd3786\"],[0.5555555555555556,\"#d8576b\"],[0.6666666666666666,\"#ed7953\"],[0.7777777777777778,\"#fb9f3a\"],[0.8888888888888888,\"#fdca26\"],[1.0,\"#f0f921\"]]}],\"heatmap\":[{\"type\":\"heatmap\",\"colorbar\":{\"outlinewidth\":0,\"ticks\":\"\"},\"colorscale\":[[0.0,\"#0d0887\"],[0.1111111111111111,\"#46039f\"],[0.2222222222222222,\"#7201a8\"],[0.3333333333333333,\"#9c179e\"],[0.4444444444444444,\"#bd3786\"],[0.5555555555555556,\"#d8576b\"],[0.6666666666666666,\"#ed7953\"],[0.7777777777777778,\"#fb9f3a\"],[0.8888888888888888,\"#fdca26\"],[1.0,\"#f0f921\"]]}],\"heatmapgl\":[{\"type\":\"heatmapgl\",\"colorbar\":{\"outlinewidth\":0,\"ticks\":\"\"},\"colorscale\":[[0.0,\"#0d0887\"],[0.1111111111111111,\"#46039f\"],[0.2222222222222222,\"#7201a8\"],[0.3333333333333333,\"#9c179e\"],[0.4444444444444444,\"#bd3786\"],[0.5555555555555556,\"#d8576b\"],[0.6666666666666666,\"#ed7953\"],[0.7777777777777778,\"#fb9f3a\"],[0.8888888888888888,\"#fdca26\"],[1.0,\"#f0f921\"]]}],\"contourcarpet\":[{\"type\":\"contourcarpet\",\"colorbar\":{\"outlinewidth\":0,\"ticks\":\"\"}}],\"contour\":[{\"type\":\"contour\",\"colorbar\":{\"outlinewidth\":0,\"ticks\":\"\"},\"colorscale\":[[0.0,\"#0d0887\"],[0.1111111111111111,\"#46039f\"],[0.2222222222222222,\"#7201a8\"],[0.3333333333333333,\"#9c179e\"],[0.4444444444444444,\"#bd3786\"],[0.5555555555555556,\"#d8576b\"],[0.6666666666666666,\"#ed7953\"],[0.7777777777777778,\"#fb9f3a\"],[0.8888888888888888,\"#fdca26\"],[1.0,\"#f0f921\"]]}],\"surface\":[{\"type\":\"surface\",\"colorbar\":{\"outlinewidth\":0,\"ticks\":\"\"},\"colorscale\":[[0.0,\"#0d0887\"],[0.1111111111111111,\"#46039f\"],[0.2222222222222222,\"#7201a8\"],[0.3333333333333333,\"#9c179e\"],[0.4444444444444444,\"#bd3786\"],[0.5555555555555556,\"#d8576b\"],[0.6666666666666666,\"#ed7953\"],[0.7777777777777778,\"#fb9f3a\"],[0.8888888888888888,\"#fdca26\"],[1.0,\"#f0f921\"]]}],\"mesh3d\":[{\"type\":\"mesh3d\",\"colorbar\":{\"outlinewidth\":0,\"ticks\":\"\"}}],\"scatter\":[{\"fillpattern\":{\"fillmode\":\"overlay\",\"size\":10,\"solidity\":0.2},\"type\":\"scatter\"}],\"parcoords\":[{\"type\":\"parcoords\",\"line\":{\"colorbar\":{\"outlinewidth\":0,\"ticks\":\"\"}}}],\"scatterpolargl\":[{\"type\":\"scatterpolargl\",\"marker\":{\"colorbar\":{\"outlinewidth\":0,\"ticks\":\"\"}}}],\"bar\":[{\"error_x\":{\"color\":\"#2a3f5f\"},\"error_y\":{\"color\":\"#2a3f5f\"},\"marker\":{\"line\":{\"color\":\"#E5ECF6\",\"width\":0.5},\"pattern\":{\"fillmode\":\"overlay\",\"size\":10,\"solidity\":0.2}},\"type\":\"bar\"}],\"scattergeo\":[{\"type\":\"scattergeo\",\"marker\":{\"colorbar\":{\"outlinewidth\":0,\"ticks\":\"\"}}}],\"scatterpolar\":[{\"type\":\"scatterpolar\",\"marker\":{\"colorbar\":{\"outlinewidth\":0,\"ticks\":\"\"}}}],\"histogram\":[{\"marker\":{\"pattern\":{\"fillmode\":\"overlay\",\"size\":10,\"solidity\":0.2}},\"type\":\"histogram\"}],\"scattergl\":[{\"type\":\"scattergl\",\"marker\":{\"colorbar\":{\"outlinewidth\":0,\"ticks\":\"\"}}}],\"scatter3d\":[{\"type\":\"scatter3d\",\"line\":{\"colorbar\":{\"outlinewidth\":0,\"ticks\":\"\"}},\"marker\":{\"colorbar\":{\"outlinewidth\":0,\"ticks\":\"\"}}}],\"scattermapbox\":[{\"type\":\"scattermapbox\",\"marker\":{\"colorbar\":{\"outlinewidth\":0,\"ticks\":\"\"}}}],\"scatterternary\":[{\"type\":\"scatterternary\",\"marker\":{\"colorbar\":{\"outlinewidth\":0,\"ticks\":\"\"}}}],\"scattercarpet\":[{\"type\":\"scattercarpet\",\"marker\":{\"colorbar\":{\"outlinewidth\":0,\"ticks\":\"\"}}}],\"carpet\":[{\"aaxis\":{\"endlinecolor\":\"#2a3f5f\",\"gridcolor\":\"white\",\"linecolor\":\"white\",\"minorgridcolor\":\"white\",\"startlinecolor\":\"#2a3f5f\"},\"baxis\":{\"endlinecolor\":\"#2a3f5f\",\"gridcolor\":\"white\",\"linecolor\":\"white\",\"minorgridcolor\":\"white\",\"startlinecolor\":\"#2a3f5f\"},\"type\":\"carpet\"}],\"table\":[{\"cells\":{\"fill\":{\"color\":\"#EBF0F8\"},\"line\":{\"color\":\"white\"}},\"header\":{\"fill\":{\"color\":\"#C8D4E3\"},\"line\":{\"color\":\"white\"}},\"type\":\"table\"}],\"barpolar\":[{\"marker\":{\"line\":{\"color\":\"#E5ECF6\",\"width\":0.5},\"pattern\":{\"fillmode\":\"overlay\",\"size\":10,\"solidity\":0.2}},\"type\":\"barpolar\"}],\"pie\":[{\"automargin\":true,\"type\":\"pie\"}]},\"layout\":{\"autotypenumbers\":\"strict\",\"colorway\":[\"#636efa\",\"#EF553B\",\"#00cc96\",\"#ab63fa\",\"#FFA15A\",\"#19d3f3\",\"#FF6692\",\"#B6E880\",\"#FF97FF\",\"#FECB52\"],\"font\":{\"color\":\"#2a3f5f\"},\"hovermode\":\"closest\",\"hoverlabel\":{\"align\":\"left\"},\"paper_bgcolor\":\"white\",\"plot_bgcolor\":\"#E5ECF6\",\"polar\":{\"bgcolor\":\"#E5ECF6\",\"angularaxis\":{\"gridcolor\":\"white\",\"linecolor\":\"white\",\"ticks\":\"\"},\"radialaxis\":{\"gridcolor\":\"white\",\"linecolor\":\"white\",\"ticks\":\"\"}},\"ternary\":{\"bgcolor\":\"#E5ECF6\",\"aaxis\":{\"gridcolor\":\"white\",\"linecolor\":\"white\",\"ticks\":\"\"},\"baxis\":{\"gridcolor\":\"white\",\"linecolor\":\"white\",\"ticks\":\"\"},\"caxis\":{\"gridcolor\":\"white\",\"linecolor\":\"white\",\"ticks\":\"\"}},\"coloraxis\":{\"colorbar\":{\"outlinewidth\":0,\"ticks\":\"\"}},\"colorscale\":{\"sequential\":[[0.0,\"#0d0887\"],[0.1111111111111111,\"#46039f\"],[0.2222222222222222,\"#7201a8\"],[0.3333333333333333,\"#9c179e\"],[0.4444444444444444,\"#bd3786\"],[0.5555555555555556,\"#d8576b\"],[0.6666666666666666,\"#ed7953\"],[0.7777777777777778,\"#fb9f3a\"],[0.8888888888888888,\"#fdca26\"],[1.0,\"#f0f921\"]],\"sequentialminus\":[[0.0,\"#0d0887\"],[0.1111111111111111,\"#46039f\"],[0.2222222222222222,\"#7201a8\"],[0.3333333333333333,\"#9c179e\"],[0.4444444444444444,\"#bd3786\"],[0.5555555555555556,\"#d8576b\"],[0.6666666666666666,\"#ed7953\"],[0.7777777777777778,\"#fb9f3a\"],[0.8888888888888888,\"#fdca26\"],[1.0,\"#f0f921\"]],\"diverging\":[[0,\"#8e0152\"],[0.1,\"#c51b7d\"],[0.2,\"#de77ae\"],[0.3,\"#f1b6da\"],[0.4,\"#fde0ef\"],[0.5,\"#f7f7f7\"],[0.6,\"#e6f5d0\"],[0.7,\"#b8e186\"],[0.8,\"#7fbc41\"],[0.9,\"#4d9221\"],[1,\"#276419\"]]},\"xaxis\":{\"gridcolor\":\"white\",\"linecolor\":\"white\",\"ticks\":\"\",\"title\":{\"standoff\":15},\"zerolinecolor\":\"white\",\"automargin\":true,\"zerolinewidth\":2},\"yaxis\":{\"gridcolor\":\"white\",\"linecolor\":\"white\",\"ticks\":\"\",\"title\":{\"standoff\":15},\"zerolinecolor\":\"white\",\"automargin\":true,\"zerolinewidth\":2},\"scene\":{\"xaxis\":{\"backgroundcolor\":\"#E5ECF6\",\"gridcolor\":\"white\",\"linecolor\":\"white\",\"showbackground\":true,\"ticks\":\"\",\"zerolinecolor\":\"white\",\"gridwidth\":2},\"yaxis\":{\"backgroundcolor\":\"#E5ECF6\",\"gridcolor\":\"white\",\"linecolor\":\"white\",\"showbackground\":true,\"ticks\":\"\",\"zerolinecolor\":\"white\",\"gridwidth\":2},\"zaxis\":{\"backgroundcolor\":\"#E5ECF6\",\"gridcolor\":\"white\",\"linecolor\":\"white\",\"showbackground\":true,\"ticks\":\"\",\"zerolinecolor\":\"white\",\"gridwidth\":2}},\"shapedefaults\":{\"line\":{\"color\":\"#2a3f5f\"}},\"annotationdefaults\":{\"arrowcolor\":\"#2a3f5f\",\"arrowhead\":0,\"arrowwidth\":1},\"geo\":{\"bgcolor\":\"white\",\"landcolor\":\"#E5ECF6\",\"subunitcolor\":\"white\",\"showland\":true,\"showlakes\":true,\"lakecolor\":\"white\"},\"title\":{\"x\":0.05},\"mapbox\":{\"style\":\"light\"}}},\"title\":{\"text\":\"<b>Top 10 Movie Directors and their Avg. Metascore and IMDb Rating</b>\",\"x\":0.5},\"yaxis2\":{\"title\":{\"text\":\"Avg. IMDB Rating\"},\"overlaying\":\"y\",\"side\":\"right\"},\"legend\":{\"x\":0.3,\"y\":1.1,\"orientation\":\"h\"},\"yaxis\":{\"title\":{\"text\":\"Avg. Metascore\"}},\"xaxis\":{\"title\":{\"text\":\"Directors\"}}},                        {\"responsive\": true}                    ).then(function(){\n",
       "                            \n",
       "var gd = document.getElementById('6f3a3129-202a-4b52-839c-5a6d4cc8eff8');\n",
       "var x = new MutationObserver(function (mutations, observer) {{\n",
       "        var display = window.getComputedStyle(gd).display;\n",
       "        if (!display || display === 'none') {{\n",
       "            console.log([gd, 'removed!']);\n",
       "            Plotly.purge(gd);\n",
       "            observer.disconnect();\n",
       "        }}\n",
       "}});\n",
       "\n",
       "// Listen for the removal of the full notebook cells\n",
       "var notebookContainer = gd.closest('#notebook-container');\n",
       "if (notebookContainer) {{\n",
       "    x.observe(notebookContainer, {childList: true});\n",
       "}}\n",
       "\n",
       "// Listen for the clearing of the current output cell\n",
       "var outputEl = gd.closest('.output');\n",
       "if (outputEl) {{\n",
       "    x.observe(outputEl, {childList: true});\n",
       "}}\n",
       "\n",
       "                        })                };                });            </script>        </div>"
      ]
     },
     "metadata": {},
     "output_type": "display_data"
    }
   ],
   "source": [
    "director_stats = df.groupby('Director').agg({'Title': 'count', 'Metascore': 'mean', 'IMDB_Rating': 'mean'}).reset_index()\n",
    "\n",
    "top_10_directors = director_stats.sort_values('Title', ascending=False).head(10)\n",
    "\n",
    "fig = go.Figure()\n",
    "\n",
    "fig.add_trace(go.Bar(x=top_10_directors['Director'], y=top_10_directors['Metascore'], \n",
    "                     name='Average Metascore', marker_color='#D1FFBD', yaxis='y'))\n",
    "\n",
    "fig.add_trace(go.Scatter(x=top_10_directors['Director'], y=top_10_directors['IMDB_Rating'], \n",
    "                         mode='lines+markers', name='Average IMDb Rating', \n",
    "                         line=dict(color='green'), yaxis='y2'))\n",
    "\n",
    "\n",
    "fig.update_layout(\n",
    "    title='<b>Top 10 Movie Directors and their Avg. Metascore and IMDb Rating</b>',\n",
    "    title_x=0.5,\n",
    "    yaxis=dict(title='Avg. Metascore'), \n",
    "    yaxis2=dict(title='Avg. IMDB Rating', overlaying='y', side='right'), \n",
    "    xaxis=dict(title='Directors'),\n",
    "    legend=dict(x=0.3, y=1.1, orientation='h'),)\n",
    "\n",
    "fig.show()\n"
   ]
  },
  {
   "cell_type": "markdown",
   "id": "0cc13f3f",
   "metadata": {},
   "source": [
    "**<h1 style=\"text-align:center;\">Top 5 Genres</h1>**\n",
    "<hr style=\"border: 1px solid black;\">\n",
    "\n",
    "- <b>Part 4:</b> Top 5 genres in the dataset.\n",
    "- The following code shows the top 5 genres in the dataset.\n",
    "- Using Matplotlib library to create a pie chart."
   ]
  },
  {
   "cell_type": "code",
   "execution_count": 114,
   "id": "769cdb2c",
   "metadata": {},
   "outputs": [
    {
     "data": {
      "text/plain": [
       "Genre\n",
       "Drama                     85\n",
       "Drama, Romance            37\n",
       "Comedy, Drama             35\n",
       "Comedy, Drama, Romance    31\n",
       "Action, Crime, Drama      30\n",
       "Name: count, dtype: int64"
      ]
     },
     "execution_count": 114,
     "metadata": {},
     "output_type": "execute_result"
    }
   ],
   "source": [
    "df['Genre'].value_counts().head(5)"
   ]
  },
  {
   "cell_type": "code",
   "execution_count": 115,
   "id": "d7247e25",
   "metadata": {},
   "outputs": [
    {
     "data": {
      "image/png": "[encoded data removed]",
      "text/plain": [
       "<Figure size 1000x1000 with 1 Axes>"
      ]
     },
     "metadata": {},
     "output_type": "display_data"
    }
   ],
   "source": [
    "top5 = (df['Genre'].value_counts().head(5) / len(df) * 100).round()\n",
    "\n",
    "\n",
    "fig = plt.figure(figsize=(10, 10))\n",
    "colors = (\"#8699a1\", \"#fe0000\", \"#00A36C\", \"#FFA07A\", \"#9370DB\")  \n",
    "wp = {'linewidth': 3, 'edgecolor': \"black\"}\n",
    "explode = (0.1,) * len(top5)\n",
    "textprops = {'fontstyle': 'italic', 'fontweight': 'demi'}\n",
    "\n",
    "\n",
    "top5.plot(kind='pie', autopct=\"%0.1f%%\", labels=top5.index, startangle=45, colors=colors,\n",
    "          explode=explode, shadow=True, wedgeprops=wp, textprops=textprops)\n",
    "plt.legend(title=\"Genre\", loc='center left', bbox_to_anchor=(1, 0.5))\n",
    "plt.title(\"- Top 5 Movie Genres - \", loc='center', color='#1B1212', fontsize='22')\n",
    "plt.show()\n"
   ]
  },
  {
   "cell_type": "code",
   "execution_count": 116,
   "id": "541af5d0",
   "metadata": {},
   "outputs": [
    {
     "data": {
      "application/vnd.jupyter.widget-view+json": {
       "model_id": "777224c74c444bd2a0e2987b2c888c12",
       "version_major": 2,
       "version_minor": 0
      },
      "text/plain": [
       "Text(value='', description='Title:', placeholder='Optional')"
      ]
     },
     "metadata": {},
     "output_type": "display_data"
    },
    {
     "data": {
      "application/vnd.jupyter.widget-view+json": {
       "model_id": "7b389cf03bda4ba692262a8a4f7bcd0b",
       "version_major": 2,
       "version_minor": 0
      },
      "text/plain": [
       "Text(value='', description='Genre:', placeholder='Optional')"
      ]
     },
     "metadata": {},
     "output_type": "display_data"
    },
    {
     "data": {
      "application/vnd.jupyter.widget-view+json": {
       "model_id": "540bee19bbfc4a43891c4e215bd48507",
       "version_major": 2,
       "version_minor": 0
      },
      "text/plain": [
       "FloatText(value=0.0, description='IMDB Rating:')"
      ]
     },
     "metadata": {},
     "output_type": "display_data"
    },
    {
     "data": {
      "application/vnd.jupyter.widget-view+json": {
       "model_id": "ec65a66640d94023a5b7052e1ebc732c",
       "version_major": 2,
       "version_minor": 0
      },
      "text/plain": [
       "IntText(value=0, description='Metascore:')"
      ]
     },
     "metadata": {},
     "output_type": "display_data"
    },
    {
     "data": {
      "application/vnd.jupyter.widget-view+json": {
       "model_id": "ff7dd4fd1101498baf4a33e3a97bdf64",
       "version_major": 2,
       "version_minor": 0
      },
      "text/plain": [
       "Text(value='', description='Director:', placeholder='Optional')"
      ]
     },
     "metadata": {},
     "output_type": "display_data"
    },
    {
     "data": {
      "application/vnd.jupyter.widget-view+json": {
       "model_id": "ebe96c26009f437599aeec5ad92dc045",
       "version_major": 2,
       "version_minor": 0
      },
      "text/plain": [
       "Text(value='', description='Stars:', placeholder='Optional')"
      ]
     },
     "metadata": {},
     "output_type": "display_data"
    },
    {
     "data": {
      "application/vnd.jupyter.widget-view+json": {
       "model_id": "1f35dc3e89c048dfaac7571e256b1a97",
       "version_major": 2,
       "version_minor": 0
      },
      "text/plain": [
       "IntText(value=0, description='Runtime(min):')"
      ]
     },
     "metadata": {},
     "output_type": "display_data"
    },
    {
     "data": {
      "application/vnd.jupyter.widget-view+json": {
       "model_id": "639776a299954921a52475f9bd4798da",
       "version_major": 2,
       "version_minor": 0
      },
      "text/plain": [
       "Text(value='', description='Decade:', placeholder='Optional')"
      ]
     },
     "metadata": {},
     "output_type": "display_data"
    },
    {
     "data": {
      "application/vnd.jupyter.widget-view+json": {
       "model_id": "32f546fbd04a4d1890e3446e74527c31",
       "version_major": 2,
       "version_minor": 0
      },
      "text/plain": [
       "Button(description='Search', style=ButtonStyle(button_color='#CBC3E3'))"
      ]
     },
     "metadata": {},
     "output_type": "display_data"
    },
    {
     "data": {
      "application/vnd.jupyter.widget-view+json": {
       "model_id": "f7eaeb09758446cb8d68f5a3ab97d218",
       "version_major": 2,
       "version_minor": 0
      },
      "text/plain": [
       "Output(layout=Layout(overflow='scroll'))"
      ]
     },
     "metadata": {},
     "output_type": "display_data"
    }
   ],
   "source": [
    "# search movies function\n",
    "def search_movies(title=None, genre=None, imdb_rating=None, metascore=None, director=None, stars=None, runtime=None, released_year=None):\n",
    "\n",
    "    results = df.copy()\n",
    "\n",
    "    # Filter by title\n",
    "    if title:\n",
    "        # Remove spaces from title\n",
    "        title = title.replace(\" \", \"\").lower()\n",
    "        # Search for title ignoring spaces\n",
    "        results = results[results['Title'].str.lower().str.replace(\" \", \"\").str.contains(title, na=False)]\n",
    "    \n",
    "    # Filter by genre\n",
    "    if genre:\n",
    "        genre = genre.strip()\n",
    "        results = results[results['Genre'].str.contains(genre, case=False)]\n",
    "\n",
    "    # Filter by IMDB rating\n",
    "    if imdb_rating is not None:\n",
    "        results = results[results['IMDB_Rating'] >= imdb_rating]\n",
    "\n",
    "    # Filter by Metascore\n",
    "    if metascore is not None:\n",
    "        results = results[results['Metascore'] >= metascore]\n",
    "\n",
    "    # Filter by director\n",
    "    if director:\n",
    "        director = director.strip()\n",
    "        results = results[results['Director'].str.contains(director, case=False)]\n",
    "\n",
    "    # Filter by stars\n",
    "    if stars:\n",
    "        stars = stars.strip()\n",
    "        results = results[results['Stars'].str.contains(stars, case=False)]\n",
    "\n",
    "    # Filter by runtime\n",
    "    if runtime is not None:\n",
    "        results = results[results['Runtime'].str.split().str[0].astype(float) >= runtime]\n",
    "\n",
    "    # Filter by released year\n",
    "    if released_year:\n",
    "        results = results[results['Released_Year'].str.startswith(released_year)]\n",
    "\n",
    "    return results\n",
    "\n",
    "# Create interactive widgets\n",
    "title_input = widgets.Text(description='Title:', placeholder='Optional')\n",
    "genre_input = widgets.Text(description='Genre:', placeholder='Optional')\n",
    "imdb_rating_input = widgets.FloatText(description='IMDB Rating:', placeholder='Optional')\n",
    "metascore_input = widgets.IntText(description='Metascore:', placeholder='Optional')\n",
    "director_input = widgets.Text(description='Director:', placeholder='Optional')\n",
    "stars_input = widgets.Text(description='Stars:', placeholder='Optional')\n",
    "runtime_input = widgets.IntText(description='Runtime(min):', placeholder='Optional')\n",
    "released_year_input = widgets.Text(description='Decade:', placeholder='Optional')\n",
    "search_button = widgets.Button(description='Search', style={'button_color': '#CBC3E3'})\n",
    "output = widgets.Output(layout={'overflow': 'scroll'})  \n",
    "\n",
    "# Interactive function to search for movies based on user input.\n",
    "def search_movies_interactive(m):\n",
    "    title = title_input.value.strip() if title_input.value else None \n",
    "    genre = genre_input.value.strip() if genre_input.value else None  \n",
    "    imdb_rating = imdb_rating_input.value if imdb_rating_input.value else None\n",
    "    metascore = metascore_input.value if metascore_input.value else None\n",
    "    director = director_input.value.strip() if director_input.value else None  \n",
    "    stars = stars_input.value.strip() if stars_input.value else None  \n",
    "    runtime = runtime_input.value if runtime_input.value else None \n",
    "    released_year = released_year_input.value.strip() if released_year_input.value else None\n",
    "\n",
    "    results = search_movies(title, genre, imdb_rating, metascore, director, stars, runtime, released_year)\n",
    "    \n",
    "    with output:\n",
    "        output.clear_output()\n",
    "        if results.empty:\n",
    "            display(widgets.HTML(\"<div style='border: 2px solid black; padding: 15px; text-align: center; background-color: #FFCCCB;'><h2 style='font-size:22px; margin-top: 10px;'>No movies found with the specified criteria</h2></div>\"))\n",
    "        else:\n",
    "            display(widgets.HTML(f\"<div style='border: 2px solid black; padding: 15px; text-align: center; background-color: #D1FFBD;'><h2 style='font-size:22px; margin-top: 10px;'>Found {len(results)} movies with the specified criteria</h2></div>\"))\n",
    "            display(results)\n",
    "            if title and not results.empty:\n",
    "                director_of_searched_movie = results.iloc[0]['Director']\n",
    "                movies_by_director = search_movies(director=director_of_searched_movie)\n",
    "                if not movies_by_director.empty:\n",
    "                    display(widgets.HTML(f\"<div style='border: 2px solid black; padding: 15px; text-align: center; background-color: #FAA0A0;'><h2 style='font-size:22px; margin-top: 10px;'>Other movies directed by {director_of_searched_movie}</h2></div>\"))\n",
    "                    display(movies_by_director)\n",
    "\n",
    "# Link the search button to the search function\n",
    "search_button.on_click(search_movies_interactive)\n",
    "\n",
    "# Display the widgets\n",
    "display(title_input, genre_input, imdb_rating_input, metascore_input, director_input, stars_input, runtime_input, released_year_input, search_button, output)\n"
   ]
  },
  {
   "cell_type": "markdown",
   "id": "30a6796c",
   "metadata": {},
   "source": [
    "**<h1 style=\"text-align:center;\">Movie Recommendation Platform**\n",
    "<hr style=\"border: 1px solid black;\">\n",
    "\n",
    "- This code performs movie recommendation and exploration based on a dataset loaded into a DataFrame. It preprocesses the runtime feature, splits the data into training and testing sets, and vectorizes movie titles and genres using TF-IDF. It then standardizes the runtime feature and creates feature matrices by concatenating various features like TF-IDF vectors, runtime, IMDB rating, and Metascore. After initializing a K-Nearest Neighbors (KNN) model with cosine similarity metric, it defines input and output widgets for user interaction. Finally, it implements functions to search for movies based on user input, find similar movies, and retrieve movies by the same director. "
   ]
  },
  {
   "cell_type": "code",
   "execution_count": 149,
   "id": "39f3eb89",
   "metadata": {
    "scrolled": false
   },
   "outputs": [
    {
     "data": {
      "application/vnd.jupyter.widget-view+json": {
       "model_id": "c442a66ba1124380a5cde7241b1c33d9",
       "version_major": 2,
       "version_minor": 0
      },
      "text/plain": [
       "Text(value='', description='Movie Name:', placeholder='Search for a movie')"
      ]
     },
     "metadata": {},
     "output_type": "display_data"
    },
    {
     "data": {
      "application/vnd.jupyter.widget-view+json": {
       "model_id": "d82b2638ac2c4d9ca3c7d8e62d45a629",
       "version_major": 2,
       "version_minor": 0
      },
      "text/plain": [
       "Output()"
      ]
     },
     "metadata": {},
     "output_type": "display_data"
    }
   ],
   "source": [
    "# Clone the DataFrame for manipulation\n",
    "movies = df.copy()\n",
    "\n",
    "# Convert the 'Released_Year' column to integers\n",
    "movies['Released_Year'] = movies['Released_Year'].astype(int)\n",
    "\n",
    "# Extract numeric values from the 'Runtime' column\n",
    "movies[\"Runtime\"] = movies[\"Runtime\"].str.extract('(\\d+)').astype(int)\n",
    "\n",
    "# Split the dataset into training and testing sets\n",
    "train_movies, test_movies = train_test_split(movies, test_size=0.2, random_state=50)\n",
    "\n",
    "# Vectorize genres using TfidfVectorizer\n",
    "vectorizer_genre = TfidfVectorizer(ngram_range=(1, 2))\n",
    "tfidf_genre_train = vectorizer_genre.fit_transform(train_movies[\"Genre\"])\n",
    "tfidf_genre_test = vectorizer_genre.transform(test_movies[\"Genre\"])\n",
    "\n",
    "# Standardize the 'Runtime' column\n",
    "scaler = StandardScaler()\n",
    "runtime_train = scaler.fit_transform(train_movies[\"Runtime\"].values.reshape(-1, 1))\n",
    "runtime_test = scaler.transform(test_movies[\"Runtime\"].values.reshape(-1, 1))\n",
    "\n",
    "# Create feature matrices by concatenating various features\n",
    "feature_matrix_train = np.concatenate([\n",
    "    tfidf_genre_train.toarray(),\n",
    "    runtime_train,\n",
    "    train_movies[[\"IMDB_Rating\", \"Metascore\"]].values\n",
    "], axis=1)\n",
    "\n",
    "feature_matrix_test = np.concatenate([\n",
    "    tfidf_genre_test.toarray(),\n",
    "    runtime_test,\n",
    "    test_movies[[\"IMDB_Rating\", \"Metascore\"]].values\n",
    "], axis=1)\n",
    "\n",
    "# Initialize the KNN model for recommendation\n",
    "knn = NearestNeighbors(n_neighbors=10, metric='cosine')\n",
    "knn.fit(feature_matrix_train)\n",
    "\n",
    "# Define input widget for user search\n",
    "movie_name_input = widgets.Text(placeholder='Search for a movie', description='Movie Name:', disabled=False)\n",
    "\n",
    "# Define output widget for recommendations\n",
    "recommendation_output = widgets.Output()\n",
    "\n",
    "# Create buttons for user feedback\n",
    "button_yes = widgets.Button(description=\"Yes\")\n",
    "button_no = widgets.Button(description=\"No\")\n",
    "\n",
    "# Define feedback question widget\n",
    "feedback_question = widgets.Label(value='Did you like these suggestions?')\n",
    "\n",
    "# Assign click handlers to feedback buttons\n",
    "def handle_feedback_yes(b):\n",
    "    with recommendation_output:\n",
    "        print(\"Glad you liked these suggestions!\")\n",
    "\n",
    "def handle_feedback_no(b):\n",
    "    with recommendation_output:\n",
    "        print(\"Let me suggest something else!\")\n",
    "        suggest_other_movies(train_movies, feature_matrix_train)\n",
    "\n",
    "button_yes.on_click(handle_feedback_yes)\n",
    "button_no.on_click(handle_feedback_no)\n",
    "\n",
    "# Function to suggest additional movies based on user feedback\n",
    "def suggest_other_movies(train_movies, feature_matrix_train):\n",
    "    random_indices = np.random.choice(len(train_movies), 5, replace=False)\n",
    "    random_movies = train_movies.iloc[random_indices].copy()  # Ensure a copy is made\n",
    "    cosine_similarities = []\n",
    "    for idx in random_indices:\n",
    "        cosine_sim = cosine_similarity(feature_matrix_train[0].reshape(1, -1), feature_matrix_train[idx].reshape(1, -1)).flatten()[0]\n",
    "        cosine_similarities.append(cosine_sim)\n",
    "    random_movies.loc[:, 'Cosine Similarity'] = cosine_similarities  # Use .loc to avoid SettingWithCopyWarning\n",
    "    display(HTML(\"<div style='border: 2px solid black; padding: 15px; text-align: center; background-color: #F5F5F5;'><h2 style='font-size:22px; margin-top: 10px;'>Additional movies</h2></div>\"))\n",
    "    display(random_movies)\n",
    "\n",
    "# Function to display feedback buttons\n",
    "def display_feedback_buttons():\n",
    "    display(widgets.VBox([feedback_question, widgets.HBox([button_yes, button_no])]))\n",
    "\n",
    "# Function to search for movies based on user input\n",
    "def search(title, tfidf_title, feature_matrix, movies_data):\n",
    "    query_vec = vectorizer_genre.transform([title])\n",
    "    similarity = cosine_similarity(query_vec, tfidf_title).flatten()\n",
    "    indices = np.argpartition(similarity, -5)[-5:]\n",
    "    results = movies_data.iloc[indices].iloc[::-1]\n",
    "    return results\n",
    "\n",
    "# Function to find similar movies\n",
    "def find_similar_movies(movie, knn_model, feature_matrix, movies_data):\n",
    "    movie_index = movies_data[movies_data[\"Title\"] == movie[\"Title\"]].index[0]\n",
    "    _, neighbors = knn_model.kneighbors(feature_matrix[movie_index].reshape(1, -1), n_neighbors=6)  # Increase to 6 to exclude the input movie\n",
    "    similar_movies_indices = neighbors[0][1:]  # Exclude the movie itself\n",
    "    cosine_similarities = []\n",
    "    for idx in similar_movies_indices:\n",
    "        cosine_sim = cosine_similarity(feature_matrix[movie_index].reshape(1, -1), feature_matrix[idx].reshape(1, -1)).flatten()[0]\n",
    "        cosine_similarities.append(cosine_sim)\n",
    "    similar_movies = movies_data.iloc[similar_movies_indices].copy()\n",
    "    similar_movies['Cosine Similarity'] = cosine_similarities\n",
    "    return similar_movies.head(5)  # Return only the top 5 most similar movies\n",
    "\n",
    "# Function triggered on user input for movie search\n",
    "def on_type(data):\n",
    "    with recommendation_output:\n",
    "        recommendation_output.clear_output()\n",
    "\n",
    "        title = data[\"new\"]\n",
    "        if len(title) > 1:\n",
    "            results = search(title, tfidf_genre_train, feature_matrix_train, train_movies)\n",
    "            if not results.empty:\n",
    "                movie = results.iloc[0]  # Assuming the first result is the most relevant\n",
    "                display(HTML(\"<div style='border: 2px solid black; padding: 15px; text-align: center; background-color: #FFCCCB;'><h2 style='font-size:22px; margin-top: 10px;'>Suggested movies based on your search</h2></div>\"))\n",
    "                recommended_movies = find_similar_movies(movie, knn, feature_matrix_train, train_movies)\n",
    "                display(recommended_movies.style.set_properties(**{'text-align': 'left'}))\n",
    "                display_feedback_buttons()\n",
    "\n",
    "# Attach to  input widget\n",
    "movie_name_input.observe(on_type, names='value')\n",
    "\n",
    "# Display the input and output widgets\n",
    "display(movie_name_input)\n",
    "display(recommendation_output)\n"
   ]
  },
  {
   "cell_type": "markdown",
   "id": "d75fb133",
   "metadata": {},
   "source": [
    "**<h1 style=\"text-align:center;\">Machine Learning model - IMDB Rating prediction**\n",
    "<hr style=\"border: 1px solid black;\">\n",
    "\n",
    "    \n",
    "- In the last part of the project, I am showing the correlation between different features and IMDB_Rating to illustrates which feature is more correlated  to IMDB Rating, by calculating the Pearson Correlation Coefficient.\n",
    "   \n",
    "-  In the second stage, I am using TargetEncoder to transform the categorical columns into numerical columns, and then fit the train dataset.\n",
    "    \n",
    "- Then, I instantiate a linear regression model, train it on the training data (x_train, y_train), and then use the trained model to predict IMDb ratings for both the training and testing datasets (train_preds and test_preds).\n",
    "    \n",
    "- Then, I calculated the Mean Squared Error, calculating the mean squared error allow us to measure our regression model's performance.\n",
    "    \n",
    "- Lastly, I produce scatter graphs to illustrates the results."
   ]
  },
  {
   "cell_type": "code",
   "execution_count": 150,
   "id": "727ce44a",
   "metadata": {
    "scrolled": false
   },
   "outputs": [
    {
     "data": {
      "image/png": "[encoded data removed]",
      "text/plain": [
       "<Figure size 1200x1000 with 4 Axes>"
      ]
     },
     "metadata": {},
     "output_type": "display_data"
    }
   ],
   "source": [
    "fig, axs = plt.subplots(2, 2, figsize=(12, 10)) \n",
    "\n",
    "axs[0, 0].scatter(train_movies['Runtime'], train_movies['IMDB_Rating'], alpha=0.5)\n",
    "axs[0, 0].set_title('Runtime vs. IMDb Rating')\n",
    "axs[0, 0].set_xlabel('Runtime (minutes)')\n",
    "axs[0, 0].set_ylabel('IMDb Rating')\n",
    "\n",
    "axs[0, 1].scatter(train_movies['Released_Year'], train_movies['IMDB_Rating'], alpha=0.5)\n",
    "axs[0, 1].set_title('Released Year vs. IMDb Rating')\n",
    "axs[0, 1].set_xlabel('Released Year')\n",
    "axs[0, 1].set_ylabel('IMDb Rating')\n",
    "\n",
    "axs[1, 0].scatter(train_movies['Metascore'], train_movies['IMDB_Rating'], alpha=0.5)\n",
    "axs[1, 0].set_title('Metascore vs. IMDb Rating')\n",
    "axs[1, 0].set_xlabel('Metascore')\n",
    "axs[1, 0].set_ylabel('IMDb Rating')\n",
    "\n",
    "axs[1, 1].scatter(train_movies['No_of_Votes'], train_movies['IMDB_Rating'], alpha=0.5)\n",
    "axs[1, 1].set_title('Number of Votes vs. IMDb Rating')\n",
    "axs[1, 1].set_xlabel('Number of Votes')\n",
    "axs[1, 1].set_ylabel('IMDb Rating')\n",
    "\n",
    "plt.tight_layout()\n",
    "\n",
    "plt.show()\n"
   ]
  },
  {
   "cell_type": "markdown",
   "id": "1a355c6c",
   "metadata": {},
   "source": [
    "### Calculate the Pearson correlation"
   ]
  },
  {
   "cell_type": "code",
   "execution_count": 151,
   "id": "43f3d4aa",
   "metadata": {},
   "outputs": [
    {
     "name": "stdout",
     "output_type": "stream",
     "text": [
      "Pearson Correlation Coefficient between Runtime and IMDb Rating: 0.2213902063316967\n",
      "Pearson Correlation Coefficient between Released_Year and IMDb Rating: -0.1180118904448764\n",
      "Pearson Correlation Coefficient between Metascore and IMDb Rating: 0.22261916926779\n",
      "Pearson Correlation Coefficient between No_of_Votes and IMDb Rating: 0.4762660890391494\n"
     ]
    }
   ],
   "source": [
    "for c in ['Runtime', 'Released_Year', 'Metascore', 'No_of_Votes']:\n",
    "    correlation = train_movies[c].corr(train_movies['IMDB_Rating'])\n",
    "    print(f\"Pearson Correlation Coefficient between {c} and IMDb Rating:\", correlation)"
   ]
  },
  {
   "cell_type": "code",
   "execution_count": 152,
   "id": "bb506cee",
   "metadata": {},
   "outputs": [],
   "source": [
    "target = 'IMDB_Rating'\n",
    "\n",
    "te_genre = TargetEncoder()\n",
    "train_movies['Genre_Numeric'] = te_genre.fit_transform(train_movies['Genre'], train_movies[target])\n",
    "test_movies['Genre_Numeric'] = te_genre.transform(test_movies['Genre'])\n",
    "\n",
    "te_director = TargetEncoder()\n",
    "train_movies['Director_Numeric'] = te_director.fit_transform(train_movies['Director'], train_movies[target])\n",
    "test_movies['Director_Numeric'] = te_director.transform(test_movies['Director'])\n"
   ]
  },
  {
   "cell_type": "code",
   "execution_count": 153,
   "id": "e04bbf85",
   "metadata": {},
   "outputs": [
    {
     "data": {
      "text/html": [
       "<div>\n",
       "<style scoped>\n",
       "    .dataframe tbody tr th:only-of-type {\n",
       "        vertical-align: middle;\n",
       "    }\n",
       "\n",
       "    .dataframe tbody tr th {\n",
       "        vertical-align: top;\n",
       "    }\n",
       "\n",
       "    .dataframe thead th {\n",
       "        text-align: right;\n",
       "    }\n",
       "</style>\n",
       "<table border=\"1\" class=\"dataframe\">\n",
       "  <thead>\n",
       "    <tr style=\"text-align: right;\">\n",
       "      <th></th>\n",
       "      <th>Title</th>\n",
       "      <th>Released_Year</th>\n",
       "      <th>Runtime</th>\n",
       "      <th>Genre</th>\n",
       "      <th>IMDB_Rating</th>\n",
       "      <th>Metascore</th>\n",
       "      <th>Director</th>\n",
       "      <th>No_of_Votes</th>\n",
       "      <th>Stars</th>\n",
       "      <th>Genre_Numeric</th>\n",
       "      <th>Director_Numeric</th>\n",
       "    </tr>\n",
       "    <tr>\n",
       "      <th>Rank</th>\n",
       "      <th></th>\n",
       "      <th></th>\n",
       "      <th></th>\n",
       "      <th></th>\n",
       "      <th></th>\n",
       "      <th></th>\n",
       "      <th></th>\n",
       "      <th></th>\n",
       "      <th></th>\n",
       "      <th></th>\n",
       "      <th></th>\n",
       "    </tr>\n",
       "  </thead>\n",
       "  <tbody>\n",
       "    <tr>\n",
       "      <th>886</th>\n",
       "      <td>Mustang</td>\n",
       "      <td>2015</td>\n",
       "      <td>97</td>\n",
       "      <td>Drama</td>\n",
       "      <td>7.6</td>\n",
       "      <td>83.00000</td>\n",
       "      <td>Deniz Gamze Ergüven</td>\n",
       "      <td>35785</td>\n",
       "      <td>Günes Sensoy, Doga Zeynep Doguslu, Tugba Sungu...</td>\n",
       "      <td>8.005440</td>\n",
       "      <td>7.905984</td>\n",
       "    </tr>\n",
       "    <tr>\n",
       "      <th>488</th>\n",
       "      <td>District 9</td>\n",
       "      <td>2009</td>\n",
       "      <td>112</td>\n",
       "      <td>Action, Sci-Fi, Thriller</td>\n",
       "      <td>7.9</td>\n",
       "      <td>81.00000</td>\n",
       "      <td>Neill Blomkamp</td>\n",
       "      <td>638202</td>\n",
       "      <td>Sharlto Copley, David James, Jason Cope, Natha...</td>\n",
       "      <td>7.958594</td>\n",
       "      <td>7.945017</td>\n",
       "    </tr>\n",
       "    <tr>\n",
       "      <th>265</th>\n",
       "      <td>Dà hóng denglong gaogao guà</td>\n",
       "      <td>1991</td>\n",
       "      <td>125</td>\n",
       "      <td>Drama, History, Romance</td>\n",
       "      <td>8.1</td>\n",
       "      <td>77.97153</td>\n",
       "      <td>Yimou Zhang</td>\n",
       "      <td>29662</td>\n",
       "      <td>Gong Li, Jingwu Ma, Saifei He, Cuifen Cao</td>\n",
       "      <td>7.971039</td>\n",
       "      <td>7.958594</td>\n",
       "    </tr>\n",
       "    <tr>\n",
       "      <th>112</th>\n",
       "      <td>The Sting</td>\n",
       "      <td>1973</td>\n",
       "      <td>129</td>\n",
       "      <td>Comedy, Crime, Drama</td>\n",
       "      <td>8.3</td>\n",
       "      <td>83.00000</td>\n",
       "      <td>George Roy Hill</td>\n",
       "      <td>241513</td>\n",
       "      <td>Paul Newman, Robert Redford, Robert Shaw, Char...</td>\n",
       "      <td>7.964726</td>\n",
       "      <td>7.979872</td>\n",
       "    </tr>\n",
       "    <tr>\n",
       "      <th>650</th>\n",
       "      <td>October Sky</td>\n",
       "      <td>1999</td>\n",
       "      <td>108</td>\n",
       "      <td>Biography, Drama, Family</td>\n",
       "      <td>7.8</td>\n",
       "      <td>71.00000</td>\n",
       "      <td>Joe Johnston</td>\n",
       "      <td>82855</td>\n",
       "      <td>Jake Gyllenhaal, Chris Cooper, Laura Dern, Chr...</td>\n",
       "      <td>7.938857</td>\n",
       "      <td>7.932006</td>\n",
       "    </tr>\n",
       "  </tbody>\n",
       "</table>\n",
       "</div>"
      ],
      "text/plain": [
       "                            Title  Released_Year  Runtime  \\\n",
       "Rank                                                        \n",
       "886                       Mustang           2015       97   \n",
       "488                    District 9           2009      112   \n",
       "265   Dà hóng denglong gaogao guà           1991      125   \n",
       "112                     The Sting           1973      129   \n",
       "650                   October Sky           1999      108   \n",
       "\n",
       "                         Genre  IMDB_Rating  Metascore             Director  \\\n",
       "Rank                                                                          \n",
       "886                      Drama          7.6   83.00000  Deniz Gamze Ergüven   \n",
       "488   Action, Sci-Fi, Thriller          7.9   81.00000       Neill Blomkamp   \n",
       "265    Drama, History, Romance          8.1   77.97153          Yimou Zhang   \n",
       "112       Comedy, Crime, Drama          8.3   83.00000      George Roy Hill   \n",
       "650   Biography, Drama, Family          7.8   71.00000         Joe Johnston   \n",
       "\n",
       "      No_of_Votes                                              Stars  \\\n",
       "Rank                                                                   \n",
       "886         35785  Günes Sensoy, Doga Zeynep Doguslu, Tugba Sungu...   \n",
       "488        638202  Sharlto Copley, David James, Jason Cope, Natha...   \n",
       "265         29662          Gong Li, Jingwu Ma, Saifei He, Cuifen Cao   \n",
       "112        241513  Paul Newman, Robert Redford, Robert Shaw, Char...   \n",
       "650         82855  Jake Gyllenhaal, Chris Cooper, Laura Dern, Chr...   \n",
       "\n",
       "      Genre_Numeric  Director_Numeric  \n",
       "Rank                                   \n",
       "886        8.005440          7.905984  \n",
       "488        7.958594          7.945017  \n",
       "265        7.971039          7.958594  \n",
       "112        7.964726          7.979872  \n",
       "650        7.938857          7.932006  "
      ]
     },
     "execution_count": 153,
     "metadata": {},
     "output_type": "execute_result"
    }
   ],
   "source": [
    "train_movies.head()"
   ]
  },
  {
   "cell_type": "code",
   "execution_count": 154,
   "id": "c7ff1cee",
   "metadata": {},
   "outputs": [
    {
     "data": {
      "text/html": [
       "<div>\n",
       "<style scoped>\n",
       "    .dataframe tbody tr th:only-of-type {\n",
       "        vertical-align: middle;\n",
       "    }\n",
       "\n",
       "    .dataframe tbody tr th {\n",
       "        vertical-align: top;\n",
       "    }\n",
       "\n",
       "    .dataframe thead th {\n",
       "        text-align: right;\n",
       "    }\n",
       "</style>\n",
       "<table border=\"1\" class=\"dataframe\">\n",
       "  <thead>\n",
       "    <tr style=\"text-align: right;\">\n",
       "      <th></th>\n",
       "      <th>Title</th>\n",
       "      <th>Released_Year</th>\n",
       "      <th>Runtime</th>\n",
       "      <th>Genre</th>\n",
       "      <th>IMDB_Rating</th>\n",
       "      <th>Metascore</th>\n",
       "      <th>Director</th>\n",
       "      <th>No_of_Votes</th>\n",
       "      <th>Stars</th>\n",
       "      <th>Genre_Numeric</th>\n",
       "      <th>Director_Numeric</th>\n",
       "    </tr>\n",
       "    <tr>\n",
       "      <th>Rank</th>\n",
       "      <th></th>\n",
       "      <th></th>\n",
       "      <th></th>\n",
       "      <th></th>\n",
       "      <th></th>\n",
       "      <th></th>\n",
       "      <th></th>\n",
       "      <th></th>\n",
       "      <th></th>\n",
       "      <th></th>\n",
       "      <th></th>\n",
       "    </tr>\n",
       "  </thead>\n",
       "  <tbody>\n",
       "    <tr>\n",
       "      <th>316</th>\n",
       "      <td>It Happened One Night</td>\n",
       "      <td>1934</td>\n",
       "      <td>105</td>\n",
       "      <td>Comedy, Romance</td>\n",
       "      <td>8.1</td>\n",
       "      <td>87.00000</td>\n",
       "      <td>Frank Capra</td>\n",
       "      <td>94016</td>\n",
       "      <td>Clark Gable, Claudette Colbert, Walter Connoll...</td>\n",
       "      <td>7.964592</td>\n",
       "      <td>7.951750</td>\n",
       "    </tr>\n",
       "    <tr>\n",
       "      <th>459</th>\n",
       "      <td>La règle du jeu</td>\n",
       "      <td>1939</td>\n",
       "      <td>110</td>\n",
       "      <td>Comedy, Drama</td>\n",
       "      <td>8.0</td>\n",
       "      <td>77.97153</td>\n",
       "      <td>Jean Renoir</td>\n",
       "      <td>26725</td>\n",
       "      <td>Marcel Dalio, Nora Gregor, Paulette Dubost, Mi...</td>\n",
       "      <td>7.891402</td>\n",
       "      <td>7.971039</td>\n",
       "    </tr>\n",
       "    <tr>\n",
       "      <th>854</th>\n",
       "      <td>Where Eagles Dare</td>\n",
       "      <td>1968</td>\n",
       "      <td>158</td>\n",
       "      <td>Action, Adventure, War</td>\n",
       "      <td>7.7</td>\n",
       "      <td>63.00000</td>\n",
       "      <td>Brian G. Hutton</td>\n",
       "      <td>51913</td>\n",
       "      <td>Richard Burton, Clint Eastwood, Mary Ure, Patr...</td>\n",
       "      <td>7.918995</td>\n",
       "      <td>7.951750</td>\n",
       "    </tr>\n",
       "    <tr>\n",
       "      <th>11</th>\n",
       "      <td>Forrest Gump</td>\n",
       "      <td>1994</td>\n",
       "      <td>142</td>\n",
       "      <td>Drama, Romance</td>\n",
       "      <td>8.8</td>\n",
       "      <td>82.00000</td>\n",
       "      <td>Robert Zemeckis</td>\n",
       "      <td>1809221</td>\n",
       "      <td>Tom Hanks, Robin Wright, Gary Sinise, Sally Field</td>\n",
       "      <td>7.913371</td>\n",
       "      <td>7.951456</td>\n",
       "    </tr>\n",
       "    <tr>\n",
       "      <th>978</th>\n",
       "      <td>Planes, Trains &amp; Automobiles</td>\n",
       "      <td>1987</td>\n",
       "      <td>93</td>\n",
       "      <td>Comedy, Drama</td>\n",
       "      <td>7.6</td>\n",
       "      <td>72.00000</td>\n",
       "      <td>John Hughes</td>\n",
       "      <td>124773</td>\n",
       "      <td>Steve Martin, John Candy, Laila Robins, Michae...</td>\n",
       "      <td>7.891402</td>\n",
       "      <td>7.930224</td>\n",
       "    </tr>\n",
       "  </tbody>\n",
       "</table>\n",
       "</div>"
      ],
      "text/plain": [
       "                             Title  Released_Year  Runtime  \\\n",
       "Rank                                                         \n",
       "316          It Happened One Night           1934      105   \n",
       "459                La règle du jeu           1939      110   \n",
       "854              Where Eagles Dare           1968      158   \n",
       "11                    Forrest Gump           1994      142   \n",
       "978   Planes, Trains & Automobiles           1987       93   \n",
       "\n",
       "                       Genre  IMDB_Rating  Metascore         Director  \\\n",
       "Rank                                                                    \n",
       "316          Comedy, Romance          8.1   87.00000      Frank Capra   \n",
       "459            Comedy, Drama          8.0   77.97153      Jean Renoir   \n",
       "854   Action, Adventure, War          7.7   63.00000  Brian G. Hutton   \n",
       "11            Drama, Romance          8.8   82.00000  Robert Zemeckis   \n",
       "978            Comedy, Drama          7.6   72.00000      John Hughes   \n",
       "\n",
       "      No_of_Votes                                              Stars  \\\n",
       "Rank                                                                   \n",
       "316         94016  Clark Gable, Claudette Colbert, Walter Connoll...   \n",
       "459         26725  Marcel Dalio, Nora Gregor, Paulette Dubost, Mi...   \n",
       "854         51913  Richard Burton, Clint Eastwood, Mary Ure, Patr...   \n",
       "11        1809221  Tom Hanks, Robin Wright, Gary Sinise, Sally Field   \n",
       "978        124773  Steve Martin, John Candy, Laila Robins, Michae...   \n",
       "\n",
       "      Genre_Numeric  Director_Numeric  \n",
       "Rank                                   \n",
       "316        7.964592          7.951750  \n",
       "459        7.891402          7.971039  \n",
       "854        7.918995          7.951750  \n",
       "11         7.913371          7.951456  \n",
       "978        7.891402          7.930224  "
      ]
     },
     "execution_count": 154,
     "metadata": {},
     "output_type": "execute_result"
    }
   ],
   "source": [
    "test_movies.head()"
   ]
  },
  {
   "cell_type": "code",
   "execution_count": 155,
   "id": "762cfeed",
   "metadata": {},
   "outputs": [],
   "source": [
    "features = ['Released_Year', 'Runtime', 'Metascore', 'No_of_Votes', 'Genre_Numeric', 'Director_Numeric']\n",
    "\n",
    "x_train = train_movies[features]\n",
    "x_test = test_movies[features]\n",
    "\n",
    "y_train = train_movies[target]\n",
    "y_test = test_movies[target]"
   ]
  },
  {
   "cell_type": "code",
   "execution_count": 156,
   "id": "3c368879",
   "metadata": {},
   "outputs": [
    {
     "data": {
      "text/html": [
       "<div>\n",
       "<style scoped>\n",
       "    .dataframe tbody tr th:only-of-type {\n",
       "        vertical-align: middle;\n",
       "    }\n",
       "\n",
       "    .dataframe tbody tr th {\n",
       "        vertical-align: top;\n",
       "    }\n",
       "\n",
       "    .dataframe thead th {\n",
       "        text-align: right;\n",
       "    }\n",
       "</style>\n",
       "<table border=\"1\" class=\"dataframe\">\n",
       "  <thead>\n",
       "    <tr style=\"text-align: right;\">\n",
       "      <th></th>\n",
       "      <th>Released_Year</th>\n",
       "      <th>Runtime</th>\n",
       "      <th>Metascore</th>\n",
       "      <th>No_of_Votes</th>\n",
       "      <th>Genre_Numeric</th>\n",
       "      <th>Director_Numeric</th>\n",
       "    </tr>\n",
       "    <tr>\n",
       "      <th>Rank</th>\n",
       "      <th></th>\n",
       "      <th></th>\n",
       "      <th></th>\n",
       "      <th></th>\n",
       "      <th></th>\n",
       "      <th></th>\n",
       "    </tr>\n",
       "  </thead>\n",
       "  <tbody>\n",
       "    <tr>\n",
       "      <th>886</th>\n",
       "      <td>2015</td>\n",
       "      <td>97</td>\n",
       "      <td>83.00000</td>\n",
       "      <td>35785</td>\n",
       "      <td>8.005440</td>\n",
       "      <td>7.905984</td>\n",
       "    </tr>\n",
       "    <tr>\n",
       "      <th>488</th>\n",
       "      <td>2009</td>\n",
       "      <td>112</td>\n",
       "      <td>81.00000</td>\n",
       "      <td>638202</td>\n",
       "      <td>7.958594</td>\n",
       "      <td>7.945017</td>\n",
       "    </tr>\n",
       "    <tr>\n",
       "      <th>265</th>\n",
       "      <td>1991</td>\n",
       "      <td>125</td>\n",
       "      <td>77.97153</td>\n",
       "      <td>29662</td>\n",
       "      <td>7.971039</td>\n",
       "      <td>7.958594</td>\n",
       "    </tr>\n",
       "    <tr>\n",
       "      <th>112</th>\n",
       "      <td>1973</td>\n",
       "      <td>129</td>\n",
       "      <td>83.00000</td>\n",
       "      <td>241513</td>\n",
       "      <td>7.964726</td>\n",
       "      <td>7.979872</td>\n",
       "    </tr>\n",
       "    <tr>\n",
       "      <th>650</th>\n",
       "      <td>1999</td>\n",
       "      <td>108</td>\n",
       "      <td>71.00000</td>\n",
       "      <td>82855</td>\n",
       "      <td>7.938857</td>\n",
       "      <td>7.932006</td>\n",
       "    </tr>\n",
       "    <tr>\n",
       "      <th>...</th>\n",
       "      <td>...</td>\n",
       "      <td>...</td>\n",
       "      <td>...</td>\n",
       "      <td>...</td>\n",
       "      <td>...</td>\n",
       "      <td>...</td>\n",
       "    </tr>\n",
       "    <tr>\n",
       "      <th>289</th>\n",
       "      <td>1966</td>\n",
       "      <td>85</td>\n",
       "      <td>86.00000</td>\n",
       "      <td>103191</td>\n",
       "      <td>7.914160</td>\n",
       "      <td>7.989740</td>\n",
       "    </tr>\n",
       "    <tr>\n",
       "      <th>109</th>\n",
       "      <td>1983</td>\n",
       "      <td>131</td>\n",
       "      <td>58.00000</td>\n",
       "      <td>950470</td>\n",
       "      <td>7.955656</td>\n",
       "      <td>7.997060</td>\n",
       "    </tr>\n",
       "    <tr>\n",
       "      <th>907</th>\n",
       "      <td>2011</td>\n",
       "      <td>100</td>\n",
       "      <td>72.00000</td>\n",
       "      <td>315426</td>\n",
       "      <td>7.917048</td>\n",
       "      <td>7.905984</td>\n",
       "    </tr>\n",
       "    <tr>\n",
       "      <th>480</th>\n",
       "      <td>2011</td>\n",
       "      <td>157</td>\n",
       "      <td>82.00000</td>\n",
       "      <td>41995</td>\n",
       "      <td>8.095385</td>\n",
       "      <td>7.958594</td>\n",
       "    </tr>\n",
       "    <tr>\n",
       "      <th>688</th>\n",
       "      <td>1982</td>\n",
       "      <td>115</td>\n",
       "      <td>91.00000</td>\n",
       "      <td>372490</td>\n",
       "      <td>7.932006</td>\n",
       "      <td>7.959348</td>\n",
       "    </tr>\n",
       "  </tbody>\n",
       "</table>\n",
       "<p>800 rows × 6 columns</p>\n",
       "</div>"
      ],
      "text/plain": [
       "      Released_Year  Runtime  Metascore  No_of_Votes  Genre_Numeric  \\\n",
       "Rank                                                                  \n",
       "886            2015       97   83.00000        35785       8.005440   \n",
       "488            2009      112   81.00000       638202       7.958594   \n",
       "265            1991      125   77.97153        29662       7.971039   \n",
       "112            1973      129   83.00000       241513       7.964726   \n",
       "650            1999      108   71.00000        82855       7.938857   \n",
       "...             ...      ...        ...          ...            ...   \n",
       "289            1966       85   86.00000       103191       7.914160   \n",
       "109            1983      131   58.00000       950470       7.955656   \n",
       "907            2011      100   72.00000       315426       7.917048   \n",
       "480            2011      157   82.00000        41995       8.095385   \n",
       "688            1982      115   91.00000       372490       7.932006   \n",
       "\n",
       "      Director_Numeric  \n",
       "Rank                    \n",
       "886           7.905984  \n",
       "488           7.945017  \n",
       "265           7.958594  \n",
       "112           7.979872  \n",
       "650           7.932006  \n",
       "...                ...  \n",
       "289           7.989740  \n",
       "109           7.997060  \n",
       "907           7.905984  \n",
       "480           7.958594  \n",
       "688           7.959348  \n",
       "\n",
       "[800 rows x 6 columns]"
      ]
     },
     "execution_count": 156,
     "metadata": {},
     "output_type": "execute_result"
    }
   ],
   "source": [
    "x_train"
   ]
  },
  {
   "cell_type": "code",
   "execution_count": 157,
   "id": "35f48eda",
   "metadata": {},
   "outputs": [
    {
     "data": {
      "text/html": [
       "<div>\n",
       "<style scoped>\n",
       "    .dataframe tbody tr th:only-of-type {\n",
       "        vertical-align: middle;\n",
       "    }\n",
       "\n",
       "    .dataframe tbody tr th {\n",
       "        vertical-align: top;\n",
       "    }\n",
       "\n",
       "    .dataframe thead th {\n",
       "        text-align: right;\n",
       "    }\n",
       "</style>\n",
       "<table border=\"1\" class=\"dataframe\">\n",
       "  <thead>\n",
       "    <tr style=\"text-align: right;\">\n",
       "      <th></th>\n",
       "      <th>Released_Year</th>\n",
       "      <th>Runtime</th>\n",
       "      <th>Metascore</th>\n",
       "      <th>No_of_Votes</th>\n",
       "      <th>Genre_Numeric</th>\n",
       "      <th>Director_Numeric</th>\n",
       "    </tr>\n",
       "    <tr>\n",
       "      <th>Rank</th>\n",
       "      <th></th>\n",
       "      <th></th>\n",
       "      <th></th>\n",
       "      <th></th>\n",
       "      <th></th>\n",
       "      <th></th>\n",
       "    </tr>\n",
       "  </thead>\n",
       "  <tbody>\n",
       "    <tr>\n",
       "      <th>316</th>\n",
       "      <td>1934</td>\n",
       "      <td>105</td>\n",
       "      <td>87.00000</td>\n",
       "      <td>94016</td>\n",
       "      <td>7.964592</td>\n",
       "      <td>7.951750</td>\n",
       "    </tr>\n",
       "    <tr>\n",
       "      <th>459</th>\n",
       "      <td>1939</td>\n",
       "      <td>110</td>\n",
       "      <td>77.97153</td>\n",
       "      <td>26725</td>\n",
       "      <td>7.891402</td>\n",
       "      <td>7.971039</td>\n",
       "    </tr>\n",
       "    <tr>\n",
       "      <th>854</th>\n",
       "      <td>1968</td>\n",
       "      <td>158</td>\n",
       "      <td>63.00000</td>\n",
       "      <td>51913</td>\n",
       "      <td>7.918995</td>\n",
       "      <td>7.951750</td>\n",
       "    </tr>\n",
       "    <tr>\n",
       "      <th>11</th>\n",
       "      <td>1994</td>\n",
       "      <td>142</td>\n",
       "      <td>82.00000</td>\n",
       "      <td>1809221</td>\n",
       "      <td>7.913371</td>\n",
       "      <td>7.951456</td>\n",
       "    </tr>\n",
       "    <tr>\n",
       "      <th>978</th>\n",
       "      <td>1987</td>\n",
       "      <td>93</td>\n",
       "      <td>72.00000</td>\n",
       "      <td>124773</td>\n",
       "      <td>7.891402</td>\n",
       "      <td>7.930224</td>\n",
       "    </tr>\n",
       "    <tr>\n",
       "      <th>...</th>\n",
       "      <td>...</td>\n",
       "      <td>...</td>\n",
       "      <td>...</td>\n",
       "      <td>...</td>\n",
       "      <td>...</td>\n",
       "      <td>...</td>\n",
       "    </tr>\n",
       "    <tr>\n",
       "      <th>37</th>\n",
       "      <td>2006</td>\n",
       "      <td>151</td>\n",
       "      <td>85.00000</td>\n",
       "      <td>1189773</td>\n",
       "      <td>7.958286</td>\n",
       "      <td>8.006320</td>\n",
       "    </tr>\n",
       "    <tr>\n",
       "      <th>981</th>\n",
       "      <td>1981</td>\n",
       "      <td>109</td>\n",
       "      <td>68.00000</td>\n",
       "      <td>27650</td>\n",
       "      <td>8.005440</td>\n",
       "      <td>7.951750</td>\n",
       "    </tr>\n",
       "    <tr>\n",
       "      <th>38</th>\n",
       "      <td>2002</td>\n",
       "      <td>150</td>\n",
       "      <td>85.00000</td>\n",
       "      <td>729603</td>\n",
       "      <td>7.911841</td>\n",
       "      <td>7.948905</td>\n",
       "    </tr>\n",
       "    <tr>\n",
       "      <th>333</th>\n",
       "      <td>2017</td>\n",
       "      <td>113</td>\n",
       "      <td>66.00000</td>\n",
       "      <td>141923</td>\n",
       "      <td>8.008242</td>\n",
       "      <td>7.951750</td>\n",
       "    </tr>\n",
       "    <tr>\n",
       "      <th>157</th>\n",
       "      <td>2004</td>\n",
       "      <td>156</td>\n",
       "      <td>82.00000</td>\n",
       "      <td>331308</td>\n",
       "      <td>7.992080</td>\n",
       "      <td>7.918995</td>\n",
       "    </tr>\n",
       "  </tbody>\n",
       "</table>\n",
       "<p>200 rows × 6 columns</p>\n",
       "</div>"
      ],
      "text/plain": [
       "      Released_Year  Runtime  Metascore  No_of_Votes  Genre_Numeric  \\\n",
       "Rank                                                                  \n",
       "316            1934      105   87.00000        94016       7.964592   \n",
       "459            1939      110   77.97153        26725       7.891402   \n",
       "854            1968      158   63.00000        51913       7.918995   \n",
       "11             1994      142   82.00000      1809221       7.913371   \n",
       "978            1987       93   72.00000       124773       7.891402   \n",
       "...             ...      ...        ...          ...            ...   \n",
       "37             2006      151   85.00000      1189773       7.958286   \n",
       "981            1981      109   68.00000        27650       8.005440   \n",
       "38             2002      150   85.00000       729603       7.911841   \n",
       "333            2017      113   66.00000       141923       8.008242   \n",
       "157            2004      156   82.00000       331308       7.992080   \n",
       "\n",
       "      Director_Numeric  \n",
       "Rank                    \n",
       "316           7.951750  \n",
       "459           7.971039  \n",
       "854           7.951750  \n",
       "11            7.951456  \n",
       "978           7.930224  \n",
       "...                ...  \n",
       "37            8.006320  \n",
       "981           7.951750  \n",
       "38            7.948905  \n",
       "333           7.951750  \n",
       "157           7.918995  \n",
       "\n",
       "[200 rows x 6 columns]"
      ]
     },
     "execution_count": 157,
     "metadata": {},
     "output_type": "execute_result"
    }
   ],
   "source": [
    "x_test"
   ]
  },
  {
   "cell_type": "code",
   "execution_count": 158,
   "id": "f58042ca",
   "metadata": {},
   "outputs": [
    {
     "data": {
      "text/plain": [
       "Rank\n",
       "886    7.6\n",
       "488    7.9\n",
       "265    8.1\n",
       "112    8.3\n",
       "650    7.8\n",
       "      ... \n",
       "289    8.1\n",
       "109    8.3\n",
       "907    7.6\n",
       "480    7.9\n",
       "688    7.8\n",
       "Name: IMDB_Rating, Length: 800, dtype: float64"
      ]
     },
     "execution_count": 158,
     "metadata": {},
     "output_type": "execute_result"
    }
   ],
   "source": [
    "y_train"
   ]
  },
  {
   "cell_type": "code",
   "execution_count": 159,
   "id": "0fcb186a",
   "metadata": {},
   "outputs": [
    {
     "data": {
      "text/plain": [
       "Rank\n",
       "316    8.1\n",
       "459    8.0\n",
       "854    7.7\n",
       "11     8.8\n",
       "978    7.6\n",
       "      ... \n",
       "37     8.5\n",
       "981    7.6\n",
       "38     8.5\n",
       "333    8.0\n",
       "157    8.2\n",
       "Name: IMDB_Rating, Length: 200, dtype: float64"
      ]
     },
     "execution_count": 159,
     "metadata": {},
     "output_type": "execute_result"
    }
   ],
   "source": [
    "y_test"
   ]
  },
  {
   "cell_type": "code",
   "execution_count": 160,
   "id": "24f34b3c",
   "metadata": {},
   "outputs": [
    {
     "data": {
      "text/html": [
       "<style>#sk-container-id-4 {\n",
       "  /* Definition of color scheme common for light and dark mode */\n",
       "  --sklearn-color-text: black;\n",
       "  --sklearn-color-line: gray;\n",
       "  /* Definition of color scheme for unfitted estimators */\n",
       "  --sklearn-color-unfitted-level-0: #fff5e6;\n",
       "  --sklearn-color-unfitted-level-1: #f6e4d2;\n",
       "  --sklearn-color-unfitted-level-2: #ffe0b3;\n",
       "  --sklearn-color-unfitted-level-3: chocolate;\n",
       "  /* Definition of color scheme for fitted estimators */\n",
       "  --sklearn-color-fitted-level-0: #f0f8ff;\n",
       "  --sklearn-color-fitted-level-1: #d4ebff;\n",
       "  --sklearn-color-fitted-level-2: #b3dbfd;\n",
       "  --sklearn-color-fitted-level-3: cornflowerblue;\n",
       "\n",
       "  /* Specific color for light theme */\n",
       "  --sklearn-color-text-on-default-background: var(--sg-text-color, var(--theme-code-foreground, var(--jp-content-font-color1, black)));\n",
       "  --sklearn-color-background: var(--sg-background-color, var(--theme-background, var(--jp-layout-color0, white)));\n",
       "  --sklearn-color-border-box: var(--sg-text-color, var(--theme-code-foreground, var(--jp-content-font-color1, black)));\n",
       "  --sklearn-color-icon: #696969;\n",
       "\n",
       "  @media (prefers-color-scheme: dark) {\n",
       "    /* Redefinition of color scheme for dark theme */\n",
       "    --sklearn-color-text-on-default-background: var(--sg-text-color, var(--theme-code-foreground, var(--jp-content-font-color1, white)));\n",
       "    --sklearn-color-background: var(--sg-background-color, var(--theme-background, var(--jp-layout-color0, #111)));\n",
       "    --sklearn-color-border-box: var(--sg-text-color, var(--theme-code-foreground, var(--jp-content-font-color1, white)));\n",
       "    --sklearn-color-icon: #878787;\n",
       "  }\n",
       "}\n",
       "\n",
       "#sk-container-id-4 {\n",
       "  color: var(--sklearn-color-text);\n",
       "}\n",
       "\n",
       "#sk-container-id-4 pre {\n",
       "  padding: 0;\n",
       "}\n",
       "\n",
       "#sk-container-id-4 input.sk-hidden--visually {\n",
       "  border: 0;\n",
       "  clip: rect(1px 1px 1px 1px);\n",
       "  clip: rect(1px, 1px, 1px, 1px);\n",
       "  height: 1px;\n",
       "  margin: -1px;\n",
       "  overflow: hidden;\n",
       "  padding: 0;\n",
       "  position: absolute;\n",
       "  width: 1px;\n",
       "}\n",
       "\n",
       "#sk-container-id-4 div.sk-dashed-wrapped {\n",
       "  border: 1px dashed var(--sklearn-color-line);\n",
       "  margin: 0 0.4em 0.5em 0.4em;\n",
       "  box-sizing: border-box;\n",
       "  padding-bottom: 0.4em;\n",
       "  background-color: var(--sklearn-color-background);\n",
       "}\n",
       "\n",
       "#sk-container-id-4 div.sk-container {\n",
       "  /* jupyter's `normalize.less` sets `[hidden] { display: none; }`\n",
       "     but bootstrap.min.css set `[hidden] { display: none !important; }`\n",
       "     so we also need the `!important` here to be able to override the\n",
       "     default hidden behavior on the sphinx rendered scikit-learn.org.\n",
       "     See: https://github.com/scikit-learn/scikit-learn/issues/21755 */\n",
       "  display: inline-block !important;\n",
       "  position: relative;\n",
       "}\n",
       "\n",
       "#sk-container-id-4 div.sk-text-repr-fallback {\n",
       "  display: none;\n",
       "}\n",
       "\n",
       "div.sk-parallel-item,\n",
       "div.sk-serial,\n",
       "div.sk-item {\n",
       "  /* draw centered vertical line to link estimators */\n",
       "  background-image: linear-gradient(var(--sklearn-color-text-on-default-background), var(--sklearn-color-text-on-default-background));\n",
       "  background-size: 2px 100%;\n",
       "  background-repeat: no-repeat;\n",
       "  background-position: center center;\n",
       "}\n",
       "\n",
       "/* Parallel-specific style estimator block */\n",
       "\n",
       "#sk-container-id-4 div.sk-parallel-item::after {\n",
       "  content: \"\";\n",
       "  width: 100%;\n",
       "  border-bottom: 2px solid var(--sklearn-color-text-on-default-background);\n",
       "  flex-grow: 1;\n",
       "}\n",
       "\n",
       "#sk-container-id-4 div.sk-parallel {\n",
       "  display: flex;\n",
       "  align-items: stretch;\n",
       "  justify-content: center;\n",
       "  background-color: var(--sklearn-color-background);\n",
       "  position: relative;\n",
       "}\n",
       "\n",
       "#sk-container-id-4 div.sk-parallel-item {\n",
       "  display: flex;\n",
       "  flex-direction: column;\n",
       "}\n",
       "\n",
       "#sk-container-id-4 div.sk-parallel-item:first-child::after {\n",
       "  align-self: flex-end;\n",
       "  width: 50%;\n",
       "}\n",
       "\n",
       "#sk-container-id-4 div.sk-parallel-item:last-child::after {\n",
       "  align-self: flex-start;\n",
       "  width: 50%;\n",
       "}\n",
       "\n",
       "#sk-container-id-4 div.sk-parallel-item:only-child::after {\n",
       "  width: 0;\n",
       "}\n",
       "\n",
       "/* Serial-specific style estimator block */\n",
       "\n",
       "#sk-container-id-4 div.sk-serial {\n",
       "  display: flex;\n",
       "  flex-direction: column;\n",
       "  align-items: center;\n",
       "  background-color: var(--sklearn-color-background);\n",
       "  padding-right: 1em;\n",
       "  padding-left: 1em;\n",
       "}\n",
       "\n",
       "\n",
       "/* Toggleable style: style used for estimator/Pipeline/ColumnTransformer box that is\n",
       "clickable and can be expanded/collapsed.\n",
       "- Pipeline and ColumnTransformer use this feature and define the default style\n",
       "- Estimators will overwrite some part of the style using the `sk-estimator` class\n",
       "*/\n",
       "\n",
       "/* Pipeline and ColumnTransformer style (default) */\n",
       "\n",
       "#sk-container-id-4 div.sk-toggleable {\n",
       "  /* Default theme specific background. It is overwritten whether we have a\n",
       "  specific estimator or a Pipeline/ColumnTransformer */\n",
       "  background-color: var(--sklearn-color-background);\n",
       "}\n",
       "\n",
       "/* Toggleable label */\n",
       "#sk-container-id-4 label.sk-toggleable__label {\n",
       "  cursor: pointer;\n",
       "  display: block;\n",
       "  width: 100%;\n",
       "  margin-bottom: 0;\n",
       "  padding: 0.5em;\n",
       "  box-sizing: border-box;\n",
       "  text-align: center;\n",
       "}\n",
       "\n",
       "#sk-container-id-4 label.sk-toggleable__label-arrow:before {\n",
       "  /* Arrow on the left of the label */\n",
       "  content: \"▸\";\n",
       "  float: left;\n",
       "  margin-right: 0.25em;\n",
       "  color: var(--sklearn-color-icon);\n",
       "}\n",
       "\n",
       "#sk-container-id-4 label.sk-toggleable__label-arrow:hover:before {\n",
       "  color: var(--sklearn-color-text);\n",
       "}\n",
       "\n",
       "/* Toggleable content - dropdown */\n",
       "\n",
       "#sk-container-id-4 div.sk-toggleable__content {\n",
       "  max-height: 0;\n",
       "  max-width: 0;\n",
       "  overflow: hidden;\n",
       "  text-align: left;\n",
       "  /* unfitted */\n",
       "  background-color: var(--sklearn-color-unfitted-level-0);\n",
       "}\n",
       "\n",
       "#sk-container-id-4 div.sk-toggleable__content.fitted {\n",
       "  /* fitted */\n",
       "  background-color: var(--sklearn-color-fitted-level-0);\n",
       "}\n",
       "\n",
       "#sk-container-id-4 div.sk-toggleable__content pre {\n",
       "  margin: 0.2em;\n",
       "  border-radius: 0.25em;\n",
       "  color: var(--sklearn-color-text);\n",
       "  /* unfitted */\n",
       "  background-color: var(--sklearn-color-unfitted-level-0);\n",
       "}\n",
       "\n",
       "#sk-container-id-4 div.sk-toggleable__content.fitted pre {\n",
       "  /* unfitted */\n",
       "  background-color: var(--sklearn-color-fitted-level-0);\n",
       "}\n",
       "\n",
       "#sk-container-id-4 input.sk-toggleable__control:checked~div.sk-toggleable__content {\n",
       "  /* Expand drop-down */\n",
       "  max-height: 200px;\n",
       "  max-width: 100%;\n",
       "  overflow: auto;\n",
       "}\n",
       "\n",
       "#sk-container-id-4 input.sk-toggleable__control:checked~label.sk-toggleable__label-arrow:before {\n",
       "  content: \"▾\";\n",
       "}\n",
       "\n",
       "/* Pipeline/ColumnTransformer-specific style */\n",
       "\n",
       "#sk-container-id-4 div.sk-label input.sk-toggleable__control:checked~label.sk-toggleable__label {\n",
       "  color: var(--sklearn-color-text);\n",
       "  background-color: var(--sklearn-color-unfitted-level-2);\n",
       "}\n",
       "\n",
       "#sk-container-id-4 div.sk-label.fitted input.sk-toggleable__control:checked~label.sk-toggleable__label {\n",
       "  background-color: var(--sklearn-color-fitted-level-2);\n",
       "}\n",
       "\n",
       "/* Estimator-specific style */\n",
       "\n",
       "/* Colorize estimator box */\n",
       "#sk-container-id-4 div.sk-estimator input.sk-toggleable__control:checked~label.sk-toggleable__label {\n",
       "  /* unfitted */\n",
       "  background-color: var(--sklearn-color-unfitted-level-2);\n",
       "}\n",
       "\n",
       "#sk-container-id-4 div.sk-estimator.fitted input.sk-toggleable__control:checked~label.sk-toggleable__label {\n",
       "  /* fitted */\n",
       "  background-color: var(--sklearn-color-fitted-level-2);\n",
       "}\n",
       "\n",
       "#sk-container-id-4 div.sk-label label.sk-toggleable__label,\n",
       "#sk-container-id-4 div.sk-label label {\n",
       "  /* The background is the default theme color */\n",
       "  color: var(--sklearn-color-text-on-default-background);\n",
       "}\n",
       "\n",
       "/* On hover, darken the color of the background */\n",
       "#sk-container-id-4 div.sk-label:hover label.sk-toggleable__label {\n",
       "  color: var(--sklearn-color-text);\n",
       "  background-color: var(--sklearn-color-unfitted-level-2);\n",
       "}\n",
       "\n",
       "/* Label box, darken color on hover, fitted */\n",
       "#sk-container-id-4 div.sk-label.fitted:hover label.sk-toggleable__label.fitted {\n",
       "  color: var(--sklearn-color-text);\n",
       "  background-color: var(--sklearn-color-fitted-level-2);\n",
       "}\n",
       "\n",
       "/* Estimator label */\n",
       "\n",
       "#sk-container-id-4 div.sk-label label {\n",
       "  font-family: monospace;\n",
       "  font-weight: bold;\n",
       "  display: inline-block;\n",
       "  line-height: 1.2em;\n",
       "}\n",
       "\n",
       "#sk-container-id-4 div.sk-label-container {\n",
       "  text-align: center;\n",
       "}\n",
       "\n",
       "/* Estimator-specific */\n",
       "#sk-container-id-4 div.sk-estimator {\n",
       "  font-family: monospace;\n",
       "  border: 1px dotted var(--sklearn-color-border-box);\n",
       "  border-radius: 0.25em;\n",
       "  box-sizing: border-box;\n",
       "  margin-bottom: 0.5em;\n",
       "  /* unfitted */\n",
       "  background-color: var(--sklearn-color-unfitted-level-0);\n",
       "}\n",
       "\n",
       "#sk-container-id-4 div.sk-estimator.fitted {\n",
       "  /* fitted */\n",
       "  background-color: var(--sklearn-color-fitted-level-0);\n",
       "}\n",
       "\n",
       "/* on hover */\n",
       "#sk-container-id-4 div.sk-estimator:hover {\n",
       "  /* unfitted */\n",
       "  background-color: var(--sklearn-color-unfitted-level-2);\n",
       "}\n",
       "\n",
       "#sk-container-id-4 div.sk-estimator.fitted:hover {\n",
       "  /* fitted */\n",
       "  background-color: var(--sklearn-color-fitted-level-2);\n",
       "}\n",
       "\n",
       "/* Specification for estimator info (e.g. \"i\" and \"?\") */\n",
       "\n",
       "/* Common style for \"i\" and \"?\" */\n",
       "\n",
       ".sk-estimator-doc-link,\n",
       "a:link.sk-estimator-doc-link,\n",
       "a:visited.sk-estimator-doc-link {\n",
       "  float: right;\n",
       "  font-size: smaller;\n",
       "  line-height: 1em;\n",
       "  font-family: monospace;\n",
       "  background-color: var(--sklearn-color-background);\n",
       "  border-radius: 1em;\n",
       "  height: 1em;\n",
       "  width: 1em;\n",
       "  text-decoration: none !important;\n",
       "  margin-left: 1ex;\n",
       "  /* unfitted */\n",
       "  border: var(--sklearn-color-unfitted-level-1) 1pt solid;\n",
       "  color: var(--sklearn-color-unfitted-level-1);\n",
       "}\n",
       "\n",
       ".sk-estimator-doc-link.fitted,\n",
       "a:link.sk-estimator-doc-link.fitted,\n",
       "a:visited.sk-estimator-doc-link.fitted {\n",
       "  /* fitted */\n",
       "  border: var(--sklearn-color-fitted-level-1) 1pt solid;\n",
       "  color: var(--sklearn-color-fitted-level-1);\n",
       "}\n",
       "\n",
       "/* On hover */\n",
       "div.sk-estimator:hover .sk-estimator-doc-link:hover,\n",
       ".sk-estimator-doc-link:hover,\n",
       "div.sk-label-container:hover .sk-estimator-doc-link:hover,\n",
       ".sk-estimator-doc-link:hover {\n",
       "  /* unfitted */\n",
       "  background-color: var(--sklearn-color-unfitted-level-3);\n",
       "  color: var(--sklearn-color-background);\n",
       "  text-decoration: none;\n",
       "}\n",
       "\n",
       "div.sk-estimator.fitted:hover .sk-estimator-doc-link.fitted:hover,\n",
       ".sk-estimator-doc-link.fitted:hover,\n",
       "div.sk-label-container:hover .sk-estimator-doc-link.fitted:hover,\n",
       ".sk-estimator-doc-link.fitted:hover {\n",
       "  /* fitted */\n",
       "  background-color: var(--sklearn-color-fitted-level-3);\n",
       "  color: var(--sklearn-color-background);\n",
       "  text-decoration: none;\n",
       "}\n",
       "\n",
       "/* Span, style for the box shown on hovering the info icon */\n",
       ".sk-estimator-doc-link span {\n",
       "  display: none;\n",
       "  z-index: 9999;\n",
       "  position: relative;\n",
       "  font-weight: normal;\n",
       "  right: .2ex;\n",
       "  padding: .5ex;\n",
       "  margin: .5ex;\n",
       "  width: min-content;\n",
       "  min-width: 20ex;\n",
       "  max-width: 50ex;\n",
       "  color: var(--sklearn-color-text);\n",
       "  box-shadow: 2pt 2pt 4pt #999;\n",
       "  /* unfitted */\n",
       "  background: var(--sklearn-color-unfitted-level-0);\n",
       "  border: .5pt solid var(--sklearn-color-unfitted-level-3);\n",
       "}\n",
       "\n",
       ".sk-estimator-doc-link.fitted span {\n",
       "  /* fitted */\n",
       "  background: var(--sklearn-color-fitted-level-0);\n",
       "  border: var(--sklearn-color-fitted-level-3);\n",
       "}\n",
       "\n",
       ".sk-estimator-doc-link:hover span {\n",
       "  display: block;\n",
       "}\n",
       "\n",
       "/* \"?\"-specific style due to the `<a>` HTML tag */\n",
       "\n",
       "#sk-container-id-4 a.estimator_doc_link {\n",
       "  float: right;\n",
       "  font-size: 1rem;\n",
       "  line-height: 1em;\n",
       "  font-family: monospace;\n",
       "  background-color: var(--sklearn-color-background);\n",
       "  border-radius: 1rem;\n",
       "  height: 1rem;\n",
       "  width: 1rem;\n",
       "  text-decoration: none;\n",
       "  /* unfitted */\n",
       "  color: var(--sklearn-color-unfitted-level-1);\n",
       "  border: var(--sklearn-color-unfitted-level-1) 1pt solid;\n",
       "}\n",
       "\n",
       "#sk-container-id-4 a.estimator_doc_link.fitted {\n",
       "  /* fitted */\n",
       "  border: var(--sklearn-color-fitted-level-1) 1pt solid;\n",
       "  color: var(--sklearn-color-fitted-level-1);\n",
       "}\n",
       "\n",
       "/* On hover */\n",
       "#sk-container-id-4 a.estimator_doc_link:hover {\n",
       "  /* unfitted */\n",
       "  background-color: var(--sklearn-color-unfitted-level-3);\n",
       "  color: var(--sklearn-color-background);\n",
       "  text-decoration: none;\n",
       "}\n",
       "\n",
       "#sk-container-id-4 a.estimator_doc_link.fitted:hover {\n",
       "  /* fitted */\n",
       "  background-color: var(--sklearn-color-fitted-level-3);\n",
       "}\n",
       "</style><div id=\"sk-container-id-4\" class=\"sk-top-container\"><div class=\"sk-text-repr-fallback\"><pre>LinearRegression()</pre><b>In a Jupyter environment, please rerun this cell to show the HTML representation or trust the notebook. <br />On GitHub, the HTML representation is unable to render, please try loading this page with nbviewer.org.</b></div><div class=\"sk-container\" hidden><div class=\"sk-item\"><div class=\"sk-estimator fitted sk-toggleable\"><input class=\"sk-toggleable__control sk-hidden--visually\" id=\"sk-estimator-id-4\" type=\"checkbox\" checked><label for=\"sk-estimator-id-4\" class=\"sk-toggleable__label fitted sk-toggleable__label-arrow fitted\">&nbsp;&nbsp;LinearRegression<a class=\"sk-estimator-doc-link fitted\" rel=\"noreferrer\" target=\"_blank\" href=\"https://scikit-learn.org/1.4/modules/generated/sklearn.linear_model.LinearRegression.html\">?<span>Documentation for LinearRegression</span></a><span class=\"sk-estimator-doc-link fitted\">i<span>Fitted</span></span></label><div class=\"sk-toggleable__content fitted\"><pre>LinearRegression()</pre></div> </div></div></div></div>"
      ],
      "text/plain": [
       "LinearRegression()"
      ]
     },
     "execution_count": 160,
     "metadata": {},
     "output_type": "execute_result"
    }
   ],
   "source": [
    "model = LinearRegression()\n",
    "model.fit(x_train, y_train)"
   ]
  },
  {
   "cell_type": "code",
   "execution_count": 161,
   "id": "9e94d20b",
   "metadata": {},
   "outputs": [],
   "source": [
    "train_preds = model.predict(x_train)\n",
    "test_preds = model.predict(x_test)"
   ]
  },
  {
   "cell_type": "code",
   "execution_count": 162,
   "id": "aabf8f9e",
   "metadata": {},
   "outputs": [
    {
     "name": "stdout",
     "output_type": "stream",
     "text": [
      "0.023902521429453386\n",
      "0.0626662873810725\n"
     ]
    }
   ],
   "source": [
    "print(mean_squared_error(train_preds, y_train))\n",
    "print(mean_squared_error(test_preds, y_test))"
   ]
  },
  {
   "cell_type": "code",
   "execution_count": 163,
   "id": "d9c97134",
   "metadata": {},
   "outputs": [
    {
     "data": {
      "image/png": "[encoded data removed]",
      "text/plain": [
       "<Figure size 1200x600 with 2 Axes>"
      ]
     },
     "metadata": {},
     "output_type": "display_data"
    }
   ],
   "source": [
    "fig, axs = plt.subplots(1, 2, figsize=(12, 6))\n",
    "\n",
    "axs[0].scatter(y_train, train_preds, color='blue', label='Train')\n",
    "axs[0].plot(y_train, y_train, color='red', label='Ideal')\n",
    "axs[0].set_title('Train Dataset')\n",
    "axs[0].set_xlabel('True Values')\n",
    "axs[0].set_ylabel('Predicted Values')\n",
    "axs[0].legend()\n",
    "\n",
    "axs[1].scatter(y_test, test_preds, color='green', label='Test')\n",
    "axs[1].plot(y_test, y_test, color='red', label='Ideal')\n",
    "axs[1].set_title('Test Dataset')\n",
    "axs[1].set_xlabel('True Values')\n",
    "axs[1].set_ylabel('Predicted Values')\n",
    "axs[1].legend()\n",
    "\n",
    "plt.tight_layout()\n",
    "plt.show()"
   ]
  },
  {
   "cell_type": "markdown",
   "id": "c8646ebd",
   "metadata": {},
   "source": [
    "**<h1 style=\"text-align:center;\">Results - Model Under-Fitting**\n",
    "<hr style=\"border: 1px solid black;\">"
   ]
  },
  {
   "cell_type": "markdown",
   "id": "54d84594",
   "metadata": {},
   "source": [
    "The results of the model, is that the actual values of the IMDB_Rating are below the predictive values, indicating that the model is under-fitting."
   ]
  },
  {
   "cell_type": "code",
   "execution_count": null,
   "id": "ebfc2863",
   "metadata": {},
   "outputs": [],
   "source": []
  }
 ],
 "metadata": {
  "kernelspec": {
   "display_name": "Python 3 (ipykernel)",
   "language": "python",
   "name": "python3"
  },
  "language_info": {
   "codemirror_mode": {
    "name": "ipython",
    "version": 3
   },
   "file_extension": ".py",
   "mimetype": "text/x-python",
   "name": "python",
   "nbconvert_exporter": "python",
   "pygments_lexer": "ipython3",
   "version": "3.9.13"
  }
 },
 "nbformat": 4,
 "nbformat_minor": 5
}
